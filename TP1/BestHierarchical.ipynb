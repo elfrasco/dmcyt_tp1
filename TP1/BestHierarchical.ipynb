{
 "cells": [
  {
   "cell_type": "code",
   "execution_count": 17,
   "metadata": {},
   "outputs": [],
   "source": [
    "# %reset\n",
    "# Para visualización en notebook\n",
    "%matplotlib inline\n",
    "import matplotlib.pyplot as plt\n",
    "import matplotlib.cm as cm\n",
    "import matplotlib as mpl\n",
    "mpl.rcParams['figure.figsize'] = (8,6)\n",
    "mpl.rcParams['font.size'] = 22\n",
    "from IPython.display import Audio, Markdown, Image\n",
    "import pylab\n",
    "import seaborn as sns\n",
    "\n",
    "# Números y Datos\n",
    "import numpy as np\n",
    "import pandas as pd\n",
    "\n",
    "# Archivos\n",
    "import urllib.request\n",
    "import glob\n",
    "\n",
    "# Análisis de sonido\n",
    "import spotipy \n",
    "\n",
    "# Machine learning\n",
    "# importar los paquetes para clustering\n",
    "from sklearn.preprocessing import StandardScaler\n",
    "\n",
    "# To work with categorical types\n",
    "from pandas.api.types import CategoricalDtype\n",
    "\n",
    "# Clustering (scipy)\n",
    "from scipy.spatial.distance import pdist, squareform\n",
    "from scipy.cluster.hierarchy import dendrogram, linkage, cophenet, fcluster\n",
    "\n",
    "# Clustering (sklearn)\n",
    "from sklearn.preprocessing import MinMaxScaler\n",
    "\n",
    "from sklearn.cluster import KMeans, DBSCAN\n",
    "from sklearn.metrics import adjusted_rand_score, silhouette_score, silhouette_samples\n",
    "from sklearn.neighbors import NearestNeighbors\n",
    "\n",
    "from sklearn.metrics.pairwise import euclidean_distances\n",
    "\n",
    "from funciones import plot_silhouette\n",
    "from funciones import plot_silhouettes_and_sses\n",
    "from funciones import get_silhouette_avg\n",
    "from funciones import get_sse\n",
    "from funciones import vanDongen\n",
    "\n",
    "from sklearn.decomposition import PCA, TruncatedSVD\n",
    "from sklearn.manifold import MDS, Isomap, SpectralEmbedding, TSNE\n",
    "\n",
    "from umap import UMAP\n",
    "\n",
    "from sklearn.cluster import AgglomerativeClustering"
   ]
  },
  {
   "cell_type": "code",
   "execution_count": 13,
   "metadata": {},
   "outputs": [],
   "source": [
    "metadata = pd.read_csv('../data/metadata.csv', index_col='id')\n",
    "audio_features = pd.read_csv('../data/audio_features.csv', index_col='id')\n",
    "audio_analysis = pd.read_csv('../data/audio_analysis.csv', index_col='id')\n",
    "\n",
    "audio_features = audio_features[['acousticness','danceability', 'duration_ms', 'energy', 'instrumentalness', 'key', 'liveness','loudness', 'mode', 'speechiness', 'tempo', 'time_signature', 'valence']]\n",
    "\n",
    "# Para que las comparaciones sean del mismo largo,\n",
    "# se remueve de audio_feature y metadata el track que no se encuentra en audio_analysis\n",
    "merged = audio_features.merge(audio_analysis, how = 'left', on = 'id')\n",
    "id_to_remove = merged[merged.timbre_mean_0.isnull()].index[0]\n",
    "\n",
    "audio_features = audio_features.drop(id_to_remove, axis = 0)\n",
    "\n",
    "audio_tracks = pd.merge(audio_features, audio_analysis, how = 'inner', on = 'id')\n",
    "metadata = metadata.drop(id_to_remove, axis = 0)\n",
    "\n",
    "# Se ordenan los datasets para que los tracks estén en el mismo orden\n",
    "audio_features = audio_features.sort_index()\n",
    "audio_analysis = audio_analysis.sort_index()\n",
    "audio_tracks = audio_tracks.sort_index()\n",
    "metadata = metadata.sort_index()"
   ]
  },
  {
   "cell_type": "code",
   "execution_count": 14,
   "metadata": {},
   "outputs": [],
   "source": [
    "scalerMinMax = MinMaxScaler(feature_range=(0,1))\n",
    "standardScaler = StandardScaler()"
   ]
  },
  {
   "cell_type": "code",
   "execution_count": 2,
   "metadata": {},
   "outputs": [],
   "source": [
    "corridas = pd.read_csv('hierarchical.csv')"
   ]
  },
  {
   "cell_type": "code",
   "execution_count": 3,
   "metadata": {},
   "outputs": [
    {
     "data": {
      "text/html": [
       "<div>\n",
       "<style scoped>\n",
       "    .dataframe tbody tr th:only-of-type {\n",
       "        vertical-align: middle;\n",
       "    }\n",
       "\n",
       "    .dataframe tbody tr th {\n",
       "        vertical-align: top;\n",
       "    }\n",
       "\n",
       "    .dataframe thead th {\n",
       "        text-align: right;\n",
       "    }\n",
       "</style>\n",
       "<table border=\"1\" class=\"dataframe\">\n",
       "  <thead>\n",
       "    <tr style=\"text-align: right;\">\n",
       "      <th></th>\n",
       "      <th>Dataset</th>\n",
       "      <th>Method</th>\n",
       "      <th>Metric</th>\n",
       "      <th>Scaler</th>\n",
       "      <th>Cophenet</th>\n",
       "      <th>vanDongen</th>\n",
       "      <th>adjRand</th>\n",
       "    </tr>\n",
       "  </thead>\n",
       "  <tbody>\n",
       "    <tr>\n",
       "      <th>0</th>\n",
       "      <td>audio_features</td>\n",
       "      <td>single</td>\n",
       "      <td>braycurtis</td>\n",
       "      <td>minMax</td>\n",
       "      <td>0.317106</td>\n",
       "      <td>0.997709</td>\n",
       "      <td>0.000049</td>\n",
       "    </tr>\n",
       "    <tr>\n",
       "      <th>1</th>\n",
       "      <td>audio_features</td>\n",
       "      <td>single</td>\n",
       "      <td>braycurtis</td>\n",
       "      <td>standard</td>\n",
       "      <td>0.102797</td>\n",
       "      <td>0.997709</td>\n",
       "      <td>0.000049</td>\n",
       "    </tr>\n",
       "    <tr>\n",
       "      <th>2</th>\n",
       "      <td>audio_features</td>\n",
       "      <td>complete</td>\n",
       "      <td>braycurtis</td>\n",
       "      <td>minMax</td>\n",
       "      <td>0.607225</td>\n",
       "      <td>0.935654</td>\n",
       "      <td>0.019142</td>\n",
       "    </tr>\n",
       "    <tr>\n",
       "      <th>3</th>\n",
       "      <td>audio_features</td>\n",
       "      <td>complete</td>\n",
       "      <td>braycurtis</td>\n",
       "      <td>standard</td>\n",
       "      <td>0.346391</td>\n",
       "      <td>0.935654</td>\n",
       "      <td>0.019142</td>\n",
       "    </tr>\n",
       "    <tr>\n",
       "      <th>4</th>\n",
       "      <td>audio_features</td>\n",
       "      <td>average</td>\n",
       "      <td>braycurtis</td>\n",
       "      <td>minMax</td>\n",
       "      <td>0.670574</td>\n",
       "      <td>0.954740</td>\n",
       "      <td>0.012020</td>\n",
       "    </tr>\n",
       "  </tbody>\n",
       "</table>\n",
       "</div>"
      ],
      "text/plain": [
       "          Dataset    Method      Metric    Scaler  Cophenet  vanDongen  \\\n",
       "0  audio_features    single  braycurtis    minMax  0.317106   0.997709   \n",
       "1  audio_features    single  braycurtis  standard  0.102797   0.997709   \n",
       "2  audio_features  complete  braycurtis    minMax  0.607225   0.935654   \n",
       "3  audio_features  complete  braycurtis  standard  0.346391   0.935654   \n",
       "4  audio_features   average  braycurtis    minMax  0.670574   0.954740   \n",
       "\n",
       "    adjRand  \n",
       "0  0.000049  \n",
       "1  0.000049  \n",
       "2  0.019142  \n",
       "3  0.019142  \n",
       "4  0.012020  "
      ]
     },
     "execution_count": 3,
     "metadata": {},
     "output_type": "execute_result"
    }
   ],
   "source": [
    "corridas.head()"
   ]
  },
  {
   "cell_type": "code",
   "execution_count": 12,
   "metadata": {},
   "outputs": [
    {
     "data": {
      "text/plain": [
       "366"
      ]
     },
     "execution_count": 12,
     "metadata": {},
     "output_type": "execute_result"
    }
   ],
   "source": [
    "len(corridas)"
   ]
  },
  {
   "cell_type": "code",
   "execution_count": 7,
   "metadata": {},
   "outputs": [
    {
     "data": {
      "text/plain": [
       "Dataset      audio_tracks\n",
       "Method           complete\n",
       "Metric           canberra\n",
       "Scaler             minMax\n",
       "Cophenet         0.426005\n",
       "vanDongen        0.628838\n",
       "adjRand           0.22505\n",
       "Name: 252, dtype: object"
      ]
     },
     "execution_count": 7,
     "metadata": {},
     "output_type": "execute_result"
    }
   ],
   "source": [
    "# ¿Cuál es la corrida con menor Van Dongen?\n",
    "corridas.loc[corridas['vanDongen'].idxmin()]"
   ]
  },
  {
   "cell_type": "code",
   "execution_count": 15,
   "metadata": {},
   "outputs": [
    {
     "data": {
      "text/plain": [
       "0.5074901479861822"
      ]
     },
     "execution_count": 15,
     "metadata": {},
     "output_type": "execute_result"
    },
    {
     "data": {
      "image/png": "[encoded data removed]",
      "text/plain": [
       "<Figure size 432x288 with 1 Axes>"
      ]
     },
     "metadata": {
      "needs_background": "light"
     },
     "output_type": "display_data"
    }
   ],
   "source": [
    "df = audio_tracks\n",
    "method = 'complete'\n",
    "metric = 'euclidean'\n",
    "scaler = scalerMinMax\n",
    "\n",
    "df_norm = scaler.fit_transform(df)\n",
    "\n",
    "z = linkage(df_norm, method = method, metric = metric)\n",
    "plt.figure()\n",
    "dn = dendrogram(z)\n",
    "c, coph_dists = cophenet(z, pdist(df_norm))\n",
    "c"
   ]
  },
  {
   "cell_type": "code",
   "execution_count": 23,
   "metadata": {},
   "outputs": [
    {
     "data": {
      "text/html": [
       "<div>\n",
       "<style scoped>\n",
       "    .dataframe tbody tr th:only-of-type {\n",
       "        vertical-align: middle;\n",
       "    }\n",
       "\n",
       "    .dataframe tbody tr th {\n",
       "        vertical-align: top;\n",
       "    }\n",
       "\n",
       "    .dataframe thead th {\n",
       "        text-align: right;\n",
       "    }\n",
       "</style>\n",
       "<table border=\"1\" class=\"dataframe\">\n",
       "  <thead>\n",
       "    <tr style=\"text-align: right;\">\n",
       "      <th>df</th>\n",
       "      <th>0</th>\n",
       "      <th>1</th>\n",
       "      <th>2</th>\n",
       "      <th>3</th>\n",
       "      <th>4</th>\n",
       "      <th>5</th>\n",
       "      <th>6</th>\n",
       "      <th>7</th>\n",
       "      <th>8</th>\n",
       "      <th>9</th>\n",
       "      <th>...</th>\n",
       "      <th>12</th>\n",
       "      <th>13</th>\n",
       "      <th>14</th>\n",
       "      <th>15</th>\n",
       "      <th>16</th>\n",
       "      <th>17</th>\n",
       "      <th>18</th>\n",
       "      <th>19</th>\n",
       "      <th>20</th>\n",
       "      <th>21</th>\n",
       "    </tr>\n",
       "    <tr>\n",
       "      <th>Generos</th>\n",
       "      <th></th>\n",
       "      <th></th>\n",
       "      <th></th>\n",
       "      <th></th>\n",
       "      <th></th>\n",
       "      <th></th>\n",
       "      <th></th>\n",
       "      <th></th>\n",
       "      <th></th>\n",
       "      <th></th>\n",
       "      <th></th>\n",
       "      <th></th>\n",
       "      <th></th>\n",
       "      <th></th>\n",
       "      <th></th>\n",
       "      <th></th>\n",
       "      <th></th>\n",
       "      <th></th>\n",
       "      <th></th>\n",
       "      <th></th>\n",
       "      <th></th>\n",
       "    </tr>\n",
       "  </thead>\n",
       "  <tbody>\n",
       "    <tr>\n",
       "      <th>ambient</th>\n",
       "      <td>28</td>\n",
       "      <td>23</td>\n",
       "      <td>9</td>\n",
       "      <td>35</td>\n",
       "      <td>22</td>\n",
       "      <td>40</td>\n",
       "      <td>47</td>\n",
       "      <td>50</td>\n",
       "      <td>26</td>\n",
       "      <td>5</td>\n",
       "      <td>...</td>\n",
       "      <td>9</td>\n",
       "      <td>5</td>\n",
       "      <td>56</td>\n",
       "      <td>11</td>\n",
       "      <td>24</td>\n",
       "      <td>51</td>\n",
       "      <td>5</td>\n",
       "      <td>3</td>\n",
       "      <td>2</td>\n",
       "      <td>6</td>\n",
       "    </tr>\n",
       "    <tr>\n",
       "      <th>classical</th>\n",
       "      <td>36</td>\n",
       "      <td>36</td>\n",
       "      <td>26</td>\n",
       "      <td>44</td>\n",
       "      <td>1</td>\n",
       "      <td>0</td>\n",
       "      <td>34</td>\n",
       "      <td>40</td>\n",
       "      <td>24</td>\n",
       "      <td>6</td>\n",
       "      <td>...</td>\n",
       "      <td>4</td>\n",
       "      <td>2</td>\n",
       "      <td>58</td>\n",
       "      <td>36</td>\n",
       "      <td>16</td>\n",
       "      <td>8</td>\n",
       "      <td>1</td>\n",
       "      <td>0</td>\n",
       "      <td>7</td>\n",
       "      <td>22</td>\n",
       "    </tr>\n",
       "    <tr>\n",
       "      <th>drum-and-bass</th>\n",
       "      <td>0</td>\n",
       "      <td>0</td>\n",
       "      <td>0</td>\n",
       "      <td>0</td>\n",
       "      <td>205</td>\n",
       "      <td>223</td>\n",
       "      <td>0</td>\n",
       "      <td>0</td>\n",
       "      <td>0</td>\n",
       "      <td>0</td>\n",
       "      <td>...</td>\n",
       "      <td>20</td>\n",
       "      <td>0</td>\n",
       "      <td>1</td>\n",
       "      <td>0</td>\n",
       "      <td>0</td>\n",
       "      <td>2</td>\n",
       "      <td>0</td>\n",
       "      <td>0</td>\n",
       "      <td>0</td>\n",
       "      <td>0</td>\n",
       "    </tr>\n",
       "    <tr>\n",
       "      <th>jazz</th>\n",
       "      <td>7</td>\n",
       "      <td>137</td>\n",
       "      <td>3</td>\n",
       "      <td>10</td>\n",
       "      <td>18</td>\n",
       "      <td>64</td>\n",
       "      <td>5</td>\n",
       "      <td>6</td>\n",
       "      <td>0</td>\n",
       "      <td>82</td>\n",
       "      <td>...</td>\n",
       "      <td>56</td>\n",
       "      <td>2</td>\n",
       "      <td>5</td>\n",
       "      <td>6</td>\n",
       "      <td>0</td>\n",
       "      <td>6</td>\n",
       "      <td>0</td>\n",
       "      <td>0</td>\n",
       "      <td>10</td>\n",
       "      <td>1</td>\n",
       "    </tr>\n",
       "    <tr>\n",
       "      <th>world-music</th>\n",
       "      <td>29</td>\n",
       "      <td>70</td>\n",
       "      <td>4</td>\n",
       "      <td>6</td>\n",
       "      <td>33</td>\n",
       "      <td>115</td>\n",
       "      <td>7</td>\n",
       "      <td>8</td>\n",
       "      <td>4</td>\n",
       "      <td>111</td>\n",
       "      <td>...</td>\n",
       "      <td>40</td>\n",
       "      <td>4</td>\n",
       "      <td>1</td>\n",
       "      <td>3</td>\n",
       "      <td>8</td>\n",
       "      <td>5</td>\n",
       "      <td>0</td>\n",
       "      <td>1</td>\n",
       "      <td>6</td>\n",
       "      <td>2</td>\n",
       "    </tr>\n",
       "  </tbody>\n",
       "</table>\n",
       "<p>5 rows × 22 columns</p>\n",
       "</div>"
      ],
      "text/plain": [
       "df             0    1   2   3    4    5   6   7   8    9   ...  12  13  14  \\\n",
       "Generos                                                    ...               \n",
       "ambient        28   23   9  35   22   40  47  50  26    5  ...   9   5  56   \n",
       "classical      36   36  26  44    1    0  34  40  24    6  ...   4   2  58   \n",
       "drum-and-bass   0    0   0   0  205  223   0   0   0    0  ...  20   0   1   \n",
       "jazz            7  137   3  10   18   64   5   6   0   82  ...  56   2   5   \n",
       "world-music    29   70   4   6   33  115   7   8   4  111  ...  40   4   1   \n",
       "\n",
       "df             15  16  17  18  19  20  21  \n",
       "Generos                                    \n",
       "ambient        11  24  51   5   3   2   6  \n",
       "classical      36  16   8   1   0   7  22  \n",
       "drum-and-bass   0   0   2   0   0   0   0  \n",
       "jazz            6   0   6   0   0  10   1  \n",
       "world-music     3   8   5   0   1   6   2  \n",
       "\n",
       "[5 rows x 22 columns]"
      ]
     },
     "execution_count": 23,
     "metadata": {},
     "output_type": "execute_result"
    }
   ],
   "source": [
    "cluster = AgglomerativeClustering(n_clusters=22, affinity=metric, linkage=method)\n",
    "cluster.fit_predict(df_norm)\n",
    "\n",
    "tmp = pd.DataFrame({'Generos': metadata.genre, 'df': cluster.labels_})\n",
    "ct = pd.crosstab(tmp['Generos'], tmp['df'])\n",
    "ct"
   ]
  },
  {
   "cell_type": "code",
   "execution_count": 24,
   "metadata": {},
   "outputs": [
    {
     "data": {
      "text/plain": [
       "0.7514978601997147"
      ]
     },
     "execution_count": 24,
     "metadata": {},
     "output_type": "execute_result"
    }
   ],
   "source": [
    "vanDongen(ct)"
   ]
  },
  {
   "cell_type": "code",
   "execution_count": 8,
   "metadata": {},
   "outputs": [
    {
     "data": {
      "text/plain": [
       "Dataset      audio_analysis\n",
       "Method                 ward\n",
       "Metric            euclidean\n",
       "Scaler               minMax\n",
       "Cophenet           0.337479\n",
       "vanDongen          0.647235\n",
       "adjRand            0.229475\n",
       "Name: 170, dtype: object"
      ]
     },
     "execution_count": 8,
     "metadata": {},
     "output_type": "execute_result"
    }
   ],
   "source": [
    "# ¿Cuál es la corrida con mayor adjRand?\n",
    "corridas.loc[corridas['adjRand'].idxmax()]"
   ]
  },
  {
   "cell_type": "code",
   "execution_count": 25,
   "metadata": {},
   "outputs": [
    {
     "data": {
      "text/plain": [
       "0.3374788987171185"
      ]
     },
     "execution_count": 25,
     "metadata": {},
     "output_type": "execute_result"
    },
    {
     "data": {
      "image/png": "[encoded data removed]",
      "text/plain": [
       "<Figure size 576x432 with 1 Axes>"
      ]
     },
     "metadata": {
      "needs_background": "light"
     },
     "output_type": "display_data"
    }
   ],
   "source": [
    "df = audio_analysis\n",
    "method = 'ward'\n",
    "metric = 'euclidean'\n",
    "scaler = scalerMinMax\n",
    "\n",
    "df_norm = scaler.fit_transform(df)\n",
    "\n",
    "z = linkage(df_norm, method = method, metric = metric)\n",
    "plt.figure()\n",
    "dn = dendrogram(z)\n",
    "c, coph_dists = cophenet(z, pdist(df_norm))\n",
    "c"
   ]
  },
  {
   "cell_type": "code",
   "execution_count": 26,
   "metadata": {},
   "outputs": [
    {
     "data": {
      "text/html": [
       "<div>\n",
       "<style scoped>\n",
       "    .dataframe tbody tr th:only-of-type {\n",
       "        vertical-align: middle;\n",
       "    }\n",
       "\n",
       "    .dataframe tbody tr th {\n",
       "        vertical-align: top;\n",
       "    }\n",
       "\n",
       "    .dataframe thead th {\n",
       "        text-align: right;\n",
       "    }\n",
       "</style>\n",
       "<table border=\"1\" class=\"dataframe\">\n",
       "  <thead>\n",
       "    <tr style=\"text-align: right;\">\n",
       "      <th>df</th>\n",
       "      <th>0</th>\n",
       "      <th>1</th>\n",
       "    </tr>\n",
       "    <tr>\n",
       "      <th>Generos</th>\n",
       "      <th></th>\n",
       "      <th></th>\n",
       "    </tr>\n",
       "  </thead>\n",
       "  <tbody>\n",
       "    <tr>\n",
       "      <th>ambient</th>\n",
       "      <td>93</td>\n",
       "      <td>367</td>\n",
       "    </tr>\n",
       "    <tr>\n",
       "      <th>classical</th>\n",
       "      <td>33</td>\n",
       "      <td>372</td>\n",
       "    </tr>\n",
       "    <tr>\n",
       "      <th>drum-and-bass</th>\n",
       "      <td>436</td>\n",
       "      <td>15</td>\n",
       "    </tr>\n",
       "    <tr>\n",
       "      <th>jazz</th>\n",
       "      <td>354</td>\n",
       "      <td>72</td>\n",
       "    </tr>\n",
       "    <tr>\n",
       "      <th>world-music</th>\n",
       "      <td>294</td>\n",
       "      <td>169</td>\n",
       "    </tr>\n",
       "  </tbody>\n",
       "</table>\n",
       "</div>"
      ],
      "text/plain": [
       "df               0    1\n",
       "Generos                \n",
       "ambient         93  367\n",
       "classical       33  372\n",
       "drum-and-bass  436   15\n",
       "jazz           354   72\n",
       "world-music    294  169"
      ]
     },
     "execution_count": 26,
     "metadata": {},
     "output_type": "execute_result"
    }
   ],
   "source": [
    "cluster = AgglomerativeClustering(n_clusters=2, affinity=metric, linkage=method)\n",
    "cluster.fit_predict(df_norm)\n",
    "\n",
    "tmp = pd.DataFrame({'Generos': metadata.genre, 'df': cluster.labels_})\n",
    "ct = pd.crosstab(tmp['Generos'], tmp['df'])\n",
    "ct"
   ]
  },
  {
   "cell_type": "code",
   "execution_count": 9,
   "metadata": {},
   "outputs": [
    {
     "data": {
      "text/plain": [
       "Dataset      audio_analysis\n",
       "Method              average\n",
       "Metric             canberra\n",
       "Scaler               minMax\n",
       "Cophenet           0.767256\n",
       "vanDongen          0.998858\n",
       "adjRand        -0.000184029\n",
       "Name: 132, dtype: object"
      ]
     },
     "execution_count": 9,
     "metadata": {},
     "output_type": "execute_result"
    }
   ],
   "source": [
    "# ¿Cuál es la corrida con mayor índice cofenético?\n",
    "corridas.loc[corridas['Cophenet'].idxmax()]"
   ]
  },
  {
   "cell_type": "code",
   "execution_count": 30,
   "metadata": {},
   "outputs": [
    {
     "data": {
      "text/plain": [
       "0.7672563992662839"
      ]
     },
     "execution_count": 30,
     "metadata": {},
     "output_type": "execute_result"
    },
    {
     "data": {
      "image/png": "[encoded data removed]",
      "text/plain": [
       "<Figure size 576x432 with 1 Axes>"
      ]
     },
     "metadata": {
      "needs_background": "light"
     },
     "output_type": "display_data"
    }
   ],
   "source": [
    "df = audio_analysis\n",
    "method = 'average'\n",
    "metric = 'canberra'\n",
    "scaler = scalerMinMax\n",
    "\n",
    "df_norm = scaler.fit_transform(df)\n",
    "\n",
    "z = linkage(df_norm, method = method, metric = metric)\n",
    "plt.figure()\n",
    "dn = dendrogram(z)\n",
    "c, coph_dists = cophenet(z, pdist(df_norm))\n",
    "c"
   ]
  },
  {
   "cell_type": "code",
   "execution_count": 31,
   "metadata": {},
   "outputs": [
    {
     "data": {
      "text/html": [
       "<div>\n",
       "<style scoped>\n",
       "    .dataframe tbody tr th:only-of-type {\n",
       "        vertical-align: middle;\n",
       "    }\n",
       "\n",
       "    .dataframe tbody tr th {\n",
       "        vertical-align: top;\n",
       "    }\n",
       "\n",
       "    .dataframe thead th {\n",
       "        text-align: right;\n",
       "    }\n",
       "</style>\n",
       "<table border=\"1\" class=\"dataframe\">\n",
       "  <thead>\n",
       "    <tr style=\"text-align: right;\">\n",
       "      <th>df</th>\n",
       "      <th>0</th>\n",
       "      <th>1</th>\n",
       "      <th>2</th>\n",
       "      <th>3</th>\n",
       "      <th>4</th>\n",
       "    </tr>\n",
       "    <tr>\n",
       "      <th>Generos</th>\n",
       "      <th></th>\n",
       "      <th></th>\n",
       "      <th></th>\n",
       "      <th></th>\n",
       "      <th></th>\n",
       "    </tr>\n",
       "  </thead>\n",
       "  <tbody>\n",
       "    <tr>\n",
       "      <th>ambient</th>\n",
       "      <td>458</td>\n",
       "      <td>0</td>\n",
       "      <td>1</td>\n",
       "      <td>0</td>\n",
       "      <td>1</td>\n",
       "    </tr>\n",
       "    <tr>\n",
       "      <th>classical</th>\n",
       "      <td>404</td>\n",
       "      <td>1</td>\n",
       "      <td>0</td>\n",
       "      <td>0</td>\n",
       "      <td>0</td>\n",
       "    </tr>\n",
       "    <tr>\n",
       "      <th>drum-and-bass</th>\n",
       "      <td>451</td>\n",
       "      <td>0</td>\n",
       "      <td>0</td>\n",
       "      <td>0</td>\n",
       "      <td>0</td>\n",
       "    </tr>\n",
       "    <tr>\n",
       "      <th>jazz</th>\n",
       "      <td>426</td>\n",
       "      <td>0</td>\n",
       "      <td>0</td>\n",
       "      <td>0</td>\n",
       "      <td>0</td>\n",
       "    </tr>\n",
       "    <tr>\n",
       "      <th>world-music</th>\n",
       "      <td>461</td>\n",
       "      <td>1</td>\n",
       "      <td>0</td>\n",
       "      <td>1</td>\n",
       "      <td>0</td>\n",
       "    </tr>\n",
       "  </tbody>\n",
       "</table>\n",
       "</div>"
      ],
      "text/plain": [
       "df               0  1  2  3  4\n",
       "Generos                       \n",
       "ambient        458  0  1  0  1\n",
       "classical      404  1  0  0  0\n",
       "drum-and-bass  451  0  0  0  0\n",
       "jazz           426  0  0  0  0\n",
       "world-music    461  1  0  1  0"
      ]
     },
     "execution_count": 31,
     "metadata": {},
     "output_type": "execute_result"
    }
   ],
   "source": [
    "cluster = AgglomerativeClustering(n_clusters=5, affinity=metric, linkage=method)\n",
    "cluster.fit_predict(df_norm)\n",
    "\n",
    "tmp = pd.DataFrame({'Generos': metadata.genre, 'df': cluster.labels_})\n",
    "ct = pd.crosstab(tmp['Generos'], tmp['df'])\n",
    "ct"
   ]
  }
 ],
 "metadata": {
  "kernelspec": {
   "display_name": "Python 3",
   "language": "python",
   "name": "python3"
  },
  "language_info": {
   "codemirror_mode": {
    "name": "ipython",
    "version": 3
   },
   "file_extension": ".py",
   "mimetype": "text/x-python",
   "name": "python",
   "nbconvert_exporter": "python",
   "pygments_lexer": "ipython3",
   "version": "3.7.3"
  }
 },
 "nbformat": 4,
 "nbformat_minor": 2
}
