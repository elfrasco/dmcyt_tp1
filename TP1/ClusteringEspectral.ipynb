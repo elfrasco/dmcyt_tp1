{
 "cells": [
  {
   "cell_type": "code",
   "execution_count": 1,
   "metadata": {},
   "outputs": [],
   "source": [
    "# %reset\n",
    "# Para visualización en notebook\n",
    "%matplotlib inline\n",
    "import matplotlib.pyplot as plt\n",
    "import matplotlib.cm as cm\n",
    "import matplotlib as mpl\n",
    "mpl.rcParams['figure.figsize'] = (8,6)\n",
    "mpl.rcParams['font.size'] = 22\n",
    "from IPython.display import Audio, Markdown, Image\n",
    "import pylab\n",
    "import seaborn as sns\n",
    "\n",
    "# Números y Datos\n",
    "import numpy as np\n",
    "import pandas as pd\n",
    "\n",
    "# Archivos\n",
    "import urllib.request\n",
    "import glob\n",
    "\n",
    "# Análisis de sonido\n",
    "import spotipy \n",
    "\n",
    "# Machine learning\n",
    "# importar los paquetes para clustering\n",
    "from sklearn.preprocessing import StandardScaler\n",
    "\n",
    "# To work with categorical types\n",
    "from pandas.api.types import CategoricalDtype\n",
    "\n",
    "# Clustering (scipy)\n",
    "from scipy.spatial.distance import pdist, squareform\n",
    "from scipy.cluster.hierarchy import dendrogram, linkage, cophenet, fcluster\n",
    "\n",
    "# Clustering (sklearn)\n",
    "from sklearn.preprocessing import MinMaxScaler\n",
    "\n",
    "from sklearn.cluster import KMeans, DBSCAN\n",
    "from sklearn.metrics import adjusted_rand_score, silhouette_score, silhouette_samples\n",
    "from sklearn.neighbors import NearestNeighbors\n",
    "\n",
    "from sklearn.metrics.pairwise import euclidean_distances\n",
    "\n",
    "from funciones import plot_silhouette\n",
    "from funciones import plot_silhouettes_and_sses\n",
    "from funciones import get_silhouette_avg\n",
    "from funciones import get_sse\n",
    "from funciones import vanDongen\n",
    "\n",
    "from sklearn.decomposition import PCA, TruncatedSVD\n",
    "from sklearn.manifold import MDS, Isomap, SpectralEmbedding, TSNE\n",
    "\n",
    "from umap import UMAP"
   ]
  },
  {
   "cell_type": "markdown",
   "metadata": {},
   "source": [
    "Para realizar un clustering espectral, se toman los resultados de aplicarle UMAP al dataset y luego, al resultado, se le aplica KMeans."
   ]
  },
  {
   "cell_type": "code",
   "execution_count": 2,
   "metadata": {},
   "outputs": [],
   "source": [
    "scaler = MinMaxScaler(feature_range=(0,1))\n",
    "#scaler = StandardScaler()"
   ]
  },
  {
   "cell_type": "code",
   "execution_count": 3,
   "metadata": {},
   "outputs": [],
   "source": [
    "metadata = pd.read_csv('../data/metadata.csv', index_col='id')\n",
    "audio_features = pd.read_csv('../data/audio_features.csv', index_col='id')\n",
    "audio_analysis = pd.read_csv('../data/audio_analysis.csv', index_col='id')\n",
    "\n",
    "audio_features = audio_features[['acousticness','danceability', 'duration_ms', 'energy', 'instrumentalness', 'key', 'liveness','loudness', 'mode', 'speechiness', 'tempo', 'time_signature', 'valence']]\n",
    "\n",
    "# Para que las comparaciones sean del mismo largo,\n",
    "# se remueve de audio_feature y metadata el track que no se encuentra en audio_analysis\n",
    "merged = audio_features.merge(audio_analysis, how = 'left', on = 'id')\n",
    "id_to_remove = merged[merged.timbre_mean_0.isnull()].index[0]\n",
    "\n",
    "audio_features = audio_features.drop(id_to_remove, axis = 0)\n",
    "\n",
    "audio_tracks = pd.merge(audio_features, audio_analysis, how = 'inner', on = 'id')\n",
    "metadata = metadata.drop(id_to_remove, axis = 0)\n",
    "\n",
    "# Se ordenan los datasets para que los tracks estén en el mismo orden\n",
    "audio_features = audio_features.sort_index()\n",
    "audio_analysis = audio_analysis.sort_index()\n",
    "audio_tracks = audio_tracks.sort_index()\n",
    "metadata = metadata.sort_index()\n",
    "\n",
    "audio_features_norm = scaler.fit_transform(audio_features)\n",
    "audio_analysis_norm = scaler.fit_transform(audio_analysis)\n",
    "audio_tracks_norm = scaler.fit_transform(audio_tracks)"
   ]
  },
  {
   "cell_type": "code",
   "execution_count": 7,
   "metadata": {},
   "outputs": [
    {
     "data": {
      "text/plain": [
       "2205"
      ]
     },
     "execution_count": 7,
     "metadata": {},
     "output_type": "execute_result"
    }
   ],
   "source": [
    "genres = []\n",
    "for genre in metadata.genre:\n",
    "    if genre == 'ambient':\n",
    "        genres.append(0)\n",
    "    if genre == 'classical':\n",
    "        genres.append(1)\n",
    "    if genre == 'drum-and-bass':\n",
    "        genres.append(2)\n",
    "    if genre == 'jazz':\n",
    "        genres.append(3)\n",
    "    if genre == 'world-music':\n",
    "        genres.append(4)\n",
    "len(genres)"
   ]
  },
  {
   "cell_type": "markdown",
   "metadata": {},
   "source": [
    "# audio_features"
   ]
  },
  {
   "cell_type": "code",
   "execution_count": 10,
   "metadata": {},
   "outputs": [
    {
     "name": "stderr",
     "output_type": "stream",
     "text": [
      "/home/frasco/anaconda3/lib/python3.7/site-packages/umap/spectral.py:229: UserWarning: Embedding a total of 2 separate connected components using meta-embedding (experimental)\n",
      "  n_components\n"
     ]
    },
    {
     "data": {
      "text/plain": [
       "(2205, 2)"
      ]
     },
     "execution_count": 10,
     "metadata": {},
     "output_type": "execute_result"
    }
   ],
   "source": [
    "# Se le aplica UMAP al audio_features_norm\n",
    "um = UMAP()\n",
    "embedding = um.fit_transform(audio_features_norm)\n",
    "embedding.shape"
   ]
  },
  {
   "cell_type": "markdown",
   "metadata": {},
   "source": [
    "Se busca un k óptimo para clusterizar las 2 dimensiones obtenidas con UMAP."
   ]
  },
  {
   "cell_type": "code",
   "execution_count": 11,
   "metadata": {},
   "outputs": [
    {
     "data": {
      "image/png": "[encoded data removed]",
      "text/plain": [
       "<Figure size 432x288 with 2 Axes>"
      ]
     },
     "metadata": {
      "needs_background": "light"
     },
     "output_type": "display_data"
    }
   ],
   "source": [
    "plot_silhouettes_and_sses(embedding, 15)"
   ]
  },
  {
   "cell_type": "markdown",
   "metadata": {},
   "source": [
    "Parece que se tiene un buen tradeoff con k = 6, que es donde el SSE toma la forma de codo y el silhouette levanta por sobre 0.5."
   ]
  },
  {
   "cell_type": "code",
   "execution_count": 14,
   "metadata": {},
   "outputs": [
    {
     "data": {
      "text/plain": [
       "0.5612561"
      ]
     },
     "execution_count": 14,
     "metadata": {},
     "output_type": "execute_result"
    }
   ],
   "source": [
    "get_silhouette_avg(embedding, 6)"
   ]
  },
  {
   "cell_type": "code",
   "execution_count": 17,
   "metadata": {},
   "outputs": [
    {
     "data": {
      "text/plain": [
       "3691.8312486625555"
      ]
     },
     "execution_count": 17,
     "metadata": {},
     "output_type": "execute_result"
    }
   ],
   "source": [
    "get_sse(embedding, 6)"
   ]
  },
  {
   "cell_type": "code",
   "execution_count": 20,
   "metadata": {},
   "outputs": [
    {
     "data": {
      "image/png": "[encoded data removed]",
      "text/plain": [
       "<Figure size 1296x504 with 1 Axes>"
      ]
     },
     "metadata": {
      "needs_background": "light"
     },
     "output_type": "display_data"
    }
   ],
   "source": [
    "plot_silhouette(embedding, 6)"
   ]
  },
  {
   "cell_type": "markdown",
   "metadata": {},
   "source": [
    "Se evalua qué tan buenos son los agrupamientos obtenidos."
   ]
  },
  {
   "cell_type": "code",
   "execution_count": 37,
   "metadata": {},
   "outputs": [],
   "source": [
    "km_audio_features = KMeans(n_clusters = 6, random_state = 0).fit(embedding)"
   ]
  },
  {
   "cell_type": "code",
   "execution_count": 38,
   "metadata": {},
   "outputs": [
    {
     "data": {
      "text/html": [
       "<div>\n",
       "<style scoped>\n",
       "    .dataframe tbody tr th:only-of-type {\n",
       "        vertical-align: middle;\n",
       "    }\n",
       "\n",
       "    .dataframe tbody tr th {\n",
       "        vertical-align: top;\n",
       "    }\n",
       "\n",
       "    .dataframe thead th {\n",
       "        text-align: right;\n",
       "    }\n",
       "</style>\n",
       "<table border=\"1\" class=\"dataframe\">\n",
       "  <thead>\n",
       "    <tr style=\"text-align: right;\">\n",
       "      <th>audio_features</th>\n",
       "      <th>0</th>\n",
       "      <th>1</th>\n",
       "      <th>2</th>\n",
       "      <th>3</th>\n",
       "      <th>4</th>\n",
       "      <th>5</th>\n",
       "    </tr>\n",
       "    <tr>\n",
       "      <th>Generos</th>\n",
       "      <th></th>\n",
       "      <th></th>\n",
       "      <th></th>\n",
       "      <th></th>\n",
       "      <th></th>\n",
       "      <th></th>\n",
       "    </tr>\n",
       "  </thead>\n",
       "  <tbody>\n",
       "    <tr>\n",
       "      <th>ambient</th>\n",
       "      <td>44</td>\n",
       "      <td>34</td>\n",
       "      <td>154</td>\n",
       "      <td>25</td>\n",
       "      <td>193</td>\n",
       "      <td>10</td>\n",
       "    </tr>\n",
       "    <tr>\n",
       "      <th>classical</th>\n",
       "      <td>0</td>\n",
       "      <td>0</td>\n",
       "      <td>126</td>\n",
       "      <td>60</td>\n",
       "      <td>192</td>\n",
       "      <td>27</td>\n",
       "    </tr>\n",
       "    <tr>\n",
       "      <th>drum-and-bass</th>\n",
       "      <td>225</td>\n",
       "      <td>220</td>\n",
       "      <td>0</td>\n",
       "      <td>4</td>\n",
       "      <td>0</td>\n",
       "      <td>2</td>\n",
       "    </tr>\n",
       "    <tr>\n",
       "      <th>jazz</th>\n",
       "      <td>18</td>\n",
       "      <td>16</td>\n",
       "      <td>72</td>\n",
       "      <td>133</td>\n",
       "      <td>90</td>\n",
       "      <td>97</td>\n",
       "    </tr>\n",
       "    <tr>\n",
       "      <th>world-music</th>\n",
       "      <td>41</td>\n",
       "      <td>31</td>\n",
       "      <td>39</td>\n",
       "      <td>150</td>\n",
       "      <td>65</td>\n",
       "      <td>137</td>\n",
       "    </tr>\n",
       "  </tbody>\n",
       "</table>\n",
       "</div>"
      ],
      "text/plain": [
       "audio_features    0    1    2    3    4    5\n",
       "Generos                                     \n",
       "ambient          44   34  154   25  193   10\n",
       "classical         0    0  126   60  192   27\n",
       "drum-and-bass   225  220    0    4    0    2\n",
       "jazz             18   16   72  133   90   97\n",
       "world-music      41   31   39  150   65  137"
      ]
     },
     "execution_count": 38,
     "metadata": {},
     "output_type": "execute_result"
    }
   ],
   "source": [
    "# Se calcula la matriz de confusión\n",
    "tmp1 = pd.DataFrame({'Generos': metadata.genre, 'audio_features': km_audio_features.labels_})\n",
    "ct1 = pd.crosstab(tmp1['Generos'], tmp1['audio_features'])\n",
    "ct1"
   ]
  },
  {
   "cell_type": "code",
   "execution_count": 39,
   "metadata": {},
   "outputs": [
    {
     "data": {
      "text/plain": [
       "0.715585559142941"
      ]
     },
     "execution_count": 39,
     "metadata": {},
     "output_type": "execute_result"
    }
   ],
   "source": [
    "vanDongen(ct1)"
   ]
  },
  {
   "cell_type": "code",
   "execution_count": 40,
   "metadata": {},
   "outputs": [
    {
     "data": {
      "text/plain": [
       "0.18661794356430217"
      ]
     },
     "execution_count": 40,
     "metadata": {},
     "output_type": "execute_result"
    }
   ],
   "source": [
    "adjusted_rand_score(metadata.genre, km_audio_features.labels_)"
   ]
  },
  {
   "cell_type": "markdown",
   "metadata": {},
   "source": [
    "# Hiperparametrización"
   ]
  },
  {
   "cell_type": "markdown",
   "metadata": {},
   "source": [
    "UMAP tiene varios hiperparámetros para probar. En esta hiperparametrización, probaremos haciendo un grid search con 4 paramétros:\n",
    "\n",
    " * n_neighbors\n",
    " * min_dist\n",
    " * n_components\n",
    " * metrics"
   ]
  },
  {
   "cell_type": "code",
   "execution_count": 55,
   "metadata": {},
   "outputs": [
    {
     "name": "stdout",
     "output_type": "stream",
     "text": [
      "audio_features, euclidean, minMax, n_components=2, n_neighbors=10, min_dist=0.25, k=2\n"
     ]
    },
    {
     "name": "stderr",
     "output_type": "stream",
     "text": [
      "/home/frasco/anaconda3/lib/python3.7/site-packages/umap/spectral.py:229: UserWarning: Embedding a total of 2 separate connected components using meta-embedding (experimental)\n",
      "  n_components\n"
     ]
    },
    {
     "name": "stdout",
     "output_type": "stream",
     "text": [
      "audio_features, euclidean, minMax, n_components=2, n_neighbors=10, min_dist=0.25, k=3\n"
     ]
    },
    {
     "name": "stderr",
     "output_type": "stream",
     "text": [
      "/home/frasco/anaconda3/lib/python3.7/site-packages/umap/spectral.py:229: UserWarning: Embedding a total of 2 separate connected components using meta-embedding (experimental)\n",
      "  n_components\n"
     ]
    },
    {
     "name": "stdout",
     "output_type": "stream",
     "text": [
      "audio_features, euclidean, minMax, n_components=2, n_neighbors=10, min_dist=0.25, k=4\n"
     ]
    },
    {
     "name": "stderr",
     "output_type": "stream",
     "text": [
      "/home/frasco/anaconda3/lib/python3.7/site-packages/umap/spectral.py:229: UserWarning: Embedding a total of 2 separate connected components using meta-embedding (experimental)\n",
      "  n_components\n"
     ]
    },
    {
     "name": "stdout",
     "output_type": "stream",
     "text": [
      "audio_features, euclidean, minMax, n_components=2, n_neighbors=10, min_dist=0.25, k=5\n"
     ]
    },
    {
     "name": "stderr",
     "output_type": "stream",
     "text": [
      "/home/frasco/anaconda3/lib/python3.7/site-packages/umap/spectral.py:229: UserWarning: Embedding a total of 2 separate connected components using meta-embedding (experimental)\n",
      "  n_components\n"
     ]
    },
    {
     "name": "stdout",
     "output_type": "stream",
     "text": [
      "audio_features, euclidean, minMax, n_components=2, n_neighbors=10, min_dist=0.25, k=6\n"
     ]
    },
    {
     "name": "stderr",
     "output_type": "stream",
     "text": [
      "/home/frasco/anaconda3/lib/python3.7/site-packages/umap/spectral.py:229: UserWarning: Embedding a total of 2 separate connected components using meta-embedding (experimental)\n",
      "  n_components\n"
     ]
    },
    {
     "name": "stdout",
     "output_type": "stream",
     "text": [
      "audio_features, euclidean, minMax, n_components=2, n_neighbors=10, min_dist=0.25, k=7\n"
     ]
    },
    {
     "name": "stderr",
     "output_type": "stream",
     "text": [
      "/home/frasco/anaconda3/lib/python3.7/site-packages/umap/spectral.py:229: UserWarning: Embedding a total of 2 separate connected components using meta-embedding (experimental)\n",
      "  n_components\n"
     ]
    },
    {
     "name": "stdout",
     "output_type": "stream",
     "text": [
      "audio_features, euclidean, minMax, n_components=2, n_neighbors=10, min_dist=0.25, k=8\n"
     ]
    },
    {
     "name": "stderr",
     "output_type": "stream",
     "text": [
      "/home/frasco/anaconda3/lib/python3.7/site-packages/umap/spectral.py:229: UserWarning: Embedding a total of 2 separate connected components using meta-embedding (experimental)\n",
      "  n_components\n"
     ]
    },
    {
     "name": "stdout",
     "output_type": "stream",
     "text": [
      "audio_features, euclidean, minMax, n_components=2, n_neighbors=10, min_dist=0.25, k=9\n"
     ]
    },
    {
     "name": "stderr",
     "output_type": "stream",
     "text": [
      "/home/frasco/anaconda3/lib/python3.7/site-packages/umap/spectral.py:229: UserWarning: Embedding a total of 2 separate connected components using meta-embedding (experimental)\n",
      "  n_components\n"
     ]
    },
    {
     "name": "stdout",
     "output_type": "stream",
     "text": [
      "audio_features, euclidean, minMax, n_components=2, n_neighbors=10, min_dist=0.25, k=10\n"
     ]
    },
    {
     "name": "stderr",
     "output_type": "stream",
     "text": [
      "/home/frasco/anaconda3/lib/python3.7/site-packages/umap/spectral.py:229: UserWarning: Embedding a total of 2 separate connected components using meta-embedding (experimental)\n",
      "  n_components\n"
     ]
    },
    {
     "name": "stdout",
     "output_type": "stream",
     "text": [
      "audio_features, euclidean, minMax, n_components=2, n_neighbors=10, min_dist=0.25, k=11\n"
     ]
    },
    {
     "name": "stderr",
     "output_type": "stream",
     "text": [
      "/home/frasco/anaconda3/lib/python3.7/site-packages/umap/spectral.py:229: UserWarning: Embedding a total of 2 separate connected components using meta-embedding (experimental)\n",
      "  n_components\n"
     ]
    },
    {
     "name": "stdout",
     "output_type": "stream",
     "text": [
      "audio_features, euclidean, minMax, n_components=2, n_neighbors=10, min_dist=0.25, k=12\n"
     ]
    },
    {
     "name": "stderr",
     "output_type": "stream",
     "text": [
      "/home/frasco/anaconda3/lib/python3.7/site-packages/umap/spectral.py:229: UserWarning: Embedding a total of 2 separate connected components using meta-embedding (experimental)\n",
      "  n_components\n"
     ]
    },
    {
     "name": "stdout",
     "output_type": "stream",
     "text": [
      "audio_features, euclidean, minMax, n_components=2, n_neighbors=10, min_dist=0.25, k=13\n"
     ]
    },
    {
     "name": "stderr",
     "output_type": "stream",
     "text": [
      "/home/frasco/anaconda3/lib/python3.7/site-packages/umap/spectral.py:229: UserWarning: Embedding a total of 2 separate connected components using meta-embedding (experimental)\n",
      "  n_components\n"
     ]
    },
    {
     "name": "stdout",
     "output_type": "stream",
     "text": [
      "audio_features, euclidean, minMax, n_components=2, n_neighbors=10, min_dist=0.25, k=14\n"
     ]
    },
    {
     "name": "stderr",
     "output_type": "stream",
     "text": [
      "/home/frasco/anaconda3/lib/python3.7/site-packages/umap/spectral.py:229: UserWarning: Embedding a total of 2 separate connected components using meta-embedding (experimental)\n",
      "  n_components\n"
     ]
    },
    {
     "name": "stdout",
     "output_type": "stream",
     "text": [
      "audio_features, euclidean, minMax, n_components=2, n_neighbors=10, min_dist=0.25, k=15\n"
     ]
    },
    {
     "name": "stderr",
     "output_type": "stream",
     "text": [
      "/home/frasco/anaconda3/lib/python3.7/site-packages/umap/spectral.py:229: UserWarning: Embedding a total of 2 separate connected components using meta-embedding (experimental)\n",
      "  n_components\n"
     ]
    },
    {
     "data": {
      "text/html": [
       "<div>\n",
       "<style scoped>\n",
       "    .dataframe tbody tr th:only-of-type {\n",
       "        vertical-align: middle;\n",
       "    }\n",
       "\n",
       "    .dataframe tbody tr th {\n",
       "        vertical-align: top;\n",
       "    }\n",
       "\n",
       "    .dataframe thead th {\n",
       "        text-align: right;\n",
       "    }\n",
       "</style>\n",
       "<table border=\"1\" class=\"dataframe\">\n",
       "  <thead>\n",
       "    <tr style=\"text-align: right;\">\n",
       "      <th></th>\n",
       "      <th>Dataset</th>\n",
       "      <th>Metric</th>\n",
       "      <th>Scaler</th>\n",
       "      <th>n_components</th>\n",
       "      <th>min_dist</th>\n",
       "      <th>n_neighbors</th>\n",
       "      <th>k</th>\n",
       "      <th>silhoutte</th>\n",
       "      <th>sse</th>\n",
       "      <th>vanDongen</th>\n",
       "      <th>adjRand</th>\n",
       "    </tr>\n",
       "  </thead>\n",
       "  <tbody>\n",
       "    <tr>\n",
       "      <th>0</th>\n",
       "      <td>audio_features</td>\n",
       "      <td>euclidean</td>\n",
       "      <td>minMax</td>\n",
       "      <td>2</td>\n",
       "      <td>0.25</td>\n",
       "      <td>10</td>\n",
       "      <td>2</td>\n",
       "      <td>0.749352</td>\n",
       "      <td>22655.269363</td>\n",
       "      <td>0.993050</td>\n",
       "      <td>0.001535</td>\n",
       "    </tr>\n",
       "    <tr>\n",
       "      <th>1</th>\n",
       "      <td>audio_features</td>\n",
       "      <td>euclidean</td>\n",
       "      <td>minMax</td>\n",
       "      <td>2</td>\n",
       "      <td>0.25</td>\n",
       "      <td>10</td>\n",
       "      <td>3</td>\n",
       "      <td>0.583202</td>\n",
       "      <td>15508.924388</td>\n",
       "      <td>0.904907</td>\n",
       "      <td>0.064889</td>\n",
       "    </tr>\n",
       "    <tr>\n",
       "      <th>2</th>\n",
       "      <td>audio_features</td>\n",
       "      <td>euclidean</td>\n",
       "      <td>minMax</td>\n",
       "      <td>2</td>\n",
       "      <td>0.25</td>\n",
       "      <td>10</td>\n",
       "      <td>4</td>\n",
       "      <td>0.469650</td>\n",
       "      <td>10949.427257</td>\n",
       "      <td>0.801633</td>\n",
       "      <td>0.104172</td>\n",
       "    </tr>\n",
       "    <tr>\n",
       "      <th>3</th>\n",
       "      <td>audio_features</td>\n",
       "      <td>euclidean</td>\n",
       "      <td>minMax</td>\n",
       "      <td>2</td>\n",
       "      <td>0.25</td>\n",
       "      <td>10</td>\n",
       "      <td>5</td>\n",
       "      <td>0.473585</td>\n",
       "      <td>8574.716143</td>\n",
       "      <td>0.752493</td>\n",
       "      <td>0.135111</td>\n",
       "    </tr>\n",
       "    <tr>\n",
       "      <th>4</th>\n",
       "      <td>audio_features</td>\n",
       "      <td>euclidean</td>\n",
       "      <td>minMax</td>\n",
       "      <td>2</td>\n",
       "      <td>0.25</td>\n",
       "      <td>10</td>\n",
       "      <td>6</td>\n",
       "      <td>0.520315</td>\n",
       "      <td>5839.592675</td>\n",
       "      <td>0.710094</td>\n",
       "      <td>0.188605</td>\n",
       "    </tr>\n",
       "    <tr>\n",
       "      <th>5</th>\n",
       "      <td>audio_features</td>\n",
       "      <td>euclidean</td>\n",
       "      <td>minMax</td>\n",
       "      <td>2</td>\n",
       "      <td>0.25</td>\n",
       "      <td>10</td>\n",
       "      <td>7</td>\n",
       "      <td>0.513632</td>\n",
       "      <td>4912.091610</td>\n",
       "      <td>0.733783</td>\n",
       "      <td>0.160797</td>\n",
       "    </tr>\n",
       "    <tr>\n",
       "      <th>6</th>\n",
       "      <td>audio_features</td>\n",
       "      <td>euclidean</td>\n",
       "      <td>minMax</td>\n",
       "      <td>2</td>\n",
       "      <td>0.25</td>\n",
       "      <td>10</td>\n",
       "      <td>8</td>\n",
       "      <td>0.462284</td>\n",
       "      <td>4232.394135</td>\n",
       "      <td>0.708484</td>\n",
       "      <td>0.163070</td>\n",
       "    </tr>\n",
       "    <tr>\n",
       "      <th>7</th>\n",
       "      <td>audio_features</td>\n",
       "      <td>euclidean</td>\n",
       "      <td>minMax</td>\n",
       "      <td>2</td>\n",
       "      <td>0.25</td>\n",
       "      <td>10</td>\n",
       "      <td>9</td>\n",
       "      <td>0.469260</td>\n",
       "      <td>3614.178637</td>\n",
       "      <td>0.714524</td>\n",
       "      <td>0.162813</td>\n",
       "    </tr>\n",
       "    <tr>\n",
       "      <th>8</th>\n",
       "      <td>audio_features</td>\n",
       "      <td>euclidean</td>\n",
       "      <td>minMax</td>\n",
       "      <td>2</td>\n",
       "      <td>0.25</td>\n",
       "      <td>10</td>\n",
       "      <td>10</td>\n",
       "      <td>0.463677</td>\n",
       "      <td>3185.600330</td>\n",
       "      <td>0.768140</td>\n",
       "      <td>0.127069</td>\n",
       "    </tr>\n",
       "    <tr>\n",
       "      <th>9</th>\n",
       "      <td>audio_features</td>\n",
       "      <td>euclidean</td>\n",
       "      <td>minMax</td>\n",
       "      <td>2</td>\n",
       "      <td>0.25</td>\n",
       "      <td>10</td>\n",
       "      <td>11</td>\n",
       "      <td>0.436812</td>\n",
       "      <td>2814.818457</td>\n",
       "      <td>0.720011</td>\n",
       "      <td>0.144542</td>\n",
       "    </tr>\n",
       "    <tr>\n",
       "      <th>10</th>\n",
       "      <td>audio_features</td>\n",
       "      <td>euclidean</td>\n",
       "      <td>minMax</td>\n",
       "      <td>2</td>\n",
       "      <td>0.25</td>\n",
       "      <td>10</td>\n",
       "      <td>12</td>\n",
       "      <td>0.438665</td>\n",
       "      <td>2605.842024</td>\n",
       "      <td>0.729927</td>\n",
       "      <td>0.133270</td>\n",
       "    </tr>\n",
       "    <tr>\n",
       "      <th>11</th>\n",
       "      <td>audio_features</td>\n",
       "      <td>euclidean</td>\n",
       "      <td>minMax</td>\n",
       "      <td>2</td>\n",
       "      <td>0.25</td>\n",
       "      <td>10</td>\n",
       "      <td>13</td>\n",
       "      <td>0.443036</td>\n",
       "      <td>2340.203046</td>\n",
       "      <td>0.726978</td>\n",
       "      <td>0.135141</td>\n",
       "    </tr>\n",
       "    <tr>\n",
       "      <th>12</th>\n",
       "      <td>audio_features</td>\n",
       "      <td>euclidean</td>\n",
       "      <td>minMax</td>\n",
       "      <td>2</td>\n",
       "      <td>0.25</td>\n",
       "      <td>10</td>\n",
       "      <td>14</td>\n",
       "      <td>0.441200</td>\n",
       "      <td>2176.083341</td>\n",
       "      <td>0.740951</td>\n",
       "      <td>0.126546</td>\n",
       "    </tr>\n",
       "    <tr>\n",
       "      <th>13</th>\n",
       "      <td>audio_features</td>\n",
       "      <td>euclidean</td>\n",
       "      <td>minMax</td>\n",
       "      <td>2</td>\n",
       "      <td>0.25</td>\n",
       "      <td>10</td>\n",
       "      <td>15</td>\n",
       "      <td>0.427164</td>\n",
       "      <td>1965.427590</td>\n",
       "      <td>0.728191</td>\n",
       "      <td>0.125771</td>\n",
       "    </tr>\n",
       "  </tbody>\n",
       "</table>\n",
       "</div>"
      ],
      "text/plain": [
       "           Dataset     Metric  Scaler  n_components  min_dist  n_neighbors  \\\n",
       "0   audio_features  euclidean  minMax             2      0.25           10   \n",
       "1   audio_features  euclidean  minMax             2      0.25           10   \n",
       "2   audio_features  euclidean  minMax             2      0.25           10   \n",
       "3   audio_features  euclidean  minMax             2      0.25           10   \n",
       "4   audio_features  euclidean  minMax             2      0.25           10   \n",
       "5   audio_features  euclidean  minMax             2      0.25           10   \n",
       "6   audio_features  euclidean  minMax             2      0.25           10   \n",
       "7   audio_features  euclidean  minMax             2      0.25           10   \n",
       "8   audio_features  euclidean  minMax             2      0.25           10   \n",
       "9   audio_features  euclidean  minMax             2      0.25           10   \n",
       "10  audio_features  euclidean  minMax             2      0.25           10   \n",
       "11  audio_features  euclidean  minMax             2      0.25           10   \n",
       "12  audio_features  euclidean  minMax             2      0.25           10   \n",
       "13  audio_features  euclidean  minMax             2      0.25           10   \n",
       "\n",
       "     k  silhoutte           sse  vanDongen   adjRand  \n",
       "0    2   0.749352  22655.269363   0.993050  0.001535  \n",
       "1    3   0.583202  15508.924388   0.904907  0.064889  \n",
       "2    4   0.469650  10949.427257   0.801633  0.104172  \n",
       "3    5   0.473585   8574.716143   0.752493  0.135111  \n",
       "4    6   0.520315   5839.592675   0.710094  0.188605  \n",
       "5    7   0.513632   4912.091610   0.733783  0.160797  \n",
       "6    8   0.462284   4232.394135   0.708484  0.163070  \n",
       "7    9   0.469260   3614.178637   0.714524  0.162813  \n",
       "8   10   0.463677   3185.600330   0.768140  0.127069  \n",
       "9   11   0.436812   2814.818457   0.720011  0.144542  \n",
       "10  12   0.438665   2605.842024   0.729927  0.133270  \n",
       "11  13   0.443036   2340.203046   0.726978  0.135141  \n",
       "12  14   0.441200   2176.083341   0.740951  0.126546  \n",
       "13  15   0.427164   1965.427590   0.728191  0.125771  "
      ]
     },
     "execution_count": 55,
     "metadata": {},
     "output_type": "execute_result"
    }
   ],
   "source": [
    "columns = ['Dataset', 'Metric', 'Scaler',\n",
    "           'n_components', 'min_dist', 'n_neighbors',\n",
    "           'k', 'silhoutte', 'sse', 'vanDongen', 'adjRand']\n",
    "results = []\n",
    "\n",
    "n_neighbors = [2, 5, 10, 20, 50, 100, 200]\n",
    "\n",
    "min_dist = [0.0, 0.1, 0.25, 0.5, 0.8, 0.99]\n",
    "\n",
    "n_components = range(2, 16)\n",
    "\n",
    "#metrics = [\"euclidean\", \"manhattan\", \"minkowski\", \"canberra\", \"mahalanobis\", \"cosine\", \"correlation\"]\n",
    "\n",
    "metrics = [\"euclidean\"]\n",
    "\n",
    "datasets = {\n",
    "    \"audio_features\": audio_features,\n",
    "    \"audio_analysis\": audio_analysis,\n",
    "    \"audio_tracks\": audio_tracks\n",
    "}\n",
    "\n",
    "scalers = {\n",
    "    \"minMax\": MinMaxScaler(feature_range=(0,1)),\n",
    "    \"standard\": StandardScaler()\n",
    "}\n",
    "\n",
    "ks = range(2, 16)\n",
    "\n",
    "for dataset in datasets.keys():\n",
    "    for metric in metrics:\n",
    "        for scaler in scalers.keys():\n",
    "            for components in n_components:\n",
    "                for neighbors in n_neighbors:\n",
    "                    for min_d in min_dist:\n",
    "                        for k in ks:\n",
    "                            \n",
    "                            print(dataset + ', ' + metric + ', ' + scaler + ', n_components=' + str(components) + ', n_neighbors=' + str(neighbors) + ', min_dist=' + str(min_d) + ', k=' + str(k))\n",
    "\n",
    "                            # Se estandariza usando el scaler correspondiente\n",
    "                            df = scalers[scaler].fit_transform(datasets[dataset])\n",
    "                            \n",
    "                            # Se aplica UMAP\n",
    "                            um = UMAP(n_components = components, n_neighbors = neighbors, min_dist = min_d, metric = metric)\n",
    "                            embedding = um.fit_transform(df)\n",
    "                            \n",
    "                            # Se calculan las validaciones internas\n",
    "                            sil = get_silhouette_avg(embedding, k)\n",
    "                            sse = get_sse(embedding, k)\n",
    "                            \n",
    "                            # Se aplica KMeans\n",
    "                            km = KMeans(n_clusters = k, random_state = 0).fit(embedding)\n",
    "                            \n",
    "                            # Se calcula la matriz de confusión\n",
    "                            tmp = pd.DataFrame({'Generos': metadata.genre, 'data': km.labels_})\n",
    "                            ct = pd.crosstab(tmp['Generos'], tmp['data'])\n",
    "                            \n",
    "                            # Se calculan las validaciones externas\n",
    "                            vd = vanDongen(ct)\n",
    "                            rand = adjusted_rand_score(metadata.genre, km.labels_)\n",
    "                            \n",
    "                            # Se guardan los resultados de la corrida\n",
    "                            results.append([dataset, metric, scaler,\n",
    "                                           components, min_d, neighbors,\n",
    "                                           k, sil, sse, vd, rand])\n",
    "\n",
    "df_results = pd.DataFrame(results, columns = columns)\n",
    "df_results"
   ]
  },
  {
   "cell_type": "code",
   "execution_count": 56,
   "metadata": {},
   "outputs": [],
   "source": [
    "df_results.to_csv('espectral.csv', index = False)"
   ]
  }
 ],
 "metadata": {
  "kernelspec": {
   "display_name": "Python 3",
   "language": "python",
   "name": "python3"
  },
  "language_info": {
   "codemirror_mode": {
    "name": "ipython",
    "version": 3
   },
   "file_extension": ".py",
   "mimetype": "text/x-python",
   "name": "python",
   "nbconvert_exporter": "python",
   "pygments_lexer": "ipython3",
   "version": "3.7.3"
  }
 },
 "nbformat": 4,
 "nbformat_minor": 2
}
