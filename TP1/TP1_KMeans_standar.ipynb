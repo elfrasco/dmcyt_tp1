{
 "cells": [
  {
   "cell_type": "code",
   "execution_count": 1,
   "metadata": {},
   "outputs": [],
   "source": [
    "# %reset\n",
    "# Para visualización en notebook\n",
    "%matplotlib inline\n",
    "import matplotlib.pyplot as plt\n",
    "import matplotlib.cm as cm\n",
    "import matplotlib as mpl\n",
    "mpl.rcParams['figure.figsize'] = (8,6)\n",
    "mpl.rcParams['font.size'] = 22\n",
    "from IPython.display import Audio, Markdown, Image\n",
    "import pylab\n",
    "import seaborn as sns\n",
    "\n",
    "# Números y Datos\n",
    "import numpy as np\n",
    "import pandas as pd\n",
    "\n",
    "# Archivos\n",
    "import urllib.request\n",
    "import glob\n",
    "\n",
    "# Análisis de sonido\n",
    "import spotipy \n",
    "\n",
    "# Machine learning\n",
    "# importar los paquetes para clustering\n",
    "from sklearn.preprocessing import StandardScaler\n",
    "\n",
    "# To work with categorical types\n",
    "from pandas.api.types import CategoricalDtype\n",
    "\n",
    "# Clustering (scipy)\n",
    "from scipy.spatial.distance import pdist, squareform\n",
    "from scipy.cluster.hierarchy import dendrogram, linkage, cophenet, fcluster\n",
    "\n",
    "# Clustering (sklearn)\n",
    "from sklearn.preprocessing import MinMaxScaler\n",
    "scaler = MinMaxScaler(feature_range=(0,1))\n",
    "\n",
    "from sklearn.cluster import KMeans, DBSCAN\n",
    "from sklearn.metrics import adjusted_rand_score, silhouette_score, silhouette_samples\n",
    "from sklearn.neighbors import NearestNeighbors\n",
    "\n",
    "from sklearn.metrics.pairwise import euclidean_distances\n",
    "\n",
    "from funciones import plot_silhouette\n",
    "from funciones import plot_silhouettes_and_sses\n",
    "from funciones import get_silhouette_avg\n",
    "from funciones import get_sse\n",
    "from funciones import vanDongen\n",
    "\n",
    "from sklearn.decomposition import PCA, TruncatedSVD\n",
    "from sklearn.manifold import MDS, Isomap, SpectralEmbedding, TSNE"
   ]
  },
  {
   "cell_type": "markdown",
   "metadata": {},
   "source": [
    "Se cargan los datasets."
   ]
  },
  {
   "cell_type": "code",
   "execution_count": 2,
   "metadata": {},
   "outputs": [],
   "source": [
    "metadata_original = pd.read_csv('../data/metadata.csv', index_col='id')\n",
    "audio_features_original = pd.read_csv('../data/audio_features.csv', index_col='id')\n",
    "audio_analysis_original = pd.read_csv('../data/audio_analysis.csv', index_col='id')"
   ]
  },
  {
   "cell_type": "code",
   "execution_count": 3,
   "metadata": {},
   "outputs": [
    {
     "data": {
      "text/html": [
       "<div>\n",
       "<style scoped>\n",
       "    .dataframe tbody tr th:only-of-type {\n",
       "        vertical-align: middle;\n",
       "    }\n",
       "\n",
       "    .dataframe tbody tr th {\n",
       "        vertical-align: top;\n",
       "    }\n",
       "\n",
       "    .dataframe thead th {\n",
       "        text-align: right;\n",
       "    }\n",
       "</style>\n",
       "<table border=\"1\" class=\"dataframe\">\n",
       "  <thead>\n",
       "    <tr style=\"text-align: right;\">\n",
       "      <th></th>\n",
       "      <th>timbre_mean_0</th>\n",
       "      <th>timbre_mean_1</th>\n",
       "      <th>timbre_mean_2</th>\n",
       "      <th>timbre_mean_3</th>\n",
       "      <th>timbre_mean_4</th>\n",
       "      <th>timbre_mean_5</th>\n",
       "      <th>timbre_mean_6</th>\n",
       "      <th>timbre_mean_7</th>\n",
       "      <th>timbre_mean_8</th>\n",
       "      <th>timbre_mean_9</th>\n",
       "      <th>...</th>\n",
       "      <th>pitch_std_2</th>\n",
       "      <th>pitch_std_3</th>\n",
       "      <th>pitch_std_4</th>\n",
       "      <th>pitch_std_5</th>\n",
       "      <th>pitch_std_6</th>\n",
       "      <th>pitch_std_7</th>\n",
       "      <th>pitch_std_8</th>\n",
       "      <th>pitch_std_9</th>\n",
       "      <th>pitch_std_10</th>\n",
       "      <th>pitch_std_11</th>\n",
       "    </tr>\n",
       "    <tr>\n",
       "      <th>id</th>\n",
       "      <th></th>\n",
       "      <th></th>\n",
       "      <th></th>\n",
       "      <th></th>\n",
       "      <th></th>\n",
       "      <th></th>\n",
       "      <th></th>\n",
       "      <th></th>\n",
       "      <th></th>\n",
       "      <th></th>\n",
       "      <th></th>\n",
       "      <th></th>\n",
       "      <th></th>\n",
       "      <th></th>\n",
       "      <th></th>\n",
       "      <th></th>\n",
       "      <th></th>\n",
       "      <th></th>\n",
       "      <th></th>\n",
       "      <th></th>\n",
       "      <th></th>\n",
       "    </tr>\n",
       "  </thead>\n",
       "  <tbody>\n",
       "    <tr>\n",
       "      <th>2NChLGjZ93zqggig6DmoLL</th>\n",
       "      <td>39.573680</td>\n",
       "      <td>-53.160322</td>\n",
       "      <td>33.955933</td>\n",
       "      <td>-13.458602</td>\n",
       "      <td>10.908333</td>\n",
       "      <td>-34.851049</td>\n",
       "      <td>1.713744</td>\n",
       "      <td>0.357444</td>\n",
       "      <td>-9.248460</td>\n",
       "      <td>-3.464805</td>\n",
       "      <td>...</td>\n",
       "      <td>0.314326</td>\n",
       "      <td>0.182297</td>\n",
       "      <td>0.175415</td>\n",
       "      <td>0.315322</td>\n",
       "      <td>0.197047</td>\n",
       "      <td>0.190721</td>\n",
       "      <td>0.152499</td>\n",
       "      <td>0.315809</td>\n",
       "      <td>0.165763</td>\n",
       "      <td>0.112952</td>\n",
       "    </tr>\n",
       "    <tr>\n",
       "      <th>3TPucnH2T71lgcmhsTZVMT</th>\n",
       "      <td>37.806990</td>\n",
       "      <td>26.905931</td>\n",
       "      <td>45.066553</td>\n",
       "      <td>-1.566750</td>\n",
       "      <td>19.836837</td>\n",
       "      <td>-10.684136</td>\n",
       "      <td>-37.983923</td>\n",
       "      <td>-10.510028</td>\n",
       "      <td>-5.820575</td>\n",
       "      <td>-1.746866</td>\n",
       "      <td>...</td>\n",
       "      <td>0.293350</td>\n",
       "      <td>0.250039</td>\n",
       "      <td>0.339806</td>\n",
       "      <td>0.311496</td>\n",
       "      <td>0.260636</td>\n",
       "      <td>0.341519</td>\n",
       "      <td>0.176243</td>\n",
       "      <td>0.284082</td>\n",
       "      <td>0.300141</td>\n",
       "      <td>0.236217</td>\n",
       "    </tr>\n",
       "    <tr>\n",
       "      <th>5ruWnyGX0r6v8b2JisDHDo</th>\n",
       "      <td>50.307463</td>\n",
       "      <td>65.649677</td>\n",
       "      <td>-17.158870</td>\n",
       "      <td>-1.660690</td>\n",
       "      <td>30.536530</td>\n",
       "      <td>-47.617183</td>\n",
       "      <td>1.200309</td>\n",
       "      <td>1.357931</td>\n",
       "      <td>-2.241743</td>\n",
       "      <td>4.456728</td>\n",
       "      <td>...</td>\n",
       "      <td>0.361503</td>\n",
       "      <td>0.331288</td>\n",
       "      <td>0.333903</td>\n",
       "      <td>0.320905</td>\n",
       "      <td>0.290592</td>\n",
       "      <td>0.337753</td>\n",
       "      <td>0.306255</td>\n",
       "      <td>0.320579</td>\n",
       "      <td>0.347926</td>\n",
       "      <td>0.315364</td>\n",
       "    </tr>\n",
       "    <tr>\n",
       "      <th>4ZEVoBaSKdJfpeunWmyQfs</th>\n",
       "      <td>38.453838</td>\n",
       "      <td>-46.715751</td>\n",
       "      <td>-16.638915</td>\n",
       "      <td>-3.838850</td>\n",
       "      <td>34.693517</td>\n",
       "      <td>-27.530044</td>\n",
       "      <td>5.632033</td>\n",
       "      <td>2.938340</td>\n",
       "      <td>7.223357</td>\n",
       "      <td>-0.045737</td>\n",
       "      <td>...</td>\n",
       "      <td>0.211055</td>\n",
       "      <td>0.172432</td>\n",
       "      <td>0.307475</td>\n",
       "      <td>0.226574</td>\n",
       "      <td>0.209167</td>\n",
       "      <td>0.271316</td>\n",
       "      <td>0.221715</td>\n",
       "      <td>0.297126</td>\n",
       "      <td>0.209825</td>\n",
       "      <td>0.216391</td>\n",
       "    </tr>\n",
       "    <tr>\n",
       "      <th>66aVNocFLApjTfudNYVEiF</th>\n",
       "      <td>52.072411</td>\n",
       "      <td>98.597172</td>\n",
       "      <td>-16.693923</td>\n",
       "      <td>0.843767</td>\n",
       "      <td>42.616539</td>\n",
       "      <td>-42.602253</td>\n",
       "      <td>-3.609067</td>\n",
       "      <td>11.836476</td>\n",
       "      <td>2.011623</td>\n",
       "      <td>0.462091</td>\n",
       "      <td>...</td>\n",
       "      <td>0.277745</td>\n",
       "      <td>0.307850</td>\n",
       "      <td>0.362859</td>\n",
       "      <td>0.300253</td>\n",
       "      <td>0.295673</td>\n",
       "      <td>0.236315</td>\n",
       "      <td>0.301466</td>\n",
       "      <td>0.244227</td>\n",
       "      <td>0.257769</td>\n",
       "      <td>0.281606</td>\n",
       "    </tr>\n",
       "  </tbody>\n",
       "</table>\n",
       "<p>5 rows × 48 columns</p>\n",
       "</div>"
      ],
      "text/plain": [
       "                        timbre_mean_0  timbre_mean_1  timbre_mean_2  \\\n",
       "id                                                                    \n",
       "2NChLGjZ93zqggig6DmoLL      39.573680     -53.160322      33.955933   \n",
       "3TPucnH2T71lgcmhsTZVMT      37.806990      26.905931      45.066553   \n",
       "5ruWnyGX0r6v8b2JisDHDo      50.307463      65.649677     -17.158870   \n",
       "4ZEVoBaSKdJfpeunWmyQfs      38.453838     -46.715751     -16.638915   \n",
       "66aVNocFLApjTfudNYVEiF      52.072411      98.597172     -16.693923   \n",
       "\n",
       "                        timbre_mean_3  timbre_mean_4  timbre_mean_5  \\\n",
       "id                                                                    \n",
       "2NChLGjZ93zqggig6DmoLL     -13.458602      10.908333     -34.851049   \n",
       "3TPucnH2T71lgcmhsTZVMT      -1.566750      19.836837     -10.684136   \n",
       "5ruWnyGX0r6v8b2JisDHDo      -1.660690      30.536530     -47.617183   \n",
       "4ZEVoBaSKdJfpeunWmyQfs      -3.838850      34.693517     -27.530044   \n",
       "66aVNocFLApjTfudNYVEiF       0.843767      42.616539     -42.602253   \n",
       "\n",
       "                        timbre_mean_6  timbre_mean_7  timbre_mean_8  \\\n",
       "id                                                                    \n",
       "2NChLGjZ93zqggig6DmoLL       1.713744       0.357444      -9.248460   \n",
       "3TPucnH2T71lgcmhsTZVMT     -37.983923     -10.510028      -5.820575   \n",
       "5ruWnyGX0r6v8b2JisDHDo       1.200309       1.357931      -2.241743   \n",
       "4ZEVoBaSKdJfpeunWmyQfs       5.632033       2.938340       7.223357   \n",
       "66aVNocFLApjTfudNYVEiF      -3.609067      11.836476       2.011623   \n",
       "\n",
       "                        timbre_mean_9  ...  pitch_std_2  pitch_std_3  \\\n",
       "id                                     ...                             \n",
       "2NChLGjZ93zqggig6DmoLL      -3.464805  ...     0.314326     0.182297   \n",
       "3TPucnH2T71lgcmhsTZVMT      -1.746866  ...     0.293350     0.250039   \n",
       "5ruWnyGX0r6v8b2JisDHDo       4.456728  ...     0.361503     0.331288   \n",
       "4ZEVoBaSKdJfpeunWmyQfs      -0.045737  ...     0.211055     0.172432   \n",
       "66aVNocFLApjTfudNYVEiF       0.462091  ...     0.277745     0.307850   \n",
       "\n",
       "                        pitch_std_4  pitch_std_5  pitch_std_6  pitch_std_7  \\\n",
       "id                                                                           \n",
       "2NChLGjZ93zqggig6DmoLL     0.175415     0.315322     0.197047     0.190721   \n",
       "3TPucnH2T71lgcmhsTZVMT     0.339806     0.311496     0.260636     0.341519   \n",
       "5ruWnyGX0r6v8b2JisDHDo     0.333903     0.320905     0.290592     0.337753   \n",
       "4ZEVoBaSKdJfpeunWmyQfs     0.307475     0.226574     0.209167     0.271316   \n",
       "66aVNocFLApjTfudNYVEiF     0.362859     0.300253     0.295673     0.236315   \n",
       "\n",
       "                        pitch_std_8  pitch_std_9  pitch_std_10  pitch_std_11  \n",
       "id                                                                            \n",
       "2NChLGjZ93zqggig6DmoLL     0.152499     0.315809      0.165763      0.112952  \n",
       "3TPucnH2T71lgcmhsTZVMT     0.176243     0.284082      0.300141      0.236217  \n",
       "5ruWnyGX0r6v8b2JisDHDo     0.306255     0.320579      0.347926      0.315364  \n",
       "4ZEVoBaSKdJfpeunWmyQfs     0.221715     0.297126      0.209825      0.216391  \n",
       "66aVNocFLApjTfudNYVEiF     0.301466     0.244227      0.257769      0.281606  \n",
       "\n",
       "[5 rows x 48 columns]"
      ]
     },
     "execution_count": 3,
     "metadata": {},
     "output_type": "execute_result"
    }
   ],
   "source": [
    "audio_analysis_original.head()"
   ]
  },
  {
   "cell_type": "markdown",
   "metadata": {},
   "source": [
    "Se seleccionan únicamente las variables numéricas"
   ]
  },
  {
   "cell_type": "code",
   "execution_count": 4,
   "metadata": {},
   "outputs": [],
   "source": [
    "audio_features = audio_features_original[['acousticness','danceability', 'duration_ms', 'energy', 'instrumentalness', 'key', 'liveness','loudness', 'mode', 'speechiness', 'tempo', 'time_signature', 'valence']]"
   ]
  },
  {
   "cell_type": "markdown",
   "metadata": {},
   "source": [
    "Se estandarizan ambos datasets"
   ]
  },
  {
   "cell_type": "code",
   "execution_count": 5,
   "metadata": {},
   "outputs": [],
   "source": [
    "ss = StandardScaler()\n",
    "audio_features_norm = pd.DataFrame(ss.fit_transform(audio_features))\n",
    "audio_analysis_norm = pd.DataFrame(ss.fit_transform(audio_analysis_original))"
   ]
  },
  {
   "cell_type": "code",
   "execution_count": 6,
   "metadata": {},
   "outputs": [
    {
     "data": {
      "text/plain": [
       "0     float64\n",
       "1     float64\n",
       "2     float64\n",
       "3     float64\n",
       "4     float64\n",
       "5     float64\n",
       "6     float64\n",
       "7     float64\n",
       "8     float64\n",
       "9     float64\n",
       "10    float64\n",
       "11    float64\n",
       "12    float64\n",
       "dtype: object"
      ]
     },
     "execution_count": 6,
     "metadata": {},
     "output_type": "execute_result"
    }
   ],
   "source": [
    "audio_features_norm.dtypes"
   ]
  },
  {
   "cell_type": "code",
   "execution_count": 7,
   "metadata": {},
   "outputs": [
    {
     "data": {
      "text/plain": [
       "(2206, 13)"
      ]
     },
     "execution_count": 7,
     "metadata": {},
     "output_type": "execute_result"
    }
   ],
   "source": [
    "audio_features_norm.shape"
   ]
  },
  {
   "cell_type": "code",
   "execution_count": 8,
   "metadata": {},
   "outputs": [
    {
     "data": {
      "text/html": [
       "<div>\n",
       "<style scoped>\n",
       "    .dataframe tbody tr th:only-of-type {\n",
       "        vertical-align: middle;\n",
       "    }\n",
       "\n",
       "    .dataframe tbody tr th {\n",
       "        vertical-align: top;\n",
       "    }\n",
       "\n",
       "    .dataframe thead th {\n",
       "        text-align: right;\n",
       "    }\n",
       "</style>\n",
       "<table border=\"1\" class=\"dataframe\">\n",
       "  <thead>\n",
       "    <tr style=\"text-align: right;\">\n",
       "      <th></th>\n",
       "      <th>0</th>\n",
       "      <th>1</th>\n",
       "      <th>2</th>\n",
       "      <th>3</th>\n",
       "      <th>4</th>\n",
       "      <th>5</th>\n",
       "      <th>6</th>\n",
       "      <th>7</th>\n",
       "      <th>8</th>\n",
       "      <th>9</th>\n",
       "      <th>...</th>\n",
       "      <th>38</th>\n",
       "      <th>39</th>\n",
       "      <th>40</th>\n",
       "      <th>41</th>\n",
       "      <th>42</th>\n",
       "      <th>43</th>\n",
       "      <th>44</th>\n",
       "      <th>45</th>\n",
       "      <th>46</th>\n",
       "      <th>47</th>\n",
       "    </tr>\n",
       "  </thead>\n",
       "  <tbody>\n",
       "    <tr>\n",
       "      <th>0</th>\n",
       "      <td>-0.115520</td>\n",
       "      <td>-0.540928</td>\n",
       "      <td>0.825532</td>\n",
       "      <td>-0.517760</td>\n",
       "      <td>-0.815673</td>\n",
       "      <td>-0.545354</td>\n",
       "      <td>0.385212</td>\n",
       "      <td>-0.071264</td>\n",
       "      <td>-0.246519</td>\n",
       "      <td>-0.770671</td>\n",
       "      <td>...</td>\n",
       "      <td>0.635927</td>\n",
       "      <td>-0.880266</td>\n",
       "      <td>-1.368356</td>\n",
       "      <td>0.657012</td>\n",
       "      <td>-0.893242</td>\n",
       "      <td>-1.271658</td>\n",
       "      <td>-1.552038</td>\n",
       "      <td>0.582522</td>\n",
       "      <td>-1.294840</td>\n",
       "      <td>-2.142945</td>\n",
       "    </tr>\n",
       "    <tr>\n",
       "      <th>1</th>\n",
       "      <td>-0.324401</td>\n",
       "      <td>0.543663</td>\n",
       "      <td>1.124139</td>\n",
       "      <td>0.195160</td>\n",
       "      <td>-0.345128</td>\n",
       "      <td>1.349489</td>\n",
       "      <td>-2.666920</td>\n",
       "      <td>-1.580151</td>\n",
       "      <td>0.185164</td>\n",
       "      <td>-0.410410</td>\n",
       "      <td>...</td>\n",
       "      <td>0.328710</td>\n",
       "      <td>0.050721</td>\n",
       "      <td>1.016125</td>\n",
       "      <td>0.604051</td>\n",
       "      <td>0.023019</td>\n",
       "      <td>0.912194</td>\n",
       "      <td>-1.208799</td>\n",
       "      <td>0.109836</td>\n",
       "      <td>0.612856</td>\n",
       "      <td>-0.382209</td>\n",
       "    </tr>\n",
       "    <tr>\n",
       "      <th>2</th>\n",
       "      <td>1.153568</td>\n",
       "      <td>1.068492</td>\n",
       "      <td>-0.548219</td>\n",
       "      <td>0.189529</td>\n",
       "      <td>0.218761</td>\n",
       "      <td>-1.546301</td>\n",
       "      <td>0.345737</td>\n",
       "      <td>0.067648</td>\n",
       "      <td>0.635857</td>\n",
       "      <td>0.890518</td>\n",
       "      <td>...</td>\n",
       "      <td>1.326878</td>\n",
       "      <td>1.167352</td>\n",
       "      <td>0.930504</td>\n",
       "      <td>0.734291</td>\n",
       "      <td>0.454653</td>\n",
       "      <td>0.857644</td>\n",
       "      <td>0.670610</td>\n",
       "      <td>0.653587</td>\n",
       "      <td>1.291240</td>\n",
       "      <td>0.748323</td>\n",
       "    </tr>\n",
       "    <tr>\n",
       "      <th>3</th>\n",
       "      <td>-0.247922</td>\n",
       "      <td>-0.453629</td>\n",
       "      <td>-0.534244</td>\n",
       "      <td>0.058947</td>\n",
       "      <td>0.437840</td>\n",
       "      <td>0.028661</td>\n",
       "      <td>0.686468</td>\n",
       "      <td>0.287079</td>\n",
       "      <td>1.827823</td>\n",
       "      <td>-0.053674</td>\n",
       "      <td>...</td>\n",
       "      <td>-0.876571</td>\n",
       "      <td>-1.015847</td>\n",
       "      <td>0.547178</td>\n",
       "      <td>-0.571438</td>\n",
       "      <td>-0.718605</td>\n",
       "      <td>-0.104483</td>\n",
       "      <td>-0.551468</td>\n",
       "      <td>0.304171</td>\n",
       "      <td>-0.669320</td>\n",
       "      <td>-0.665406</td>\n",
       "    </tr>\n",
       "    <tr>\n",
       "      <th>4</th>\n",
       "      <td>1.362243</td>\n",
       "      <td>1.514805</td>\n",
       "      <td>-0.535723</td>\n",
       "      <td>0.339671</td>\n",
       "      <td>0.855394</td>\n",
       "      <td>-1.153098</td>\n",
       "      <td>-0.024029</td>\n",
       "      <td>1.522535</td>\n",
       "      <td>1.171495</td>\n",
       "      <td>0.052821</td>\n",
       "      <td>...</td>\n",
       "      <td>0.100159</td>\n",
       "      <td>0.845231</td>\n",
       "      <td>1.350518</td>\n",
       "      <td>0.448427</td>\n",
       "      <td>0.527866</td>\n",
       "      <td>-0.611367</td>\n",
       "      <td>0.601389</td>\n",
       "      <td>-0.483953</td>\n",
       "      <td>0.011315</td>\n",
       "      <td>0.266129</td>\n",
       "    </tr>\n",
       "  </tbody>\n",
       "</table>\n",
       "<p>5 rows × 48 columns</p>\n",
       "</div>"
      ],
      "text/plain": [
       "         0         1         2         3         4         5         6   \\\n",
       "0 -0.115520 -0.540928  0.825532 -0.517760 -0.815673 -0.545354  0.385212   \n",
       "1 -0.324401  0.543663  1.124139  0.195160 -0.345128  1.349489 -2.666920   \n",
       "2  1.153568  1.068492 -0.548219  0.189529  0.218761 -1.546301  0.345737   \n",
       "3 -0.247922 -0.453629 -0.534244  0.058947  0.437840  0.028661  0.686468   \n",
       "4  1.362243  1.514805 -0.535723  0.339671  0.855394 -1.153098 -0.024029   \n",
       "\n",
       "         7         8         9   ...        38        39        40        41  \\\n",
       "0 -0.071264 -0.246519 -0.770671  ...  0.635927 -0.880266 -1.368356  0.657012   \n",
       "1 -1.580151  0.185164 -0.410410  ...  0.328710  0.050721  1.016125  0.604051   \n",
       "2  0.067648  0.635857  0.890518  ...  1.326878  1.167352  0.930504  0.734291   \n",
       "3  0.287079  1.827823 -0.053674  ... -0.876571 -1.015847  0.547178 -0.571438   \n",
       "4  1.522535  1.171495  0.052821  ...  0.100159  0.845231  1.350518  0.448427   \n",
       "\n",
       "         42        43        44        45        46        47  \n",
       "0 -0.893242 -1.271658 -1.552038  0.582522 -1.294840 -2.142945  \n",
       "1  0.023019  0.912194 -1.208799  0.109836  0.612856 -0.382209  \n",
       "2  0.454653  0.857644  0.670610  0.653587  1.291240  0.748323  \n",
       "3 -0.718605 -0.104483 -0.551468  0.304171 -0.669320 -0.665406  \n",
       "4  0.527866 -0.611367  0.601389 -0.483953  0.011315  0.266129  \n",
       "\n",
       "[5 rows x 48 columns]"
      ]
     },
     "execution_count": 8,
     "metadata": {},
     "output_type": "execute_result"
    }
   ],
   "source": [
    "audio_analysis_norm.head()"
   ]
  },
  {
   "cell_type": "markdown",
   "metadata": {},
   "source": [
    "# Experiencia 1: KMeans"
   ]
  },
  {
   "cell_type": "markdown",
   "metadata": {},
   "source": [
    "## audio_features\n",
    "\n",
    "Para audio_features, se determina la cantidad de clusters utilizando silhuette y SSE."
   ]
  },
  {
   "cell_type": "code",
   "execution_count": 9,
   "metadata": {},
   "outputs": [
    {
     "data": {
      "image/png": "[encoded data removed]",
      "text/plain": [
       "<Figure size 432x288 with 2 Axes>"
      ]
     },
     "metadata": {
      "needs_background": "light"
     },
     "output_type": "display_data"
    }
   ],
   "source": [
    "plot_silhouettes_and_sses(audio_features_norm, 15)"
   ]
  },
  {
   "cell_type": "markdown",
   "metadata": {},
   "source": [
    "¿Cuál sería el k ideal? El quiebre de SSE lo tenemos más o menos en 5 o en 6. Con valores más altos de k el silhouette baja demasiado."
   ]
  },
  {
   "cell_type": "code",
   "execution_count": 10,
   "metadata": {},
   "outputs": [
    {
     "data": {
      "text/plain": [
       "0.15054471338691172"
      ]
     },
     "execution_count": 10,
     "metadata": {},
     "output_type": "execute_result"
    }
   ],
   "source": [
    "get_silhouette_avg(audio_features_norm, 5)"
   ]
  },
  {
   "cell_type": "code",
   "execution_count": 11,
   "metadata": {},
   "outputs": [
    {
     "data": {
      "text/plain": [
       "0.15752587641457771"
      ]
     },
     "execution_count": 11,
     "metadata": {},
     "output_type": "execute_result"
    }
   ],
   "source": [
    "get_silhouette_avg(audio_features_norm, 6)"
   ]
  },
  {
   "cell_type": "markdown",
   "metadata": {},
   "source": [
    "El silhouette promedio obtenido en 5 es mayor que en 6. Ya con 7 y 8 el silhouette parece bajar demasiado y no obtenemos mucha ganancia en el SSE."
   ]
  },
  {
   "cell_type": "code",
   "execution_count": 12,
   "metadata": {},
   "outputs": [
    {
     "data": {
      "text/plain": [
       "17435.734892009554"
      ]
     },
     "execution_count": 12,
     "metadata": {},
     "output_type": "execute_result"
    }
   ],
   "source": [
    "get_sse(audio_features_norm, 5)"
   ]
  },
  {
   "cell_type": "code",
   "execution_count": 13,
   "metadata": {},
   "outputs": [
    {
     "data": {
      "text/plain": [
       "16472.60619874562"
      ]
     },
     "execution_count": 13,
     "metadata": {},
     "output_type": "execute_result"
    }
   ],
   "source": [
    "get_sse(audio_features_norm, 6)"
   ]
  },
  {
   "cell_type": "code",
   "execution_count": 14,
   "metadata": {},
   "outputs": [
    {
     "data": {
      "image/png": "[encoded data removed]",
      "text/plain": [
       "<Figure size 1296x504 with 1 Axes>"
      ]
     },
     "metadata": {
      "needs_background": "light"
     },
     "output_type": "display_data"
    }
   ],
   "source": [
    "plot_silhouette(audio_features_norm, 5)"
   ]
  },
  {
   "cell_type": "code",
   "execution_count": 15,
   "metadata": {},
   "outputs": [
    {
     "data": {
      "image/png": "[encoded data removed]",
      "text/plain": [
       "<Figure size 1296x504 with 1 Axes>"
      ]
     },
     "metadata": {
      "needs_background": "light"
     },
     "output_type": "display_data"
    }
   ],
   "source": [
    "plot_silhouette(audio_features_norm, 6)"
   ]
  },
  {
   "cell_type": "markdown",
   "metadata": {},
   "source": [
    "Conclusión: Estandarizado el dataset, da bastante mal. Para audio_features, los resultados sin estandarizar dan mucho mejor."
   ]
  },
  {
   "cell_type": "markdown",
   "metadata": {},
   "source": [
    "## audio_analysis\n",
    "\n",
    "Para audio_analysis, se determina la cantidad de clusters utilizando silhuette y SSE."
   ]
  },
  {
   "cell_type": "code",
   "execution_count": 16,
   "metadata": {},
   "outputs": [
    {
     "data": {
      "image/png": "[encoded data removed]",
      "text/plain": [
       "<Figure size 432x288 with 2 Axes>"
      ]
     },
     "metadata": {
      "needs_background": "light"
     },
     "output_type": "display_data"
    }
   ],
   "source": [
    "plot_silhouettes_and_sses(audio_analysis_norm, 30)"
   ]
  },
  {
   "cell_type": "markdown",
   "metadata": {},
   "source": [
    "¿Qué valor de k podría ser mejor? Pareciera estar entre k = 3 y k = 10."
   ]
  },
  {
   "cell_type": "code",
   "execution_count": 17,
   "metadata": {},
   "outputs": [
    {
     "data": {
      "text/html": [
       "<div>\n",
       "<style scoped>\n",
       "    .dataframe tbody tr th:only-of-type {\n",
       "        vertical-align: middle;\n",
       "    }\n",
       "\n",
       "    .dataframe tbody tr th {\n",
       "        vertical-align: top;\n",
       "    }\n",
       "\n",
       "    .dataframe thead th {\n",
       "        text-align: right;\n",
       "    }\n",
       "</style>\n",
       "<table border=\"1\" class=\"dataframe\">\n",
       "  <thead>\n",
       "    <tr style=\"text-align: right;\">\n",
       "      <th></th>\n",
       "      <th>k</th>\n",
       "      <th>silhouette</th>\n",
       "      <th>sse</th>\n",
       "    </tr>\n",
       "  </thead>\n",
       "  <tbody>\n",
       "    <tr>\n",
       "      <th>0</th>\n",
       "      <td>3</td>\n",
       "      <td>0.067023</td>\n",
       "      <td>88841.584062</td>\n",
       "    </tr>\n",
       "    <tr>\n",
       "      <th>1</th>\n",
       "      <td>4</td>\n",
       "      <td>0.080307</td>\n",
       "      <td>84317.255825</td>\n",
       "    </tr>\n",
       "    <tr>\n",
       "      <th>2</th>\n",
       "      <td>5</td>\n",
       "      <td>0.086857</td>\n",
       "      <td>81092.694373</td>\n",
       "    </tr>\n",
       "    <tr>\n",
       "      <th>3</th>\n",
       "      <td>6</td>\n",
       "      <td>0.084383</td>\n",
       "      <td>79005.811485</td>\n",
       "    </tr>\n",
       "    <tr>\n",
       "      <th>4</th>\n",
       "      <td>7</td>\n",
       "      <td>0.067214</td>\n",
       "      <td>77532.438186</td>\n",
       "    </tr>\n",
       "    <tr>\n",
       "      <th>5</th>\n",
       "      <td>8</td>\n",
       "      <td>0.061073</td>\n",
       "      <td>76197.325827</td>\n",
       "    </tr>\n",
       "    <tr>\n",
       "      <th>6</th>\n",
       "      <td>9</td>\n",
       "      <td>0.059023</td>\n",
       "      <td>74937.429754</td>\n",
       "    </tr>\n",
       "    <tr>\n",
       "      <th>7</th>\n",
       "      <td>10</td>\n",
       "      <td>0.066569</td>\n",
       "      <td>73894.210414</td>\n",
       "    </tr>\n",
       "  </tbody>\n",
       "</table>\n",
       "</div>"
      ],
      "text/plain": [
       "    k  silhouette           sse\n",
       "0   3    0.067023  88841.584062\n",
       "1   4    0.080307  84317.255825\n",
       "2   5    0.086857  81092.694373\n",
       "3   6    0.084383  79005.811485\n",
       "4   7    0.067214  77532.438186\n",
       "5   8    0.061073  76197.325827\n",
       "6   9    0.059023  74937.429754\n",
       "7  10    0.066569  73894.210414"
      ]
     },
     "execution_count": 17,
     "metadata": {},
     "output_type": "execute_result"
    }
   ],
   "source": [
    "sils_sses = []\n",
    "for k in range(3, 11):\n",
    "    sils_sses.append([k, get_silhouette_avg(audio_analysis_norm, k), get_sse(audio_analysis_norm, k)])\n",
    "pd.DataFrame(sils_sses, columns=['k', 'silhouette', 'sse'])"
   ]
  },
  {
   "cell_type": "code",
   "execution_count": 18,
   "metadata": {},
   "outputs": [
    {
     "data": {
      "image/png": "[encoded data removed]",
      "text/plain": [
       "<Figure size 1296x504 with 1 Axes>"
      ]
     },
     "metadata": {
      "needs_background": "light"
     },
     "output_type": "display_data"
    }
   ],
   "source": [
    "plot_silhouette(audio_analysis_norm, 5)"
   ]
  },
  {
   "cell_type": "markdown",
   "metadata": {},
   "source": [
    "## audio_features y audio_analysis\n",
    "\n",
    "Para ambos dataset mergeados, se determina la cantidad de clusters utilizando silhuette y SSE, estandarizando el merge previamente."
   ]
  },
  {
   "cell_type": "code",
   "execution_count": 19,
   "metadata": {},
   "outputs": [
    {
     "data": {
      "text/html": [
       "<div>\n",
       "<style scoped>\n",
       "    .dataframe tbody tr th:only-of-type {\n",
       "        vertical-align: middle;\n",
       "    }\n",
       "\n",
       "    .dataframe tbody tr th {\n",
       "        vertical-align: top;\n",
       "    }\n",
       "\n",
       "    .dataframe thead th {\n",
       "        text-align: right;\n",
       "    }\n",
       "</style>\n",
       "<table border=\"1\" class=\"dataframe\">\n",
       "  <thead>\n",
       "    <tr style=\"text-align: right;\">\n",
       "      <th></th>\n",
       "      <th>0</th>\n",
       "      <th>1</th>\n",
       "      <th>2</th>\n",
       "      <th>3</th>\n",
       "      <th>4</th>\n",
       "      <th>5</th>\n",
       "      <th>6</th>\n",
       "      <th>7</th>\n",
       "      <th>8</th>\n",
       "      <th>9</th>\n",
       "      <th>...</th>\n",
       "      <th>51</th>\n",
       "      <th>52</th>\n",
       "      <th>53</th>\n",
       "      <th>54</th>\n",
       "      <th>55</th>\n",
       "      <th>56</th>\n",
       "      <th>57</th>\n",
       "      <th>58</th>\n",
       "      <th>59</th>\n",
       "      <th>60</th>\n",
       "    </tr>\n",
       "  </thead>\n",
       "  <tbody>\n",
       "    <tr>\n",
       "      <th>0</th>\n",
       "      <td>1.020308</td>\n",
       "      <td>0.450249</td>\n",
       "      <td>-0.392925</td>\n",
       "      <td>-1.029774</td>\n",
       "      <td>-1.301087</td>\n",
       "      <td>-1.488472</td>\n",
       "      <td>-0.231377</td>\n",
       "      <td>-0.515989</td>\n",
       "      <td>0.904327</td>\n",
       "      <td>-0.205289</td>\n",
       "      <td>...</td>\n",
       "      <td>1.415470</td>\n",
       "      <td>-0.884759</td>\n",
       "      <td>1.269335</td>\n",
       "      <td>0.679161</td>\n",
       "      <td>-0.730955</td>\n",
       "      <td>0.226456</td>\n",
       "      <td>-0.145294</td>\n",
       "      <td>0.728330</td>\n",
       "      <td>-0.547664</td>\n",
       "      <td>-0.071572</td>\n",
       "    </tr>\n",
       "    <tr>\n",
       "      <th>1</th>\n",
       "      <td>1.010123</td>\n",
       "      <td>0.222328</td>\n",
       "      <td>-0.417935</td>\n",
       "      <td>-1.264884</td>\n",
       "      <td>-1.304228</td>\n",
       "      <td>-0.355646</td>\n",
       "      <td>-0.489057</td>\n",
       "      <td>-1.177801</td>\n",
       "      <td>0.904327</td>\n",
       "      <td>0.002644</td>\n",
       "      <td>...</td>\n",
       "      <td>-1.005882</td>\n",
       "      <td>0.457681</td>\n",
       "      <td>0.885786</td>\n",
       "      <td>-0.640365</td>\n",
       "      <td>0.693530</td>\n",
       "      <td>-0.594453</td>\n",
       "      <td>1.042249</td>\n",
       "      <td>0.357767</td>\n",
       "      <td>-0.719974</td>\n",
       "      <td>1.617699</td>\n",
       "    </tr>\n",
       "    <tr>\n",
       "      <th>2</th>\n",
       "      <td>1.101787</td>\n",
       "      <td>-0.223153</td>\n",
       "      <td>-0.807368</td>\n",
       "      <td>-0.899502</td>\n",
       "      <td>1.021701</td>\n",
       "      <td>-0.072439</td>\n",
       "      <td>1.044453</td>\n",
       "      <td>-0.854466</td>\n",
       "      <td>-1.105795</td>\n",
       "      <td>-0.467548</td>\n",
       "      <td>...</td>\n",
       "      <td>-0.949252</td>\n",
       "      <td>0.554463</td>\n",
       "      <td>-0.464794</td>\n",
       "      <td>1.100680</td>\n",
       "      <td>-0.328086</td>\n",
       "      <td>0.846896</td>\n",
       "      <td>1.249981</td>\n",
       "      <td>-0.845263</td>\n",
       "      <td>1.403997</td>\n",
       "      <td>0.434854</td>\n",
       "    </tr>\n",
       "    <tr>\n",
       "      <th>3</th>\n",
       "      <td>-0.973386</td>\n",
       "      <td>0.123908</td>\n",
       "      <td>1.992265</td>\n",
       "      <td>1.032863</td>\n",
       "      <td>0.494010</td>\n",
       "      <td>1.060387</td>\n",
       "      <td>3.244160</td>\n",
       "      <td>0.466350</td>\n",
       "      <td>-1.105795</td>\n",
       "      <td>1.624898</td>\n",
       "      <td>...</td>\n",
       "      <td>0.130184</td>\n",
       "      <td>-0.086919</td>\n",
       "      <td>0.627974</td>\n",
       "      <td>-0.059042</td>\n",
       "      <td>-0.140321</td>\n",
       "      <td>0.242723</td>\n",
       "      <td>-0.084219</td>\n",
       "      <td>0.587382</td>\n",
       "      <td>0.218605</td>\n",
       "      <td>0.381715</td>\n",
       "    </tr>\n",
       "    <tr>\n",
       "      <th>4</th>\n",
       "      <td>-0.306275</td>\n",
       "      <td>0.077288</td>\n",
       "      <td>0.048057</td>\n",
       "      <td>0.189198</td>\n",
       "      <td>1.001209</td>\n",
       "      <td>1.343593</td>\n",
       "      <td>-0.413638</td>\n",
       "      <td>0.120425</td>\n",
       "      <td>-1.105795</td>\n",
       "      <td>-0.512506</td>\n",
       "      <td>...</td>\n",
       "      <td>-0.283136</td>\n",
       "      <td>1.348096</td>\n",
       "      <td>0.592912</td>\n",
       "      <td>0.251442</td>\n",
       "      <td>0.241819</td>\n",
       "      <td>-0.145624</td>\n",
       "      <td>-0.198483</td>\n",
       "      <td>-0.167857</td>\n",
       "      <td>0.312347</td>\n",
       "      <td>-1.035310</td>\n",
       "    </tr>\n",
       "  </tbody>\n",
       "</table>\n",
       "<p>5 rows × 61 columns</p>\n",
       "</div>"
      ],
      "text/plain": [
       "         0         1         2         3         4         5         6   \\\n",
       "0  1.020308  0.450249 -0.392925 -1.029774 -1.301087 -1.488472 -0.231377   \n",
       "1  1.010123  0.222328 -0.417935 -1.264884 -1.304228 -0.355646 -0.489057   \n",
       "2  1.101787 -0.223153 -0.807368 -0.899502  1.021701 -0.072439  1.044453   \n",
       "3 -0.973386  0.123908  1.992265  1.032863  0.494010  1.060387  3.244160   \n",
       "4 -0.306275  0.077288  0.048057  0.189198  1.001209  1.343593 -0.413638   \n",
       "\n",
       "         7         8         9   ...        51        52        53        54  \\\n",
       "0 -0.515989  0.904327 -0.205289  ...  1.415470 -0.884759  1.269335  0.679161   \n",
       "1 -1.177801  0.904327  0.002644  ... -1.005882  0.457681  0.885786 -0.640365   \n",
       "2 -0.854466 -1.105795 -0.467548  ... -0.949252  0.554463 -0.464794  1.100680   \n",
       "3  0.466350 -1.105795  1.624898  ...  0.130184 -0.086919  0.627974 -0.059042   \n",
       "4  0.120425 -1.105795 -0.512506  ... -0.283136  1.348096  0.592912  0.251442   \n",
       "\n",
       "         55        56        57        58        59        60  \n",
       "0 -0.730955  0.226456 -0.145294  0.728330 -0.547664 -0.071572  \n",
       "1  0.693530 -0.594453  1.042249  0.357767 -0.719974  1.617699  \n",
       "2 -0.328086  0.846896  1.249981 -0.845263  1.403997  0.434854  \n",
       "3 -0.140321  0.242723 -0.084219  0.587382  0.218605  0.381715  \n",
       "4  0.241819 -0.145624 -0.198483 -0.167857  0.312347 -1.035310  \n",
       "\n",
       "[5 rows x 61 columns]"
      ]
     },
     "execution_count": 19,
     "metadata": {},
     "output_type": "execute_result"
    }
   ],
   "source": [
    "audio_tracks = pd.merge(audio_features, audio_analysis_original, how = 'inner', on = 'id')\n",
    "audio_tracks = pd.DataFrame(ss.fit_transform(audio_tracks))\n",
    "audio_tracks.head()"
   ]
  },
  {
   "cell_type": "code",
   "execution_count": 20,
   "metadata": {},
   "outputs": [
    {
     "data": {
      "text/plain": [
       "(2205, 61)"
      ]
     },
     "execution_count": 20,
     "metadata": {},
     "output_type": "execute_result"
    }
   ],
   "source": [
    "audio_tracks.shape"
   ]
  },
  {
   "cell_type": "code",
   "execution_count": 21,
   "metadata": {},
   "outputs": [
    {
     "data": {
      "image/png": "[encoded data removed]",
      "text/plain": [
       "<Figure size 432x288 with 2 Axes>"
      ]
     },
     "metadata": {
      "needs_background": "light"
     },
     "output_type": "display_data"
    }
   ],
   "source": [
    "plot_silhouettes_and_sses(audio_tracks, 15)"
   ]
  },
  {
   "cell_type": "markdown",
   "metadata": {},
   "source": [
    "Parece haber dado muy parecido a audio_features."
   ]
  },
  {
   "cell_type": "code",
   "execution_count": 22,
   "metadata": {},
   "outputs": [
    {
     "data": {
      "text/html": [
       "<div>\n",
       "<style scoped>\n",
       "    .dataframe tbody tr th:only-of-type {\n",
       "        vertical-align: middle;\n",
       "    }\n",
       "\n",
       "    .dataframe tbody tr th {\n",
       "        vertical-align: top;\n",
       "    }\n",
       "\n",
       "    .dataframe thead th {\n",
       "        text-align: right;\n",
       "    }\n",
       "</style>\n",
       "<table border=\"1\" class=\"dataframe\">\n",
       "  <thead>\n",
       "    <tr style=\"text-align: right;\">\n",
       "      <th></th>\n",
       "      <th>k</th>\n",
       "      <th>silhouette</th>\n",
       "      <th>sse</th>\n",
       "    </tr>\n",
       "  </thead>\n",
       "  <tbody>\n",
       "    <tr>\n",
       "      <th>0</th>\n",
       "      <td>3</td>\n",
       "      <td>0.083784</td>\n",
       "      <td>110219.401093</td>\n",
       "    </tr>\n",
       "    <tr>\n",
       "      <th>1</th>\n",
       "      <td>4</td>\n",
       "      <td>0.088150</td>\n",
       "      <td>105884.196082</td>\n",
       "    </tr>\n",
       "    <tr>\n",
       "      <th>2</th>\n",
       "      <td>5</td>\n",
       "      <td>0.089563</td>\n",
       "      <td>102595.365143</td>\n",
       "    </tr>\n",
       "    <tr>\n",
       "      <th>3</th>\n",
       "      <td>6</td>\n",
       "      <td>0.070984</td>\n",
       "      <td>100327.805376</td>\n",
       "    </tr>\n",
       "  </tbody>\n",
       "</table>\n",
       "</div>"
      ],
      "text/plain": [
       "   k  silhouette            sse\n",
       "0  3    0.083784  110219.401093\n",
       "1  4    0.088150  105884.196082\n",
       "2  5    0.089563  102595.365143\n",
       "3  6    0.070984  100327.805376"
      ]
     },
     "execution_count": 22,
     "metadata": {},
     "output_type": "execute_result"
    }
   ],
   "source": [
    "sils_sses = []\n",
    "for k in range(3, 7):\n",
    "    sils_sses.append([k, get_silhouette_avg(audio_tracks, k), get_sse(audio_tracks, k)])\n",
    "pd.DataFrame(sils_sses, columns=['k', 'silhouette', 'sse'])"
   ]
  },
  {
   "cell_type": "code",
   "execution_count": 23,
   "metadata": {},
   "outputs": [
    {
     "data": {
      "image/png": "[encoded data removed]",
      "text/plain": [
       "<Figure size 1296x504 with 1 Axes>"
      ]
     },
     "metadata": {
      "needs_background": "light"
     },
     "output_type": "display_data"
    }
   ],
   "source": [
    "plot_silhouette(audio_tracks, 5)"
   ]
  },
  {
   "cell_type": "markdown",
   "metadata": {},
   "source": [
    "De vuelta, audio_tracks da prácticamente lo mismo que audio_features. Parece que los summaries de audio_analysis no influyen mucho en los resultados de KMeans."
   ]
  },
  {
   "cell_type": "markdown",
   "metadata": {},
   "source": [
    "## b) Evaluar si los agrupamientos son similares para los distintos conjuntos de datos utilizando la matriz de confusión y los índices de Rand y van Dongen en los casos que correspondan"
   ]
  },
  {
   "cell_type": "markdown",
   "metadata": {},
   "source": [
    "### Matrices de confusión"
   ]
  },
  {
   "cell_type": "code",
   "execution_count": 24,
   "metadata": {},
   "outputs": [
    {
     "data": {
      "text/plain": [
       "(2205, 13)"
      ]
     },
     "execution_count": 24,
     "metadata": {},
     "output_type": "execute_result"
    }
   ],
   "source": [
    "# Para que las comparaciones sean del mismo largo,\n",
    "# se remueve de audio_feature el track que no se encuentra en audio_analysis\n",
    "merged = audio_features.merge(audio_analysis_original, how = 'left', on = 'id')\n",
    "id_to_remove = merged[merged.timbre_mean_0.isnull()].index[0]\n",
    "audio_features_minus_one = audio_features.drop(id_to_remove, axis = 0)\n",
    "audio_features_minus_one.shape"
   ]
  },
  {
   "cell_type": "code",
   "execution_count": 25,
   "metadata": {},
   "outputs": [],
   "source": [
    "# Se ordenan los tres datasets para que los tracks estén en el mismo orden\n",
    "audio_features_sorted = audio_features_minus_one.sort_index()\n",
    "audio_analysis_sorted = audio_analysis_original.sort_index()\n",
    "audio_tracks_sorted = audio_tracks.sort_index()"
   ]
  },
  {
   "cell_type": "code",
   "execution_count": 26,
   "metadata": {},
   "outputs": [],
   "source": [
    "# Los vuelvo a estandarizar\n",
    "audio_features_sorted = pd.DataFrame(ss.fit_transform(audio_features_sorted))\n",
    "audio_analysis_sorted = pd.DataFrame(ss.fit_transform(audio_analysis_sorted))\n",
    "audio_tracks_sorted = pd.DataFrame(ss.fit_transform(audio_tracks_sorted))"
   ]
  },
  {
   "cell_type": "code",
   "execution_count": 27,
   "metadata": {},
   "outputs": [],
   "source": [
    "# Vamos a comparar todos los KMeans con k = 5\n",
    "km_audio_features = KMeans(n_clusters = 5, random_state = 0).fit(audio_features_sorted)\n",
    "km_audio_analysis = KMeans(n_clusters = 5, random_state = 0).fit(audio_analysis_sorted)\n",
    "km_audio_tracks = KMeans(n_clusters = 5, random_state = 0).fit(audio_tracks_sorted)"
   ]
  },
  {
   "cell_type": "code",
   "execution_count": 28,
   "metadata": {},
   "outputs": [
    {
     "data": {
      "text/html": [
       "<div>\n",
       "<style scoped>\n",
       "    .dataframe tbody tr th:only-of-type {\n",
       "        vertical-align: middle;\n",
       "    }\n",
       "\n",
       "    .dataframe tbody tr th {\n",
       "        vertical-align: top;\n",
       "    }\n",
       "\n",
       "    .dataframe thead th {\n",
       "        text-align: right;\n",
       "    }\n",
       "</style>\n",
       "<table border=\"1\" class=\"dataframe\">\n",
       "  <thead>\n",
       "    <tr style=\"text-align: right;\">\n",
       "      <th>audio_analysis</th>\n",
       "      <th>0</th>\n",
       "      <th>1</th>\n",
       "      <th>2</th>\n",
       "      <th>3</th>\n",
       "      <th>4</th>\n",
       "    </tr>\n",
       "    <tr>\n",
       "      <th>audio_features</th>\n",
       "      <th></th>\n",
       "      <th></th>\n",
       "      <th></th>\n",
       "      <th></th>\n",
       "      <th></th>\n",
       "    </tr>\n",
       "  </thead>\n",
       "  <tbody>\n",
       "    <tr>\n",
       "      <th>0</th>\n",
       "      <td>144</td>\n",
       "      <td>26</td>\n",
       "      <td>175</td>\n",
       "      <td>104</td>\n",
       "      <td>218</td>\n",
       "    </tr>\n",
       "    <tr>\n",
       "      <th>1</th>\n",
       "      <td>0</td>\n",
       "      <td>100</td>\n",
       "      <td>0</td>\n",
       "      <td>33</td>\n",
       "      <td>1</td>\n",
       "    </tr>\n",
       "    <tr>\n",
       "      <th>2</th>\n",
       "      <td>52</td>\n",
       "      <td>9</td>\n",
       "      <td>87</td>\n",
       "      <td>42</td>\n",
       "      <td>108</td>\n",
       "    </tr>\n",
       "    <tr>\n",
       "      <th>3</th>\n",
       "      <td>42</td>\n",
       "      <td>138</td>\n",
       "      <td>25</td>\n",
       "      <td>374</td>\n",
       "      <td>26</td>\n",
       "    </tr>\n",
       "    <tr>\n",
       "      <th>4</th>\n",
       "      <td>23</td>\n",
       "      <td>380</td>\n",
       "      <td>13</td>\n",
       "      <td>75</td>\n",
       "      <td>10</td>\n",
       "    </tr>\n",
       "  </tbody>\n",
       "</table>\n",
       "</div>"
      ],
      "text/plain": [
       "audio_analysis    0    1    2    3    4\n",
       "audio_features                         \n",
       "0               144   26  175  104  218\n",
       "1                 0  100    0   33    1\n",
       "2                52    9   87   42  108\n",
       "3                42  138   25  374   26\n",
       "4                23  380   13   75   10"
      ]
     },
     "execution_count": 28,
     "metadata": {},
     "output_type": "execute_result"
    }
   ],
   "source": [
    "# Matriz de confusión: audio_features VS audio_analysis\n",
    "tmp1 = pd.DataFrame({'audio_features': km_audio_features.labels_, 'audio_analysis': km_audio_analysis.labels_})\n",
    "ct1 = pd.crosstab(tmp1['audio_features'], tmp1['audio_analysis'])\n",
    "ct1"
   ]
  },
  {
   "cell_type": "code",
   "execution_count": 29,
   "metadata": {},
   "outputs": [
    {
     "data": {
      "text/html": [
       "<div>\n",
       "<style scoped>\n",
       "    .dataframe tbody tr th:only-of-type {\n",
       "        vertical-align: middle;\n",
       "    }\n",
       "\n",
       "    .dataframe tbody tr th {\n",
       "        vertical-align: top;\n",
       "    }\n",
       "\n",
       "    .dataframe thead th {\n",
       "        text-align: right;\n",
       "    }\n",
       "</style>\n",
       "<table border=\"1\" class=\"dataframe\">\n",
       "  <thead>\n",
       "    <tr style=\"text-align: right;\">\n",
       "      <th>audio_tracks</th>\n",
       "      <th>0</th>\n",
       "      <th>1</th>\n",
       "      <th>2</th>\n",
       "      <th>3</th>\n",
       "      <th>4</th>\n",
       "    </tr>\n",
       "    <tr>\n",
       "      <th>audio_features</th>\n",
       "      <th></th>\n",
       "      <th></th>\n",
       "      <th></th>\n",
       "      <th></th>\n",
       "      <th></th>\n",
       "    </tr>\n",
       "  </thead>\n",
       "  <tbody>\n",
       "    <tr>\n",
       "      <th>0</th>\n",
       "      <td>191</td>\n",
       "      <td>70</td>\n",
       "      <td>204</td>\n",
       "      <td>112</td>\n",
       "      <td>90</td>\n",
       "    </tr>\n",
       "    <tr>\n",
       "      <th>1</th>\n",
       "      <td>38</td>\n",
       "      <td>14</td>\n",
       "      <td>36</td>\n",
       "      <td>23</td>\n",
       "      <td>23</td>\n",
       "    </tr>\n",
       "    <tr>\n",
       "      <th>2</th>\n",
       "      <td>85</td>\n",
       "      <td>34</td>\n",
       "      <td>85</td>\n",
       "      <td>54</td>\n",
       "      <td>40</td>\n",
       "    </tr>\n",
       "    <tr>\n",
       "      <th>3</th>\n",
       "      <td>172</td>\n",
       "      <td>52</td>\n",
       "      <td>187</td>\n",
       "      <td>103</td>\n",
       "      <td>91</td>\n",
       "    </tr>\n",
       "    <tr>\n",
       "      <th>4</th>\n",
       "      <td>137</td>\n",
       "      <td>45</td>\n",
       "      <td>166</td>\n",
       "      <td>89</td>\n",
       "      <td>64</td>\n",
       "    </tr>\n",
       "  </tbody>\n",
       "</table>\n",
       "</div>"
      ],
      "text/plain": [
       "audio_tracks      0   1    2    3   4\n",
       "audio_features                       \n",
       "0               191  70  204  112  90\n",
       "1                38  14   36   23  23\n",
       "2                85  34   85   54  40\n",
       "3               172  52  187  103  91\n",
       "4               137  45  166   89  64"
      ]
     },
     "execution_count": 29,
     "metadata": {},
     "output_type": "execute_result"
    }
   ],
   "source": [
    "# Matriz de confusión: audio_features VS audio_tracks\n",
    "tmp2 = pd.DataFrame({'audio_features': km_audio_features.labels_, 'audio_tracks': km_audio_tracks.labels_})\n",
    "ct2 = pd.crosstab(tmp2['audio_features'], tmp2['audio_tracks'])\n",
    "ct2"
   ]
  },
  {
   "cell_type": "code",
   "execution_count": 30,
   "metadata": {},
   "outputs": [
    {
     "data": {
      "text/html": [
       "<div>\n",
       "<style scoped>\n",
       "    .dataframe tbody tr th:only-of-type {\n",
       "        vertical-align: middle;\n",
       "    }\n",
       "\n",
       "    .dataframe tbody tr th {\n",
       "        vertical-align: top;\n",
       "    }\n",
       "\n",
       "    .dataframe thead th {\n",
       "        text-align: right;\n",
       "    }\n",
       "</style>\n",
       "<table border=\"1\" class=\"dataframe\">\n",
       "  <thead>\n",
       "    <tr style=\"text-align: right;\">\n",
       "      <th>audio_analysis</th>\n",
       "      <th>0</th>\n",
       "      <th>1</th>\n",
       "      <th>2</th>\n",
       "      <th>3</th>\n",
       "      <th>4</th>\n",
       "    </tr>\n",
       "    <tr>\n",
       "      <th>audio_tracks</th>\n",
       "      <th></th>\n",
       "      <th></th>\n",
       "      <th></th>\n",
       "      <th></th>\n",
       "      <th></th>\n",
       "    </tr>\n",
       "  </thead>\n",
       "  <tbody>\n",
       "    <tr>\n",
       "      <th>0</th>\n",
       "      <td>62</td>\n",
       "      <td>178</td>\n",
       "      <td>97</td>\n",
       "      <td>186</td>\n",
       "      <td>100</td>\n",
       "    </tr>\n",
       "    <tr>\n",
       "      <th>1</th>\n",
       "      <td>33</td>\n",
       "      <td>67</td>\n",
       "      <td>28</td>\n",
       "      <td>47</td>\n",
       "      <td>40</td>\n",
       "    </tr>\n",
       "    <tr>\n",
       "      <th>2</th>\n",
       "      <td>84</td>\n",
       "      <td>202</td>\n",
       "      <td>88</td>\n",
       "      <td>203</td>\n",
       "      <td>101</td>\n",
       "    </tr>\n",
       "    <tr>\n",
       "      <th>3</th>\n",
       "      <td>46</td>\n",
       "      <td>122</td>\n",
       "      <td>46</td>\n",
       "      <td>100</td>\n",
       "      <td>67</td>\n",
       "    </tr>\n",
       "    <tr>\n",
       "      <th>4</th>\n",
       "      <td>36</td>\n",
       "      <td>84</td>\n",
       "      <td>41</td>\n",
       "      <td>92</td>\n",
       "      <td>55</td>\n",
       "    </tr>\n",
       "  </tbody>\n",
       "</table>\n",
       "</div>"
      ],
      "text/plain": [
       "audio_analysis   0    1   2    3    4\n",
       "audio_tracks                         \n",
       "0               62  178  97  186  100\n",
       "1               33   67  28   47   40\n",
       "2               84  202  88  203  101\n",
       "3               46  122  46  100   67\n",
       "4               36   84  41   92   55"
      ]
     },
     "execution_count": 30,
     "metadata": {},
     "output_type": "execute_result"
    }
   ],
   "source": [
    "# Matriz de confusión: audio_tracks VS audio_analysis\n",
    "tmp3 = pd.DataFrame({'audio_tracks': km_audio_tracks.labels_, 'audio_analysis': km_audio_analysis.labels_})\n",
    "ct3 = pd.crosstab(tmp3['audio_tracks'], tmp3['audio_analysis'])\n",
    "ct3"
   ]
  },
  {
   "cell_type": "markdown",
   "metadata": {},
   "source": [
    "Como ya se había visto, el etiquetado de audio_features es exactamente igual que el etiquetado de audio_tracks. Lo que significa que a KMeans le da lo mismo que las variables resumen de audio_analysis estén o no en el dataset.\n",
    "\n",
    "Los elementos que están en la diagonal son los aciertos. O sea: los que ambos modelos que se están comparando etiquetaron igual."
   ]
  },
  {
   "cell_type": "markdown",
   "metadata": {},
   "source": [
    "### Criterio de van Dongen"
   ]
  },
  {
   "cell_type": "code",
   "execution_count": 31,
   "metadata": {},
   "outputs": [
    {
     "data": {
      "text/plain": [
       "0.6275080906148868"
      ]
     },
     "execution_count": 31,
     "metadata": {},
     "output_type": "execute_result"
    }
   ],
   "source": [
    "vanDongen(ct1)"
   ]
  },
  {
   "cell_type": "code",
   "execution_count": 32,
   "metadata": {},
   "outputs": [
    {
     "data": {
      "text/plain": [
       "0.9990212071778141"
      ]
     },
     "execution_count": 32,
     "metadata": {},
     "output_type": "execute_result"
    }
   ],
   "source": [
    "vanDongen(ct2)"
   ]
  },
  {
   "cell_type": "code",
   "execution_count": 33,
   "metadata": {},
   "outputs": [
    {
     "data": {
      "text/plain": [
       "0.9915556999025658"
      ]
     },
     "execution_count": 33,
     "metadata": {},
     "output_type": "execute_result"
    }
   ],
   "source": [
    "vanDongen(ct3)"
   ]
  },
  {
   "cell_type": "markdown",
   "metadata": {},
   "source": [
    "### Índices Rand"
   ]
  },
  {
   "cell_type": "code",
   "execution_count": 34,
   "metadata": {},
   "outputs": [
    {
     "data": {
      "text/plain": [
       "0.21779725566282992"
      ]
     },
     "execution_count": 34,
     "metadata": {},
     "output_type": "execute_result"
    }
   ],
   "source": [
    "# audio_features VS audio_analysis\n",
    "adjusted_rand_score(km_audio_features.labels_, km_audio_analysis.labels_)"
   ]
  },
  {
   "cell_type": "code",
   "execution_count": 35,
   "metadata": {},
   "outputs": [
    {
     "data": {
      "text/plain": [
       "0.00044868296197808616"
      ]
     },
     "execution_count": 35,
     "metadata": {},
     "output_type": "execute_result"
    }
   ],
   "source": [
    "# audio_features VS audio_tracks\n",
    "adjusted_rand_score(km_audio_features.labels_, km_audio_tracks.labels_)"
   ]
  },
  {
   "cell_type": "code",
   "execution_count": 36,
   "metadata": {},
   "outputs": [
    {
     "data": {
      "text/plain": [
       "0.0017101153345048339"
      ]
     },
     "execution_count": 36,
     "metadata": {},
     "output_type": "execute_result"
    }
   ],
   "source": [
    "# audio_analysis VS audio_tracks\n",
    "adjusted_rand_score(km_audio_analysis.labels_, km_audio_tracks.labels_)"
   ]
  },
  {
   "cell_type": "markdown",
   "metadata": {},
   "source": [
    "## c) Evaluar para los mejores casos si los clusters se coindicen con el género (columna de metadata)"
   ]
  },
  {
   "cell_type": "markdown",
   "metadata": {},
   "source": [
    "Se testea primero con el que se cree que fue clustering, el de audio_features."
   ]
  },
  {
   "cell_type": "code",
   "execution_count": 37,
   "metadata": {},
   "outputs": [
    {
     "data": {
      "text/plain": [
       "(2205, 17)"
      ]
     },
     "execution_count": 37,
     "metadata": {},
     "output_type": "execute_result"
    }
   ],
   "source": [
    "# Se remueve el track que no está en audio_analysis\n",
    "metadata_minus_one = metadata_original.drop(id_to_remove, axis = 0)\n",
    "\n",
    "# Se ordenan los index de metadata\n",
    "metadata_sorted = metadata_minus_one.sort_index()\n",
    "metadata_sorted.shape"
   ]
  },
  {
   "cell_type": "code",
   "execution_count": 38,
   "metadata": {},
   "outputs": [
    {
     "data": {
      "text/html": [
       "<div>\n",
       "<style scoped>\n",
       "    .dataframe tbody tr th:only-of-type {\n",
       "        vertical-align: middle;\n",
       "    }\n",
       "\n",
       "    .dataframe tbody tr th {\n",
       "        vertical-align: top;\n",
       "    }\n",
       "\n",
       "    .dataframe thead th {\n",
       "        text-align: right;\n",
       "    }\n",
       "</style>\n",
       "<table border=\"1\" class=\"dataframe\">\n",
       "  <thead>\n",
       "    <tr style=\"text-align: right;\">\n",
       "      <th>audio_features</th>\n",
       "      <th>0</th>\n",
       "      <th>1</th>\n",
       "      <th>2</th>\n",
       "      <th>3</th>\n",
       "      <th>4</th>\n",
       "    </tr>\n",
       "    <tr>\n",
       "      <th>Generos</th>\n",
       "      <th></th>\n",
       "      <th></th>\n",
       "      <th></th>\n",
       "      <th></th>\n",
       "      <th></th>\n",
       "    </tr>\n",
       "  </thead>\n",
       "  <tbody>\n",
       "    <tr>\n",
       "      <th>ambient</th>\n",
       "      <td>239</td>\n",
       "      <td>6</td>\n",
       "      <td>99</td>\n",
       "      <td>34</td>\n",
       "      <td>82</td>\n",
       "    </tr>\n",
       "    <tr>\n",
       "      <th>classical</th>\n",
       "      <td>264</td>\n",
       "      <td>5</td>\n",
       "      <td>121</td>\n",
       "      <td>15</td>\n",
       "      <td>0</td>\n",
       "    </tr>\n",
       "    <tr>\n",
       "      <th>drum-and-bass</th>\n",
       "      <td>0</td>\n",
       "      <td>72</td>\n",
       "      <td>1</td>\n",
       "      <td>7</td>\n",
       "      <td>371</td>\n",
       "    </tr>\n",
       "    <tr>\n",
       "      <th>jazz</th>\n",
       "      <td>102</td>\n",
       "      <td>17</td>\n",
       "      <td>52</td>\n",
       "      <td>234</td>\n",
       "      <td>21</td>\n",
       "    </tr>\n",
       "    <tr>\n",
       "      <th>world-music</th>\n",
       "      <td>62</td>\n",
       "      <td>34</td>\n",
       "      <td>25</td>\n",
       "      <td>315</td>\n",
       "      <td>27</td>\n",
       "    </tr>\n",
       "  </tbody>\n",
       "</table>\n",
       "</div>"
      ],
      "text/plain": [
       "audio_features    0   1    2    3    4\n",
       "Generos                               \n",
       "ambient         239   6   99   34   82\n",
       "classical       264   5  121   15    0\n",
       "drum-and-bass     0  72    1    7  371\n",
       "jazz            102  17   52  234   21\n",
       "world-music      62  34   25  315   27"
      ]
     },
     "execution_count": 38,
     "metadata": {},
     "output_type": "execute_result"
    }
   ],
   "source": [
    "# Se calcula la matriz de confusión\n",
    "tmp4 = pd.DataFrame({'Generos': metadata_sorted.genre, 'audio_features': km_audio_features.labels_})\n",
    "ct4 = pd.crosstab(tmp4['Generos'], tmp4['audio_features'])\n",
    "ct4"
   ]
  },
  {
   "cell_type": "code",
   "execution_count": 39,
   "metadata": {},
   "outputs": [
    {
     "data": {
      "text/plain": [
       "0.5621951219512196"
      ]
     },
     "execution_count": 39,
     "metadata": {},
     "output_type": "execute_result"
    }
   ],
   "source": [
    "# Se calcula el criterio de van Dongen\n",
    "vanDongen(ct4)"
   ]
  },
  {
   "cell_type": "code",
   "execution_count": 40,
   "metadata": {},
   "outputs": [
    {
     "data": {
      "text/plain": [
       "0.2880085139944022"
      ]
     },
     "execution_count": 40,
     "metadata": {},
     "output_type": "execute_result"
    }
   ],
   "source": [
    "# Se calcula el índice de rand\n",
    "adjusted_rand_score(metadata_sorted.genre, km_audio_features.labels_)"
   ]
  },
  {
   "cell_type": "markdown",
   "metadata": {},
   "source": [
    "Se testea también, por las dudas, audio_analysis."
   ]
  },
  {
   "cell_type": "code",
   "execution_count": 41,
   "metadata": {},
   "outputs": [
    {
     "data": {
      "text/html": [
       "<div>\n",
       "<style scoped>\n",
       "    .dataframe tbody tr th:only-of-type {\n",
       "        vertical-align: middle;\n",
       "    }\n",
       "\n",
       "    .dataframe tbody tr th {\n",
       "        vertical-align: top;\n",
       "    }\n",
       "\n",
       "    .dataframe thead th {\n",
       "        text-align: right;\n",
       "    }\n",
       "</style>\n",
       "<table border=\"1\" class=\"dataframe\">\n",
       "  <thead>\n",
       "    <tr style=\"text-align: right;\">\n",
       "      <th>audio_analysis</th>\n",
       "      <th>0</th>\n",
       "      <th>1</th>\n",
       "      <th>2</th>\n",
       "      <th>3</th>\n",
       "      <th>4</th>\n",
       "    </tr>\n",
       "    <tr>\n",
       "      <th>Generos</th>\n",
       "      <th></th>\n",
       "      <th></th>\n",
       "      <th></th>\n",
       "      <th></th>\n",
       "      <th></th>\n",
       "    </tr>\n",
       "  </thead>\n",
       "  <tbody>\n",
       "    <tr>\n",
       "      <th>ambient</th>\n",
       "      <td>94</td>\n",
       "      <td>51</td>\n",
       "      <td>132</td>\n",
       "      <td>53</td>\n",
       "      <td>130</td>\n",
       "    </tr>\n",
       "    <tr>\n",
       "      <th>classical</th>\n",
       "      <td>82</td>\n",
       "      <td>15</td>\n",
       "      <td>109</td>\n",
       "      <td>26</td>\n",
       "      <td>173</td>\n",
       "    </tr>\n",
       "    <tr>\n",
       "      <th>drum-and-bass</th>\n",
       "      <td>3</td>\n",
       "      <td>395</td>\n",
       "      <td>5</td>\n",
       "      <td>47</td>\n",
       "      <td>1</td>\n",
       "    </tr>\n",
       "    <tr>\n",
       "      <th>jazz</th>\n",
       "      <td>14</td>\n",
       "      <td>68</td>\n",
       "      <td>25</td>\n",
       "      <td>297</td>\n",
       "      <td>22</td>\n",
       "    </tr>\n",
       "    <tr>\n",
       "      <th>world-music</th>\n",
       "      <td>68</td>\n",
       "      <td>124</td>\n",
       "      <td>29</td>\n",
       "      <td>205</td>\n",
       "      <td>37</td>\n",
       "    </tr>\n",
       "  </tbody>\n",
       "</table>\n",
       "</div>"
      ],
      "text/plain": [
       "audio_analysis   0    1    2    3    4\n",
       "Generos                               \n",
       "ambient         94   51  132   53  130\n",
       "classical       82   15  109   26  173\n",
       "drum-and-bass    3  395    5   47    1\n",
       "jazz            14   68   25  297   22\n",
       "world-music     68  124   29  205   37"
      ]
     },
     "execution_count": 41,
     "metadata": {},
     "output_type": "execute_result"
    }
   ],
   "source": [
    "# Se calcula la matriz de confusión\n",
    "tmp5 = pd.DataFrame({'Generos': metadata_sorted.genre, 'audio_analysis': km_audio_analysis.labels_})\n",
    "ct5 = pd.crosstab(tmp5['Generos'], tmp5['audio_analysis'])\n",
    "ct5"
   ]
  },
  {
   "cell_type": "code",
   "execution_count": 42,
   "metadata": {},
   "outputs": [
    {
     "data": {
      "text/plain": [
       "0.6426836672738312"
      ]
     },
     "execution_count": 42,
     "metadata": {},
     "output_type": "execute_result"
    }
   ],
   "source": [
    "# Se calcula el criterio de van Dongen\n",
    "vanDongen(ct5)"
   ]
  },
  {
   "cell_type": "code",
   "execution_count": 43,
   "metadata": {},
   "outputs": [
    {
     "data": {
      "text/plain": [
       "0.23278672368108827"
      ]
     },
     "execution_count": 43,
     "metadata": {},
     "output_type": "execute_result"
    }
   ],
   "source": [
    "# Se calcula el índice de rand\n",
    "adjusted_rand_score(metadata_sorted.genre, km_audio_analysis.labels_)"
   ]
  },
  {
   "cell_type": "markdown",
   "metadata": {},
   "source": [
    "Y probemos con audio_tracks"
   ]
  },
  {
   "cell_type": "code",
   "execution_count": 44,
   "metadata": {},
   "outputs": [
    {
     "data": {
      "text/html": [
       "<div>\n",
       "<style scoped>\n",
       "    .dataframe tbody tr th:only-of-type {\n",
       "        vertical-align: middle;\n",
       "    }\n",
       "\n",
       "    .dataframe tbody tr th {\n",
       "        vertical-align: top;\n",
       "    }\n",
       "\n",
       "    .dataframe thead th {\n",
       "        text-align: right;\n",
       "    }\n",
       "</style>\n",
       "<table border=\"1\" class=\"dataframe\">\n",
       "  <thead>\n",
       "    <tr style=\"text-align: right;\">\n",
       "      <th>audio_tracks</th>\n",
       "      <th>0</th>\n",
       "      <th>1</th>\n",
       "      <th>2</th>\n",
       "      <th>3</th>\n",
       "      <th>4</th>\n",
       "    </tr>\n",
       "    <tr>\n",
       "      <th>Generos</th>\n",
       "      <th></th>\n",
       "      <th></th>\n",
       "      <th></th>\n",
       "      <th></th>\n",
       "      <th></th>\n",
       "    </tr>\n",
       "  </thead>\n",
       "  <tbody>\n",
       "    <tr>\n",
       "      <th>ambient</th>\n",
       "      <td>127</td>\n",
       "      <td>56</td>\n",
       "      <td>139</td>\n",
       "      <td>70</td>\n",
       "      <td>68</td>\n",
       "    </tr>\n",
       "    <tr>\n",
       "      <th>classical</th>\n",
       "      <td>120</td>\n",
       "      <td>44</td>\n",
       "      <td>112</td>\n",
       "      <td>72</td>\n",
       "      <td>57</td>\n",
       "    </tr>\n",
       "    <tr>\n",
       "      <th>drum-and-bass</th>\n",
       "      <td>127</td>\n",
       "      <td>38</td>\n",
       "      <td>146</td>\n",
       "      <td>83</td>\n",
       "      <td>57</td>\n",
       "    </tr>\n",
       "    <tr>\n",
       "      <th>jazz</th>\n",
       "      <td>125</td>\n",
       "      <td>35</td>\n",
       "      <td>143</td>\n",
       "      <td>68</td>\n",
       "      <td>55</td>\n",
       "    </tr>\n",
       "    <tr>\n",
       "      <th>world-music</th>\n",
       "      <td>124</td>\n",
       "      <td>42</td>\n",
       "      <td>138</td>\n",
       "      <td>88</td>\n",
       "      <td>71</td>\n",
       "    </tr>\n",
       "  </tbody>\n",
       "</table>\n",
       "</div>"
      ],
      "text/plain": [
       "audio_tracks     0   1    2   3   4\n",
       "Generos                            \n",
       "ambient        127  56  139  70  68\n",
       "classical      120  44  112  72  57\n",
       "drum-and-bass  127  38  146  83  57\n",
       "jazz           125  35  143  68  55\n",
       "world-music    124  42  138  88  71"
      ]
     },
     "execution_count": 44,
     "metadata": {},
     "output_type": "execute_result"
    }
   ],
   "source": [
    "# Se calcula la matriz de confusión\n",
    "tmp6 = pd.DataFrame({'Generos': metadata_sorted.genre, 'audio_tracks': km_audio_tracks.labels_})\n",
    "ct6 = pd.crosstab(tmp6['Generos'], tmp6['audio_tracks'])\n",
    "ct6"
   ]
  },
  {
   "cell_type": "code",
   "execution_count": 45,
   "metadata": {},
   "outputs": [
    {
     "data": {
      "text/plain": [
       "0.9899051697766901"
      ]
     },
     "execution_count": 45,
     "metadata": {},
     "output_type": "execute_result"
    }
   ],
   "source": [
    "# Se calcula el criterio de van Dongen\n",
    "vanDongen(ct6)"
   ]
  },
  {
   "cell_type": "code",
   "execution_count": 46,
   "metadata": {},
   "outputs": [
    {
     "data": {
      "text/plain": [
       "-0.0004518402560464708"
      ]
     },
     "execution_count": 46,
     "metadata": {},
     "output_type": "execute_result"
    }
   ],
   "source": [
    "# Se calcula el índice de rand\n",
    "adjusted_rand_score(metadata_sorted.genre, km_audio_tracks.labels_)"
   ]
  },
  {
   "cell_type": "markdown",
   "metadata": {},
   "source": [
    "## d) Visualizar los clusters y las etiquetas de género en baja dimensión con alguna técnica de reducción (PCA, TSNE, MDS, etc)"
   ]
  },
  {
   "cell_type": "code",
   "execution_count": 47,
   "metadata": {},
   "outputs": [
    {
     "data": {
      "text/plain": [
       "id\n",
       "00At7PWydsvg7g5xgaYan9    drum-and-bass\n",
       "00BgcUYkIImsDN5rNjkR1U    drum-and-bass\n",
       "00WgnFIsY1y84p7mYAJRuF    drum-and-bass\n",
       "00isAURAZeKQXv6CW2vckb        classical\n",
       "00ne3qRgc0JqY6MNYfhWri        classical\n",
       "Name: genre, dtype: object"
      ]
     },
     "execution_count": 47,
     "metadata": {},
     "output_type": "execute_result"
    }
   ],
   "source": [
    "metadata_sorted.genre.head()"
   ]
  },
  {
   "cell_type": "code",
   "execution_count": 48,
   "metadata": {},
   "outputs": [
    {
     "data": {
      "text/plain": [
       "2205"
      ]
     },
     "execution_count": 48,
     "metadata": {},
     "output_type": "execute_result"
    }
   ],
   "source": [
    "genres = []\n",
    "for genre in metadata_sorted.genre:\n",
    "    if genre == 'ambient':\n",
    "        genres.append(0)\n",
    "    if genre == 'classical':\n",
    "        genres.append(1)\n",
    "    if genre == 'drum-and-bass':\n",
    "        genres.append(2)\n",
    "    if genre == 'jazz':\n",
    "        genres.append(3)\n",
    "    if genre == 'world-music':\n",
    "        genres.append(4)\n",
    "len(genres)"
   ]
  },
  {
   "cell_type": "code",
   "execution_count": 49,
   "metadata": {},
   "outputs": [
    {
     "data": {
      "text/plain": [
       "<matplotlib.colorbar.Colorbar at 0x7f511bd33fd0>"
      ]
     },
     "execution_count": 49,
     "metadata": {},
     "output_type": "execute_result"
    },
    {
     "data": {
      "image/png": "[encoded data removed]",
      "text/plain": [
       "<Figure size 432x288 with 2 Axes>"
      ]
     },
     "metadata": {
      "needs_background": "light"
     },
     "output_type": "display_data"
    }
   ],
   "source": [
    "tsne = TSNE(n_components=2,perplexity=200)\n",
    "Xred = tsne.fit_transform(audio_features_sorted)\n",
    "plt.scatter(Xred[:,0], Xred[:,1], c=genres, cmap=plt.cm.Spectral, alpha=0.7)\n",
    "plt.colorbar()"
   ]
  },
  {
   "cell_type": "code",
   "execution_count": 50,
   "metadata": {},
   "outputs": [
    {
     "data": {
      "text/plain": [
       "<matplotlib.colorbar.Colorbar at 0x7f511a473668>"
      ]
     },
     "execution_count": 50,
     "metadata": {},
     "output_type": "execute_result"
    },
    {
     "data": {
      "image/png": "[encoded data removed]",
      "text/plain": [
       "<Figure size 432x288 with 2 Axes>"
      ]
     },
     "metadata": {
      "needs_background": "light"
     },
     "output_type": "display_data"
    }
   ],
   "source": [
    "tsne = TSNE(n_components=2,perplexity=200)\n",
    "Xred = tsne.fit_transform(audio_features_sorted)\n",
    "plt.scatter(Xred[:,0], Xred[:,1], c=km_audio_features.labels_, cmap=plt.cm.Spectral, alpha=0.7)\n",
    "plt.colorbar()"
   ]
  }
 ],
 "metadata": {
  "kernelspec": {
   "display_name": "Python 3",
   "language": "python",
   "name": "python3"
  },
  "language_info": {
   "codemirror_mode": {
    "name": "ipython",
    "version": 3
   },
   "file_extension": ".py",
   "mimetype": "text/x-python",
   "name": "python",
   "nbconvert_exporter": "python",
   "pygments_lexer": "ipython3",
   "version": "3.7.3"
  }
 },
 "nbformat": 4,
 "nbformat_minor": 2
}
