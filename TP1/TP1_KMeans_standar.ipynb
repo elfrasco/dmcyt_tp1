{
 "cells": [
  {
   "cell_type": "code",
   "execution_count": 1,
   "metadata": {},
   "outputs": [],
   "source": [
    "# %reset\n",
    "# Para visualización en notebook\n",
    "%matplotlib inline\n",
    "import matplotlib.pyplot as plt\n",
    "import matplotlib.cm as cm\n",
    "import matplotlib as mpl\n",
    "mpl.rcParams['figure.figsize'] = (8,6)\n",
    "mpl.rcParams['font.size'] = 22\n",
    "from IPython.display import Audio, Markdown, Image\n",
    "import pylab\n",
    "import seaborn as sns\n",
    "\n",
    "# Números y Datos\n",
    "import numpy as np\n",
    "import pandas as pd\n",
    "\n",
    "# Archivos\n",
    "import urllib.request\n",
    "import glob\n",
    "\n",
    "# Análisis de sonido\n",
    "import spotipy \n",
    "\n",
    "# Machine learning\n",
    "# importar los paquetes para clustering\n",
    "from sklearn.preprocessing import StandardScaler\n",
    "\n",
    "# To work with categorical types\n",
    "from pandas.api.types import CategoricalDtype\n",
    "\n",
    "# Clustering (scipy)\n",
    "from scipy.spatial.distance import pdist, squareform\n",
    "from scipy.cluster.hierarchy import dendrogram, linkage, cophenet, fcluster\n",
    "\n",
    "# Clustering (sklearn)\n",
    "from sklearn.preprocessing import MinMaxScaler\n",
    "\n",
    "from sklearn.cluster import KMeans, DBSCAN\n",
    "from sklearn.metrics import adjusted_rand_score, silhouette_score, silhouette_samples\n",
    "from sklearn.neighbors import NearestNeighbors\n",
    "\n",
    "from sklearn.metrics.pairwise import euclidean_distances\n",
    "\n",
    "from funciones import plot_silhouette\n",
    "from funciones import plot_silhouettes_and_sses\n",
    "from funciones import get_silhouette_avg\n",
    "from funciones import get_sse\n",
    "from funciones import vanDongen\n",
    "\n",
    "from sklearn.decomposition import PCA, TruncatedSVD\n",
    "from sklearn.manifold import MDS, Isomap, SpectralEmbedding, TSNE"
   ]
  },
  {
   "cell_type": "markdown",
   "metadata": {},
   "source": [
    "Se cargan los datasets."
   ]
  },
  {
   "cell_type": "code",
   "execution_count": 2,
   "metadata": {},
   "outputs": [],
   "source": [
    "# Estandarizando de una manera o de la otra, los resultados son bastante distintos\n",
    "scaler = MinMaxScaler(feature_range=(0,1))\n",
    "#scaler = StandardScaler()"
   ]
  },
  {
   "cell_type": "code",
   "execution_count": 3,
   "metadata": {},
   "outputs": [],
   "source": [
    "metadata_original = pd.read_csv('../data/metadata.csv', index_col='id')\n",
    "audio_features_original = pd.read_csv('../data/audio_features.csv', index_col='id')\n",
    "audio_analysis_original = pd.read_csv('../data/audio_analysis.csv', index_col='id')"
   ]
  },
  {
   "cell_type": "code",
   "execution_count": 4,
   "metadata": {},
   "outputs": [
    {
     "data": {
      "text/html": [
       "<div>\n",
       "<style scoped>\n",
       "    .dataframe tbody tr th:only-of-type {\n",
       "        vertical-align: middle;\n",
       "    }\n",
       "\n",
       "    .dataframe tbody tr th {\n",
       "        vertical-align: top;\n",
       "    }\n",
       "\n",
       "    .dataframe thead th {\n",
       "        text-align: right;\n",
       "    }\n",
       "</style>\n",
       "<table border=\"1\" class=\"dataframe\">\n",
       "  <thead>\n",
       "    <tr style=\"text-align: right;\">\n",
       "      <th></th>\n",
       "      <th>timbre_mean_0</th>\n",
       "      <th>timbre_mean_1</th>\n",
       "      <th>timbre_mean_2</th>\n",
       "      <th>timbre_mean_3</th>\n",
       "      <th>timbre_mean_4</th>\n",
       "      <th>timbre_mean_5</th>\n",
       "      <th>timbre_mean_6</th>\n",
       "      <th>timbre_mean_7</th>\n",
       "      <th>timbre_mean_8</th>\n",
       "      <th>timbre_mean_9</th>\n",
       "      <th>...</th>\n",
       "      <th>pitch_std_2</th>\n",
       "      <th>pitch_std_3</th>\n",
       "      <th>pitch_std_4</th>\n",
       "      <th>pitch_std_5</th>\n",
       "      <th>pitch_std_6</th>\n",
       "      <th>pitch_std_7</th>\n",
       "      <th>pitch_std_8</th>\n",
       "      <th>pitch_std_9</th>\n",
       "      <th>pitch_std_10</th>\n",
       "      <th>pitch_std_11</th>\n",
       "    </tr>\n",
       "    <tr>\n",
       "      <th>id</th>\n",
       "      <th></th>\n",
       "      <th></th>\n",
       "      <th></th>\n",
       "      <th></th>\n",
       "      <th></th>\n",
       "      <th></th>\n",
       "      <th></th>\n",
       "      <th></th>\n",
       "      <th></th>\n",
       "      <th></th>\n",
       "      <th></th>\n",
       "      <th></th>\n",
       "      <th></th>\n",
       "      <th></th>\n",
       "      <th></th>\n",
       "      <th></th>\n",
       "      <th></th>\n",
       "      <th></th>\n",
       "      <th></th>\n",
       "      <th></th>\n",
       "      <th></th>\n",
       "    </tr>\n",
       "  </thead>\n",
       "  <tbody>\n",
       "    <tr>\n",
       "      <th>2NChLGjZ93zqggig6DmoLL</th>\n",
       "      <td>39.573680</td>\n",
       "      <td>-53.160322</td>\n",
       "      <td>33.955933</td>\n",
       "      <td>-13.458602</td>\n",
       "      <td>10.908333</td>\n",
       "      <td>-34.851049</td>\n",
       "      <td>1.713744</td>\n",
       "      <td>0.357444</td>\n",
       "      <td>-9.248460</td>\n",
       "      <td>-3.464805</td>\n",
       "      <td>...</td>\n",
       "      <td>0.314326</td>\n",
       "      <td>0.182297</td>\n",
       "      <td>0.175415</td>\n",
       "      <td>0.315322</td>\n",
       "      <td>0.197047</td>\n",
       "      <td>0.190721</td>\n",
       "      <td>0.152499</td>\n",
       "      <td>0.315809</td>\n",
       "      <td>0.165763</td>\n",
       "      <td>0.112952</td>\n",
       "    </tr>\n",
       "    <tr>\n",
       "      <th>3TPucnH2T71lgcmhsTZVMT</th>\n",
       "      <td>37.806990</td>\n",
       "      <td>26.905931</td>\n",
       "      <td>45.066553</td>\n",
       "      <td>-1.566750</td>\n",
       "      <td>19.836837</td>\n",
       "      <td>-10.684136</td>\n",
       "      <td>-37.983923</td>\n",
       "      <td>-10.510028</td>\n",
       "      <td>-5.820575</td>\n",
       "      <td>-1.746866</td>\n",
       "      <td>...</td>\n",
       "      <td>0.293350</td>\n",
       "      <td>0.250039</td>\n",
       "      <td>0.339806</td>\n",
       "      <td>0.311496</td>\n",
       "      <td>0.260636</td>\n",
       "      <td>0.341519</td>\n",
       "      <td>0.176243</td>\n",
       "      <td>0.284082</td>\n",
       "      <td>0.300141</td>\n",
       "      <td>0.236217</td>\n",
       "    </tr>\n",
       "    <tr>\n",
       "      <th>5ruWnyGX0r6v8b2JisDHDo</th>\n",
       "      <td>50.307463</td>\n",
       "      <td>65.649677</td>\n",
       "      <td>-17.158870</td>\n",
       "      <td>-1.660690</td>\n",
       "      <td>30.536530</td>\n",
       "      <td>-47.617183</td>\n",
       "      <td>1.200309</td>\n",
       "      <td>1.357931</td>\n",
       "      <td>-2.241743</td>\n",
       "      <td>4.456728</td>\n",
       "      <td>...</td>\n",
       "      <td>0.361503</td>\n",
       "      <td>0.331288</td>\n",
       "      <td>0.333903</td>\n",
       "      <td>0.320905</td>\n",
       "      <td>0.290592</td>\n",
       "      <td>0.337753</td>\n",
       "      <td>0.306255</td>\n",
       "      <td>0.320579</td>\n",
       "      <td>0.347926</td>\n",
       "      <td>0.315364</td>\n",
       "    </tr>\n",
       "    <tr>\n",
       "      <th>4ZEVoBaSKdJfpeunWmyQfs</th>\n",
       "      <td>38.453838</td>\n",
       "      <td>-46.715751</td>\n",
       "      <td>-16.638915</td>\n",
       "      <td>-3.838850</td>\n",
       "      <td>34.693517</td>\n",
       "      <td>-27.530044</td>\n",
       "      <td>5.632033</td>\n",
       "      <td>2.938340</td>\n",
       "      <td>7.223357</td>\n",
       "      <td>-0.045737</td>\n",
       "      <td>...</td>\n",
       "      <td>0.211055</td>\n",
       "      <td>0.172432</td>\n",
       "      <td>0.307475</td>\n",
       "      <td>0.226574</td>\n",
       "      <td>0.209167</td>\n",
       "      <td>0.271316</td>\n",
       "      <td>0.221715</td>\n",
       "      <td>0.297126</td>\n",
       "      <td>0.209825</td>\n",
       "      <td>0.216391</td>\n",
       "    </tr>\n",
       "    <tr>\n",
       "      <th>66aVNocFLApjTfudNYVEiF</th>\n",
       "      <td>52.072411</td>\n",
       "      <td>98.597172</td>\n",
       "      <td>-16.693923</td>\n",
       "      <td>0.843767</td>\n",
       "      <td>42.616539</td>\n",
       "      <td>-42.602253</td>\n",
       "      <td>-3.609067</td>\n",
       "      <td>11.836476</td>\n",
       "      <td>2.011623</td>\n",
       "      <td>0.462091</td>\n",
       "      <td>...</td>\n",
       "      <td>0.277745</td>\n",
       "      <td>0.307850</td>\n",
       "      <td>0.362859</td>\n",
       "      <td>0.300253</td>\n",
       "      <td>0.295673</td>\n",
       "      <td>0.236315</td>\n",
       "      <td>0.301466</td>\n",
       "      <td>0.244227</td>\n",
       "      <td>0.257769</td>\n",
       "      <td>0.281606</td>\n",
       "    </tr>\n",
       "  </tbody>\n",
       "</table>\n",
       "<p>5 rows × 48 columns</p>\n",
       "</div>"
      ],
      "text/plain": [
       "                        timbre_mean_0  timbre_mean_1  timbre_mean_2  \\\n",
       "id                                                                    \n",
       "2NChLGjZ93zqggig6DmoLL      39.573680     -53.160322      33.955933   \n",
       "3TPucnH2T71lgcmhsTZVMT      37.806990      26.905931      45.066553   \n",
       "5ruWnyGX0r6v8b2JisDHDo      50.307463      65.649677     -17.158870   \n",
       "4ZEVoBaSKdJfpeunWmyQfs      38.453838     -46.715751     -16.638915   \n",
       "66aVNocFLApjTfudNYVEiF      52.072411      98.597172     -16.693923   \n",
       "\n",
       "                        timbre_mean_3  timbre_mean_4  timbre_mean_5  \\\n",
       "id                                                                    \n",
       "2NChLGjZ93zqggig6DmoLL     -13.458602      10.908333     -34.851049   \n",
       "3TPucnH2T71lgcmhsTZVMT      -1.566750      19.836837     -10.684136   \n",
       "5ruWnyGX0r6v8b2JisDHDo      -1.660690      30.536530     -47.617183   \n",
       "4ZEVoBaSKdJfpeunWmyQfs      -3.838850      34.693517     -27.530044   \n",
       "66aVNocFLApjTfudNYVEiF       0.843767      42.616539     -42.602253   \n",
       "\n",
       "                        timbre_mean_6  timbre_mean_7  timbre_mean_8  \\\n",
       "id                                                                    \n",
       "2NChLGjZ93zqggig6DmoLL       1.713744       0.357444      -9.248460   \n",
       "3TPucnH2T71lgcmhsTZVMT     -37.983923     -10.510028      -5.820575   \n",
       "5ruWnyGX0r6v8b2JisDHDo       1.200309       1.357931      -2.241743   \n",
       "4ZEVoBaSKdJfpeunWmyQfs       5.632033       2.938340       7.223357   \n",
       "66aVNocFLApjTfudNYVEiF      -3.609067      11.836476       2.011623   \n",
       "\n",
       "                        timbre_mean_9  ...  pitch_std_2  pitch_std_3  \\\n",
       "id                                     ...                             \n",
       "2NChLGjZ93zqggig6DmoLL      -3.464805  ...     0.314326     0.182297   \n",
       "3TPucnH2T71lgcmhsTZVMT      -1.746866  ...     0.293350     0.250039   \n",
       "5ruWnyGX0r6v8b2JisDHDo       4.456728  ...     0.361503     0.331288   \n",
       "4ZEVoBaSKdJfpeunWmyQfs      -0.045737  ...     0.211055     0.172432   \n",
       "66aVNocFLApjTfudNYVEiF       0.462091  ...     0.277745     0.307850   \n",
       "\n",
       "                        pitch_std_4  pitch_std_5  pitch_std_6  pitch_std_7  \\\n",
       "id                                                                           \n",
       "2NChLGjZ93zqggig6DmoLL     0.175415     0.315322     0.197047     0.190721   \n",
       "3TPucnH2T71lgcmhsTZVMT     0.339806     0.311496     0.260636     0.341519   \n",
       "5ruWnyGX0r6v8b2JisDHDo     0.333903     0.320905     0.290592     0.337753   \n",
       "4ZEVoBaSKdJfpeunWmyQfs     0.307475     0.226574     0.209167     0.271316   \n",
       "66aVNocFLApjTfudNYVEiF     0.362859     0.300253     0.295673     0.236315   \n",
       "\n",
       "                        pitch_std_8  pitch_std_9  pitch_std_10  pitch_std_11  \n",
       "id                                                                            \n",
       "2NChLGjZ93zqggig6DmoLL     0.152499     0.315809      0.165763      0.112952  \n",
       "3TPucnH2T71lgcmhsTZVMT     0.176243     0.284082      0.300141      0.236217  \n",
       "5ruWnyGX0r6v8b2JisDHDo     0.306255     0.320579      0.347926      0.315364  \n",
       "4ZEVoBaSKdJfpeunWmyQfs     0.221715     0.297126      0.209825      0.216391  \n",
       "66aVNocFLApjTfudNYVEiF     0.301466     0.244227      0.257769      0.281606  \n",
       "\n",
       "[5 rows x 48 columns]"
      ]
     },
     "execution_count": 4,
     "metadata": {},
     "output_type": "execute_result"
    }
   ],
   "source": [
    "audio_analysis_original.head()"
   ]
  },
  {
   "cell_type": "markdown",
   "metadata": {},
   "source": [
    "Se seleccionan únicamente las variables numéricas"
   ]
  },
  {
   "cell_type": "code",
   "execution_count": 5,
   "metadata": {},
   "outputs": [],
   "source": [
    "audio_features = audio_features_original[['acousticness','danceability', 'duration_ms', 'energy', 'instrumentalness', 'key', 'liveness','loudness', 'mode', 'speechiness', 'tempo', 'time_signature', 'valence']]"
   ]
  },
  {
   "cell_type": "markdown",
   "metadata": {},
   "source": [
    "Se estandarizan ambos datasets"
   ]
  },
  {
   "cell_type": "code",
   "execution_count": 6,
   "metadata": {},
   "outputs": [],
   "source": [
    "audio_features_norm = pd.DataFrame(scaler.fit_transform(audio_features))\n",
    "audio_analysis_norm = pd.DataFrame(scaler.fit_transform(audio_analysis_original))"
   ]
  },
  {
   "cell_type": "code",
   "execution_count": 7,
   "metadata": {},
   "outputs": [
    {
     "data": {
      "text/plain": [
       "0     float64\n",
       "1     float64\n",
       "2     float64\n",
       "3     float64\n",
       "4     float64\n",
       "5     float64\n",
       "6     float64\n",
       "7     float64\n",
       "8     float64\n",
       "9     float64\n",
       "10    float64\n",
       "11    float64\n",
       "12    float64\n",
       "dtype: object"
      ]
     },
     "execution_count": 7,
     "metadata": {},
     "output_type": "execute_result"
    }
   ],
   "source": [
    "audio_features_norm.dtypes"
   ]
  },
  {
   "cell_type": "code",
   "execution_count": 8,
   "metadata": {},
   "outputs": [
    {
     "data": {
      "text/plain": [
       "(2206, 13)"
      ]
     },
     "execution_count": 8,
     "metadata": {},
     "output_type": "execute_result"
    }
   ],
   "source": [
    "audio_features_norm.shape"
   ]
  },
  {
   "cell_type": "code",
   "execution_count": 9,
   "metadata": {},
   "outputs": [
    {
     "data": {
      "text/html": [
       "<div>\n",
       "<style scoped>\n",
       "    .dataframe tbody tr th:only-of-type {\n",
       "        vertical-align: middle;\n",
       "    }\n",
       "\n",
       "    .dataframe tbody tr th {\n",
       "        vertical-align: top;\n",
       "    }\n",
       "\n",
       "    .dataframe thead th {\n",
       "        text-align: right;\n",
       "    }\n",
       "</style>\n",
       "<table border=\"1\" class=\"dataframe\">\n",
       "  <thead>\n",
       "    <tr style=\"text-align: right;\">\n",
       "      <th></th>\n",
       "      <th>0</th>\n",
       "      <th>1</th>\n",
       "      <th>2</th>\n",
       "      <th>3</th>\n",
       "      <th>4</th>\n",
       "      <th>5</th>\n",
       "      <th>6</th>\n",
       "      <th>7</th>\n",
       "      <th>8</th>\n",
       "      <th>9</th>\n",
       "      <th>...</th>\n",
       "      <th>38</th>\n",
       "      <th>39</th>\n",
       "      <th>40</th>\n",
       "      <th>41</th>\n",
       "      <th>42</th>\n",
       "      <th>43</th>\n",
       "      <th>44</th>\n",
       "      <th>45</th>\n",
       "      <th>46</th>\n",
       "      <th>47</th>\n",
       "    </tr>\n",
       "  </thead>\n",
       "  <tbody>\n",
       "    <tr>\n",
       "      <th>0</th>\n",
       "      <td>0.631852</td>\n",
       "      <td>0.514083</td>\n",
       "      <td>0.632182</td>\n",
       "      <td>0.371474</td>\n",
       "      <td>0.330484</td>\n",
       "      <td>0.406210</td>\n",
       "      <td>0.491472</td>\n",
       "      <td>0.444832</td>\n",
       "      <td>0.511890</td>\n",
       "      <td>0.320476</td>\n",
       "      <td>...</td>\n",
       "      <td>0.675561</td>\n",
       "      <td>0.377418</td>\n",
       "      <td>0.353323</td>\n",
       "      <td>0.702285</td>\n",
       "      <td>0.401350</td>\n",
       "      <td>0.404643</td>\n",
       "      <td>0.303871</td>\n",
       "      <td>0.707795</td>\n",
       "      <td>0.333903</td>\n",
       "      <td>0.217312</td>\n",
       "    </tr>\n",
       "    <tr>\n",
       "      <th>1</th>\n",
       "      <td>0.594079</td>\n",
       "      <td>0.700458</td>\n",
       "      <td>0.663992</td>\n",
       "      <td>0.445142</td>\n",
       "      <td>0.390849</td>\n",
       "      <td>0.641027</td>\n",
       "      <td>0.110158</td>\n",
       "      <td>0.324041</td>\n",
       "      <td>0.558357</td>\n",
       "      <td>0.358914</td>\n",
       "      <td>...</td>\n",
       "      <td>0.625619</td>\n",
       "      <td>0.538103</td>\n",
       "      <td>0.737021</td>\n",
       "      <td>0.692536</td>\n",
       "      <td>0.550664</td>\n",
       "      <td>0.768081</td>\n",
       "      <td>0.361499</td>\n",
       "      <td>0.630782</td>\n",
       "      <td>0.658289</td>\n",
       "      <td>0.521457</td>\n",
       "    </tr>\n",
       "    <tr>\n",
       "      <th>2</th>\n",
       "      <td>0.861348</td>\n",
       "      <td>0.790645</td>\n",
       "      <td>0.485836</td>\n",
       "      <td>0.444560</td>\n",
       "      <td>0.463189</td>\n",
       "      <td>0.282168</td>\n",
       "      <td>0.486540</td>\n",
       "      <td>0.455952</td>\n",
       "      <td>0.606870</td>\n",
       "      <td>0.497714</td>\n",
       "      <td>...</td>\n",
       "      <td>0.787885</td>\n",
       "      <td>0.730829</td>\n",
       "      <td>0.723243</td>\n",
       "      <td>0.716511</td>\n",
       "      <td>0.621003</td>\n",
       "      <td>0.759003</td>\n",
       "      <td>0.677042</td>\n",
       "      <td>0.719374</td>\n",
       "      <td>0.773642</td>\n",
       "      <td>0.716743</td>\n",
       "    </tr>\n",
       "    <tr>\n",
       "      <th>3</th>\n",
       "      <td>0.607909</td>\n",
       "      <td>0.529085</td>\n",
       "      <td>0.487324</td>\n",
       "      <td>0.431066</td>\n",
       "      <td>0.491294</td>\n",
       "      <td>0.477344</td>\n",
       "      <td>0.529109</td>\n",
       "      <td>0.473518</td>\n",
       "      <td>0.735173</td>\n",
       "      <td>0.396975</td>\n",
       "      <td>...</td>\n",
       "      <td>0.429684</td>\n",
       "      <td>0.354018</td>\n",
       "      <td>0.661560</td>\n",
       "      <td>0.476147</td>\n",
       "      <td>0.429809</td>\n",
       "      <td>0.598885</td>\n",
       "      <td>0.471862</td>\n",
       "      <td>0.662444</td>\n",
       "      <td>0.440267</td>\n",
       "      <td>0.472538</td>\n",
       "    </tr>\n",
       "    <tr>\n",
       "      <th>4</th>\n",
       "      <td>0.899084</td>\n",
       "      <td>0.867339</td>\n",
       "      <td>0.487167</td>\n",
       "      <td>0.460074</td>\n",
       "      <td>0.544861</td>\n",
       "      <td>0.330895</td>\n",
       "      <td>0.440344</td>\n",
       "      <td>0.572420</td>\n",
       "      <td>0.664526</td>\n",
       "      <td>0.408337</td>\n",
       "      <td>...</td>\n",
       "      <td>0.588465</td>\n",
       "      <td>0.675232</td>\n",
       "      <td>0.790829</td>\n",
       "      <td>0.663888</td>\n",
       "      <td>0.632934</td>\n",
       "      <td>0.514529</td>\n",
       "      <td>0.665420</td>\n",
       "      <td>0.534038</td>\n",
       "      <td>0.556003</td>\n",
       "      <td>0.633450</td>\n",
       "    </tr>\n",
       "  </tbody>\n",
       "</table>\n",
       "<p>5 rows × 48 columns</p>\n",
       "</div>"
      ],
      "text/plain": [
       "         0         1         2         3         4         5         6   \\\n",
       "0  0.631852  0.514083  0.632182  0.371474  0.330484  0.406210  0.491472   \n",
       "1  0.594079  0.700458  0.663992  0.445142  0.390849  0.641027  0.110158   \n",
       "2  0.861348  0.790645  0.485836  0.444560  0.463189  0.282168  0.486540   \n",
       "3  0.607909  0.529085  0.487324  0.431066  0.491294  0.477344  0.529109   \n",
       "4  0.899084  0.867339  0.487167  0.460074  0.544861  0.330895  0.440344   \n",
       "\n",
       "         7         8         9   ...        38        39        40        41  \\\n",
       "0  0.444832  0.511890  0.320476  ...  0.675561  0.377418  0.353323  0.702285   \n",
       "1  0.324041  0.558357  0.358914  ...  0.625619  0.538103  0.737021  0.692536   \n",
       "2  0.455952  0.606870  0.497714  ...  0.787885  0.730829  0.723243  0.716511   \n",
       "3  0.473518  0.735173  0.396975  ...  0.429684  0.354018  0.661560  0.476147   \n",
       "4  0.572420  0.664526  0.408337  ...  0.588465  0.675232  0.790829  0.663888   \n",
       "\n",
       "         42        43        44        45        46        47  \n",
       "0  0.401350  0.404643  0.303871  0.707795  0.333903  0.217312  \n",
       "1  0.550664  0.768081  0.361499  0.630782  0.658289  0.521457  \n",
       "2  0.621003  0.759003  0.677042  0.719374  0.773642  0.716743  \n",
       "3  0.429809  0.598885  0.471862  0.662444  0.440267  0.472538  \n",
       "4  0.632934  0.514529  0.665420  0.534038  0.556003  0.633450  \n",
       "\n",
       "[5 rows x 48 columns]"
      ]
     },
     "execution_count": 9,
     "metadata": {},
     "output_type": "execute_result"
    }
   ],
   "source": [
    "audio_analysis_norm.head()"
   ]
  },
  {
   "cell_type": "markdown",
   "metadata": {},
   "source": [
    "# Experiencia 1: KMeans"
   ]
  },
  {
   "cell_type": "markdown",
   "metadata": {},
   "source": [
    "## audio_features\n",
    "\n",
    "Para audio_features, se determina la cantidad de clusters utilizando silhuette y SSE."
   ]
  },
  {
   "cell_type": "code",
   "execution_count": 10,
   "metadata": {},
   "outputs": [
    {
     "data": {
      "image/png": "[encoded data removed]",
      "text/plain": [
       "<Figure size 432x288 with 2 Axes>"
      ]
     },
     "metadata": {
      "needs_background": "light"
     },
     "output_type": "display_data"
    }
   ],
   "source": [
    "plot_silhouettes_and_sses(audio_features_norm, 15)"
   ]
  },
  {
   "cell_type": "markdown",
   "metadata": {},
   "source": [
    "¿Cuál sería el k ideal? El quiebre de SSE lo tenemos más o menos en 5 o en 6. Con valores más altos de k el silhouette baja demasiado."
   ]
  },
  {
   "cell_type": "code",
   "execution_count": 11,
   "metadata": {},
   "outputs": [
    {
     "data": {
      "text/plain": [
       "0.25766166657469736"
      ]
     },
     "execution_count": 11,
     "metadata": {},
     "output_type": "execute_result"
    }
   ],
   "source": [
    "get_silhouette_avg(audio_features_norm, 5)"
   ]
  },
  {
   "cell_type": "code",
   "execution_count": 12,
   "metadata": {},
   "outputs": [
    {
     "data": {
      "text/plain": [
       "0.2671537021257521"
      ]
     },
     "execution_count": 12,
     "metadata": {},
     "output_type": "execute_result"
    }
   ],
   "source": [
    "get_silhouette_avg(audio_features_norm, 6)"
   ]
  },
  {
   "cell_type": "markdown",
   "metadata": {},
   "source": [
    "El silhouette promedio obtenido en 5 es mayor que en 6. Ya con 7 y 8 el silhouette parece bajar demasiado y no obtenemos mucha ganancia en el SSE."
   ]
  },
  {
   "cell_type": "code",
   "execution_count": 13,
   "metadata": {},
   "outputs": [
    {
     "data": {
      "text/plain": [
       "1035.7447075838425"
      ]
     },
     "execution_count": 13,
     "metadata": {},
     "output_type": "execute_result"
    }
   ],
   "source": [
    "get_sse(audio_features_norm, 5)"
   ]
  },
  {
   "cell_type": "code",
   "execution_count": 14,
   "metadata": {},
   "outputs": [
    {
     "data": {
      "text/plain": [
       "933.7499974161"
      ]
     },
     "execution_count": 14,
     "metadata": {},
     "output_type": "execute_result"
    }
   ],
   "source": [
    "get_sse(audio_features_norm, 6)"
   ]
  },
  {
   "cell_type": "code",
   "execution_count": 15,
   "metadata": {},
   "outputs": [
    {
     "data": {
      "image/png": "[encoded data removed]",
      "text/plain": [
       "<Figure size 1296x504 with 1 Axes>"
      ]
     },
     "metadata": {
      "needs_background": "light"
     },
     "output_type": "display_data"
    }
   ],
   "source": [
    "plot_silhouette(audio_features_norm, 5)"
   ]
  },
  {
   "cell_type": "code",
   "execution_count": 16,
   "metadata": {},
   "outputs": [
    {
     "data": {
      "image/png": "[encoded data removed]",
      "text/plain": [
       "<Figure size 1296x504 with 1 Axes>"
      ]
     },
     "metadata": {
      "needs_background": "light"
     },
     "output_type": "display_data"
    }
   ],
   "source": [
    "plot_silhouette(audio_features_norm, 6)"
   ]
  },
  {
   "cell_type": "markdown",
   "metadata": {},
   "source": [
    "Conclusión: Estandarizado el dataset, da bastante mal. Para audio_features, los resultados sin estandarizar dan mucho mejor."
   ]
  },
  {
   "cell_type": "markdown",
   "metadata": {},
   "source": [
    "## audio_analysis\n",
    "\n",
    "Para audio_analysis, se determina la cantidad de clusters utilizando silhuette y SSE."
   ]
  },
  {
   "cell_type": "code",
   "execution_count": 17,
   "metadata": {},
   "outputs": [
    {
     "data": {
      "image/png": "[encoded data removed]",
      "text/plain": [
       "<Figure size 432x288 with 2 Axes>"
      ]
     },
     "metadata": {
      "needs_background": "light"
     },
     "output_type": "display_data"
    }
   ],
   "source": [
    "plot_silhouettes_and_sses(audio_analysis_norm, 30)"
   ]
  },
  {
   "cell_type": "markdown",
   "metadata": {},
   "source": [
    "¿Qué valor de k podría ser mejor? Pareciera estar entre k = 3 y k = 10."
   ]
  },
  {
   "cell_type": "code",
   "execution_count": 18,
   "metadata": {},
   "outputs": [
    {
     "data": {
      "text/html": [
       "<div>\n",
       "<style scoped>\n",
       "    .dataframe tbody tr th:only-of-type {\n",
       "        vertical-align: middle;\n",
       "    }\n",
       "\n",
       "    .dataframe tbody tr th {\n",
       "        vertical-align: top;\n",
       "    }\n",
       "\n",
       "    .dataframe thead th {\n",
       "        text-align: right;\n",
       "    }\n",
       "</style>\n",
       "<table border=\"1\" class=\"dataframe\">\n",
       "  <thead>\n",
       "    <tr style=\"text-align: right;\">\n",
       "      <th></th>\n",
       "      <th>k</th>\n",
       "      <th>silhouette</th>\n",
       "      <th>sse</th>\n",
       "    </tr>\n",
       "  </thead>\n",
       "  <tbody>\n",
       "    <tr>\n",
       "      <th>0</th>\n",
       "      <td>3</td>\n",
       "      <td>0.116956</td>\n",
       "      <td>1798.685271</td>\n",
       "    </tr>\n",
       "    <tr>\n",
       "      <th>1</th>\n",
       "      <td>4</td>\n",
       "      <td>0.083628</td>\n",
       "      <td>1687.614378</td>\n",
       "    </tr>\n",
       "    <tr>\n",
       "      <th>2</th>\n",
       "      <td>5</td>\n",
       "      <td>0.091107</td>\n",
       "      <td>1606.202775</td>\n",
       "    </tr>\n",
       "    <tr>\n",
       "      <th>3</th>\n",
       "      <td>6</td>\n",
       "      <td>0.080344</td>\n",
       "      <td>1566.812911</td>\n",
       "    </tr>\n",
       "    <tr>\n",
       "      <th>4</th>\n",
       "      <td>7</td>\n",
       "      <td>0.084920</td>\n",
       "      <td>1533.190130</td>\n",
       "    </tr>\n",
       "    <tr>\n",
       "      <th>5</th>\n",
       "      <td>8</td>\n",
       "      <td>0.070323</td>\n",
       "      <td>1501.609414</td>\n",
       "    </tr>\n",
       "    <tr>\n",
       "      <th>6</th>\n",
       "      <td>9</td>\n",
       "      <td>0.063148</td>\n",
       "      <td>1476.175802</td>\n",
       "    </tr>\n",
       "    <tr>\n",
       "      <th>7</th>\n",
       "      <td>10</td>\n",
       "      <td>0.066223</td>\n",
       "      <td>1453.083273</td>\n",
       "    </tr>\n",
       "  </tbody>\n",
       "</table>\n",
       "</div>"
      ],
      "text/plain": [
       "    k  silhouette          sse\n",
       "0   3    0.116956  1798.685271\n",
       "1   4    0.083628  1687.614378\n",
       "2   5    0.091107  1606.202775\n",
       "3   6    0.080344  1566.812911\n",
       "4   7    0.084920  1533.190130\n",
       "5   8    0.070323  1501.609414\n",
       "6   9    0.063148  1476.175802\n",
       "7  10    0.066223  1453.083273"
      ]
     },
     "execution_count": 18,
     "metadata": {},
     "output_type": "execute_result"
    }
   ],
   "source": [
    "sils_sses = []\n",
    "for k in range(3, 11):\n",
    "    sils_sses.append([k, get_silhouette_avg(audio_analysis_norm, k), get_sse(audio_analysis_norm, k)])\n",
    "pd.DataFrame(sils_sses, columns=['k', 'silhouette', 'sse'])"
   ]
  },
  {
   "cell_type": "code",
   "execution_count": 19,
   "metadata": {},
   "outputs": [
    {
     "data": {
      "image/png": "[encoded data removed]",
      "text/plain": [
       "<Figure size 1296x504 with 1 Axes>"
      ]
     },
     "metadata": {
      "needs_background": "light"
     },
     "output_type": "display_data"
    }
   ],
   "source": [
    "plot_silhouette(audio_analysis_norm, 5)"
   ]
  },
  {
   "cell_type": "markdown",
   "metadata": {},
   "source": [
    "## audio_features y audio_analysis\n",
    "\n",
    "Para ambos dataset mergeados, se determina la cantidad de clusters utilizando silhuette y SSE, estandarizando el merge previamente."
   ]
  },
  {
   "cell_type": "code",
   "execution_count": 20,
   "metadata": {},
   "outputs": [
    {
     "data": {
      "text/html": [
       "<div>\n",
       "<style scoped>\n",
       "    .dataframe tbody tr th:only-of-type {\n",
       "        vertical-align: middle;\n",
       "    }\n",
       "\n",
       "    .dataframe tbody tr th {\n",
       "        vertical-align: top;\n",
       "    }\n",
       "\n",
       "    .dataframe thead th {\n",
       "        text-align: right;\n",
       "    }\n",
       "</style>\n",
       "<table border=\"1\" class=\"dataframe\">\n",
       "  <thead>\n",
       "    <tr style=\"text-align: right;\">\n",
       "      <th></th>\n",
       "      <th>0</th>\n",
       "      <th>1</th>\n",
       "      <th>2</th>\n",
       "      <th>3</th>\n",
       "      <th>4</th>\n",
       "      <th>5</th>\n",
       "      <th>6</th>\n",
       "      <th>7</th>\n",
       "      <th>8</th>\n",
       "      <th>9</th>\n",
       "      <th>...</th>\n",
       "      <th>51</th>\n",
       "      <th>52</th>\n",
       "      <th>53</th>\n",
       "      <th>54</th>\n",
       "      <th>55</th>\n",
       "      <th>56</th>\n",
       "      <th>57</th>\n",
       "      <th>58</th>\n",
       "      <th>59</th>\n",
       "      <th>60</th>\n",
       "    </tr>\n",
       "  </thead>\n",
       "  <tbody>\n",
       "    <tr>\n",
       "      <th>0</th>\n",
       "      <td>0.960843</td>\n",
       "      <td>0.548122</td>\n",
       "      <td>0.082639</td>\n",
       "      <td>0.107589</td>\n",
       "      <td>0.001237</td>\n",
       "      <td>0.000000</td>\n",
       "      <td>0.124419</td>\n",
       "      <td>0.585975</td>\n",
       "      <td>1.0</td>\n",
       "      <td>0.046954</td>\n",
       "      <td>...</td>\n",
       "      <td>0.802287</td>\n",
       "      <td>0.376643</td>\n",
       "      <td>0.777766</td>\n",
       "      <td>0.706363</td>\n",
       "      <td>0.427796</td>\n",
       "      <td>0.653960</td>\n",
       "      <td>0.540056</td>\n",
       "      <td>0.731551</td>\n",
       "      <td>0.460954</td>\n",
       "      <td>0.575116</td>\n",
       "    </tr>\n",
       "    <tr>\n",
       "      <th>1</th>\n",
       "      <td>0.956827</td>\n",
       "      <td>0.496479</td>\n",
       "      <td>0.080985</td>\n",
       "      <td>0.031669</td>\n",
       "      <td>0.000004</td>\n",
       "      <td>0.363636</td>\n",
       "      <td>0.082086</td>\n",
       "      <td>0.465891</td>\n",
       "      <td>1.0</td>\n",
       "      <td>0.067078</td>\n",
       "      <td>...</td>\n",
       "      <td>0.408663</td>\n",
       "      <td>0.608343</td>\n",
       "      <td>0.716047</td>\n",
       "      <td>0.463458</td>\n",
       "      <td>0.659931</td>\n",
       "      <td>0.517344</td>\n",
       "      <td>0.739438</td>\n",
       "      <td>0.671177</td>\n",
       "      <td>0.431654</td>\n",
       "      <td>0.866917</td>\n",
       "    </tr>\n",
       "    <tr>\n",
       "      <th>2</th>\n",
       "      <td>0.992972</td>\n",
       "      <td>0.395540</td>\n",
       "      <td>0.055235</td>\n",
       "      <td>0.149656</td>\n",
       "      <td>0.913481</td>\n",
       "      <td>0.454545</td>\n",
       "      <td>0.334022</td>\n",
       "      <td>0.524560</td>\n",
       "      <td>0.0</td>\n",
       "      <td>0.021574</td>\n",
       "      <td>...</td>\n",
       "      <td>0.417869</td>\n",
       "      <td>0.625047</td>\n",
       "      <td>0.498719</td>\n",
       "      <td>0.783958</td>\n",
       "      <td>0.493448</td>\n",
       "      <td>0.757215</td>\n",
       "      <td>0.774316</td>\n",
       "      <td>0.475171</td>\n",
       "      <td>0.792816</td>\n",
       "      <td>0.662595</td>\n",
       "    </tr>\n",
       "    <tr>\n",
       "      <th>3</th>\n",
       "      <td>0.174695</td>\n",
       "      <td>0.474178</td>\n",
       "      <td>0.240354</td>\n",
       "      <td>0.773642</td>\n",
       "      <td>0.706237</td>\n",
       "      <td>0.818182</td>\n",
       "      <td>0.695405</td>\n",
       "      <td>0.764218</td>\n",
       "      <td>0.0</td>\n",
       "      <td>0.224075</td>\n",
       "      <td>...</td>\n",
       "      <td>0.593346</td>\n",
       "      <td>0.514347</td>\n",
       "      <td>0.674562</td>\n",
       "      <td>0.570471</td>\n",
       "      <td>0.524046</td>\n",
       "      <td>0.656667</td>\n",
       "      <td>0.550310</td>\n",
       "      <td>0.708587</td>\n",
       "      <td>0.591251</td>\n",
       "      <td>0.653416</td>\n",
       "    </tr>\n",
       "    <tr>\n",
       "      <th>4</th>\n",
       "      <td>0.437748</td>\n",
       "      <td>0.463615</td>\n",
       "      <td>0.111798</td>\n",
       "      <td>0.501211</td>\n",
       "      <td>0.905433</td>\n",
       "      <td>0.909091</td>\n",
       "      <td>0.094476</td>\n",
       "      <td>0.701451</td>\n",
       "      <td>0.0</td>\n",
       "      <td>0.017223</td>\n",
       "      <td>...</td>\n",
       "      <td>0.526155</td>\n",
       "      <td>0.762025</td>\n",
       "      <td>0.668920</td>\n",
       "      <td>0.627626</td>\n",
       "      <td>0.586320</td>\n",
       "      <td>0.592038</td>\n",
       "      <td>0.531126</td>\n",
       "      <td>0.585538</td>\n",
       "      <td>0.607191</td>\n",
       "      <td>0.408642</td>\n",
       "    </tr>\n",
       "  </tbody>\n",
       "</table>\n",
       "<p>5 rows × 61 columns</p>\n",
       "</div>"
      ],
      "text/plain": [
       "         0         1         2         3         4         5         6   \\\n",
       "0  0.960843  0.548122  0.082639  0.107589  0.001237  0.000000  0.124419   \n",
       "1  0.956827  0.496479  0.080985  0.031669  0.000004  0.363636  0.082086   \n",
       "2  0.992972  0.395540  0.055235  0.149656  0.913481  0.454545  0.334022   \n",
       "3  0.174695  0.474178  0.240354  0.773642  0.706237  0.818182  0.695405   \n",
       "4  0.437748  0.463615  0.111798  0.501211  0.905433  0.909091  0.094476   \n",
       "\n",
       "         7    8         9   ...        51        52        53        54  \\\n",
       "0  0.585975  1.0  0.046954  ...  0.802287  0.376643  0.777766  0.706363   \n",
       "1  0.465891  1.0  0.067078  ...  0.408663  0.608343  0.716047  0.463458   \n",
       "2  0.524560  0.0  0.021574  ...  0.417869  0.625047  0.498719  0.783958   \n",
       "3  0.764218  0.0  0.224075  ...  0.593346  0.514347  0.674562  0.570471   \n",
       "4  0.701451  0.0  0.017223  ...  0.526155  0.762025  0.668920  0.627626   \n",
       "\n",
       "         55        56        57        58        59        60  \n",
       "0  0.427796  0.653960  0.540056  0.731551  0.460954  0.575116  \n",
       "1  0.659931  0.517344  0.739438  0.671177  0.431654  0.866917  \n",
       "2  0.493448  0.757215  0.774316  0.475171  0.792816  0.662595  \n",
       "3  0.524046  0.656667  0.550310  0.708587  0.591251  0.653416  \n",
       "4  0.586320  0.592038  0.531126  0.585538  0.607191  0.408642  \n",
       "\n",
       "[5 rows x 61 columns]"
      ]
     },
     "execution_count": 20,
     "metadata": {},
     "output_type": "execute_result"
    }
   ],
   "source": [
    "audio_tracks = pd.merge(audio_features, audio_analysis_original, how = 'inner', on = 'id')\n",
    "audio_tracks = pd.DataFrame(scaler.fit_transform(audio_tracks))\n",
    "audio_tracks.head()"
   ]
  },
  {
   "cell_type": "code",
   "execution_count": 21,
   "metadata": {},
   "outputs": [
    {
     "data": {
      "text/plain": [
       "(2205, 61)"
      ]
     },
     "execution_count": 21,
     "metadata": {},
     "output_type": "execute_result"
    }
   ],
   "source": [
    "audio_tracks.shape"
   ]
  },
  {
   "cell_type": "code",
   "execution_count": 22,
   "metadata": {},
   "outputs": [
    {
     "data": {
      "image/png": "[encoded data removed]",
      "text/plain": [
       "<Figure size 432x288 with 2 Axes>"
      ]
     },
     "metadata": {
      "needs_background": "light"
     },
     "output_type": "display_data"
    }
   ],
   "source": [
    "plot_silhouettes_and_sses(audio_tracks, 15)"
   ]
  },
  {
   "cell_type": "markdown",
   "metadata": {},
   "source": [
    "Parece haber dado muy parecido a audio_features."
   ]
  },
  {
   "cell_type": "code",
   "execution_count": 23,
   "metadata": {},
   "outputs": [
    {
     "data": {
      "text/html": [
       "<div>\n",
       "<style scoped>\n",
       "    .dataframe tbody tr th:only-of-type {\n",
       "        vertical-align: middle;\n",
       "    }\n",
       "\n",
       "    .dataframe tbody tr th {\n",
       "        vertical-align: top;\n",
       "    }\n",
       "\n",
       "    .dataframe thead th {\n",
       "        text-align: right;\n",
       "    }\n",
       "</style>\n",
       "<table border=\"1\" class=\"dataframe\">\n",
       "  <thead>\n",
       "    <tr style=\"text-align: right;\">\n",
       "      <th></th>\n",
       "      <th>k</th>\n",
       "      <th>silhouette</th>\n",
       "      <th>sse</th>\n",
       "    </tr>\n",
       "  </thead>\n",
       "  <tbody>\n",
       "    <tr>\n",
       "      <th>0</th>\n",
       "      <td>3</td>\n",
       "      <td>0.125105</td>\n",
       "      <td>3345.869679</td>\n",
       "    </tr>\n",
       "    <tr>\n",
       "      <th>1</th>\n",
       "      <td>4</td>\n",
       "      <td>0.127913</td>\n",
       "      <td>3106.186474</td>\n",
       "    </tr>\n",
       "    <tr>\n",
       "      <th>2</th>\n",
       "      <td>5</td>\n",
       "      <td>0.121462</td>\n",
       "      <td>2948.924480</td>\n",
       "    </tr>\n",
       "    <tr>\n",
       "      <th>3</th>\n",
       "      <td>6</td>\n",
       "      <td>0.120893</td>\n",
       "      <td>2810.721734</td>\n",
       "    </tr>\n",
       "  </tbody>\n",
       "</table>\n",
       "</div>"
      ],
      "text/plain": [
       "   k  silhouette          sse\n",
       "0  3    0.125105  3345.869679\n",
       "1  4    0.127913  3106.186474\n",
       "2  5    0.121462  2948.924480\n",
       "3  6    0.120893  2810.721734"
      ]
     },
     "execution_count": 23,
     "metadata": {},
     "output_type": "execute_result"
    }
   ],
   "source": [
    "sils_sses = []\n",
    "for k in range(3, 7):\n",
    "    sils_sses.append([k, get_silhouette_avg(audio_tracks, k), get_sse(audio_tracks, k)])\n",
    "pd.DataFrame(sils_sses, columns=['k', 'silhouette', 'sse'])"
   ]
  },
  {
   "cell_type": "code",
   "execution_count": 24,
   "metadata": {},
   "outputs": [
    {
     "data": {
      "image/png": "[encoded data removed]",
      "text/plain": [
       "<Figure size 1296x504 with 1 Axes>"
      ]
     },
     "metadata": {
      "needs_background": "light"
     },
     "output_type": "display_data"
    }
   ],
   "source": [
    "plot_silhouette(audio_tracks, 5)"
   ]
  },
  {
   "cell_type": "markdown",
   "metadata": {},
   "source": [
    "De vuelta, audio_tracks da prácticamente lo mismo que audio_features. Parece que los summaries de audio_analysis no influyen mucho en los resultados de KMeans."
   ]
  },
  {
   "cell_type": "markdown",
   "metadata": {},
   "source": [
    "## b) Evaluar si los agrupamientos son similares para los distintos conjuntos de datos utilizando la matriz de confusión y los índices de Rand y van Dongen en los casos que correspondan"
   ]
  },
  {
   "cell_type": "markdown",
   "metadata": {},
   "source": [
    "### Matrices de confusión"
   ]
  },
  {
   "cell_type": "code",
   "execution_count": 25,
   "metadata": {},
   "outputs": [
    {
     "data": {
      "text/plain": [
       "(2205, 13)"
      ]
     },
     "execution_count": 25,
     "metadata": {},
     "output_type": "execute_result"
    }
   ],
   "source": [
    "# Para que las comparaciones sean del mismo largo,\n",
    "# se remueve de audio_feature el track que no se encuentra en audio_analysis\n",
    "merged = audio_features.merge(audio_analysis_original, how = 'left', on = 'id')\n",
    "id_to_remove = merged[merged.timbre_mean_0.isnull()].index[0]\n",
    "audio_features_minus_one = audio_features.drop(id_to_remove, axis = 0)\n",
    "audio_features_minus_one.shape"
   ]
  },
  {
   "cell_type": "code",
   "execution_count": 26,
   "metadata": {},
   "outputs": [],
   "source": [
    "# Se ordenan los tres datasets para que los tracks estén en el mismo orden\n",
    "audio_features_sorted = audio_features_minus_one.sort_index()\n",
    "audio_analysis_sorted = audio_analysis_original.sort_index()\n",
    "audio_tracks_sorted = audio_tracks.sort_index()"
   ]
  },
  {
   "cell_type": "code",
   "execution_count": 27,
   "metadata": {},
   "outputs": [],
   "source": [
    "# Los vuelvo a estandarizar\n",
    "audio_features_sorted = pd.DataFrame(scaler.fit_transform(audio_features_sorted))\n",
    "audio_analysis_sorted = pd.DataFrame(scaler.fit_transform(audio_analysis_sorted))\n",
    "audio_tracks_sorted = pd.DataFrame(scaler.fit_transform(audio_tracks_sorted))"
   ]
  },
  {
   "cell_type": "code",
   "execution_count": 28,
   "metadata": {},
   "outputs": [],
   "source": [
    "# Vamos a comparar todos los KMeans con k = 5\n",
    "km_audio_features = KMeans(n_clusters = 5, random_state = 0).fit(audio_features_sorted)\n",
    "km_audio_analysis = KMeans(n_clusters = 5, random_state = 0).fit(audio_analysis_sorted)\n",
    "km_audio_tracks = KMeans(n_clusters = 5, random_state = 0).fit(audio_tracks_sorted)"
   ]
  },
  {
   "cell_type": "code",
   "execution_count": 29,
   "metadata": {},
   "outputs": [
    {
     "data": {
      "text/html": [
       "<div>\n",
       "<style scoped>\n",
       "    .dataframe tbody tr th:only-of-type {\n",
       "        vertical-align: middle;\n",
       "    }\n",
       "\n",
       "    .dataframe tbody tr th {\n",
       "        vertical-align: top;\n",
       "    }\n",
       "\n",
       "    .dataframe thead th {\n",
       "        text-align: right;\n",
       "    }\n",
       "</style>\n",
       "<table border=\"1\" class=\"dataframe\">\n",
       "  <thead>\n",
       "    <tr style=\"text-align: right;\">\n",
       "      <th>audio_analysis</th>\n",
       "      <th>0</th>\n",
       "      <th>1</th>\n",
       "      <th>2</th>\n",
       "      <th>3</th>\n",
       "      <th>4</th>\n",
       "    </tr>\n",
       "    <tr>\n",
       "      <th>audio_features</th>\n",
       "      <th></th>\n",
       "      <th></th>\n",
       "      <th></th>\n",
       "      <th></th>\n",
       "      <th></th>\n",
       "    </tr>\n",
       "  </thead>\n",
       "  <tbody>\n",
       "    <tr>\n",
       "      <th>0</th>\n",
       "      <td>33</td>\n",
       "      <td>26</td>\n",
       "      <td>21</td>\n",
       "      <td>35</td>\n",
       "      <td>193</td>\n",
       "    </tr>\n",
       "    <tr>\n",
       "      <th>1</th>\n",
       "      <td>123</td>\n",
       "      <td>119</td>\n",
       "      <td>97</td>\n",
       "      <td>28</td>\n",
       "      <td>121</td>\n",
       "    </tr>\n",
       "    <tr>\n",
       "      <th>2</th>\n",
       "      <td>7</td>\n",
       "      <td>10</td>\n",
       "      <td>13</td>\n",
       "      <td>273</td>\n",
       "      <td>70</td>\n",
       "    </tr>\n",
       "    <tr>\n",
       "      <th>3</th>\n",
       "      <td>172</td>\n",
       "      <td>139</td>\n",
       "      <td>120</td>\n",
       "      <td>25</td>\n",
       "      <td>76</td>\n",
       "    </tr>\n",
       "    <tr>\n",
       "      <th>4</th>\n",
       "      <td>7</td>\n",
       "      <td>9</td>\n",
       "      <td>23</td>\n",
       "      <td>321</td>\n",
       "      <td>144</td>\n",
       "    </tr>\n",
       "  </tbody>\n",
       "</table>\n",
       "</div>"
      ],
      "text/plain": [
       "audio_analysis    0    1    2    3    4\n",
       "audio_features                         \n",
       "0                33   26   21   35  193\n",
       "1               123  119   97   28  121\n",
       "2                 7   10   13  273   70\n",
       "3               172  139  120   25   76\n",
       "4                 7    9   23  321  144"
      ]
     },
     "execution_count": 29,
     "metadata": {},
     "output_type": "execute_result"
    }
   ],
   "source": [
    "# Matriz de confusión: audio_features VS audio_analysis\n",
    "tmp1 = pd.DataFrame({'audio_features': km_audio_features.labels_, 'audio_analysis': km_audio_analysis.labels_})\n",
    "ct1 = pd.crosstab(tmp1['audio_features'], tmp1['audio_analysis'])\n",
    "ct1"
   ]
  },
  {
   "cell_type": "code",
   "execution_count": 30,
   "metadata": {},
   "outputs": [
    {
     "data": {
      "text/html": [
       "<div>\n",
       "<style scoped>\n",
       "    .dataframe tbody tr th:only-of-type {\n",
       "        vertical-align: middle;\n",
       "    }\n",
       "\n",
       "    .dataframe tbody tr th {\n",
       "        vertical-align: top;\n",
       "    }\n",
       "\n",
       "    .dataframe thead th {\n",
       "        text-align: right;\n",
       "    }\n",
       "</style>\n",
       "<table border=\"1\" class=\"dataframe\">\n",
       "  <thead>\n",
       "    <tr style=\"text-align: right;\">\n",
       "      <th>audio_tracks</th>\n",
       "      <th>0</th>\n",
       "      <th>1</th>\n",
       "      <th>2</th>\n",
       "      <th>3</th>\n",
       "      <th>4</th>\n",
       "    </tr>\n",
       "    <tr>\n",
       "      <th>audio_features</th>\n",
       "      <th></th>\n",
       "      <th></th>\n",
       "      <th></th>\n",
       "      <th></th>\n",
       "      <th></th>\n",
       "    </tr>\n",
       "  </thead>\n",
       "  <tbody>\n",
       "    <tr>\n",
       "      <th>0</th>\n",
       "      <td>75</td>\n",
       "      <td>50</td>\n",
       "      <td>49</td>\n",
       "      <td>52</td>\n",
       "      <td>82</td>\n",
       "    </tr>\n",
       "    <tr>\n",
       "      <th>1</th>\n",
       "      <td>114</td>\n",
       "      <td>73</td>\n",
       "      <td>108</td>\n",
       "      <td>74</td>\n",
       "      <td>119</td>\n",
       "    </tr>\n",
       "    <tr>\n",
       "      <th>2</th>\n",
       "      <td>82</td>\n",
       "      <td>61</td>\n",
       "      <td>81</td>\n",
       "      <td>61</td>\n",
       "      <td>88</td>\n",
       "    </tr>\n",
       "    <tr>\n",
       "      <th>3</th>\n",
       "      <td>112</td>\n",
       "      <td>81</td>\n",
       "      <td>104</td>\n",
       "      <td>96</td>\n",
       "      <td>139</td>\n",
       "    </tr>\n",
       "    <tr>\n",
       "      <th>4</th>\n",
       "      <td>125</td>\n",
       "      <td>88</td>\n",
       "      <td>97</td>\n",
       "      <td>73</td>\n",
       "      <td>121</td>\n",
       "    </tr>\n",
       "  </tbody>\n",
       "</table>\n",
       "</div>"
      ],
      "text/plain": [
       "audio_tracks      0   1    2   3    4\n",
       "audio_features                       \n",
       "0                75  50   49  52   82\n",
       "1               114  73  108  74  119\n",
       "2                82  61   81  61   88\n",
       "3               112  81  104  96  139\n",
       "4               125  88   97  73  121"
      ]
     },
     "execution_count": 30,
     "metadata": {},
     "output_type": "execute_result"
    }
   ],
   "source": [
    "# Matriz de confusión: audio_features VS audio_tracks\n",
    "tmp2 = pd.DataFrame({'audio_features': km_audio_features.labels_, 'audio_tracks': km_audio_tracks.labels_})\n",
    "ct2 = pd.crosstab(tmp2['audio_features'], tmp2['audio_tracks'])\n",
    "ct2"
   ]
  },
  {
   "cell_type": "code",
   "execution_count": 31,
   "metadata": {},
   "outputs": [
    {
     "data": {
      "text/html": [
       "<div>\n",
       "<style scoped>\n",
       "    .dataframe tbody tr th:only-of-type {\n",
       "        vertical-align: middle;\n",
       "    }\n",
       "\n",
       "    .dataframe tbody tr th {\n",
       "        vertical-align: top;\n",
       "    }\n",
       "\n",
       "    .dataframe thead th {\n",
       "        text-align: right;\n",
       "    }\n",
       "</style>\n",
       "<table border=\"1\" class=\"dataframe\">\n",
       "  <thead>\n",
       "    <tr style=\"text-align: right;\">\n",
       "      <th>audio_analysis</th>\n",
       "      <th>0</th>\n",
       "      <th>1</th>\n",
       "      <th>2</th>\n",
       "      <th>3</th>\n",
       "      <th>4</th>\n",
       "    </tr>\n",
       "    <tr>\n",
       "      <th>audio_tracks</th>\n",
       "      <th></th>\n",
       "      <th></th>\n",
       "      <th></th>\n",
       "      <th></th>\n",
       "      <th></th>\n",
       "    </tr>\n",
       "  </thead>\n",
       "  <tbody>\n",
       "    <tr>\n",
       "      <th>0</th>\n",
       "      <td>80</td>\n",
       "      <td>59</td>\n",
       "      <td>71</td>\n",
       "      <td>156</td>\n",
       "      <td>142</td>\n",
       "    </tr>\n",
       "    <tr>\n",
       "      <th>1</th>\n",
       "      <td>44</td>\n",
       "      <td>47</td>\n",
       "      <td>42</td>\n",
       "      <td>112</td>\n",
       "      <td>108</td>\n",
       "    </tr>\n",
       "    <tr>\n",
       "      <th>2</th>\n",
       "      <td>70</td>\n",
       "      <td>62</td>\n",
       "      <td>56</td>\n",
       "      <td>143</td>\n",
       "      <td>108</td>\n",
       "    </tr>\n",
       "    <tr>\n",
       "      <th>3</th>\n",
       "      <td>60</td>\n",
       "      <td>61</td>\n",
       "      <td>33</td>\n",
       "      <td>102</td>\n",
       "      <td>100</td>\n",
       "    </tr>\n",
       "    <tr>\n",
       "      <th>4</th>\n",
       "      <td>88</td>\n",
       "      <td>74</td>\n",
       "      <td>72</td>\n",
       "      <td>169</td>\n",
       "      <td>146</td>\n",
       "    </tr>\n",
       "  </tbody>\n",
       "</table>\n",
       "</div>"
      ],
      "text/plain": [
       "audio_analysis   0   1   2    3    4\n",
       "audio_tracks                        \n",
       "0               80  59  71  156  142\n",
       "1               44  47  42  112  108\n",
       "2               70  62  56  143  108\n",
       "3               60  61  33  102  100\n",
       "4               88  74  72  169  146"
      ]
     },
     "execution_count": 31,
     "metadata": {},
     "output_type": "execute_result"
    }
   ],
   "source": [
    "# Matriz de confusión: audio_tracks VS audio_analysis\n",
    "tmp3 = pd.DataFrame({'audio_tracks': km_audio_tracks.labels_, 'audio_analysis': km_audio_analysis.labels_})\n",
    "ct3 = pd.crosstab(tmp3['audio_tracks'], tmp3['audio_analysis'])\n",
    "ct3"
   ]
  },
  {
   "cell_type": "markdown",
   "metadata": {},
   "source": [
    "Como ya se había visto, el etiquetado de audio_features es exactamente igual que el etiquetado de audio_tracks. Lo que significa que a KMeans le da lo mismo que las variables resumen de audio_analysis estén o no en el dataset.\n",
    "\n",
    "Los elementos que están en la diagonal son los aciertos. O sea: los que ambos modelos que se están comparando etiquetaron igual."
   ]
  },
  {
   "cell_type": "markdown",
   "metadata": {},
   "source": [
    "### Criterio de van Dongen"
   ]
  },
  {
   "cell_type": "code",
   "execution_count": 32,
   "metadata": {},
   "outputs": [
    {
     "data": {
      "text/plain": [
       "0.7456195244055068"
      ]
     },
     "execution_count": 32,
     "metadata": {},
     "output_type": "execute_result"
    }
   ],
   "source": [
    "vanDongen(ct1)"
   ]
  },
  {
   "cell_type": "code",
   "execution_count": 33,
   "metadata": {},
   "outputs": [
    {
     "data": {
      "text/plain": [
       "0.9915890657855212"
      ]
     },
     "execution_count": 33,
     "metadata": {},
     "output_type": "execute_result"
    }
   ],
   "source": [
    "vanDongen(ct2)"
   ]
  },
  {
   "cell_type": "code",
   "execution_count": 34,
   "metadata": {},
   "outputs": [
    {
     "data": {
      "text/plain": [
       "1.0"
      ]
     },
     "execution_count": 34,
     "metadata": {},
     "output_type": "execute_result"
    }
   ],
   "source": [
    "vanDongen(ct3)"
   ]
  },
  {
   "cell_type": "markdown",
   "metadata": {},
   "source": [
    "### Índices Rand"
   ]
  },
  {
   "cell_type": "code",
   "execution_count": 35,
   "metadata": {},
   "outputs": [
    {
     "data": {
      "text/plain": [
       "0.16425985703122517"
      ]
     },
     "execution_count": 35,
     "metadata": {},
     "output_type": "execute_result"
    }
   ],
   "source": [
    "# audio_features VS audio_analysis\n",
    "adjusted_rand_score(km_audio_features.labels_, km_audio_analysis.labels_)"
   ]
  },
  {
   "cell_type": "code",
   "execution_count": 36,
   "metadata": {},
   "outputs": [
    {
     "data": {
      "text/plain": [
       "-0.0005351155811173472"
      ]
     },
     "execution_count": 36,
     "metadata": {},
     "output_type": "execute_result"
    }
   ],
   "source": [
    "# audio_features VS audio_tracks\n",
    "adjusted_rand_score(km_audio_features.labels_, km_audio_tracks.labels_)"
   ]
  },
  {
   "cell_type": "code",
   "execution_count": 37,
   "metadata": {},
   "outputs": [
    {
     "data": {
      "text/plain": [
       "-0.0007381411145146597"
      ]
     },
     "execution_count": 37,
     "metadata": {},
     "output_type": "execute_result"
    }
   ],
   "source": [
    "# audio_analysis VS audio_tracks\n",
    "adjusted_rand_score(km_audio_analysis.labels_, km_audio_tracks.labels_)"
   ]
  },
  {
   "cell_type": "markdown",
   "metadata": {},
   "source": [
    "## c) Evaluar para los mejores casos si los clusters se coindicen con el género (columna de metadata)"
   ]
  },
  {
   "cell_type": "markdown",
   "metadata": {},
   "source": [
    "Se testea primero con el que se cree que fue clustering, el de audio_features."
   ]
  },
  {
   "cell_type": "code",
   "execution_count": 38,
   "metadata": {},
   "outputs": [
    {
     "data": {
      "text/plain": [
       "(2205, 17)"
      ]
     },
     "execution_count": 38,
     "metadata": {},
     "output_type": "execute_result"
    }
   ],
   "source": [
    "# Se remueve el track que no está en audio_analysis\n",
    "metadata_minus_one = metadata_original.drop(id_to_remove, axis = 0)\n",
    "\n",
    "# Se ordenan los index de metadata\n",
    "metadata_sorted = metadata_minus_one.sort_index()\n",
    "metadata_sorted.shape"
   ]
  },
  {
   "cell_type": "code",
   "execution_count": 39,
   "metadata": {},
   "outputs": [
    {
     "data": {
      "text/html": [
       "<div>\n",
       "<style scoped>\n",
       "    .dataframe tbody tr th:only-of-type {\n",
       "        vertical-align: middle;\n",
       "    }\n",
       "\n",
       "    .dataframe tbody tr th {\n",
       "        vertical-align: top;\n",
       "    }\n",
       "\n",
       "    .dataframe thead th {\n",
       "        text-align: right;\n",
       "    }\n",
       "</style>\n",
       "<table border=\"1\" class=\"dataframe\">\n",
       "  <thead>\n",
       "    <tr style=\"text-align: right;\">\n",
       "      <th>audio_features</th>\n",
       "      <th>0</th>\n",
       "      <th>1</th>\n",
       "      <th>2</th>\n",
       "      <th>3</th>\n",
       "      <th>4</th>\n",
       "    </tr>\n",
       "    <tr>\n",
       "      <th>Generos</th>\n",
       "      <th></th>\n",
       "      <th></th>\n",
       "      <th></th>\n",
       "      <th></th>\n",
       "      <th></th>\n",
       "    </tr>\n",
       "  </thead>\n",
       "  <tbody>\n",
       "    <tr>\n",
       "      <th>ambient</th>\n",
       "      <td>17</td>\n",
       "      <td>155</td>\n",
       "      <td>52</td>\n",
       "      <td>183</td>\n",
       "      <td>53</td>\n",
       "    </tr>\n",
       "    <tr>\n",
       "      <th>classical</th>\n",
       "      <td>39</td>\n",
       "      <td>152</td>\n",
       "      <td>0</td>\n",
       "      <td>213</td>\n",
       "      <td>1</td>\n",
       "    </tr>\n",
       "    <tr>\n",
       "      <th>drum-and-bass</th>\n",
       "      <td>1</td>\n",
       "      <td>0</td>\n",
       "      <td>223</td>\n",
       "      <td>0</td>\n",
       "      <td>227</td>\n",
       "    </tr>\n",
       "    <tr>\n",
       "      <th>jazz</th>\n",
       "      <td>129</td>\n",
       "      <td>111</td>\n",
       "      <td>31</td>\n",
       "      <td>79</td>\n",
       "      <td>76</td>\n",
       "    </tr>\n",
       "    <tr>\n",
       "      <th>world-music</th>\n",
       "      <td>122</td>\n",
       "      <td>70</td>\n",
       "      <td>67</td>\n",
       "      <td>57</td>\n",
       "      <td>147</td>\n",
       "    </tr>\n",
       "  </tbody>\n",
       "</table>\n",
       "</div>"
      ],
      "text/plain": [
       "audio_features    0    1    2    3    4\n",
       "Generos                                \n",
       "ambient          17  155   52  183   53\n",
       "classical        39  152    0  213    1\n",
       "drum-and-bass     1    0  223    0  227\n",
       "jazz            129  111   31   79   76\n",
       "world-music     122   70   67   57  147"
      ]
     },
     "execution_count": 39,
     "metadata": {},
     "output_type": "execute_result"
    }
   ],
   "source": [
    "# Se calcula la matriz de confusión\n",
    "tmp4 = pd.DataFrame({'Generos': metadata_sorted.genre, 'audio_features': km_audio_features.labels_})\n",
    "ct4 = pd.crosstab(tmp4['Generos'], tmp4['audio_features'])\n",
    "ct4"
   ]
  },
  {
   "cell_type": "code",
   "execution_count": 40,
   "metadata": {},
   "outputs": [
    {
     "data": {
      "text/plain": [
       "0.750805270863836"
      ]
     },
     "execution_count": 40,
     "metadata": {},
     "output_type": "execute_result"
    }
   ],
   "source": [
    "# Se calcula el criterio de van Dongen\n",
    "vanDongen(ct4)"
   ]
  },
  {
   "cell_type": "code",
   "execution_count": 41,
   "metadata": {},
   "outputs": [
    {
     "data": {
      "text/plain": [
       "0.15463575837104943"
      ]
     },
     "execution_count": 41,
     "metadata": {},
     "output_type": "execute_result"
    }
   ],
   "source": [
    "# Se calcula el índice de rand\n",
    "adjusted_rand_score(metadata_sorted.genre, km_audio_features.labels_)"
   ]
  },
  {
   "cell_type": "markdown",
   "metadata": {},
   "source": [
    "Se testea también, por las dudas, audio_analysis."
   ]
  },
  {
   "cell_type": "code",
   "execution_count": 42,
   "metadata": {},
   "outputs": [
    {
     "data": {
      "text/html": [
       "<div>\n",
       "<style scoped>\n",
       "    .dataframe tbody tr th:only-of-type {\n",
       "        vertical-align: middle;\n",
       "    }\n",
       "\n",
       "    .dataframe tbody tr th {\n",
       "        vertical-align: top;\n",
       "    }\n",
       "\n",
       "    .dataframe thead th {\n",
       "        text-align: right;\n",
       "    }\n",
       "</style>\n",
       "<table border=\"1\" class=\"dataframe\">\n",
       "  <thead>\n",
       "    <tr style=\"text-align: right;\">\n",
       "      <th>audio_analysis</th>\n",
       "      <th>0</th>\n",
       "      <th>1</th>\n",
       "      <th>2</th>\n",
       "      <th>3</th>\n",
       "      <th>4</th>\n",
       "    </tr>\n",
       "    <tr>\n",
       "      <th>Generos</th>\n",
       "      <th></th>\n",
       "      <th></th>\n",
       "      <th></th>\n",
       "      <th></th>\n",
       "      <th></th>\n",
       "    </tr>\n",
       "  </thead>\n",
       "  <tbody>\n",
       "    <tr>\n",
       "      <th>ambient</th>\n",
       "      <td>124</td>\n",
       "      <td>135</td>\n",
       "      <td>96</td>\n",
       "      <td>60</td>\n",
       "      <td>45</td>\n",
       "    </tr>\n",
       "    <tr>\n",
       "      <th>classical</th>\n",
       "      <td>162</td>\n",
       "      <td>105</td>\n",
       "      <td>92</td>\n",
       "      <td>18</td>\n",
       "      <td>28</td>\n",
       "    </tr>\n",
       "    <tr>\n",
       "      <th>drum-and-bass</th>\n",
       "      <td>0</td>\n",
       "      <td>4</td>\n",
       "      <td>1</td>\n",
       "      <td>407</td>\n",
       "      <td>39</td>\n",
       "    </tr>\n",
       "    <tr>\n",
       "      <th>jazz</th>\n",
       "      <td>21</td>\n",
       "      <td>29</td>\n",
       "      <td>17</td>\n",
       "      <td>65</td>\n",
       "      <td>294</td>\n",
       "    </tr>\n",
       "    <tr>\n",
       "      <th>world-music</th>\n",
       "      <td>35</td>\n",
       "      <td>30</td>\n",
       "      <td>68</td>\n",
       "      <td>132</td>\n",
       "      <td>198</td>\n",
       "    </tr>\n",
       "  </tbody>\n",
       "</table>\n",
       "</div>"
      ],
      "text/plain": [
       "audio_analysis    0    1   2    3    4\n",
       "Generos                               \n",
       "ambient         124  135  96   60   45\n",
       "classical       162  105  92   18   28\n",
       "drum-and-bass     0    4   1  407   39\n",
       "jazz             21   29  17   65  294\n",
       "world-music      35   30  68  132  198"
      ]
     },
     "execution_count": 42,
     "metadata": {},
     "output_type": "execute_result"
    }
   ],
   "source": [
    "# Se calcula la matriz de confusión\n",
    "tmp5 = pd.DataFrame({'Generos': metadata_sorted.genre, 'audio_analysis': km_audio_analysis.labels_})\n",
    "ct5 = pd.crosstab(tmp5['Generos'], tmp5['audio_analysis'])\n",
    "ct5"
   ]
  },
  {
   "cell_type": "code",
   "execution_count": 43,
   "metadata": {},
   "outputs": [
    {
     "data": {
      "text/plain": [
       "0.6493108728943339"
      ]
     },
     "execution_count": 43,
     "metadata": {},
     "output_type": "execute_result"
    }
   ],
   "source": [
    "# Se calcula el criterio de van Dongen\n",
    "vanDongen(ct5)"
   ]
  },
  {
   "cell_type": "code",
   "execution_count": 44,
   "metadata": {},
   "outputs": [
    {
     "data": {
      "text/plain": [
       "0.23595094329345592"
      ]
     },
     "execution_count": 44,
     "metadata": {},
     "output_type": "execute_result"
    }
   ],
   "source": [
    "# Se calcula el índice de rand\n",
    "adjusted_rand_score(metadata_sorted.genre, km_audio_analysis.labels_)"
   ]
  },
  {
   "cell_type": "markdown",
   "metadata": {},
   "source": [
    "Y probemos con audio_tracks"
   ]
  },
  {
   "cell_type": "code",
   "execution_count": 45,
   "metadata": {},
   "outputs": [
    {
     "data": {
      "text/html": [
       "<div>\n",
       "<style scoped>\n",
       "    .dataframe tbody tr th:only-of-type {\n",
       "        vertical-align: middle;\n",
       "    }\n",
       "\n",
       "    .dataframe tbody tr th {\n",
       "        vertical-align: top;\n",
       "    }\n",
       "\n",
       "    .dataframe thead th {\n",
       "        text-align: right;\n",
       "    }\n",
       "</style>\n",
       "<table border=\"1\" class=\"dataframe\">\n",
       "  <thead>\n",
       "    <tr style=\"text-align: right;\">\n",
       "      <th>audio_tracks</th>\n",
       "      <th>0</th>\n",
       "      <th>1</th>\n",
       "      <th>2</th>\n",
       "      <th>3</th>\n",
       "      <th>4</th>\n",
       "    </tr>\n",
       "    <tr>\n",
       "      <th>Generos</th>\n",
       "      <th></th>\n",
       "      <th></th>\n",
       "      <th></th>\n",
       "      <th></th>\n",
       "      <th></th>\n",
       "    </tr>\n",
       "  </thead>\n",
       "  <tbody>\n",
       "    <tr>\n",
       "      <th>ambient</th>\n",
       "      <td>105</td>\n",
       "      <td>76</td>\n",
       "      <td>93</td>\n",
       "      <td>78</td>\n",
       "      <td>108</td>\n",
       "    </tr>\n",
       "    <tr>\n",
       "      <th>classical</th>\n",
       "      <td>96</td>\n",
       "      <td>51</td>\n",
       "      <td>79</td>\n",
       "      <td>70</td>\n",
       "      <td>109</td>\n",
       "    </tr>\n",
       "    <tr>\n",
       "      <th>drum-and-bass</th>\n",
       "      <td>93</td>\n",
       "      <td>74</td>\n",
       "      <td>98</td>\n",
       "      <td>68</td>\n",
       "      <td>118</td>\n",
       "    </tr>\n",
       "    <tr>\n",
       "      <th>jazz</th>\n",
       "      <td>105</td>\n",
       "      <td>73</td>\n",
       "      <td>74</td>\n",
       "      <td>69</td>\n",
       "      <td>105</td>\n",
       "    </tr>\n",
       "    <tr>\n",
       "      <th>world-music</th>\n",
       "      <td>109</td>\n",
       "      <td>79</td>\n",
       "      <td>95</td>\n",
       "      <td>71</td>\n",
       "      <td>109</td>\n",
       "    </tr>\n",
       "  </tbody>\n",
       "</table>\n",
       "</div>"
      ],
      "text/plain": [
       "audio_tracks     0   1   2   3    4\n",
       "Generos                            \n",
       "ambient        105  76  93  78  108\n",
       "classical       96  51  79  70  109\n",
       "drum-and-bass   93  74  98  68  118\n",
       "jazz           105  73  74  69  105\n",
       "world-music    109  79  95  71  109"
      ]
     },
     "execution_count": 45,
     "metadata": {},
     "output_type": "execute_result"
    }
   ],
   "source": [
    "# Se calcula la matriz de confusión\n",
    "tmp6 = pd.DataFrame({'Generos': metadata_sorted.genre, 'audio_tracks': km_audio_tracks.labels_})\n",
    "ct6 = pd.crosstab(tmp6['Generos'], tmp6['audio_tracks'])\n",
    "ct6"
   ]
  },
  {
   "cell_type": "code",
   "execution_count": 46,
   "metadata": {},
   "outputs": [
    {
     "data": {
      "text/plain": [
       "0.994408475573867"
      ]
     },
     "execution_count": 46,
     "metadata": {},
     "output_type": "execute_result"
    }
   ],
   "source": [
    "# Se calcula el criterio de van Dongen\n",
    "vanDongen(ct6)"
   ]
  },
  {
   "cell_type": "code",
   "execution_count": 47,
   "metadata": {},
   "outputs": [
    {
     "data": {
      "text/plain": [
       "-0.0007829292800033104"
      ]
     },
     "execution_count": 47,
     "metadata": {},
     "output_type": "execute_result"
    }
   ],
   "source": [
    "# Se calcula el índice de rand\n",
    "adjusted_rand_score(metadata_sorted.genre, km_audio_tracks.labels_)"
   ]
  },
  {
   "cell_type": "markdown",
   "metadata": {},
   "source": [
    "## d) Visualizar los clusters y las etiquetas de género en baja dimensión con alguna técnica de reducción (PCA, TSNE, MDS, etc)"
   ]
  },
  {
   "cell_type": "code",
   "execution_count": 48,
   "metadata": {},
   "outputs": [
    {
     "data": {
      "text/plain": [
       "id\n",
       "00At7PWydsvg7g5xgaYan9    drum-and-bass\n",
       "00BgcUYkIImsDN5rNjkR1U    drum-and-bass\n",
       "00WgnFIsY1y84p7mYAJRuF    drum-and-bass\n",
       "00isAURAZeKQXv6CW2vckb        classical\n",
       "00ne3qRgc0JqY6MNYfhWri        classical\n",
       "Name: genre, dtype: object"
      ]
     },
     "execution_count": 48,
     "metadata": {},
     "output_type": "execute_result"
    }
   ],
   "source": [
    "metadata_sorted.genre.head()"
   ]
  },
  {
   "cell_type": "code",
   "execution_count": 49,
   "metadata": {},
   "outputs": [
    {
     "data": {
      "text/plain": [
       "2205"
      ]
     },
     "execution_count": 49,
     "metadata": {},
     "output_type": "execute_result"
    }
   ],
   "source": [
    "genres = []\n",
    "for genre in metadata_sorted.genre:\n",
    "    if genre == 'ambient':\n",
    "        genres.append(0)\n",
    "    if genre == 'classical':\n",
    "        genres.append(1)\n",
    "    if genre == 'drum-and-bass':\n",
    "        genres.append(2)\n",
    "    if genre == 'jazz':\n",
    "        genres.append(3)\n",
    "    if genre == 'world-music':\n",
    "        genres.append(4)\n",
    "len(genres)"
   ]
  },
  {
   "cell_type": "code",
   "execution_count": 50,
   "metadata": {},
   "outputs": [
    {
     "data": {
      "text/plain": [
       "<matplotlib.colorbar.Colorbar at 0x7f1de433beb8>"
      ]
     },
     "execution_count": 50,
     "metadata": {},
     "output_type": "execute_result"
    },
    {
     "data": {
      "image/png": "[encoded data removed]",
      "text/plain": [
       "<Figure size 432x288 with 2 Axes>"
      ]
     },
     "metadata": {
      "needs_background": "light"
     },
     "output_type": "display_data"
    }
   ],
   "source": [
    "tsne = TSNE(n_components=2,perplexity=200)\n",
    "Xred = tsne.fit_transform(audio_features_sorted)\n",
    "plt.scatter(Xred[:,0], Xred[:,1], c=genres, cmap=plt.cm.Spectral, alpha=0.7)\n",
    "plt.colorbar()"
   ]
  },
  {
   "cell_type": "code",
   "execution_count": 51,
   "metadata": {},
   "outputs": [
    {
     "data": {
      "text/plain": [
       "<matplotlib.colorbar.Colorbar at 0x7f1de427d588>"
      ]
     },
     "execution_count": 51,
     "metadata": {},
     "output_type": "execute_result"
    },
    {
     "data": {
      "image/png": "[encoded data removed]",
      "text/plain": [
       "<Figure size 432x288 with 2 Axes>"
      ]
     },
     "metadata": {
      "needs_background": "light"
     },
     "output_type": "display_data"
    }
   ],
   "source": [
    "tsne = TSNE(n_components=2,perplexity=200)\n",
    "Xred = tsne.fit_transform(audio_features_sorted)\n",
    "plt.scatter(Xred[:,0], Xred[:,1], c=km_audio_features.labels_, cmap=plt.cm.Spectral, alpha=0.7)\n",
    "plt.colorbar()"
   ]
  }
 ],
 "metadata": {
  "kernelspec": {
   "display_name": "Python 3",
   "language": "python",
   "name": "python3"
  },
  "language_info": {
   "codemirror_mode": {
    "name": "ipython",
    "version": 3
   },
   "file_extension": ".py",
   "mimetype": "text/x-python",
   "name": "python",
   "nbconvert_exporter": "python",
   "pygments_lexer": "ipython3",
   "version": "3.7.3"
  }
 },
 "nbformat": 4,
 "nbformat_minor": 2
}
