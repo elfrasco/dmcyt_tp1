{
 "cells": [
  {
   "cell_type": "code",
   "execution_count": 1,
   "metadata": {},
   "outputs": [],
   "source": [
    "# %reset\n",
    "# Para visualización en notebook\n",
    "%matplotlib inline\n",
    "import matplotlib.pyplot as plt\n",
    "import matplotlib.cm as cm\n",
    "import matplotlib as mpl\n",
    "mpl.rcParams['figure.figsize'] = (8,6)\n",
    "mpl.rcParams['font.size'] = 22\n",
    "from IPython.display import Audio, Markdown, Image\n",
    "import pylab\n",
    "import seaborn as sns\n",
    "\n",
    "# Números y Datos\n",
    "import numpy as np\n",
    "import pandas as pd\n",
    "\n",
    "# Archivos\n",
    "import urllib.request\n",
    "import glob\n",
    "\n",
    "# Análisis de sonido\n",
    "import spotipy \n",
    "\n",
    "# Machine learning\n",
    "# importar los paquetes para clustering\n",
    "from sklearn.preprocessing import StandardScaler\n",
    "\n",
    "# To work with categorical types\n",
    "from pandas.api.types import CategoricalDtype\n",
    "\n",
    "# Clustering (scipy)\n",
    "from scipy.spatial.distance import pdist, squareform\n",
    "from scipy.cluster.hierarchy import dendrogram, linkage, cophenet, fcluster\n",
    "\n",
    "# Clustering (sklearn)\n",
    "from sklearn.preprocessing import MinMaxScaler\n",
    "\n",
    "from sklearn.cluster import KMeans, DBSCAN\n",
    "from sklearn.metrics import adjusted_rand_score, silhouette_score, silhouette_samples\n",
    "from sklearn.neighbors import NearestNeighbors\n",
    "\n",
    "from sklearn.metrics.pairwise import euclidean_distances\n",
    "\n",
    "from funciones import plot_silhouette\n",
    "from funciones import plot_silhouettes_and_sses\n",
    "from funciones import get_silhouette_avg\n",
    "from funciones import get_sse\n",
    "from funciones import vanDongen\n",
    "from funciones import hopkins\n",
    "\n",
    "from sklearn.decomposition import PCA, TruncatedSVD\n",
    "from sklearn.manifold import MDS, Isomap, SpectralEmbedding, TSNE\n",
    "\n",
    "from sklearn.cluster import AgglomerativeClustering"
   ]
  },
  {
   "cell_type": "code",
   "execution_count": 2,
   "metadata": {},
   "outputs": [],
   "source": [
    "scaler = MinMaxScaler(feature_range=(0,1))\n",
    "#scaler = StandardScaler()"
   ]
  },
  {
   "cell_type": "markdown",
   "metadata": {},
   "source": [
    "Se cargan los dataset"
   ]
  },
  {
   "cell_type": "code",
   "execution_count": 3,
   "metadata": {},
   "outputs": [],
   "source": [
    "metadata = pd.read_csv('../data/metadata.csv', index_col='id')\n",
    "audio_features = pd.read_csv('../data/audio_features.csv', index_col='id')\n",
    "audio_analysis = pd.read_csv('../data/audio_analysis.csv', index_col='id')\n",
    "\n",
    "audio_features = audio_features[['acousticness','danceability', 'duration_ms', 'energy', 'instrumentalness', 'key', 'liveness','loudness', 'mode', 'speechiness', 'tempo', 'time_signature', 'valence']]\n",
    "\n",
    "# Para que las comparaciones sean del mismo largo,\n",
    "# se remueve de audio_feature y metadata el track que no se encuentra en audio_analysis\n",
    "merged = audio_features.merge(audio_analysis, how = 'left', on = 'id')\n",
    "id_to_remove = merged[merged.timbre_mean_0.isnull()].index[0]\n",
    "\n",
    "audio_features = audio_features.drop(id_to_remove, axis = 0)\n",
    "\n",
    "audio_tracks = pd.merge(audio_features, audio_analysis, how = 'inner', on = 'id')\n",
    "metadata = metadata.drop(id_to_remove, axis = 0)\n",
    "\n",
    "# Se ordenan los datasets para que los tracks estén en el mismo orden\n",
    "audio_features = audio_features.sort_index()\n",
    "audio_analysis = audio_analysis.sort_index()\n",
    "audio_tracks = audio_tracks.sort_index()\n",
    "metadata = metadata.sort_index()\n",
    "\n",
    "# Comentar si no se quiere estandarizar\n",
    "audio_features_norm = scaler.fit_transform(audio_features)\n",
    "audio_analysis_norm = scaler.fit_transform(audio_analysis)\n",
    "audio_tracks_norm = scaler.fit_transform(audio_tracks)"
   ]
  },
  {
   "cell_type": "code",
   "execution_count": 4,
   "metadata": {},
   "outputs": [],
   "source": [
    "features = pd.DataFrame(audio_features_norm)\n",
    "analysis = pd.DataFrame(audio_analysis_norm)\n",
    "tracks = pd.DataFrame(audio_tracks_norm)\n",
    "\n",
    "features.to_csv('embedding_projector/audio_features.csv', index=False, sep='\\t', header=False)\n",
    "analysis.to_csv('embedding_projector/audio_analysis.csv', index=False, sep='\\t', header=False)\n",
    "tracks.to_csv('embedding_projector/audio_tracks.csv', index=False, sep='\\t', header=False)"
   ]
  },
  {
   "cell_type": "code",
   "execution_count": 5,
   "metadata": {},
   "outputs": [
    {
     "data": {
      "text/plain": [
       "(2205, 17)"
      ]
     },
     "execution_count": 5,
     "metadata": {},
     "output_type": "execute_result"
    }
   ],
   "source": [
    "metadata.shape"
   ]
  },
  {
   "cell_type": "code",
   "execution_count": 6,
   "metadata": {},
   "outputs": [
    {
     "data": {
      "text/plain": [
       "(2205, 13)"
      ]
     },
     "execution_count": 6,
     "metadata": {},
     "output_type": "execute_result"
    }
   ],
   "source": [
    "audio_features.shape"
   ]
  },
  {
   "cell_type": "code",
   "execution_count": 7,
   "metadata": {},
   "outputs": [
    {
     "data": {
      "text/plain": [
       "(2205, 48)"
      ]
     },
     "execution_count": 7,
     "metadata": {},
     "output_type": "execute_result"
    }
   ],
   "source": [
    "audio_analysis.shape"
   ]
  },
  {
   "cell_type": "code",
   "execution_count": 8,
   "metadata": {},
   "outputs": [
    {
     "data": {
      "text/plain": [
       "(2205, 61)"
      ]
     },
     "execution_count": 8,
     "metadata": {},
     "output_type": "execute_result"
    }
   ],
   "source": [
    "audio_tracks.shape"
   ]
  },
  {
   "cell_type": "markdown",
   "metadata": {},
   "source": [
    "# Tendencia al clustering (Hopkins)"
   ]
  },
  {
   "cell_type": "code",
   "execution_count": 27,
   "metadata": {},
   "outputs": [
    {
     "name": "stdout",
     "output_type": "stream",
     "text": [
      "Numero de puntos al azar por defecto\n"
     ]
    },
    {
     "data": {
      "text/plain": [
       "0.08059063830661234"
      ]
     },
     "execution_count": 27,
     "metadata": {},
     "output_type": "execute_result"
    }
   ],
   "source": [
    "hopkins(audio_features_norm)"
   ]
  },
  {
   "cell_type": "code",
   "execution_count": 28,
   "metadata": {},
   "outputs": [
    {
     "name": "stdout",
     "output_type": "stream",
     "text": [
      "Numero de puntos al azar por defecto\n"
     ]
    },
    {
     "data": {
      "text/plain": [
       "0.08442762169138371"
      ]
     },
     "execution_count": 28,
     "metadata": {},
     "output_type": "execute_result"
    }
   ],
   "source": [
    "hopkins(audio_analysis_norm)"
   ]
  },
  {
   "cell_type": "code",
   "execution_count": 29,
   "metadata": {},
   "outputs": [
    {
     "name": "stdout",
     "output_type": "stream",
     "text": [
      "Numero de puntos al azar por defecto\n"
     ]
    },
    {
     "data": {
      "text/plain": [
       "0.09781947338546644"
      ]
     },
     "execution_count": 29,
     "metadata": {},
     "output_type": "execute_result"
    }
   ],
   "source": [
    "hopkins(audio_tracks_norm)"
   ]
  },
  {
   "cell_type": "markdown",
   "metadata": {},
   "source": [
    "# Cluster Jerárquico"
   ]
  },
  {
   "cell_type": "code",
   "execution_count": 12,
   "metadata": {},
   "outputs": [
    {
     "data": {
      "text/plain": [
       "0.7042391118575693"
      ]
     },
     "execution_count": 12,
     "metadata": {},
     "output_type": "execute_result"
    },
    {
     "data": {
      "image/png": "[encoded data removed]",
      "text/plain": [
       "<Figure size 432x288 with 1 Axes>"
      ]
     },
     "metadata": {
      "needs_background": "light"
     },
     "output_type": "display_data"
    }
   ],
   "source": [
    "z = linkage(audio_features_norm, method = 'average', metric = 'euclidean')\n",
    "plt.figure()\n",
    "dn = dendrogram(z)\n",
    "c, coph_dists = cophenet(z, pdist(audio_features_norm))\n",
    "c"
   ]
  },
  {
   "cell_type": "code",
   "execution_count": 13,
   "metadata": {},
   "outputs": [
    {
     "data": {
      "text/html": [
       "<div>\n",
       "<style scoped>\n",
       "    .dataframe tbody tr th:only-of-type {\n",
       "        vertical-align: middle;\n",
       "    }\n",
       "\n",
       "    .dataframe tbody tr th {\n",
       "        vertical-align: top;\n",
       "    }\n",
       "\n",
       "    .dataframe thead th {\n",
       "        text-align: right;\n",
       "    }\n",
       "</style>\n",
       "<table border=\"1\" class=\"dataframe\">\n",
       "  <thead>\n",
       "    <tr style=\"text-align: right;\">\n",
       "      <th>audio_features</th>\n",
       "      <th>0</th>\n",
       "      <th>1</th>\n",
       "      <th>2</th>\n",
       "      <th>3</th>\n",
       "    </tr>\n",
       "    <tr>\n",
       "      <th>Generos</th>\n",
       "      <th></th>\n",
       "      <th></th>\n",
       "      <th></th>\n",
       "      <th></th>\n",
       "    </tr>\n",
       "  </thead>\n",
       "  <tbody>\n",
       "    <tr>\n",
       "      <th>ambient</th>\n",
       "      <td>208</td>\n",
       "      <td>65</td>\n",
       "      <td>187</td>\n",
       "      <td>0</td>\n",
       "    </tr>\n",
       "    <tr>\n",
       "      <th>classical</th>\n",
       "      <td>153</td>\n",
       "      <td>3</td>\n",
       "      <td>249</td>\n",
       "      <td>0</td>\n",
       "    </tr>\n",
       "    <tr>\n",
       "      <th>drum-and-bass</th>\n",
       "      <td>227</td>\n",
       "      <td>219</td>\n",
       "      <td>4</td>\n",
       "      <td>1</td>\n",
       "    </tr>\n",
       "    <tr>\n",
       "      <th>jazz</th>\n",
       "      <td>187</td>\n",
       "      <td>21</td>\n",
       "      <td>218</td>\n",
       "      <td>0</td>\n",
       "    </tr>\n",
       "    <tr>\n",
       "      <th>world-music</th>\n",
       "      <td>217</td>\n",
       "      <td>53</td>\n",
       "      <td>193</td>\n",
       "      <td>0</td>\n",
       "    </tr>\n",
       "  </tbody>\n",
       "</table>\n",
       "</div>"
      ],
      "text/plain": [
       "audio_features    0    1    2  3\n",
       "Generos                         \n",
       "ambient         208   65  187  0\n",
       "classical       153    3  249  0\n",
       "drum-and-bass   227  219    4  1\n",
       "jazz            187   21  218  0\n",
       "world-music     217   53  193  0"
      ]
     },
     "execution_count": 13,
     "metadata": {},
     "output_type": "execute_result"
    }
   ],
   "source": [
    "cluster = AgglomerativeClustering(n_clusters=4, affinity='euclidean', linkage='average')\n",
    "cluster.fit_predict(audio_features_norm)\n",
    "\n",
    "tmp = pd.DataFrame({'Generos': metadata.genre, 'audio_features': cluster.labels_})\n",
    "ct = pd.crosstab(tmp['Generos'], tmp['audio_features'])\n",
    "ct"
   ]
  },
  {
   "cell_type": "code",
   "execution_count": 14,
   "metadata": {},
   "outputs": [
    {
     "data": {
      "text/plain": [
       "0.8781725888324873"
      ]
     },
     "execution_count": 14,
     "metadata": {},
     "output_type": "execute_result"
    }
   ],
   "source": [
    "vanDongen(ct)"
   ]
  },
  {
   "cell_type": "code",
   "execution_count": 15,
   "metadata": {},
   "outputs": [
    {
     "data": {
      "text/plain": [
       "0.06530326767596259"
      ]
     },
     "execution_count": 15,
     "metadata": {},
     "output_type": "execute_result"
    }
   ],
   "source": [
    "adjusted_rand_score(metadata.genre, cluster.labels_)"
   ]
  },
  {
   "cell_type": "code",
   "execution_count": 16,
   "metadata": {},
   "outputs": [
    {
     "data": {
      "text/plain": [
       "<matplotlib.colorbar.Colorbar at 0x7f146bf176a0>"
      ]
     },
     "execution_count": 16,
     "metadata": {},
     "output_type": "execute_result"
    },
    {
     "data": {
      "image/png": "[encoded data removed]",
      "text/plain": [
       "<Figure size 432x288 with 2 Axes>"
      ]
     },
     "metadata": {
      "needs_background": "light"
     },
     "output_type": "display_data"
    }
   ],
   "source": [
    "tsne = TSNE(n_components=2,perplexity=200)\n",
    "Xred = tsne.fit_transform(audio_features_norm)\n",
    "plt.scatter(Xred[:,0], Xred[:,1], c=cluster.labels_, cmap=plt.cm.Spectral, alpha=0.7)\n",
    "plt.colorbar()"
   ]
  },
  {
   "cell_type": "code",
   "execution_count": 17,
   "metadata": {},
   "outputs": [
    {
     "data": {
      "text/plain": [
       "\"\\nz = linkage(audio_analysis_norm, method = 'average', metric = 'euclidean')\\nplt.figure()\\ndn = dendrogram(z)\\nc, coph_dists = cophenet(z, pdist(audio_analysis_norm))\\nc\\n\""
      ]
     },
     "execution_count": 17,
     "metadata": {},
     "output_type": "execute_result"
    }
   ],
   "source": [
    "'''\n",
    "z = linkage(audio_analysis_norm, method = 'average', metric = 'euclidean')\n",
    "plt.figure()\n",
    "dn = dendrogram(z)\n",
    "c, coph_dists = cophenet(z, pdist(audio_analysis_norm))\n",
    "c\n",
    "'''"
   ]
  },
  {
   "cell_type": "code",
   "execution_count": 18,
   "metadata": {},
   "outputs": [
    {
     "data": {
      "text/plain": [
       "\"\\nz = linkage(audio_tracks_norm, method = 'average', metric = 'euclidean')\\nplt.figure()\\ndn = dendrogram(z)\\nc, coph_dists = cophenet(z, pdist(audio_tracks_norm))\\nc\\n\""
      ]
     },
     "execution_count": 18,
     "metadata": {},
     "output_type": "execute_result"
    }
   ],
   "source": [
    "'''\n",
    "z = linkage(audio_tracks_norm, method = 'average', metric = 'euclidean')\n",
    "plt.figure()\n",
    "dn = dendrogram(z)\n",
    "c, coph_dists = cophenet(z, pdist(audio_tracks_norm))\n",
    "c\n",
    "'''"
   ]
  },
  {
   "cell_type": "code",
   "execution_count": 19,
   "metadata": {},
   "outputs": [
    {
     "data": {
      "text/plain": [
       "\"\\ncluster = AgglomerativeClustering(n_clusters=5, affinity='euclidean', linkage='average')\\ncluster.fit_predict(audio_features_norm)\\n\\ntmp = pd.DataFrame({'Generos': metadata.genre, 'audio_features': cluster.labels_})\\nct = pd.crosstab(tmp['Generos'], tmp['audio_features'])\\nct\\n\""
      ]
     },
     "execution_count": 19,
     "metadata": {},
     "output_type": "execute_result"
    }
   ],
   "source": [
    "'''\n",
    "cluster = AgglomerativeClustering(n_clusters=5, affinity='euclidean', linkage='average')\n",
    "cluster.fit_predict(audio_features_norm)\n",
    "\n",
    "tmp = pd.DataFrame({'Generos': metadata.genre, 'audio_features': cluster.labels_})\n",
    "ct = pd.crosstab(tmp['Generos'], tmp['audio_features'])\n",
    "ct\n",
    "'''"
   ]
  },
  {
   "cell_type": "code",
   "execution_count": 20,
   "metadata": {},
   "outputs": [],
   "source": [
    "# vanDongen(ct)"
   ]
  },
  {
   "cell_type": "code",
   "execution_count": 21,
   "metadata": {},
   "outputs": [],
   "source": [
    "# adjusted_rand_score(metadata.genre, cluster.labels_)"
   ]
  },
  {
   "cell_type": "markdown",
   "metadata": {},
   "source": [
    "# Hiperparametrización"
   ]
  },
  {
   "cell_type": "code",
   "execution_count": 22,
   "metadata": {},
   "outputs": [
    {
     "data": {
      "text/plain": [
       "'\\ncolumns = [\\'Dataset\\', \\'Method\\', \\'Metric\\', \\'Scaler\\', \\'Cophenet\\', \\'vanDongen\\', \\'adjRand\\']\\nresults = []\\n\\neuclidean_methods = [\\'single\\', \\'complete\\', \\'average\\', \\'ward\\']\\nmethods = [\\'single\\', \\'complete\\', \\'average\\']\\n\\ndatasets = {\\n    \"audio_features\": audio_features,\\n    \"audio_analysis\": audio_analysis,\\n    \"audio_tracks\": audio_tracks\\n}\\n\\nscalers = {\\n    \"minMax\": MinMaxScaler(feature_range=(0,1)),\\n    \"standard\": StandardScaler()\\n}\\n\\nmetrics = [\\'braycurtis\\', \\'canberra\\', \\'chebyshev\\', \\'cityblock\\',\\n           \\'correlation\\', \\'cosine\\', \\'dice\\', \\'euclidean\\', \\'hamming\\',\\n           \\'jaccard\\', \\'kulsinski\\', \\'mahalanobis\\', \\'matching\\', \\'minkowski\\',\\n           \\'rogerstanimoto\\', \\'russellrao\\', \\'seuclidean\\', \\'sokalmichener\\',\\n           \\'sokalsneath\\', \\'sqeuclidean\\']\\n\\nfor dataset in datasets.keys():\\n    for metric in metrics:\\n        possible_methods = euclidean_methods if metric == \\'euclidean\\' else methods\\n        for method in possible_methods:\\n            for scaler in scalers.keys():\\n                print(dataset + \\', \\' + metric + \\', \\' + method + \\', \\' + scaler)\\n                df = scalers[scaler].fit_transform(datasets[dataset])\\n                z = linkage(df, method = method, metric = metric)\\n                c, coph_dists = cophenet(z, pdist(df))                    \\n                cluster = AgglomerativeClustering(n_clusters = 5, affinity = metric, linkage = method)\\n                cluster.fit_predict(datasets[dataset])\\n                tmp = pd.DataFrame({\\'Generos\\': metadata.genre, \\'clusters\\': cluster.labels_})\\n                ct = pd.crosstab(tmp[\\'Generos\\'], tmp[\\'clusters\\'])\\n                vd = vanDongen(ct)\\n                rand = adjusted_rand_score(metadata.genre, cluster.labels_)                    \\n                results.append([dataset, method, metric, scaler, c, vd, rand])\\n                    \\ndf_results = pd.DataFrame(results, columns = columns)\\ndf_results\\n'"
      ]
     },
     "execution_count": 22,
     "metadata": {},
     "output_type": "execute_result"
    }
   ],
   "source": [
    "'''\n",
    "columns = ['Dataset', 'Method', 'Metric', 'Scaler', 'Cophenet', 'vanDongen', 'adjRand']\n",
    "results = []\n",
    "\n",
    "euclidean_methods = ['single', 'complete', 'average', 'ward']\n",
    "methods = ['single', 'complete', 'average']\n",
    "\n",
    "datasets = {\n",
    "    \"audio_features\": audio_features,\n",
    "    \"audio_analysis\": audio_analysis,\n",
    "    \"audio_tracks\": audio_tracks\n",
    "}\n",
    "\n",
    "scalers = {\n",
    "    \"minMax\": MinMaxScaler(feature_range=(0,1)),\n",
    "    \"standard\": StandardScaler()\n",
    "}\n",
    "\n",
    "metrics = ['braycurtis', 'canberra', 'chebyshev', 'cityblock',\n",
    "           'correlation', 'cosine', 'dice', 'euclidean', 'hamming',\n",
    "           'jaccard', 'kulsinski', 'mahalanobis', 'matching', 'minkowski',\n",
    "           'rogerstanimoto', 'russellrao', 'seuclidean', 'sokalmichener',\n",
    "           'sokalsneath', 'sqeuclidean']\n",
    "\n",
    "for dataset in datasets.keys():\n",
    "    for metric in metrics:\n",
    "        possible_methods = euclidean_methods if metric == 'euclidean' else methods\n",
    "        for method in possible_methods:\n",
    "            for scaler in scalers.keys():\n",
    "                print(dataset + ', ' + metric + ', ' + method + ', ' + scaler)\n",
    "                df = scalers[scaler].fit_transform(datasets[dataset])\n",
    "                z = linkage(df, method = method, metric = metric)\n",
    "                c, coph_dists = cophenet(z, pdist(df))                    \n",
    "                cluster = AgglomerativeClustering(n_clusters = 5, affinity = metric, linkage = method)\n",
    "                cluster.fit_predict(datasets[dataset])\n",
    "                tmp = pd.DataFrame({'Generos': metadata.genre, 'clusters': cluster.labels_})\n",
    "                ct = pd.crosstab(tmp['Generos'], tmp['clusters'])\n",
    "                vd = vanDongen(ct)\n",
    "                rand = adjusted_rand_score(metadata.genre, cluster.labels_)                    \n",
    "                results.append([dataset, method, metric, scaler, c, vd, rand])\n",
    "                    \n",
    "df_results = pd.DataFrame(results, columns = columns)\n",
    "df_results\n",
    "'''"
   ]
  },
  {
   "cell_type": "code",
   "execution_count": 23,
   "metadata": {},
   "outputs": [],
   "source": [
    "# df_results.to_csv('hierarchical.csv', index = False)"
   ]
  }
 ],
 "metadata": {
  "kernelspec": {
   "display_name": "Python 3",
   "language": "python",
   "name": "python3"
  },
  "language_info": {
   "codemirror_mode": {
    "name": "ipython",
    "version": 3
   },
   "file_extension": ".py",
   "mimetype": "text/x-python",
   "name": "python",
   "nbconvert_exporter": "python",
   "pygments_lexer": "ipython3",
   "version": "3.7.3"
  }
 },
 "nbformat": 4,
 "nbformat_minor": 2
}
