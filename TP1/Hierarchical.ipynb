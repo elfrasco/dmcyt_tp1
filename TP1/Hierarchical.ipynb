{
 "cells": [
  {
   "cell_type": "code",
   "execution_count": 1,
   "metadata": {},
   "outputs": [],
   "source": [
    "# %reset\n",
    "# Para visualización en notebook\n",
    "%matplotlib inline\n",
    "import matplotlib.pyplot as plt\n",
    "import matplotlib.cm as cm\n",
    "import matplotlib as mpl\n",
    "mpl.rcParams['figure.figsize'] = (8,6)\n",
    "mpl.rcParams['font.size'] = 22\n",
    "from IPython.display import Audio, Markdown, Image\n",
    "import pylab\n",
    "import seaborn as sns\n",
    "\n",
    "# Números y Datos\n",
    "import numpy as np\n",
    "import pandas as pd\n",
    "\n",
    "# Archivos\n",
    "import urllib.request\n",
    "import glob\n",
    "\n",
    "# Análisis de sonido\n",
    "import spotipy \n",
    "\n",
    "# Machine learning\n",
    "# importar los paquetes para clustering\n",
    "from sklearn.preprocessing import StandardScaler\n",
    "\n",
    "# To work with categorical types\n",
    "from pandas.api.types import CategoricalDtype\n",
    "\n",
    "# Clustering (scipy)\n",
    "from scipy.spatial.distance import pdist, squareform\n",
    "from scipy.cluster.hierarchy import dendrogram, linkage, cophenet, fcluster\n",
    "\n",
    "# Clustering (sklearn)\n",
    "from sklearn.preprocessing import MinMaxScaler\n",
    "\n",
    "from sklearn.cluster import KMeans, DBSCAN\n",
    "from sklearn.metrics import adjusted_rand_score, silhouette_score, silhouette_samples\n",
    "from sklearn.neighbors import NearestNeighbors\n",
    "\n",
    "from sklearn.metrics.pairwise import euclidean_distances\n",
    "\n",
    "from funciones import plot_silhouette\n",
    "from funciones import plot_silhouettes_and_sses\n",
    "from funciones import get_silhouette_avg\n",
    "from funciones import get_sse\n",
    "from funciones import vanDongen\n",
    "from funciones import hopkins\n",
    "\n",
    "from sklearn.decomposition import PCA, TruncatedSVD\n",
    "from sklearn.manifold import MDS, Isomap, SpectralEmbedding, TSNE\n",
    "\n",
    "from sklearn.cluster import AgglomerativeClustering"
   ]
  },
  {
   "cell_type": "code",
   "execution_count": 2,
   "metadata": {},
   "outputs": [],
   "source": [
    "scaler = MinMaxScaler(feature_range=(0,1))\n",
    "#scaler = StandardScaler()"
   ]
  },
  {
   "cell_type": "markdown",
   "metadata": {},
   "source": [
    "Se cargan los dataset"
   ]
  },
  {
   "cell_type": "code",
   "execution_count": 3,
   "metadata": {},
   "outputs": [],
   "source": [
    "metadata = pd.read_csv('../data/metadata.csv', index_col='id')\n",
    "audio_features = pd.read_csv('../data/audio_features.csv', index_col='id')\n",
    "audio_analysis = pd.read_csv('../data/audio_analysis.csv', index_col='id')\n",
    "\n",
    "audio_features = audio_features[['acousticness','danceability', 'duration_ms', 'energy', 'instrumentalness', 'key', 'liveness','loudness', 'mode', 'speechiness', 'tempo', 'time_signature', 'valence']]\n",
    "\n",
    "# Para que las comparaciones sean del mismo largo,\n",
    "# se remueve de audio_feature y metadata el track que no se encuentra en audio_analysis\n",
    "merged = audio_features.merge(audio_analysis, how = 'left', on = 'id')\n",
    "id_to_remove = merged[merged.timbre_mean_0.isnull()].index[0]\n",
    "\n",
    "audio_features = audio_features.drop(id_to_remove, axis = 0)\n",
    "\n",
    "audio_tracks = pd.merge(audio_features, audio_analysis, how = 'inner', on = 'id')\n",
    "metadata = metadata.drop(id_to_remove, axis = 0)\n",
    "\n",
    "# Se ordenan los datasets para que los tracks estén en el mismo orden\n",
    "audio_features = audio_features.sort_index()\n",
    "audio_analysis = audio_analysis.sort_index()\n",
    "audio_tracks = audio_tracks.sort_index()\n",
    "metadata = metadata.sort_index()\n",
    "\n",
    "# Comentar si no se quiere estandarizar\n",
    "audio_features_norm = scaler.fit_transform(audio_features)\n",
    "audio_analysis_norm = scaler.fit_transform(audio_analysis)\n",
    "audio_tracks_norm = scaler.fit_transform(audio_tracks)"
   ]
  },
  {
   "cell_type": "code",
   "execution_count": 22,
   "metadata": {},
   "outputs": [],
   "source": [
    "features = pd.DataFrame(audio_features_norm)\n",
    "analysis = pd.DataFrame(audio_analysis_norm)\n",
    "tracks = pd.DataFrame(audio_tracks_norm)\n",
    "\n",
    "features.to_csv('embedding_projector/audio_features.csv', index=False, sep='\\t', header=False)\n",
    "analysis.to_csv('embedding_projector/audio_analysis.csv', index=False, sep='\\t', header=False)\n",
    "tracks.to_csv('embedding_projector/audio_tracks.csv', index=False, sep='\\t', header=False)"
   ]
  },
  {
   "cell_type": "code",
   "execution_count": 5,
   "metadata": {},
   "outputs": [
    {
     "data": {
      "text/plain": [
       "(2205, 17)"
      ]
     },
     "execution_count": 5,
     "metadata": {},
     "output_type": "execute_result"
    }
   ],
   "source": [
    "metadata.shape"
   ]
  },
  {
   "cell_type": "code",
   "execution_count": 6,
   "metadata": {},
   "outputs": [
    {
     "data": {
      "text/plain": [
       "(2205, 13)"
      ]
     },
     "execution_count": 6,
     "metadata": {},
     "output_type": "execute_result"
    }
   ],
   "source": [
    "audio_features.shape"
   ]
  },
  {
   "cell_type": "code",
   "execution_count": 7,
   "metadata": {},
   "outputs": [
    {
     "data": {
      "text/plain": [
       "(2205, 48)"
      ]
     },
     "execution_count": 7,
     "metadata": {},
     "output_type": "execute_result"
    }
   ],
   "source": [
    "audio_analysis.shape"
   ]
  },
  {
   "cell_type": "code",
   "execution_count": 8,
   "metadata": {},
   "outputs": [
    {
     "data": {
      "text/plain": [
       "(2205, 61)"
      ]
     },
     "execution_count": 8,
     "metadata": {},
     "output_type": "execute_result"
    }
   ],
   "source": [
    "audio_tracks.shape"
   ]
  },
  {
   "cell_type": "markdown",
   "metadata": {},
   "source": [
    "# Tendencia al clustering (Hopkins)"
   ]
  },
  {
   "cell_type": "code",
   "execution_count": 9,
   "metadata": {},
   "outputs": [
    {
     "name": "stdout",
     "output_type": "stream",
     "text": [
      "Numero de puntos al azar por defecto\n"
     ]
    },
    {
     "data": {
      "text/plain": [
       "0.07487758176404795"
      ]
     },
     "execution_count": 9,
     "metadata": {},
     "output_type": "execute_result"
    }
   ],
   "source": [
    "hopkins(audio_features_norm)"
   ]
  },
  {
   "cell_type": "code",
   "execution_count": 10,
   "metadata": {},
   "outputs": [
    {
     "name": "stdout",
     "output_type": "stream",
     "text": [
      "Numero de puntos al azar por defecto\n"
     ]
    },
    {
     "data": {
      "text/plain": [
       "0.08443786158211089"
      ]
     },
     "execution_count": 10,
     "metadata": {},
     "output_type": "execute_result"
    }
   ],
   "source": [
    "hopkins(audio_analysis_norm)"
   ]
  },
  {
   "cell_type": "code",
   "execution_count": 11,
   "metadata": {},
   "outputs": [
    {
     "name": "stdout",
     "output_type": "stream",
     "text": [
      "Numero de puntos al azar por defecto\n"
     ]
    },
    {
     "data": {
      "text/plain": [
       "0.0994598961013563"
      ]
     },
     "execution_count": 11,
     "metadata": {},
     "output_type": "execute_result"
    }
   ],
   "source": [
    "hopkins(audio_tracks_norm)"
   ]
  },
  {
   "cell_type": "markdown",
   "metadata": {},
   "source": [
    "# Cluster Jerárquico"
   ]
  },
  {
   "cell_type": "code",
   "execution_count": 12,
   "metadata": {},
   "outputs": [
    {
     "data": {
      "text/plain": [
       "0.7042391118575693"
      ]
     },
     "execution_count": 12,
     "metadata": {},
     "output_type": "execute_result"
    },
    {
     "data": {
      "image/png": "[encoded data removed]",
      "text/plain": [
       "<Figure size 432x288 with 1 Axes>"
      ]
     },
     "metadata": {
      "needs_background": "light"
     },
     "output_type": "display_data"
    }
   ],
   "source": [
    "z = linkage(audio_features_norm, method = 'average', metric = 'euclidean')\n",
    "plt.figure()\n",
    "dn = dendrogram(z)\n",
    "c, coph_dists = cophenet(z, pdist(audio_features_norm))\n",
    "c"
   ]
  },
  {
   "cell_type": "code",
   "execution_count": 13,
   "metadata": {},
   "outputs": [
    {
     "data": {
      "text/plain": [
       "0.747302625630334"
      ]
     },
     "execution_count": 13,
     "metadata": {},
     "output_type": "execute_result"
    },
    {
     "data": {
      "image/png": "[encoded data removed]",
      "text/plain": [
       "<Figure size 432x288 with 1 Axes>"
      ]
     },
     "metadata": {
      "needs_background": "light"
     },
     "output_type": "display_data"
    }
   ],
   "source": [
    "z = linkage(audio_analysis_norm, method = 'average', metric = 'euclidean')\n",
    "plt.figure()\n",
    "dn = dendrogram(z)\n",
    "c, coph_dists = cophenet(z, pdist(audio_analysis_norm))\n",
    "c"
   ]
  },
  {
   "cell_type": "code",
   "execution_count": 14,
   "metadata": {},
   "outputs": [
    {
     "data": {
      "text/plain": [
       "0.6075625000361728"
      ]
     },
     "execution_count": 14,
     "metadata": {},
     "output_type": "execute_result"
    },
    {
     "data": {
      "image/png": "[encoded data removed]",
      "text/plain": [
       "<Figure size 432x288 with 1 Axes>"
      ]
     },
     "metadata": {
      "needs_background": "light"
     },
     "output_type": "display_data"
    }
   ],
   "source": [
    "z = linkage(audio_tracks_norm, method = 'average', metric = 'euclidean')\n",
    "plt.figure()\n",
    "dn = dendrogram(z)\n",
    "c, coph_dists = cophenet(z, pdist(audio_tracks_norm))\n",
    "c"
   ]
  },
  {
   "cell_type": "code",
   "execution_count": 15,
   "metadata": {},
   "outputs": [
    {
     "data": {
      "text/html": [
       "<div>\n",
       "<style scoped>\n",
       "    .dataframe tbody tr th:only-of-type {\n",
       "        vertical-align: middle;\n",
       "    }\n",
       "\n",
       "    .dataframe tbody tr th {\n",
       "        vertical-align: top;\n",
       "    }\n",
       "\n",
       "    .dataframe thead th {\n",
       "        text-align: right;\n",
       "    }\n",
       "</style>\n",
       "<table border=\"1\" class=\"dataframe\">\n",
       "  <thead>\n",
       "    <tr style=\"text-align: right;\">\n",
       "      <th>audio_features</th>\n",
       "      <th>0</th>\n",
       "      <th>1</th>\n",
       "      <th>2</th>\n",
       "      <th>3</th>\n",
       "      <th>4</th>\n",
       "    </tr>\n",
       "    <tr>\n",
       "      <th>Generos</th>\n",
       "      <th></th>\n",
       "      <th></th>\n",
       "      <th></th>\n",
       "      <th></th>\n",
       "      <th></th>\n",
       "    </tr>\n",
       "  </thead>\n",
       "  <tbody>\n",
       "    <tr>\n",
       "      <th>ambient</th>\n",
       "      <td>187</td>\n",
       "      <td>60</td>\n",
       "      <td>148</td>\n",
       "      <td>0</td>\n",
       "      <td>65</td>\n",
       "    </tr>\n",
       "    <tr>\n",
       "      <th>classical</th>\n",
       "      <td>249</td>\n",
       "      <td>1</td>\n",
       "      <td>152</td>\n",
       "      <td>0</td>\n",
       "      <td>3</td>\n",
       "    </tr>\n",
       "    <tr>\n",
       "      <th>drum-and-bass</th>\n",
       "      <td>4</td>\n",
       "      <td>227</td>\n",
       "      <td>0</td>\n",
       "      <td>1</td>\n",
       "      <td>219</td>\n",
       "    </tr>\n",
       "    <tr>\n",
       "      <th>jazz</th>\n",
       "      <td>218</td>\n",
       "      <td>28</td>\n",
       "      <td>159</td>\n",
       "      <td>0</td>\n",
       "      <td>21</td>\n",
       "    </tr>\n",
       "    <tr>\n",
       "      <th>world-music</th>\n",
       "      <td>193</td>\n",
       "      <td>61</td>\n",
       "      <td>156</td>\n",
       "      <td>0</td>\n",
       "      <td>53</td>\n",
       "    </tr>\n",
       "  </tbody>\n",
       "</table>\n",
       "</div>"
      ],
      "text/plain": [
       "audio_features    0    1    2  3    4\n",
       "Generos                              \n",
       "ambient         187   60  148  0   65\n",
       "classical       249    1  152  0    3\n",
       "drum-and-bass     4  227    0  1  219\n",
       "jazz            218   28  159  0   21\n",
       "world-music     193   61  156  0   53"
      ]
     },
     "execution_count": 15,
     "metadata": {},
     "output_type": "execute_result"
    }
   ],
   "source": [
    "cluster = AgglomerativeClustering(n_clusters=5, affinity='euclidean', linkage='average')\n",
    "cluster.fit_predict(audio_features_norm)\n",
    "\n",
    "tmp = pd.DataFrame({'Generos': metadata.genre, 'audio_features': cluster.labels_})\n",
    "ct = pd.crosstab(tmp['Generos'], tmp['audio_features'])\n",
    "ct"
   ]
  },
  {
   "cell_type": "code",
   "execution_count": 16,
   "metadata": {},
   "outputs": [
    {
     "data": {
      "text/plain": [
       "0.8013565891472868"
      ]
     },
     "execution_count": 16,
     "metadata": {},
     "output_type": "execute_result"
    }
   ],
   "source": [
    "vanDongen(ct)"
   ]
  },
  {
   "cell_type": "code",
   "execution_count": 17,
   "metadata": {},
   "outputs": [
    {
     "data": {
      "text/plain": [
       "0.12754503358419514"
      ]
     },
     "execution_count": 17,
     "metadata": {},
     "output_type": "execute_result"
    }
   ],
   "source": [
    "adjusted_rand_score(metadata.genre, cluster.labels_)"
   ]
  },
  {
   "cell_type": "markdown",
   "metadata": {},
   "source": [
    "# Hiperparametrización"
   ]
  },
  {
   "cell_type": "code",
   "execution_count": 18,
   "metadata": {},
   "outputs": [
    {
     "name": "stdout",
     "output_type": "stream",
     "text": [
      "audio_features, braycurtis, single, minMax\n",
      "audio_features, braycurtis, single, standard\n",
      "audio_features, braycurtis, complete, minMax\n",
      "audio_features, braycurtis, complete, standard\n",
      "audio_features, braycurtis, average, minMax\n",
      "audio_features, braycurtis, average, standard\n",
      "audio_features, canberra, single, minMax\n",
      "audio_features, canberra, single, standard\n",
      "audio_features, canberra, complete, minMax\n",
      "audio_features, canberra, complete, standard\n",
      "audio_features, canberra, average, minMax\n",
      "audio_features, canberra, average, standard\n",
      "audio_features, chebyshev, single, minMax\n",
      "audio_features, chebyshev, single, standard\n",
      "audio_features, chebyshev, complete, minMax\n",
      "audio_features, chebyshev, complete, standard\n",
      "audio_features, chebyshev, average, minMax\n",
      "audio_features, chebyshev, average, standard\n",
      "audio_features, cityblock, single, minMax\n",
      "audio_features, cityblock, single, standard\n",
      "audio_features, cityblock, complete, minMax\n",
      "audio_features, cityblock, complete, standard\n",
      "audio_features, cityblock, average, minMax\n",
      "audio_features, cityblock, average, standard\n",
      "audio_features, correlation, single, minMax\n",
      "audio_features, correlation, single, standard\n",
      "audio_features, correlation, complete, minMax\n",
      "audio_features, correlation, complete, standard\n",
      "audio_features, correlation, average, minMax\n",
      "audio_features, correlation, average, standard\n",
      "audio_features, cosine, single, minMax\n",
      "audio_features, cosine, single, standard\n",
      "audio_features, cosine, complete, minMax\n",
      "audio_features, cosine, complete, standard\n",
      "audio_features, cosine, average, minMax\n",
      "audio_features, cosine, average, standard\n",
      "audio_features, dice, single, minMax\n",
      "audio_features, dice, single, standard\n"
     ]
    },
    {
     "name": "stderr",
     "output_type": "stream",
     "text": [
      "/home/frasco/anaconda3/lib/python3.7/site-packages/scipy/cluster/hierarchy.py:1699: RuntimeWarning: invalid value encountered in double_scalars\n",
      "  c = numerator.sum() / np.sqrt((denomA.sum() * denomB.sum()))\n"
     ]
    },
    {
     "name": "stdout",
     "output_type": "stream",
     "text": [
      "audio_features, dice, complete, minMax\n",
      "audio_features, dice, complete, standard\n"
     ]
    },
    {
     "name": "stderr",
     "output_type": "stream",
     "text": [
      "/home/frasco/anaconda3/lib/python3.7/site-packages/scipy/cluster/hierarchy.py:1699: RuntimeWarning: invalid value encountered in double_scalars\n",
      "  c = numerator.sum() / np.sqrt((denomA.sum() * denomB.sum()))\n"
     ]
    },
    {
     "name": "stdout",
     "output_type": "stream",
     "text": [
      "audio_features, dice, average, minMax\n",
      "audio_features, dice, average, standard\n"
     ]
    },
    {
     "name": "stderr",
     "output_type": "stream",
     "text": [
      "/home/frasco/anaconda3/lib/python3.7/site-packages/scipy/cluster/hierarchy.py:1699: RuntimeWarning: invalid value encountered in double_scalars\n",
      "  c = numerator.sum() / np.sqrt((denomA.sum() * denomB.sum()))\n"
     ]
    },
    {
     "name": "stdout",
     "output_type": "stream",
     "text": [
      "audio_features, euclidean, single, minMax\n",
      "audio_features, euclidean, single, standard\n",
      "audio_features, euclidean, complete, minMax\n",
      "audio_features, euclidean, complete, standard\n",
      "audio_features, euclidean, average, minMax\n",
      "audio_features, euclidean, average, standard\n",
      "audio_features, euclidean, ward, minMax\n",
      "audio_features, euclidean, ward, standard\n",
      "audio_features, hamming, single, minMax\n",
      "audio_features, hamming, single, standard\n",
      "audio_features, hamming, complete, minMax\n",
      "audio_features, hamming, complete, standard\n",
      "audio_features, hamming, average, minMax\n",
      "audio_features, hamming, average, standard\n",
      "audio_features, jaccard, single, minMax\n",
      "audio_features, jaccard, single, standard\n",
      "audio_features, jaccard, complete, minMax\n",
      "audio_features, jaccard, complete, standard\n",
      "audio_features, jaccard, average, minMax\n",
      "audio_features, jaccard, average, standard\n",
      "audio_features, kulsinski, single, minMax\n",
      "audio_features, kulsinski, single, standard\n"
     ]
    },
    {
     "name": "stderr",
     "output_type": "stream",
     "text": [
      "/home/frasco/anaconda3/lib/python3.7/site-packages/scipy/cluster/hierarchy.py:1699: RuntimeWarning: invalid value encountered in double_scalars\n",
      "  c = numerator.sum() / np.sqrt((denomA.sum() * denomB.sum()))\n"
     ]
    },
    {
     "name": "stdout",
     "output_type": "stream",
     "text": [
      "audio_features, kulsinski, complete, minMax\n",
      "audio_features, kulsinski, complete, standard\n"
     ]
    },
    {
     "name": "stderr",
     "output_type": "stream",
     "text": [
      "/home/frasco/anaconda3/lib/python3.7/site-packages/scipy/cluster/hierarchy.py:1699: RuntimeWarning: invalid value encountered in double_scalars\n",
      "  c = numerator.sum() / np.sqrt((denomA.sum() * denomB.sum()))\n"
     ]
    },
    {
     "name": "stdout",
     "output_type": "stream",
     "text": [
      "audio_features, kulsinski, average, minMax\n",
      "audio_features, kulsinski, average, standard\n"
     ]
    },
    {
     "name": "stderr",
     "output_type": "stream",
     "text": [
      "/home/frasco/anaconda3/lib/python3.7/site-packages/scipy/cluster/hierarchy.py:1699: RuntimeWarning: invalid value encountered in double_scalars\n",
      "  c = numerator.sum() / np.sqrt((denomA.sum() * denomB.sum()))\n"
     ]
    },
    {
     "name": "stdout",
     "output_type": "stream",
     "text": [
      "audio_features, mahalanobis, single, minMax\n",
      "audio_features, mahalanobis, single, standard\n",
      "audio_features, mahalanobis, complete, minMax\n",
      "audio_features, mahalanobis, complete, standard\n",
      "audio_features, mahalanobis, average, minMax\n",
      "audio_features, mahalanobis, average, standard\n",
      "audio_features, matching, single, minMax\n",
      "audio_features, matching, single, standard\n",
      "audio_features, matching, complete, minMax\n",
      "audio_features, matching, complete, standard\n",
      "audio_features, matching, average, minMax\n",
      "audio_features, matching, average, standard\n",
      "audio_features, minkowski, single, minMax\n",
      "audio_features, minkowski, single, standard\n",
      "audio_features, minkowski, complete, minMax\n",
      "audio_features, minkowski, complete, standard\n",
      "audio_features, minkowski, average, minMax\n",
      "audio_features, minkowski, average, standard\n",
      "audio_features, rogerstanimoto, single, minMax\n",
      "audio_features, rogerstanimoto, single, standard\n",
      "audio_features, rogerstanimoto, complete, minMax\n"
     ]
    },
    {
     "name": "stderr",
     "output_type": "stream",
     "text": [
      "/home/frasco/anaconda3/lib/python3.7/site-packages/scipy/cluster/hierarchy.py:1699: RuntimeWarning: invalid value encountered in double_scalars\n",
      "  c = numerator.sum() / np.sqrt((denomA.sum() * denomB.sum()))\n"
     ]
    },
    {
     "name": "stdout",
     "output_type": "stream",
     "text": [
      "audio_features, rogerstanimoto, complete, standard\n"
     ]
    },
    {
     "name": "stderr",
     "output_type": "stream",
     "text": [
      "/home/frasco/anaconda3/lib/python3.7/site-packages/scipy/cluster/hierarchy.py:1699: RuntimeWarning: invalid value encountered in double_scalars\n",
      "  c = numerator.sum() / np.sqrt((denomA.sum() * denomB.sum()))\n"
     ]
    },
    {
     "name": "stdout",
     "output_type": "stream",
     "text": [
      "audio_features, rogerstanimoto, average, minMax\n",
      "audio_features, rogerstanimoto, average, standard\n"
     ]
    },
    {
     "name": "stderr",
     "output_type": "stream",
     "text": [
      "/home/frasco/anaconda3/lib/python3.7/site-packages/scipy/cluster/hierarchy.py:1699: RuntimeWarning: invalid value encountered in double_scalars\n",
      "  c = numerator.sum() / np.sqrt((denomA.sum() * denomB.sum()))\n"
     ]
    },
    {
     "name": "stdout",
     "output_type": "stream",
     "text": [
      "audio_features, russellrao, single, minMax\n",
      "audio_features, russellrao, single, standard\n"
     ]
    },
    {
     "name": "stderr",
     "output_type": "stream",
     "text": [
      "/home/frasco/anaconda3/lib/python3.7/site-packages/scipy/cluster/hierarchy.py:1699: RuntimeWarning: invalid value encountered in double_scalars\n",
      "  c = numerator.sum() / np.sqrt((denomA.sum() * denomB.sum()))\n"
     ]
    },
    {
     "name": "stdout",
     "output_type": "stream",
     "text": [
      "audio_features, russellrao, complete, minMax\n",
      "audio_features, russellrao, complete, standard\n"
     ]
    },
    {
     "name": "stderr",
     "output_type": "stream",
     "text": [
      "/home/frasco/anaconda3/lib/python3.7/site-packages/scipy/cluster/hierarchy.py:1699: RuntimeWarning: invalid value encountered in double_scalars\n",
      "  c = numerator.sum() / np.sqrt((denomA.sum() * denomB.sum()))\n"
     ]
    },
    {
     "name": "stdout",
     "output_type": "stream",
     "text": [
      "audio_features, russellrao, average, minMax\n",
      "audio_features, russellrao, average, standard\n"
     ]
    },
    {
     "name": "stderr",
     "output_type": "stream",
     "text": [
      "/home/frasco/anaconda3/lib/python3.7/site-packages/scipy/cluster/hierarchy.py:1699: RuntimeWarning: invalid value encountered in double_scalars\n",
      "  c = numerator.sum() / np.sqrt((denomA.sum() * denomB.sum()))\n"
     ]
    },
    {
     "name": "stdout",
     "output_type": "stream",
     "text": [
      "audio_features, seuclidean, single, minMax\n",
      "audio_features, seuclidean, single, standard\n",
      "audio_features, seuclidean, complete, minMax\n",
      "audio_features, seuclidean, complete, standard\n",
      "audio_features, seuclidean, average, minMax\n",
      "audio_features, seuclidean, average, standard\n",
      "audio_features, sokalmichener, single, minMax\n",
      "audio_features, sokalmichener, single, standard\n"
     ]
    },
    {
     "name": "stderr",
     "output_type": "stream",
     "text": [
      "/home/frasco/anaconda3/lib/python3.7/site-packages/scipy/cluster/hierarchy.py:1699: RuntimeWarning: invalid value encountered in double_scalars\n",
      "  c = numerator.sum() / np.sqrt((denomA.sum() * denomB.sum()))\n"
     ]
    },
    {
     "name": "stdout",
     "output_type": "stream",
     "text": [
      "audio_features, sokalmichener, complete, minMax\n",
      "audio_features, sokalmichener, complete, standard\n"
     ]
    },
    {
     "name": "stderr",
     "output_type": "stream",
     "text": [
      "/home/frasco/anaconda3/lib/python3.7/site-packages/scipy/cluster/hierarchy.py:1699: RuntimeWarning: invalid value encountered in double_scalars\n",
      "  c = numerator.sum() / np.sqrt((denomA.sum() * denomB.sum()))\n"
     ]
    },
    {
     "name": "stdout",
     "output_type": "stream",
     "text": [
      "audio_features, sokalmichener, average, minMax\n",
      "audio_features, sokalmichener, average, standard\n"
     ]
    },
    {
     "name": "stderr",
     "output_type": "stream",
     "text": [
      "/home/frasco/anaconda3/lib/python3.7/site-packages/scipy/cluster/hierarchy.py:1699: RuntimeWarning: invalid value encountered in double_scalars\n",
      "  c = numerator.sum() / np.sqrt((denomA.sum() * denomB.sum()))\n"
     ]
    },
    {
     "name": "stdout",
     "output_type": "stream",
     "text": [
      "audio_features, sokalsneath, single, minMax\n",
      "audio_features, sokalsneath, single, standard\n"
     ]
    },
    {
     "name": "stderr",
     "output_type": "stream",
     "text": [
      "/home/frasco/anaconda3/lib/python3.7/site-packages/scipy/cluster/hierarchy.py:1699: RuntimeWarning: invalid value encountered in double_scalars\n",
      "  c = numerator.sum() / np.sqrt((denomA.sum() * denomB.sum()))\n"
     ]
    },
    {
     "name": "stdout",
     "output_type": "stream",
     "text": [
      "audio_features, sokalsneath, complete, minMax\n",
      "audio_features, sokalsneath, complete, standard\n"
     ]
    },
    {
     "name": "stderr",
     "output_type": "stream",
     "text": [
      "/home/frasco/anaconda3/lib/python3.7/site-packages/scipy/cluster/hierarchy.py:1699: RuntimeWarning: invalid value encountered in double_scalars\n",
      "  c = numerator.sum() / np.sqrt((denomA.sum() * denomB.sum()))\n"
     ]
    },
    {
     "name": "stdout",
     "output_type": "stream",
     "text": [
      "audio_features, sokalsneath, average, minMax\n",
      "audio_features, sokalsneath, average, standard\n"
     ]
    },
    {
     "name": "stderr",
     "output_type": "stream",
     "text": [
      "/home/frasco/anaconda3/lib/python3.7/site-packages/scipy/cluster/hierarchy.py:1699: RuntimeWarning: invalid value encountered in double_scalars\n",
      "  c = numerator.sum() / np.sqrt((denomA.sum() * denomB.sum()))\n"
     ]
    },
    {
     "name": "stdout",
     "output_type": "stream",
     "text": [
      "audio_features, sqeuclidean, single, minMax\n",
      "audio_features, sqeuclidean, single, standard\n",
      "audio_features, sqeuclidean, complete, minMax\n",
      "audio_features, sqeuclidean, complete, standard\n",
      "audio_features, sqeuclidean, average, minMax\n",
      "audio_features, sqeuclidean, average, standard\n",
      "audio_analysis, braycurtis, single, minMax\n",
      "audio_analysis, braycurtis, single, standard\n",
      "audio_analysis, braycurtis, complete, minMax\n",
      "audio_analysis, braycurtis, complete, standard\n",
      "audio_analysis, braycurtis, average, minMax\n",
      "audio_analysis, braycurtis, average, standard\n",
      "audio_analysis, canberra, single, minMax\n",
      "audio_analysis, canberra, single, standard\n",
      "audio_analysis, canberra, complete, minMax\n",
      "audio_analysis, canberra, complete, standard\n",
      "audio_analysis, canberra, average, minMax\n",
      "audio_analysis, canberra, average, standard\n",
      "audio_analysis, chebyshev, single, minMax\n",
      "audio_analysis, chebyshev, single, standard\n",
      "audio_analysis, chebyshev, complete, minMax\n",
      "audio_analysis, chebyshev, complete, standard\n",
      "audio_analysis, chebyshev, average, minMax\n",
      "audio_analysis, chebyshev, average, standard\n",
      "audio_analysis, cityblock, single, minMax\n",
      "audio_analysis, cityblock, single, standard\n",
      "audio_analysis, cityblock, complete, minMax\n",
      "audio_analysis, cityblock, complete, standard\n",
      "audio_analysis, cityblock, average, minMax\n",
      "audio_analysis, cityblock, average, standard\n",
      "audio_analysis, correlation, single, minMax\n",
      "audio_analysis, correlation, single, standard\n",
      "audio_analysis, correlation, complete, minMax\n",
      "audio_analysis, correlation, complete, standard\n",
      "audio_analysis, correlation, average, minMax\n",
      "audio_analysis, correlation, average, standard\n",
      "audio_analysis, cosine, single, minMax\n",
      "audio_analysis, cosine, single, standard\n",
      "audio_analysis, cosine, complete, minMax\n",
      "audio_analysis, cosine, complete, standard\n",
      "audio_analysis, cosine, average, minMax\n",
      "audio_analysis, cosine, average, standard\n",
      "audio_analysis, dice, single, minMax\n",
      "audio_analysis, dice, single, standard\n"
     ]
    },
    {
     "name": "stderr",
     "output_type": "stream",
     "text": [
      "/home/frasco/anaconda3/lib/python3.7/site-packages/scipy/cluster/hierarchy.py:1699: RuntimeWarning: invalid value encountered in double_scalars\n",
      "  c = numerator.sum() / np.sqrt((denomA.sum() * denomB.sum()))\n"
     ]
    },
    {
     "name": "stdout",
     "output_type": "stream",
     "text": [
      "audio_analysis, dice, complete, minMax\n",
      "audio_analysis, dice, complete, standard\n"
     ]
    },
    {
     "name": "stderr",
     "output_type": "stream",
     "text": [
      "/home/frasco/anaconda3/lib/python3.7/site-packages/scipy/cluster/hierarchy.py:1699: RuntimeWarning: invalid value encountered in double_scalars\n",
      "  c = numerator.sum() / np.sqrt((denomA.sum() * denomB.sum()))\n"
     ]
    },
    {
     "name": "stdout",
     "output_type": "stream",
     "text": [
      "audio_analysis, dice, average, minMax\n",
      "audio_analysis, dice, average, standard\n"
     ]
    },
    {
     "name": "stderr",
     "output_type": "stream",
     "text": [
      "/home/frasco/anaconda3/lib/python3.7/site-packages/scipy/cluster/hierarchy.py:1699: RuntimeWarning: invalid value encountered in double_scalars\n",
      "  c = numerator.sum() / np.sqrt((denomA.sum() * denomB.sum()))\n"
     ]
    },
    {
     "name": "stdout",
     "output_type": "stream",
     "text": [
      "audio_analysis, euclidean, single, minMax\n",
      "audio_analysis, euclidean, single, standard\n",
      "audio_analysis, euclidean, complete, minMax\n",
      "audio_analysis, euclidean, complete, standard\n",
      "audio_analysis, euclidean, average, minMax\n",
      "audio_analysis, euclidean, average, standard\n",
      "audio_analysis, euclidean, ward, minMax\n",
      "audio_analysis, euclidean, ward, standard\n",
      "audio_analysis, hamming, single, minMax\n",
      "audio_analysis, hamming, single, standard\n",
      "audio_analysis, hamming, complete, minMax\n",
      "audio_analysis, hamming, complete, standard\n",
      "audio_analysis, hamming, average, minMax\n",
      "audio_analysis, hamming, average, standard\n",
      "audio_analysis, jaccard, single, minMax\n",
      "audio_analysis, jaccard, single, standard\n",
      "audio_analysis, jaccard, complete, minMax\n",
      "audio_analysis, jaccard, complete, standard\n",
      "audio_analysis, jaccard, average, minMax\n",
      "audio_analysis, jaccard, average, standard\n",
      "audio_analysis, kulsinski, single, minMax\n",
      "audio_analysis, kulsinski, single, standard\n"
     ]
    },
    {
     "name": "stderr",
     "output_type": "stream",
     "text": [
      "/home/frasco/anaconda3/lib/python3.7/site-packages/scipy/cluster/hierarchy.py:1699: RuntimeWarning: invalid value encountered in double_scalars\n",
      "  c = numerator.sum() / np.sqrt((denomA.sum() * denomB.sum()))\n"
     ]
    },
    {
     "name": "stdout",
     "output_type": "stream",
     "text": [
      "audio_analysis, kulsinski, complete, minMax\n",
      "audio_analysis, kulsinski, complete, standard\n"
     ]
    },
    {
     "name": "stderr",
     "output_type": "stream",
     "text": [
      "/home/frasco/anaconda3/lib/python3.7/site-packages/scipy/cluster/hierarchy.py:1699: RuntimeWarning: invalid value encountered in double_scalars\n",
      "  c = numerator.sum() / np.sqrt((denomA.sum() * denomB.sum()))\n"
     ]
    },
    {
     "name": "stdout",
     "output_type": "stream",
     "text": [
      "audio_analysis, kulsinski, average, minMax\n",
      "audio_analysis, kulsinski, average, standard\n"
     ]
    },
    {
     "name": "stderr",
     "output_type": "stream",
     "text": [
      "/home/frasco/anaconda3/lib/python3.7/site-packages/scipy/cluster/hierarchy.py:1699: RuntimeWarning: invalid value encountered in double_scalars\n",
      "  c = numerator.sum() / np.sqrt((denomA.sum() * denomB.sum()))\n"
     ]
    },
    {
     "name": "stdout",
     "output_type": "stream",
     "text": [
      "audio_analysis, mahalanobis, single, minMax\n",
      "audio_analysis, mahalanobis, single, standard\n",
      "audio_analysis, mahalanobis, complete, minMax\n",
      "audio_analysis, mahalanobis, complete, standard\n",
      "audio_analysis, mahalanobis, average, minMax\n",
      "audio_analysis, mahalanobis, average, standard\n",
      "audio_analysis, matching, single, minMax\n",
      "audio_analysis, matching, single, standard\n",
      "audio_analysis, matching, complete, minMax\n",
      "audio_analysis, matching, complete, standard\n",
      "audio_analysis, matching, average, minMax\n",
      "audio_analysis, matching, average, standard\n",
      "audio_analysis, minkowski, single, minMax\n",
      "audio_analysis, minkowski, single, standard\n",
      "audio_analysis, minkowski, complete, minMax\n",
      "audio_analysis, minkowski, complete, standard\n",
      "audio_analysis, minkowski, average, minMax\n",
      "audio_analysis, minkowski, average, standard\n",
      "audio_analysis, rogerstanimoto, single, minMax\n",
      "audio_analysis, rogerstanimoto, single, standard\n"
     ]
    },
    {
     "name": "stderr",
     "output_type": "stream",
     "text": [
      "/home/frasco/anaconda3/lib/python3.7/site-packages/scipy/cluster/hierarchy.py:1699: RuntimeWarning: invalid value encountered in double_scalars\n",
      "  c = numerator.sum() / np.sqrt((denomA.sum() * denomB.sum()))\n"
     ]
    },
    {
     "name": "stdout",
     "output_type": "stream",
     "text": [
      "audio_analysis, rogerstanimoto, complete, minMax\n",
      "audio_analysis, rogerstanimoto, complete, standard\n"
     ]
    },
    {
     "name": "stderr",
     "output_type": "stream",
     "text": [
      "/home/frasco/anaconda3/lib/python3.7/site-packages/scipy/cluster/hierarchy.py:1699: RuntimeWarning: invalid value encountered in double_scalars\n",
      "  c = numerator.sum() / np.sqrt((denomA.sum() * denomB.sum()))\n"
     ]
    },
    {
     "name": "stdout",
     "output_type": "stream",
     "text": [
      "audio_analysis, rogerstanimoto, average, minMax\n",
      "audio_analysis, rogerstanimoto, average, standard\n"
     ]
    },
    {
     "name": "stderr",
     "output_type": "stream",
     "text": [
      "/home/frasco/anaconda3/lib/python3.7/site-packages/scipy/cluster/hierarchy.py:1699: RuntimeWarning: invalid value encountered in double_scalars\n",
      "  c = numerator.sum() / np.sqrt((denomA.sum() * denomB.sum()))\n"
     ]
    },
    {
     "name": "stdout",
     "output_type": "stream",
     "text": [
      "audio_analysis, russellrao, single, minMax\n",
      "audio_analysis, russellrao, single, standard\n",
      "audio_analysis, russellrao, complete, minMax\n"
     ]
    },
    {
     "name": "stderr",
     "output_type": "stream",
     "text": [
      "/home/frasco/anaconda3/lib/python3.7/site-packages/scipy/cluster/hierarchy.py:1699: RuntimeWarning: invalid value encountered in double_scalars\n",
      "  c = numerator.sum() / np.sqrt((denomA.sum() * denomB.sum()))\n"
     ]
    },
    {
     "name": "stdout",
     "output_type": "stream",
     "text": [
      "audio_analysis, russellrao, complete, standard\n"
     ]
    },
    {
     "name": "stderr",
     "output_type": "stream",
     "text": [
      "/home/frasco/anaconda3/lib/python3.7/site-packages/scipy/cluster/hierarchy.py:1699: RuntimeWarning: invalid value encountered in double_scalars\n",
      "  c = numerator.sum() / np.sqrt((denomA.sum() * denomB.sum()))\n"
     ]
    },
    {
     "name": "stdout",
     "output_type": "stream",
     "text": [
      "audio_analysis, russellrao, average, minMax\n",
      "audio_analysis, russellrao, average, standard\n"
     ]
    },
    {
     "name": "stderr",
     "output_type": "stream",
     "text": [
      "/home/frasco/anaconda3/lib/python3.7/site-packages/scipy/cluster/hierarchy.py:1699: RuntimeWarning: invalid value encountered in double_scalars\n",
      "  c = numerator.sum() / np.sqrt((denomA.sum() * denomB.sum()))\n"
     ]
    },
    {
     "name": "stdout",
     "output_type": "stream",
     "text": [
      "audio_analysis, seuclidean, single, minMax\n",
      "audio_analysis, seuclidean, single, standard\n",
      "audio_analysis, seuclidean, complete, minMax\n",
      "audio_analysis, seuclidean, complete, standard\n",
      "audio_analysis, seuclidean, average, minMax\n",
      "audio_analysis, seuclidean, average, standard\n",
      "audio_analysis, sokalmichener, single, minMax\n",
      "audio_analysis, sokalmichener, single, standard\n"
     ]
    },
    {
     "name": "stderr",
     "output_type": "stream",
     "text": [
      "/home/frasco/anaconda3/lib/python3.7/site-packages/scipy/cluster/hierarchy.py:1699: RuntimeWarning: invalid value encountered in double_scalars\n",
      "  c = numerator.sum() / np.sqrt((denomA.sum() * denomB.sum()))\n"
     ]
    },
    {
     "name": "stdout",
     "output_type": "stream",
     "text": [
      "audio_analysis, sokalmichener, complete, minMax\n",
      "audio_analysis, sokalmichener, complete, standard\n"
     ]
    },
    {
     "name": "stderr",
     "output_type": "stream",
     "text": [
      "/home/frasco/anaconda3/lib/python3.7/site-packages/scipy/cluster/hierarchy.py:1699: RuntimeWarning: invalid value encountered in double_scalars\n",
      "  c = numerator.sum() / np.sqrt((denomA.sum() * denomB.sum()))\n"
     ]
    },
    {
     "name": "stdout",
     "output_type": "stream",
     "text": [
      "audio_analysis, sokalmichener, average, minMax\n",
      "audio_analysis, sokalmichener, average, standard\n"
     ]
    },
    {
     "name": "stderr",
     "output_type": "stream",
     "text": [
      "/home/frasco/anaconda3/lib/python3.7/site-packages/scipy/cluster/hierarchy.py:1699: RuntimeWarning: invalid value encountered in double_scalars\n",
      "  c = numerator.sum() / np.sqrt((denomA.sum() * denomB.sum()))\n"
     ]
    },
    {
     "name": "stdout",
     "output_type": "stream",
     "text": [
      "audio_analysis, sokalsneath, single, minMax\n",
      "audio_analysis, sokalsneath, single, standard\n"
     ]
    },
    {
     "name": "stderr",
     "output_type": "stream",
     "text": [
      "/home/frasco/anaconda3/lib/python3.7/site-packages/scipy/cluster/hierarchy.py:1699: RuntimeWarning: invalid value encountered in double_scalars\n",
      "  c = numerator.sum() / np.sqrt((denomA.sum() * denomB.sum()))\n"
     ]
    },
    {
     "name": "stdout",
     "output_type": "stream",
     "text": [
      "audio_analysis, sokalsneath, complete, minMax\n",
      "audio_analysis, sokalsneath, complete, standard\n"
     ]
    },
    {
     "name": "stderr",
     "output_type": "stream",
     "text": [
      "/home/frasco/anaconda3/lib/python3.7/site-packages/scipy/cluster/hierarchy.py:1699: RuntimeWarning: invalid value encountered in double_scalars\n",
      "  c = numerator.sum() / np.sqrt((denomA.sum() * denomB.sum()))\n"
     ]
    },
    {
     "name": "stdout",
     "output_type": "stream",
     "text": [
      "audio_analysis, sokalsneath, average, minMax\n",
      "audio_analysis, sokalsneath, average, standard\n"
     ]
    },
    {
     "name": "stderr",
     "output_type": "stream",
     "text": [
      "/home/frasco/anaconda3/lib/python3.7/site-packages/scipy/cluster/hierarchy.py:1699: RuntimeWarning: invalid value encountered in double_scalars\n",
      "  c = numerator.sum() / np.sqrt((denomA.sum() * denomB.sum()))\n"
     ]
    },
    {
     "name": "stdout",
     "output_type": "stream",
     "text": [
      "audio_analysis, sqeuclidean, single, minMax\n",
      "audio_analysis, sqeuclidean, single, standard\n",
      "audio_analysis, sqeuclidean, complete, minMax\n",
      "audio_analysis, sqeuclidean, complete, standard\n",
      "audio_analysis, sqeuclidean, average, minMax\n",
      "audio_analysis, sqeuclidean, average, standard\n",
      "audio_tracks, braycurtis, single, minMax\n",
      "audio_tracks, braycurtis, single, standard\n",
      "audio_tracks, braycurtis, complete, minMax\n",
      "audio_tracks, braycurtis, complete, standard\n",
      "audio_tracks, braycurtis, average, minMax\n",
      "audio_tracks, braycurtis, average, standard\n",
      "audio_tracks, canberra, single, minMax\n",
      "audio_tracks, canberra, single, standard\n",
      "audio_tracks, canberra, complete, minMax\n",
      "audio_tracks, canberra, complete, standard\n",
      "audio_tracks, canberra, average, minMax\n",
      "audio_tracks, canberra, average, standard\n",
      "audio_tracks, chebyshev, single, minMax\n",
      "audio_tracks, chebyshev, single, standard\n",
      "audio_tracks, chebyshev, complete, minMax\n",
      "audio_tracks, chebyshev, complete, standard\n",
      "audio_tracks, chebyshev, average, minMax\n",
      "audio_tracks, chebyshev, average, standard\n",
      "audio_tracks, cityblock, single, minMax\n",
      "audio_tracks, cityblock, single, standard\n",
      "audio_tracks, cityblock, complete, minMax\n",
      "audio_tracks, cityblock, complete, standard\n",
      "audio_tracks, cityblock, average, minMax\n",
      "audio_tracks, cityblock, average, standard\n",
      "audio_tracks, correlation, single, minMax\n",
      "audio_tracks, correlation, single, standard\n",
      "audio_tracks, correlation, complete, minMax\n",
      "audio_tracks, correlation, complete, standard\n",
      "audio_tracks, correlation, average, minMax\n",
      "audio_tracks, correlation, average, standard\n",
      "audio_tracks, cosine, single, minMax\n",
      "audio_tracks, cosine, single, standard\n",
      "audio_tracks, cosine, complete, minMax\n",
      "audio_tracks, cosine, complete, standard\n",
      "audio_tracks, cosine, average, minMax\n",
      "audio_tracks, cosine, average, standard\n",
      "audio_tracks, dice, single, minMax\n",
      "audio_tracks, dice, single, standard\n"
     ]
    },
    {
     "name": "stderr",
     "output_type": "stream",
     "text": [
      "/home/frasco/anaconda3/lib/python3.7/site-packages/scipy/cluster/hierarchy.py:1699: RuntimeWarning: invalid value encountered in double_scalars\n",
      "  c = numerator.sum() / np.sqrt((denomA.sum() * denomB.sum()))\n"
     ]
    },
    {
     "name": "stdout",
     "output_type": "stream",
     "text": [
      "audio_tracks, dice, complete, minMax\n",
      "audio_tracks, dice, complete, standard\n"
     ]
    },
    {
     "name": "stderr",
     "output_type": "stream",
     "text": [
      "/home/frasco/anaconda3/lib/python3.7/site-packages/scipy/cluster/hierarchy.py:1699: RuntimeWarning: invalid value encountered in double_scalars\n",
      "  c = numerator.sum() / np.sqrt((denomA.sum() * denomB.sum()))\n"
     ]
    },
    {
     "name": "stdout",
     "output_type": "stream",
     "text": [
      "audio_tracks, dice, average, minMax\n",
      "audio_tracks, dice, average, standard\n"
     ]
    },
    {
     "name": "stderr",
     "output_type": "stream",
     "text": [
      "/home/frasco/anaconda3/lib/python3.7/site-packages/scipy/cluster/hierarchy.py:1699: RuntimeWarning: invalid value encountered in double_scalars\n",
      "  c = numerator.sum() / np.sqrt((denomA.sum() * denomB.sum()))\n"
     ]
    },
    {
     "name": "stdout",
     "output_type": "stream",
     "text": [
      "audio_tracks, euclidean, single, minMax\n",
      "audio_tracks, euclidean, single, standard\n",
      "audio_tracks, euclidean, complete, minMax\n",
      "audio_tracks, euclidean, complete, standard\n",
      "audio_tracks, euclidean, average, minMax\n",
      "audio_tracks, euclidean, average, standard\n",
      "audio_tracks, euclidean, ward, minMax\n",
      "audio_tracks, euclidean, ward, standard\n",
      "audio_tracks, hamming, single, minMax\n",
      "audio_tracks, hamming, single, standard\n",
      "audio_tracks, hamming, complete, minMax\n",
      "audio_tracks, hamming, complete, standard\n",
      "audio_tracks, hamming, average, minMax\n",
      "audio_tracks, hamming, average, standard\n",
      "audio_tracks, jaccard, single, minMax\n",
      "audio_tracks, jaccard, single, standard\n",
      "audio_tracks, jaccard, complete, minMax\n",
      "audio_tracks, jaccard, complete, standard\n",
      "audio_tracks, jaccard, average, minMax\n",
      "audio_tracks, jaccard, average, standard\n",
      "audio_tracks, kulsinski, single, minMax\n",
      "audio_tracks, kulsinski, single, standard\n"
     ]
    },
    {
     "name": "stderr",
     "output_type": "stream",
     "text": [
      "/home/frasco/anaconda3/lib/python3.7/site-packages/scipy/cluster/hierarchy.py:1699: RuntimeWarning: invalid value encountered in double_scalars\n",
      "  c = numerator.sum() / np.sqrt((denomA.sum() * denomB.sum()))\n"
     ]
    },
    {
     "name": "stdout",
     "output_type": "stream",
     "text": [
      "audio_tracks, kulsinski, complete, minMax\n",
      "audio_tracks, kulsinski, complete, standard\n"
     ]
    },
    {
     "name": "stderr",
     "output_type": "stream",
     "text": [
      "/home/frasco/anaconda3/lib/python3.7/site-packages/scipy/cluster/hierarchy.py:1699: RuntimeWarning: invalid value encountered in double_scalars\n",
      "  c = numerator.sum() / np.sqrt((denomA.sum() * denomB.sum()))\n"
     ]
    },
    {
     "name": "stdout",
     "output_type": "stream",
     "text": [
      "audio_tracks, kulsinski, average, minMax\n",
      "audio_tracks, kulsinski, average, standard\n"
     ]
    },
    {
     "name": "stderr",
     "output_type": "stream",
     "text": [
      "/home/frasco/anaconda3/lib/python3.7/site-packages/scipy/cluster/hierarchy.py:1699: RuntimeWarning: invalid value encountered in double_scalars\n",
      "  c = numerator.sum() / np.sqrt((denomA.sum() * denomB.sum()))\n"
     ]
    },
    {
     "name": "stdout",
     "output_type": "stream",
     "text": [
      "audio_tracks, mahalanobis, single, minMax\n",
      "audio_tracks, mahalanobis, single, standard\n",
      "audio_tracks, mahalanobis, complete, minMax\n",
      "audio_tracks, mahalanobis, complete, standard\n",
      "audio_tracks, mahalanobis, average, minMax\n",
      "audio_tracks, mahalanobis, average, standard\n",
      "audio_tracks, matching, single, minMax\n",
      "audio_tracks, matching, single, standard\n",
      "audio_tracks, matching, complete, minMax\n",
      "audio_tracks, matching, complete, standard\n",
      "audio_tracks, matching, average, minMax\n",
      "audio_tracks, matching, average, standard\n",
      "audio_tracks, minkowski, single, minMax\n",
      "audio_tracks, minkowski, single, standard\n",
      "audio_tracks, minkowski, complete, minMax\n",
      "audio_tracks, minkowski, complete, standard\n",
      "audio_tracks, minkowski, average, minMax\n",
      "audio_tracks, minkowski, average, standard\n",
      "audio_tracks, rogerstanimoto, single, minMax\n",
      "audio_tracks, rogerstanimoto, single, standard\n"
     ]
    },
    {
     "name": "stderr",
     "output_type": "stream",
     "text": [
      "/home/frasco/anaconda3/lib/python3.7/site-packages/scipy/cluster/hierarchy.py:1699: RuntimeWarning: invalid value encountered in double_scalars\n",
      "  c = numerator.sum() / np.sqrt((denomA.sum() * denomB.sum()))\n"
     ]
    },
    {
     "name": "stdout",
     "output_type": "stream",
     "text": [
      "audio_tracks, rogerstanimoto, complete, minMax\n",
      "audio_tracks, rogerstanimoto, complete, standard\n"
     ]
    },
    {
     "name": "stderr",
     "output_type": "stream",
     "text": [
      "/home/frasco/anaconda3/lib/python3.7/site-packages/scipy/cluster/hierarchy.py:1699: RuntimeWarning: invalid value encountered in double_scalars\n",
      "  c = numerator.sum() / np.sqrt((denomA.sum() * denomB.sum()))\n"
     ]
    },
    {
     "name": "stdout",
     "output_type": "stream",
     "text": [
      "audio_tracks, rogerstanimoto, average, minMax\n",
      "audio_tracks, rogerstanimoto, average, standard\n"
     ]
    },
    {
     "name": "stderr",
     "output_type": "stream",
     "text": [
      "/home/frasco/anaconda3/lib/python3.7/site-packages/scipy/cluster/hierarchy.py:1699: RuntimeWarning: invalid value encountered in double_scalars\n",
      "  c = numerator.sum() / np.sqrt((denomA.sum() * denomB.sum()))\n"
     ]
    },
    {
     "name": "stdout",
     "output_type": "stream",
     "text": [
      "audio_tracks, russellrao, single, minMax\n",
      "audio_tracks, russellrao, single, standard\n"
     ]
    },
    {
     "name": "stderr",
     "output_type": "stream",
     "text": [
      "/home/frasco/anaconda3/lib/python3.7/site-packages/scipy/cluster/hierarchy.py:1699: RuntimeWarning: invalid value encountered in double_scalars\n",
      "  c = numerator.sum() / np.sqrt((denomA.sum() * denomB.sum()))\n"
     ]
    },
    {
     "name": "stdout",
     "output_type": "stream",
     "text": [
      "audio_tracks, russellrao, complete, minMax\n",
      "audio_tracks, russellrao, complete, standard\n"
     ]
    },
    {
     "name": "stderr",
     "output_type": "stream",
     "text": [
      "/home/frasco/anaconda3/lib/python3.7/site-packages/scipy/cluster/hierarchy.py:1699: RuntimeWarning: invalid value encountered in double_scalars\n",
      "  c = numerator.sum() / np.sqrt((denomA.sum() * denomB.sum()))\n"
     ]
    },
    {
     "name": "stdout",
     "output_type": "stream",
     "text": [
      "audio_tracks, russellrao, average, minMax\n",
      "audio_tracks, russellrao, average, standard\n"
     ]
    },
    {
     "name": "stderr",
     "output_type": "stream",
     "text": [
      "/home/frasco/anaconda3/lib/python3.7/site-packages/scipy/cluster/hierarchy.py:1699: RuntimeWarning: invalid value encountered in double_scalars\n",
      "  c = numerator.sum() / np.sqrt((denomA.sum() * denomB.sum()))\n"
     ]
    },
    {
     "name": "stdout",
     "output_type": "stream",
     "text": [
      "audio_tracks, seuclidean, single, minMax\n",
      "audio_tracks, seuclidean, single, standard\n",
      "audio_tracks, seuclidean, complete, minMax\n",
      "audio_tracks, seuclidean, complete, standard\n",
      "audio_tracks, seuclidean, average, minMax\n",
      "audio_tracks, seuclidean, average, standard\n",
      "audio_tracks, sokalmichener, single, minMax\n",
      "audio_tracks, sokalmichener, single, standard\n"
     ]
    },
    {
     "name": "stderr",
     "output_type": "stream",
     "text": [
      "/home/frasco/anaconda3/lib/python3.7/site-packages/scipy/cluster/hierarchy.py:1699: RuntimeWarning: invalid value encountered in double_scalars\n",
      "  c = numerator.sum() / np.sqrt((denomA.sum() * denomB.sum()))\n"
     ]
    },
    {
     "name": "stdout",
     "output_type": "stream",
     "text": [
      "audio_tracks, sokalmichener, complete, minMax\n",
      "audio_tracks, sokalmichener, complete, standard\n"
     ]
    },
    {
     "name": "stderr",
     "output_type": "stream",
     "text": [
      "/home/frasco/anaconda3/lib/python3.7/site-packages/scipy/cluster/hierarchy.py:1699: RuntimeWarning: invalid value encountered in double_scalars\n",
      "  c = numerator.sum() / np.sqrt((denomA.sum() * denomB.sum()))\n"
     ]
    },
    {
     "name": "stdout",
     "output_type": "stream",
     "text": [
      "audio_tracks, sokalmichener, average, minMax\n",
      "audio_tracks, sokalmichener, average, standard\n"
     ]
    },
    {
     "name": "stderr",
     "output_type": "stream",
     "text": [
      "/home/frasco/anaconda3/lib/python3.7/site-packages/scipy/cluster/hierarchy.py:1699: RuntimeWarning: invalid value encountered in double_scalars\n",
      "  c = numerator.sum() / np.sqrt((denomA.sum() * denomB.sum()))\n"
     ]
    },
    {
     "name": "stdout",
     "output_type": "stream",
     "text": [
      "audio_tracks, sokalsneath, single, minMax\n",
      "audio_tracks, sokalsneath, single, standard\n"
     ]
    },
    {
     "name": "stderr",
     "output_type": "stream",
     "text": [
      "/home/frasco/anaconda3/lib/python3.7/site-packages/scipy/cluster/hierarchy.py:1699: RuntimeWarning: invalid value encountered in double_scalars\n",
      "  c = numerator.sum() / np.sqrt((denomA.sum() * denomB.sum()))\n"
     ]
    },
    {
     "name": "stdout",
     "output_type": "stream",
     "text": [
      "audio_tracks, sokalsneath, complete, minMax\n",
      "audio_tracks, sokalsneath, complete, standard\n"
     ]
    },
    {
     "name": "stderr",
     "output_type": "stream",
     "text": [
      "/home/frasco/anaconda3/lib/python3.7/site-packages/scipy/cluster/hierarchy.py:1699: RuntimeWarning: invalid value encountered in double_scalars\n",
      "  c = numerator.sum() / np.sqrt((denomA.sum() * denomB.sum()))\n"
     ]
    },
    {
     "name": "stdout",
     "output_type": "stream",
     "text": [
      "audio_tracks, sokalsneath, average, minMax\n",
      "audio_tracks, sokalsneath, average, standard\n"
     ]
    },
    {
     "name": "stderr",
     "output_type": "stream",
     "text": [
      "/home/frasco/anaconda3/lib/python3.7/site-packages/scipy/cluster/hierarchy.py:1699: RuntimeWarning: invalid value encountered in double_scalars\n",
      "  c = numerator.sum() / np.sqrt((denomA.sum() * denomB.sum()))\n"
     ]
    },
    {
     "name": "stdout",
     "output_type": "stream",
     "text": [
      "audio_tracks, sqeuclidean, single, minMax\n",
      "audio_tracks, sqeuclidean, single, standard\n",
      "audio_tracks, sqeuclidean, complete, minMax\n",
      "audio_tracks, sqeuclidean, complete, standard\n",
      "audio_tracks, sqeuclidean, average, minMax\n",
      "audio_tracks, sqeuclidean, average, standard\n"
     ]
    },
    {
     "data": {
      "text/html": [
       "<div>\n",
       "<style scoped>\n",
       "    .dataframe tbody tr th:only-of-type {\n",
       "        vertical-align: middle;\n",
       "    }\n",
       "\n",
       "    .dataframe tbody tr th {\n",
       "        vertical-align: top;\n",
       "    }\n",
       "\n",
       "    .dataframe thead th {\n",
       "        text-align: right;\n",
       "    }\n",
       "</style>\n",
       "<table border=\"1\" class=\"dataframe\">\n",
       "  <thead>\n",
       "    <tr style=\"text-align: right;\">\n",
       "      <th></th>\n",
       "      <th>Dataset</th>\n",
       "      <th>Method</th>\n",
       "      <th>Metric</th>\n",
       "      <th>Scaler</th>\n",
       "      <th>Cophenet</th>\n",
       "      <th>vanDongen</th>\n",
       "      <th>adjRand</th>\n",
       "    </tr>\n",
       "  </thead>\n",
       "  <tbody>\n",
       "    <tr>\n",
       "      <th>0</th>\n",
       "      <td>audio_features</td>\n",
       "      <td>single</td>\n",
       "      <td>braycurtis</td>\n",
       "      <td>minMax</td>\n",
       "      <td>0.317106</td>\n",
       "      <td>0.997709</td>\n",
       "      <td>0.000049</td>\n",
       "    </tr>\n",
       "    <tr>\n",
       "      <th>1</th>\n",
       "      <td>audio_features</td>\n",
       "      <td>single</td>\n",
       "      <td>braycurtis</td>\n",
       "      <td>standard</td>\n",
       "      <td>0.102797</td>\n",
       "      <td>0.997709</td>\n",
       "      <td>0.000049</td>\n",
       "    </tr>\n",
       "    <tr>\n",
       "      <th>2</th>\n",
       "      <td>audio_features</td>\n",
       "      <td>complete</td>\n",
       "      <td>braycurtis</td>\n",
       "      <td>minMax</td>\n",
       "      <td>0.607225</td>\n",
       "      <td>0.935654</td>\n",
       "      <td>0.019142</td>\n",
       "    </tr>\n",
       "    <tr>\n",
       "      <th>3</th>\n",
       "      <td>audio_features</td>\n",
       "      <td>complete</td>\n",
       "      <td>braycurtis</td>\n",
       "      <td>standard</td>\n",
       "      <td>0.346391</td>\n",
       "      <td>0.935654</td>\n",
       "      <td>0.019142</td>\n",
       "    </tr>\n",
       "    <tr>\n",
       "      <th>4</th>\n",
       "      <td>audio_features</td>\n",
       "      <td>average</td>\n",
       "      <td>braycurtis</td>\n",
       "      <td>minMax</td>\n",
       "      <td>0.670574</td>\n",
       "      <td>0.954740</td>\n",
       "      <td>0.012020</td>\n",
       "    </tr>\n",
       "    <tr>\n",
       "      <th>5</th>\n",
       "      <td>audio_features</td>\n",
       "      <td>average</td>\n",
       "      <td>braycurtis</td>\n",
       "      <td>standard</td>\n",
       "      <td>0.449241</td>\n",
       "      <td>0.954740</td>\n",
       "      <td>0.012020</td>\n",
       "    </tr>\n",
       "    <tr>\n",
       "      <th>6</th>\n",
       "      <td>audio_features</td>\n",
       "      <td>single</td>\n",
       "      <td>canberra</td>\n",
       "      <td>minMax</td>\n",
       "      <td>0.186327</td>\n",
       "      <td>0.997709</td>\n",
       "      <td>0.000059</td>\n",
       "    </tr>\n",
       "    <tr>\n",
       "      <th>7</th>\n",
       "      <td>audio_features</td>\n",
       "      <td>single</td>\n",
       "      <td>canberra</td>\n",
       "      <td>standard</td>\n",
       "      <td>0.031198</td>\n",
       "      <td>0.997709</td>\n",
       "      <td>0.000059</td>\n",
       "    </tr>\n",
       "    <tr>\n",
       "      <th>8</th>\n",
       "      <td>audio_features</td>\n",
       "      <td>complete</td>\n",
       "      <td>canberra</td>\n",
       "      <td>minMax</td>\n",
       "      <td>0.489960</td>\n",
       "      <td>0.750460</td>\n",
       "      <td>0.155931</td>\n",
       "    </tr>\n",
       "    <tr>\n",
       "      <th>9</th>\n",
       "      <td>audio_features</td>\n",
       "      <td>complete</td>\n",
       "      <td>canberra</td>\n",
       "      <td>standard</td>\n",
       "      <td>0.301188</td>\n",
       "      <td>0.750460</td>\n",
       "      <td>0.155931</td>\n",
       "    </tr>\n",
       "    <tr>\n",
       "      <th>10</th>\n",
       "      <td>audio_features</td>\n",
       "      <td>average</td>\n",
       "      <td>canberra</td>\n",
       "      <td>minMax</td>\n",
       "      <td>0.582372</td>\n",
       "      <td>0.634701</td>\n",
       "      <td>0.182530</td>\n",
       "    </tr>\n",
       "    <tr>\n",
       "      <th>11</th>\n",
       "      <td>audio_features</td>\n",
       "      <td>average</td>\n",
       "      <td>canberra</td>\n",
       "      <td>standard</td>\n",
       "      <td>0.409019</td>\n",
       "      <td>0.634701</td>\n",
       "      <td>0.182530</td>\n",
       "    </tr>\n",
       "    <tr>\n",
       "      <th>12</th>\n",
       "      <td>audio_features</td>\n",
       "      <td>single</td>\n",
       "      <td>chebyshev</td>\n",
       "      <td>minMax</td>\n",
       "      <td>0.531904</td>\n",
       "      <td>0.997143</td>\n",
       "      <td>0.000148</td>\n",
       "    </tr>\n",
       "    <tr>\n",
       "      <th>13</th>\n",
       "      <td>audio_features</td>\n",
       "      <td>single</td>\n",
       "      <td>chebyshev</td>\n",
       "      <td>standard</td>\n",
       "      <td>0.439991</td>\n",
       "      <td>0.997143</td>\n",
       "      <td>0.000148</td>\n",
       "    </tr>\n",
       "    <tr>\n",
       "      <th>14</th>\n",
       "      <td>audio_features</td>\n",
       "      <td>complete</td>\n",
       "      <td>chebyshev</td>\n",
       "      <td>minMax</td>\n",
       "      <td>0.401248</td>\n",
       "      <td>0.984530</td>\n",
       "      <td>0.001857</td>\n",
       "    </tr>\n",
       "    <tr>\n",
       "      <th>15</th>\n",
       "      <td>audio_features</td>\n",
       "      <td>complete</td>\n",
       "      <td>chebyshev</td>\n",
       "      <td>standard</td>\n",
       "      <td>0.625245</td>\n",
       "      <td>0.984530</td>\n",
       "      <td>0.001857</td>\n",
       "    </tr>\n",
       "    <tr>\n",
       "      <th>16</th>\n",
       "      <td>audio_features</td>\n",
       "      <td>average</td>\n",
       "      <td>chebyshev</td>\n",
       "      <td>minMax</td>\n",
       "      <td>0.689359</td>\n",
       "      <td>0.985572</td>\n",
       "      <td>0.001566</td>\n",
       "    </tr>\n",
       "    <tr>\n",
       "      <th>17</th>\n",
       "      <td>audio_features</td>\n",
       "      <td>average</td>\n",
       "      <td>chebyshev</td>\n",
       "      <td>standard</td>\n",
       "      <td>0.671478</td>\n",
       "      <td>0.985572</td>\n",
       "      <td>0.001566</td>\n",
       "    </tr>\n",
       "    <tr>\n",
       "      <th>18</th>\n",
       "      <td>audio_features</td>\n",
       "      <td>single</td>\n",
       "      <td>cityblock</td>\n",
       "      <td>minMax</td>\n",
       "      <td>0.480526</td>\n",
       "      <td>0.997143</td>\n",
       "      <td>0.000148</td>\n",
       "    </tr>\n",
       "    <tr>\n",
       "      <th>19</th>\n",
       "      <td>audio_features</td>\n",
       "      <td>single</td>\n",
       "      <td>cityblock</td>\n",
       "      <td>standard</td>\n",
       "      <td>0.509301</td>\n",
       "      <td>0.997143</td>\n",
       "      <td>0.000148</td>\n",
       "    </tr>\n",
       "    <tr>\n",
       "      <th>20</th>\n",
       "      <td>audio_features</td>\n",
       "      <td>complete</td>\n",
       "      <td>cityblock</td>\n",
       "      <td>minMax</td>\n",
       "      <td>0.567150</td>\n",
       "      <td>0.984530</td>\n",
       "      <td>0.001857</td>\n",
       "    </tr>\n",
       "    <tr>\n",
       "      <th>21</th>\n",
       "      <td>audio_features</td>\n",
       "      <td>complete</td>\n",
       "      <td>cityblock</td>\n",
       "      <td>standard</td>\n",
       "      <td>0.457424</td>\n",
       "      <td>0.984530</td>\n",
       "      <td>0.001857</td>\n",
       "    </tr>\n",
       "    <tr>\n",
       "      <th>22</th>\n",
       "      <td>audio_features</td>\n",
       "      <td>average</td>\n",
       "      <td>cityblock</td>\n",
       "      <td>minMax</td>\n",
       "      <td>0.667206</td>\n",
       "      <td>0.985572</td>\n",
       "      <td>0.001566</td>\n",
       "    </tr>\n",
       "    <tr>\n",
       "      <th>23</th>\n",
       "      <td>audio_features</td>\n",
       "      <td>average</td>\n",
       "      <td>cityblock</td>\n",
       "      <td>standard</td>\n",
       "      <td>0.607581</td>\n",
       "      <td>0.985572</td>\n",
       "      <td>0.001566</td>\n",
       "    </tr>\n",
       "    <tr>\n",
       "      <th>24</th>\n",
       "      <td>audio_features</td>\n",
       "      <td>single</td>\n",
       "      <td>correlation</td>\n",
       "      <td>minMax</td>\n",
       "      <td>0.533428</td>\n",
       "      <td>0.998855</td>\n",
       "      <td>-0.000014</td>\n",
       "    </tr>\n",
       "    <tr>\n",
       "      <th>25</th>\n",
       "      <td>audio_features</td>\n",
       "      <td>single</td>\n",
       "      <td>correlation</td>\n",
       "      <td>standard</td>\n",
       "      <td>0.019316</td>\n",
       "      <td>0.998855</td>\n",
       "      <td>-0.000014</td>\n",
       "    </tr>\n",
       "    <tr>\n",
       "      <th>26</th>\n",
       "      <td>audio_features</td>\n",
       "      <td>complete</td>\n",
       "      <td>correlation</td>\n",
       "      <td>minMax</td>\n",
       "      <td>0.688313</td>\n",
       "      <td>0.986584</td>\n",
       "      <td>0.000522</td>\n",
       "    </tr>\n",
       "    <tr>\n",
       "      <th>27</th>\n",
       "      <td>audio_features</td>\n",
       "      <td>complete</td>\n",
       "      <td>correlation</td>\n",
       "      <td>standard</td>\n",
       "      <td>0.333146</td>\n",
       "      <td>0.986584</td>\n",
       "      <td>0.000522</td>\n",
       "    </tr>\n",
       "    <tr>\n",
       "      <th>28</th>\n",
       "      <td>audio_features</td>\n",
       "      <td>average</td>\n",
       "      <td>correlation</td>\n",
       "      <td>minMax</td>\n",
       "      <td>0.695841</td>\n",
       "      <td>0.987512</td>\n",
       "      <td>0.001622</td>\n",
       "    </tr>\n",
       "    <tr>\n",
       "      <th>29</th>\n",
       "      <td>audio_features</td>\n",
       "      <td>average</td>\n",
       "      <td>correlation</td>\n",
       "      <td>standard</td>\n",
       "      <td>0.448848</td>\n",
       "      <td>0.987512</td>\n",
       "      <td>0.001622</td>\n",
       "    </tr>\n",
       "    <tr>\n",
       "      <th>...</th>\n",
       "      <td>...</td>\n",
       "      <td>...</td>\n",
       "      <td>...</td>\n",
       "      <td>...</td>\n",
       "      <td>...</td>\n",
       "      <td>...</td>\n",
       "      <td>...</td>\n",
       "    </tr>\n",
       "    <tr>\n",
       "      <th>336</th>\n",
       "      <td>audio_tracks</td>\n",
       "      <td>single</td>\n",
       "      <td>russellrao</td>\n",
       "      <td>minMax</td>\n",
       "      <td>0.179786</td>\n",
       "      <td>0.999427</td>\n",
       "      <td>-0.000046</td>\n",
       "    </tr>\n",
       "    <tr>\n",
       "      <th>337</th>\n",
       "      <td>audio_tracks</td>\n",
       "      <td>single</td>\n",
       "      <td>russellrao</td>\n",
       "      <td>standard</td>\n",
       "      <td>NaN</td>\n",
       "      <td>0.999427</td>\n",
       "      <td>-0.000046</td>\n",
       "    </tr>\n",
       "    <tr>\n",
       "      <th>338</th>\n",
       "      <td>audio_tracks</td>\n",
       "      <td>complete</td>\n",
       "      <td>russellrao</td>\n",
       "      <td>minMax</td>\n",
       "      <td>0.213507</td>\n",
       "      <td>0.988296</td>\n",
       "      <td>0.002724</td>\n",
       "    </tr>\n",
       "    <tr>\n",
       "      <th>339</th>\n",
       "      <td>audio_tracks</td>\n",
       "      <td>complete</td>\n",
       "      <td>russellrao</td>\n",
       "      <td>standard</td>\n",
       "      <td>NaN</td>\n",
       "      <td>0.988296</td>\n",
       "      <td>0.002724</td>\n",
       "    </tr>\n",
       "    <tr>\n",
       "      <th>340</th>\n",
       "      <td>audio_tracks</td>\n",
       "      <td>average</td>\n",
       "      <td>russellrao</td>\n",
       "      <td>minMax</td>\n",
       "      <td>0.219252</td>\n",
       "      <td>0.999427</td>\n",
       "      <td>-0.000046</td>\n",
       "    </tr>\n",
       "    <tr>\n",
       "      <th>341</th>\n",
       "      <td>audio_tracks</td>\n",
       "      <td>average</td>\n",
       "      <td>russellrao</td>\n",
       "      <td>standard</td>\n",
       "      <td>NaN</td>\n",
       "      <td>0.999427</td>\n",
       "      <td>-0.000046</td>\n",
       "    </tr>\n",
       "    <tr>\n",
       "      <th>342</th>\n",
       "      <td>audio_tracks</td>\n",
       "      <td>single</td>\n",
       "      <td>seuclidean</td>\n",
       "      <td>minMax</td>\n",
       "      <td>0.440816</td>\n",
       "      <td>0.997709</td>\n",
       "      <td>-0.000015</td>\n",
       "    </tr>\n",
       "    <tr>\n",
       "      <th>343</th>\n",
       "      <td>audio_tracks</td>\n",
       "      <td>single</td>\n",
       "      <td>seuclidean</td>\n",
       "      <td>standard</td>\n",
       "      <td>0.668392</td>\n",
       "      <td>0.997709</td>\n",
       "      <td>-0.000015</td>\n",
       "    </tr>\n",
       "    <tr>\n",
       "      <th>344</th>\n",
       "      <td>audio_tracks</td>\n",
       "      <td>complete</td>\n",
       "      <td>seuclidean</td>\n",
       "      <td>minMax</td>\n",
       "      <td>0.370952</td>\n",
       "      <td>0.800894</td>\n",
       "      <td>0.125826</td>\n",
       "    </tr>\n",
       "    <tr>\n",
       "      <th>345</th>\n",
       "      <td>audio_tracks</td>\n",
       "      <td>complete</td>\n",
       "      <td>seuclidean</td>\n",
       "      <td>standard</td>\n",
       "      <td>0.392535</td>\n",
       "      <td>0.800894</td>\n",
       "      <td>0.125826</td>\n",
       "    </tr>\n",
       "    <tr>\n",
       "      <th>346</th>\n",
       "      <td>audio_tracks</td>\n",
       "      <td>average</td>\n",
       "      <td>seuclidean</td>\n",
       "      <td>minMax</td>\n",
       "      <td>0.547967</td>\n",
       "      <td>0.997710</td>\n",
       "      <td>-0.000037</td>\n",
       "    </tr>\n",
       "    <tr>\n",
       "      <th>347</th>\n",
       "      <td>audio_tracks</td>\n",
       "      <td>average</td>\n",
       "      <td>seuclidean</td>\n",
       "      <td>standard</td>\n",
       "      <td>0.715030</td>\n",
       "      <td>0.997710</td>\n",
       "      <td>-0.000037</td>\n",
       "    </tr>\n",
       "    <tr>\n",
       "      <th>348</th>\n",
       "      <td>audio_tracks</td>\n",
       "      <td>single</td>\n",
       "      <td>sokalmichener</td>\n",
       "      <td>minMax</td>\n",
       "      <td>0.318538</td>\n",
       "      <td>0.968716</td>\n",
       "      <td>0.001244</td>\n",
       "    </tr>\n",
       "    <tr>\n",
       "      <th>349</th>\n",
       "      <td>audio_tracks</td>\n",
       "      <td>single</td>\n",
       "      <td>sokalmichener</td>\n",
       "      <td>standard</td>\n",
       "      <td>NaN</td>\n",
       "      <td>0.968716</td>\n",
       "      <td>0.001244</td>\n",
       "    </tr>\n",
       "    <tr>\n",
       "      <th>350</th>\n",
       "      <td>audio_tracks</td>\n",
       "      <td>complete</td>\n",
       "      <td>sokalmichener</td>\n",
       "      <td>minMax</td>\n",
       "      <td>0.316797</td>\n",
       "      <td>0.967174</td>\n",
       "      <td>0.005694</td>\n",
       "    </tr>\n",
       "    <tr>\n",
       "      <th>351</th>\n",
       "      <td>audio_tracks</td>\n",
       "      <td>complete</td>\n",
       "      <td>sokalmichener</td>\n",
       "      <td>standard</td>\n",
       "      <td>NaN</td>\n",
       "      <td>0.967174</td>\n",
       "      <td>0.005694</td>\n",
       "    </tr>\n",
       "    <tr>\n",
       "      <th>352</th>\n",
       "      <td>audio_tracks</td>\n",
       "      <td>average</td>\n",
       "      <td>sokalmichener</td>\n",
       "      <td>minMax</td>\n",
       "      <td>0.274828</td>\n",
       "      <td>0.967835</td>\n",
       "      <td>0.003527</td>\n",
       "    </tr>\n",
       "    <tr>\n",
       "      <th>353</th>\n",
       "      <td>audio_tracks</td>\n",
       "      <td>average</td>\n",
       "      <td>sokalmichener</td>\n",
       "      <td>standard</td>\n",
       "      <td>NaN</td>\n",
       "      <td>0.967835</td>\n",
       "      <td>0.003527</td>\n",
       "    </tr>\n",
       "    <tr>\n",
       "      <th>354</th>\n",
       "      <td>audio_tracks</td>\n",
       "      <td>single</td>\n",
       "      <td>sokalsneath</td>\n",
       "      <td>minMax</td>\n",
       "      <td>0.318207</td>\n",
       "      <td>0.976496</td>\n",
       "      <td>0.000712</td>\n",
       "    </tr>\n",
       "    <tr>\n",
       "      <th>355</th>\n",
       "      <td>audio_tracks</td>\n",
       "      <td>single</td>\n",
       "      <td>sokalsneath</td>\n",
       "      <td>standard</td>\n",
       "      <td>NaN</td>\n",
       "      <td>0.976496</td>\n",
       "      <td>0.000712</td>\n",
       "    </tr>\n",
       "    <tr>\n",
       "      <th>356</th>\n",
       "      <td>audio_tracks</td>\n",
       "      <td>complete</td>\n",
       "      <td>sokalsneath</td>\n",
       "      <td>minMax</td>\n",
       "      <td>0.313322</td>\n",
       "      <td>0.981379</td>\n",
       "      <td>0.002887</td>\n",
       "    </tr>\n",
       "    <tr>\n",
       "      <th>357</th>\n",
       "      <td>audio_tracks</td>\n",
       "      <td>complete</td>\n",
       "      <td>sokalsneath</td>\n",
       "      <td>standard</td>\n",
       "      <td>NaN</td>\n",
       "      <td>0.981379</td>\n",
       "      <td>0.002887</td>\n",
       "    </tr>\n",
       "    <tr>\n",
       "      <th>358</th>\n",
       "      <td>audio_tracks</td>\n",
       "      <td>average</td>\n",
       "      <td>sokalsneath</td>\n",
       "      <td>minMax</td>\n",
       "      <td>0.334545</td>\n",
       "      <td>0.974277</td>\n",
       "      <td>0.003102</td>\n",
       "    </tr>\n",
       "    <tr>\n",
       "      <th>359</th>\n",
       "      <td>audio_tracks</td>\n",
       "      <td>average</td>\n",
       "      <td>sokalsneath</td>\n",
       "      <td>standard</td>\n",
       "      <td>NaN</td>\n",
       "      <td>0.974277</td>\n",
       "      <td>0.003102</td>\n",
       "    </tr>\n",
       "    <tr>\n",
       "      <th>360</th>\n",
       "      <td>audio_tracks</td>\n",
       "      <td>single</td>\n",
       "      <td>sqeuclidean</td>\n",
       "      <td>minMax</td>\n",
       "      <td>0.475355</td>\n",
       "      <td>0.997143</td>\n",
       "      <td>0.000148</td>\n",
       "    </tr>\n",
       "    <tr>\n",
       "      <th>361</th>\n",
       "      <td>audio_tracks</td>\n",
       "      <td>single</td>\n",
       "      <td>sqeuclidean</td>\n",
       "      <td>standard</td>\n",
       "      <td>0.652773</td>\n",
       "      <td>0.997143</td>\n",
       "      <td>0.000148</td>\n",
       "    </tr>\n",
       "    <tr>\n",
       "      <th>362</th>\n",
       "      <td>audio_tracks</td>\n",
       "      <td>complete</td>\n",
       "      <td>sqeuclidean</td>\n",
       "      <td>minMax</td>\n",
       "      <td>0.508048</td>\n",
       "      <td>0.984530</td>\n",
       "      <td>0.001857</td>\n",
       "    </tr>\n",
       "    <tr>\n",
       "      <th>363</th>\n",
       "      <td>audio_tracks</td>\n",
       "      <td>complete</td>\n",
       "      <td>sqeuclidean</td>\n",
       "      <td>standard</td>\n",
       "      <td>0.381738</td>\n",
       "      <td>0.984530</td>\n",
       "      <td>0.001857</td>\n",
       "    </tr>\n",
       "    <tr>\n",
       "      <th>364</th>\n",
       "      <td>audio_tracks</td>\n",
       "      <td>average</td>\n",
       "      <td>sqeuclidean</td>\n",
       "      <td>minMax</td>\n",
       "      <td>0.604733</td>\n",
       "      <td>0.985572</td>\n",
       "      <td>0.001566</td>\n",
       "    </tr>\n",
       "    <tr>\n",
       "      <th>365</th>\n",
       "      <td>audio_tracks</td>\n",
       "      <td>average</td>\n",
       "      <td>sqeuclidean</td>\n",
       "      <td>standard</td>\n",
       "      <td>0.712305</td>\n",
       "      <td>0.985572</td>\n",
       "      <td>0.001566</td>\n",
       "    </tr>\n",
       "  </tbody>\n",
       "</table>\n",
       "<p>366 rows × 7 columns</p>\n",
       "</div>"
      ],
      "text/plain": [
       "            Dataset    Method         Metric    Scaler  Cophenet  vanDongen  \\\n",
       "0    audio_features    single     braycurtis    minMax  0.317106   0.997709   \n",
       "1    audio_features    single     braycurtis  standard  0.102797   0.997709   \n",
       "2    audio_features  complete     braycurtis    minMax  0.607225   0.935654   \n",
       "3    audio_features  complete     braycurtis  standard  0.346391   0.935654   \n",
       "4    audio_features   average     braycurtis    minMax  0.670574   0.954740   \n",
       "5    audio_features   average     braycurtis  standard  0.449241   0.954740   \n",
       "6    audio_features    single       canberra    minMax  0.186327   0.997709   \n",
       "7    audio_features    single       canberra  standard  0.031198   0.997709   \n",
       "8    audio_features  complete       canberra    minMax  0.489960   0.750460   \n",
       "9    audio_features  complete       canberra  standard  0.301188   0.750460   \n",
       "10   audio_features   average       canberra    minMax  0.582372   0.634701   \n",
       "11   audio_features   average       canberra  standard  0.409019   0.634701   \n",
       "12   audio_features    single      chebyshev    minMax  0.531904   0.997143   \n",
       "13   audio_features    single      chebyshev  standard  0.439991   0.997143   \n",
       "14   audio_features  complete      chebyshev    minMax  0.401248   0.984530   \n",
       "15   audio_features  complete      chebyshev  standard  0.625245   0.984530   \n",
       "16   audio_features   average      chebyshev    minMax  0.689359   0.985572   \n",
       "17   audio_features   average      chebyshev  standard  0.671478   0.985572   \n",
       "18   audio_features    single      cityblock    minMax  0.480526   0.997143   \n",
       "19   audio_features    single      cityblock  standard  0.509301   0.997143   \n",
       "20   audio_features  complete      cityblock    minMax  0.567150   0.984530   \n",
       "21   audio_features  complete      cityblock  standard  0.457424   0.984530   \n",
       "22   audio_features   average      cityblock    minMax  0.667206   0.985572   \n",
       "23   audio_features   average      cityblock  standard  0.607581   0.985572   \n",
       "24   audio_features    single    correlation    minMax  0.533428   0.998855   \n",
       "25   audio_features    single    correlation  standard  0.019316   0.998855   \n",
       "26   audio_features  complete    correlation    minMax  0.688313   0.986584   \n",
       "27   audio_features  complete    correlation  standard  0.333146   0.986584   \n",
       "28   audio_features   average    correlation    minMax  0.695841   0.987512   \n",
       "29   audio_features   average    correlation  standard  0.448848   0.987512   \n",
       "..              ...       ...            ...       ...       ...        ...   \n",
       "336    audio_tracks    single     russellrao    minMax  0.179786   0.999427   \n",
       "337    audio_tracks    single     russellrao  standard       NaN   0.999427   \n",
       "338    audio_tracks  complete     russellrao    minMax  0.213507   0.988296   \n",
       "339    audio_tracks  complete     russellrao  standard       NaN   0.988296   \n",
       "340    audio_tracks   average     russellrao    minMax  0.219252   0.999427   \n",
       "341    audio_tracks   average     russellrao  standard       NaN   0.999427   \n",
       "342    audio_tracks    single     seuclidean    minMax  0.440816   0.997709   \n",
       "343    audio_tracks    single     seuclidean  standard  0.668392   0.997709   \n",
       "344    audio_tracks  complete     seuclidean    minMax  0.370952   0.800894   \n",
       "345    audio_tracks  complete     seuclidean  standard  0.392535   0.800894   \n",
       "346    audio_tracks   average     seuclidean    minMax  0.547967   0.997710   \n",
       "347    audio_tracks   average     seuclidean  standard  0.715030   0.997710   \n",
       "348    audio_tracks    single  sokalmichener    minMax  0.318538   0.968716   \n",
       "349    audio_tracks    single  sokalmichener  standard       NaN   0.968716   \n",
       "350    audio_tracks  complete  sokalmichener    minMax  0.316797   0.967174   \n",
       "351    audio_tracks  complete  sokalmichener  standard       NaN   0.967174   \n",
       "352    audio_tracks   average  sokalmichener    minMax  0.274828   0.967835   \n",
       "353    audio_tracks   average  sokalmichener  standard       NaN   0.967835   \n",
       "354    audio_tracks    single    sokalsneath    minMax  0.318207   0.976496   \n",
       "355    audio_tracks    single    sokalsneath  standard       NaN   0.976496   \n",
       "356    audio_tracks  complete    sokalsneath    minMax  0.313322   0.981379   \n",
       "357    audio_tracks  complete    sokalsneath  standard       NaN   0.981379   \n",
       "358    audio_tracks   average    sokalsneath    minMax  0.334545   0.974277   \n",
       "359    audio_tracks   average    sokalsneath  standard       NaN   0.974277   \n",
       "360    audio_tracks    single    sqeuclidean    minMax  0.475355   0.997143   \n",
       "361    audio_tracks    single    sqeuclidean  standard  0.652773   0.997143   \n",
       "362    audio_tracks  complete    sqeuclidean    minMax  0.508048   0.984530   \n",
       "363    audio_tracks  complete    sqeuclidean  standard  0.381738   0.984530   \n",
       "364    audio_tracks   average    sqeuclidean    minMax  0.604733   0.985572   \n",
       "365    audio_tracks   average    sqeuclidean  standard  0.712305   0.985572   \n",
       "\n",
       "      adjRand  \n",
       "0    0.000049  \n",
       "1    0.000049  \n",
       "2    0.019142  \n",
       "3    0.019142  \n",
       "4    0.012020  \n",
       "5    0.012020  \n",
       "6    0.000059  \n",
       "7    0.000059  \n",
       "8    0.155931  \n",
       "9    0.155931  \n",
       "10   0.182530  \n",
       "11   0.182530  \n",
       "12   0.000148  \n",
       "13   0.000148  \n",
       "14   0.001857  \n",
       "15   0.001857  \n",
       "16   0.001566  \n",
       "17   0.001566  \n",
       "18   0.000148  \n",
       "19   0.000148  \n",
       "20   0.001857  \n",
       "21   0.001857  \n",
       "22   0.001566  \n",
       "23   0.001566  \n",
       "24  -0.000014  \n",
       "25  -0.000014  \n",
       "26   0.000522  \n",
       "27   0.000522  \n",
       "28   0.001622  \n",
       "29   0.001622  \n",
       "..        ...  \n",
       "336 -0.000046  \n",
       "337 -0.000046  \n",
       "338  0.002724  \n",
       "339  0.002724  \n",
       "340 -0.000046  \n",
       "341 -0.000046  \n",
       "342 -0.000015  \n",
       "343 -0.000015  \n",
       "344  0.125826  \n",
       "345  0.125826  \n",
       "346 -0.000037  \n",
       "347 -0.000037  \n",
       "348  0.001244  \n",
       "349  0.001244  \n",
       "350  0.005694  \n",
       "351  0.005694  \n",
       "352  0.003527  \n",
       "353  0.003527  \n",
       "354  0.000712  \n",
       "355  0.000712  \n",
       "356  0.002887  \n",
       "357  0.002887  \n",
       "358  0.003102  \n",
       "359  0.003102  \n",
       "360  0.000148  \n",
       "361  0.000148  \n",
       "362  0.001857  \n",
       "363  0.001857  \n",
       "364  0.001566  \n",
       "365  0.001566  \n",
       "\n",
       "[366 rows x 7 columns]"
      ]
     },
     "execution_count": 18,
     "metadata": {},
     "output_type": "execute_result"
    }
   ],
   "source": [
    "columns = ['Dataset', 'Method', 'Metric', 'Scaler', 'Cophenet', 'vanDongen', 'adjRand']\n",
    "results = []\n",
    "\n",
    "euclidean_methods = ['single', 'complete', 'average', 'ward']\n",
    "methods = ['single', 'complete', 'average']\n",
    "\n",
    "datasets = {\n",
    "    \"audio_features\": audio_features,\n",
    "    \"audio_analysis\": audio_analysis,\n",
    "    \"audio_tracks\": audio_tracks\n",
    "}\n",
    "\n",
    "scalers = {\n",
    "    \"minMax\": MinMaxScaler(feature_range=(0,1)),\n",
    "    \"standard\": StandardScaler()\n",
    "}\n",
    "\n",
    "metrics = ['braycurtis', 'canberra', 'chebyshev', 'cityblock',\n",
    "           'correlation', 'cosine', 'dice', 'euclidean', 'hamming',\n",
    "           'jaccard', 'kulsinski', 'mahalanobis', 'matching', 'minkowski',\n",
    "           'rogerstanimoto', 'russellrao', 'seuclidean', 'sokalmichener',\n",
    "           'sokalsneath', 'sqeuclidean']\n",
    "\n",
    "for dataset in datasets.keys():\n",
    "    for metric in metrics:\n",
    "        possible_methods = euclidean_methods if metric == 'euclidean' else methods\n",
    "        for method in possible_methods:\n",
    "            for scaler in scalers.keys():\n",
    "                print(dataset + ', ' + metric + ', ' + method + ', ' + scaler)\n",
    "                df = scalers[scaler].fit_transform(datasets[dataset])\n",
    "                z = linkage(df, method = method, metric = metric)\n",
    "                c, coph_dists = cophenet(z, pdist(df))                    \n",
    "                cluster = AgglomerativeClustering(n_clusters = 5, affinity = metric, linkage = method)\n",
    "                cluster.fit_predict(datasets[dataset])\n",
    "                tmp = pd.DataFrame({'Generos': metadata.genre, 'clusters': cluster.labels_})\n",
    "                ct = pd.crosstab(tmp['Generos'], tmp['clusters'])\n",
    "                vd = vanDongen(ct)\n",
    "                rand = adjusted_rand_score(metadata.genre, cluster.labels_)                    \n",
    "                results.append([dataset, method, metric, scaler, c, vd, rand])\n",
    "                    \n",
    "df_results = pd.DataFrame(results, columns = columns)\n",
    "df_results"
   ]
  },
  {
   "cell_type": "code",
   "execution_count": 19,
   "metadata": {},
   "outputs": [],
   "source": [
    "df_results.to_csv('hierarchical.csv', index = False)"
   ]
  }
 ],
 "metadata": {
  "kernelspec": {
   "display_name": "Python 3",
   "language": "python",
   "name": "python3"
  },
  "language_info": {
   "codemirror_mode": {
    "name": "ipython",
    "version": 3
   },
   "file_extension": ".py",
   "mimetype": "text/x-python",
   "name": "python",
   "nbconvert_exporter": "python",
   "pygments_lexer": "ipython3",
   "version": "3.7.3"
  }
 },
 "nbformat": 4,
 "nbformat_minor": 2
}
