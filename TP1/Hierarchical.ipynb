{
 "cells": [
  {
   "cell_type": "code",
   "execution_count": 1,
   "metadata": {},
   "outputs": [],
   "source": [
    "# %reset\n",
    "# Para visualización en notebook\n",
    "%matplotlib inline\n",
    "import matplotlib.pyplot as plt\n",
    "import matplotlib.cm as cm\n",
    "import matplotlib as mpl\n",
    "mpl.rcParams['figure.figsize'] = (8,6)\n",
    "mpl.rcParams['font.size'] = 22\n",
    "from IPython.display import Audio, Markdown, Image\n",
    "import pylab\n",
    "import seaborn as sns\n",
    "\n",
    "# Números y Datos\n",
    "import numpy as np\n",
    "import pandas as pd\n",
    "\n",
    "# Archivos\n",
    "import urllib.request\n",
    "import glob\n",
    "\n",
    "# Análisis de sonido\n",
    "import spotipy \n",
    "\n",
    "# Machine learning\n",
    "# importar los paquetes para clustering\n",
    "from sklearn.preprocessing import StandardScaler\n",
    "\n",
    "# To work with categorical types\n",
    "from pandas.api.types import CategoricalDtype\n",
    "\n",
    "# Clustering (scipy)\n",
    "from scipy.spatial.distance import pdist, squareform\n",
    "from scipy.cluster.hierarchy import dendrogram, linkage, cophenet, fcluster\n",
    "\n",
    "# Clustering (sklearn)\n",
    "from sklearn.preprocessing import MinMaxScaler\n",
    "scaler = MinMaxScaler(feature_range=(0,1))\n",
    "\n",
    "from sklearn.cluster import KMeans, DBSCAN\n",
    "from sklearn.metrics import adjusted_rand_score, silhouette_score, silhouette_samples\n",
    "from sklearn.neighbors import NearestNeighbors\n",
    "\n",
    "from sklearn.metrics.pairwise import euclidean_distances\n",
    "\n",
    "from funciones import plot_silhouette\n",
    "from funciones import plot_silhouettes_and_sses\n",
    "from funciones import get_silhouette_avg\n",
    "from funciones import get_sse\n",
    "from funciones import vanDongen\n",
    "\n",
    "from sklearn.decomposition import PCA, TruncatedSVD\n",
    "from sklearn.manifold import MDS, Isomap, SpectralEmbedding, TSNE"
   ]
  },
  {
   "cell_type": "markdown",
   "metadata": {},
   "source": [
    "Se cargan los dataset"
   ]
  },
  {
   "cell_type": "code",
   "execution_count": 2,
   "metadata": {},
   "outputs": [],
   "source": [
    "metadata = pd.read_csv('../data/metadata.csv', index_col='id')\n",
    "audio_features = pd.read_csv('../data/audio_features.csv', index_col='id')\n",
    "audio_analysis = pd.read_csv('../data/audio_analysis.csv', index_col='id')\n",
    "\n",
    "audio_features = audio_features[['acousticness','danceability', 'duration_ms', 'energy', 'instrumentalness', 'key', 'liveness','loudness', 'mode', 'speechiness', 'tempo', 'time_signature', 'valence']]\n",
    "\n",
    "# Para que las comparaciones sean del mismo largo,\n",
    "# se remueve de audio_feature y metadata el track que no se encuentra en audio_analysis\n",
    "merged = audio_features.merge(audio_analysis, how = 'left', on = 'id')\n",
    "id_to_remove = merged[merged.timbre_mean_0.isnull()].index[0]\n",
    "\n",
    "audio_features = audio_features.drop(id_to_remove, axis = 0)\n",
    "\n",
    "audio_tracks = pd.merge(audio_features, audio_analysis, how = 'inner', on = 'id')\n",
    "metadata = metadata.drop(id_to_remove, axis = 0)\n",
    "\n",
    "# Se ordenan los datasets para que los tracks estén en el mismo orden\n",
    "audio_features = audio_features.sort_index()\n",
    "audio_analysis = audio_analysis.sort_index()\n",
    "audio_tracks = audio_tracks.sort_index()\n",
    "metadata = metadata.sort_index()"
   ]
  },
  {
   "cell_type": "code",
   "execution_count": 3,
   "metadata": {},
   "outputs": [
    {
     "data": {
      "text/plain": [
       "(2205, 17)"
      ]
     },
     "execution_count": 3,
     "metadata": {},
     "output_type": "execute_result"
    }
   ],
   "source": [
    "metadata.shape"
   ]
  },
  {
   "cell_type": "code",
   "execution_count": 4,
   "metadata": {},
   "outputs": [
    {
     "data": {
      "text/plain": [
       "(2205, 13)"
      ]
     },
     "execution_count": 4,
     "metadata": {},
     "output_type": "execute_result"
    }
   ],
   "source": [
    "audio_features.shape"
   ]
  },
  {
   "cell_type": "code",
   "execution_count": 5,
   "metadata": {},
   "outputs": [
    {
     "data": {
      "text/plain": [
       "(2205, 48)"
      ]
     },
     "execution_count": 5,
     "metadata": {},
     "output_type": "execute_result"
    }
   ],
   "source": [
    "audio_analysis.shape"
   ]
  },
  {
   "cell_type": "code",
   "execution_count": 6,
   "metadata": {},
   "outputs": [
    {
     "data": {
      "text/plain": [
       "(2205, 61)"
      ]
     },
     "execution_count": 6,
     "metadata": {},
     "output_type": "execute_result"
    }
   ],
   "source": [
    "audio_tracks.shape"
   ]
  },
  {
   "cell_type": "markdown",
   "metadata": {},
   "source": [
    "# Cluster Jerárquico"
   ]
  },
  {
   "cell_type": "code",
   "execution_count": null,
   "metadata": {},
   "outputs": [],
   "source": []
  }
 ],
 "metadata": {
  "kernelspec": {
   "display_name": "Python 3",
   "language": "python",
   "name": "python3"
  },
  "language_info": {
   "codemirror_mode": {
    "name": "ipython",
    "version": 3
   },
   "file_extension": ".py",
   "mimetype": "text/x-python",
   "name": "python",
   "nbconvert_exporter": "python",
   "pygments_lexer": "ipython3",
   "version": "3.7.3"
  }
 },
 "nbformat": 4,
 "nbformat_minor": 2
}
