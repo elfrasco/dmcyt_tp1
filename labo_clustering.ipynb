{
 "cells": [
  {
   "cell_type": "markdown",
   "metadata": {},
   "source": [
    "# Laboratorio de data mining\n",
    "Vamos a usar el dataset de http://archive.ics.uci.edu/ml/datasets/wiki4HE, que son dos encuentas de uso de Wikipedia en distintas universidades"
   ]
  },
  {
   "cell_type": "code",
   "execution_count": 2,
   "metadata": {},
   "outputs": [
    {
     "name": "stdout",
     "output_type": "stream",
     "text": [
      "Collecting https://github.com/scikit-learn-contrib/scikit-learn-extra/archive/master.zip\n",
      "\u001b[?25l  Downloading https://github.com/scikit-learn-contrib/scikit-learn-extra/archive/master.zip\n",
      "\u001b[K     / 2.2MB 980kB/s\n",
      "\u001b[?25h  Installing build dependencies ... \u001b[?25ldone\n",
      "\u001b[?25h  Getting requirements to build wheel ... \u001b[?25ldone\n",
      "\u001b[?25h    Preparing wheel metadata ... \u001b[?25ldone\n",
      "\u001b[?25hRequirement already satisfied: scikit-learn in /home/frasco/anaconda3/lib/python3.7/site-packages (from sklearn-extra==0.0.3) (0.21.2)\n",
      "Requirement already satisfied: cython in /home/frasco/anaconda3/lib/python3.7/site-packages (from sklearn-extra==0.0.3) (0.29.12)\n",
      "Requirement already satisfied: scipy in /home/frasco/anaconda3/lib/python3.7/site-packages (from sklearn-extra==0.0.3) (1.3.0)\n",
      "Requirement already satisfied: numpy in /home/frasco/anaconda3/lib/python3.7/site-packages (from sklearn-extra==0.0.3) (1.16.4)\n",
      "Requirement already satisfied: joblib>=0.11 in /home/frasco/anaconda3/lib/python3.7/site-packages (from scikit-learn->sklearn-extra==0.0.3) (0.13.2)\n",
      "Building wheels for collected packages: sklearn-extra\n",
      "  Building wheel for sklearn-extra (PEP 517) ... \u001b[?25ldone\n",
      "\u001b[?25h  Stored in directory: /tmp/pip-ephem-wheel-cache-e4iy_46o/wheels/d3/a5/a8/411bc2d0939f2cc9d17f34f0d3457043c68e14a98b91fd8301\n",
      "Successfully built sklearn-extra\n",
      "Installing collected packages: sklearn-extra\n",
      "Successfully installed sklearn-extra-0.0.3\n"
     ]
    }
   ],
   "source": [
    "# ! pip install https://github.com/scikit-learn-contrib/scikit-learn-extra/archive/master.zip"
   ]
  },
  {
   "cell_type": "code",
   "execution_count": 76,
   "metadata": {},
   "outputs": [
    {
     "name": "stdout",
     "output_type": "stream",
     "text": [
      "Once deleted, variables cannot be recovered. Proceed (y/[n])? y\n"
     ]
    },
    {
     "name": "stderr",
     "output_type": "stream",
     "text": [
      "ERROR:root:Invalid alias: The name clear can't be aliased because it is another magic command.\n",
      "ERROR:root:Invalid alias: The name more can't be aliased because it is another magic command.\n",
      "ERROR:root:Invalid alias: The name less can't be aliased because it is another magic command.\n",
      "ERROR:root:Invalid alias: The name man can't be aliased because it is another magic command.\n"
     ]
    }
   ],
   "source": [
    "%reset"
   ]
  },
  {
   "cell_type": "code",
   "execution_count": 115,
   "metadata": {},
   "outputs": [],
   "source": [
    "# Para visuzalización en notebook\n",
    "%matplotlib inline\n",
    "import matplotlib.pyplot as plt\n",
    "import matplotlib.cm as cm\n",
    "import matplotlib as mpl\n",
    "mpl.rcParams['figure.figsize'] = (8,6)\n",
    "mpl.rcParams['font.size'] = 22\n",
    "from IPython.display import Audio, Markdown, Image\n",
    "import pylab\n",
    "#import seaborn as sns\n",
    "\n",
    "# Números y Datos\n",
    "import numpy as np\n",
    "import pandas as pd\n",
    "import random\n",
    "\n",
    "# Archivos\n",
    "import urllib.request\n",
    "import glob\n",
    "\n",
    "def dmd(x):\n",
    "    display(Markdown(x))\n",
    "\n",
    "# Clustering (scipy)\n",
    "from scipy.spatial.distance import pdist, squareform\n",
    "from scipy.cluster.hierarchy import dendrogram, linkage, cophenet, fcluster\n",
    "\n",
    "# Clustering (sklearn)\n",
    "from sklearn.preprocessing import MinMaxScaler\n",
    "scaler = MinMaxScaler(feature_range=(0,1))\n",
    "\n",
    "from sklearn.cluster import KMeans, DBSCAN\n",
    "from sklearn.metrics import adjusted_rand_score, silhouette_score, silhouette_samples\n",
    "from sklearn.neighbors import NearestNeighbors\n",
    "\n",
    "from sklearn_extra.cluster import KMedoids\n",
    "\n",
    "from sklearn.manifold import TSNE"
   ]
  },
  {
   "cell_type": "code",
   "execution_count": 78,
   "metadata": {},
   "outputs": [
    {
     "data": {
      "text/html": [
       "<div>\n",
       "<style scoped>\n",
       "    .dataframe tbody tr th:only-of-type {\n",
       "        vertical-align: middle;\n",
       "    }\n",
       "\n",
       "    .dataframe tbody tr th {\n",
       "        vertical-align: top;\n",
       "    }\n",
       "\n",
       "    .dataframe thead th {\n",
       "        text-align: right;\n",
       "    }\n",
       "</style>\n",
       "<table border=\"1\" class=\"dataframe\">\n",
       "  <thead>\n",
       "    <tr style=\"text-align: right;\">\n",
       "      <th></th>\n",
       "      <th>AGE</th>\n",
       "      <th>GENDER</th>\n",
       "      <th>DOMAIN</th>\n",
       "      <th>PhD</th>\n",
       "      <th>YEARSEXP</th>\n",
       "      <th>UNIVERSITY</th>\n",
       "      <th>UOC_POSITION</th>\n",
       "      <th>OTHER_POSITION</th>\n",
       "      <th>OTHERSTATUS</th>\n",
       "      <th>USERWIKI</th>\n",
       "      <th>...</th>\n",
       "      <th>BI2</th>\n",
       "      <th>Inc1</th>\n",
       "      <th>Inc2</th>\n",
       "      <th>Inc3</th>\n",
       "      <th>Inc4</th>\n",
       "      <th>Exp1</th>\n",
       "      <th>Exp2</th>\n",
       "      <th>Exp3</th>\n",
       "      <th>Exp4</th>\n",
       "      <th>Exp5</th>\n",
       "    </tr>\n",
       "  </thead>\n",
       "  <tbody>\n",
       "    <tr>\n",
       "      <th>0</th>\n",
       "      <td>40</td>\n",
       "      <td>0</td>\n",
       "      <td>2</td>\n",
       "      <td>1</td>\n",
       "      <td>14</td>\n",
       "      <td>1</td>\n",
       "      <td>2</td>\n",
       "      <td>?</td>\n",
       "      <td>?</td>\n",
       "      <td>0</td>\n",
       "      <td>...</td>\n",
       "      <td>3</td>\n",
       "      <td>5</td>\n",
       "      <td>5</td>\n",
       "      <td>5</td>\n",
       "      <td>5</td>\n",
       "      <td>4</td>\n",
       "      <td>4</td>\n",
       "      <td>4</td>\n",
       "      <td>1</td>\n",
       "      <td>2</td>\n",
       "    </tr>\n",
       "    <tr>\n",
       "      <th>1</th>\n",
       "      <td>42</td>\n",
       "      <td>0</td>\n",
       "      <td>5</td>\n",
       "      <td>1</td>\n",
       "      <td>18</td>\n",
       "      <td>1</td>\n",
       "      <td>2</td>\n",
       "      <td>?</td>\n",
       "      <td>?</td>\n",
       "      <td>0</td>\n",
       "      <td>...</td>\n",
       "      <td>2</td>\n",
       "      <td>4</td>\n",
       "      <td>4</td>\n",
       "      <td>3</td>\n",
       "      <td>4</td>\n",
       "      <td>2</td>\n",
       "      <td>2</td>\n",
       "      <td>4</td>\n",
       "      <td>2</td>\n",
       "      <td>4</td>\n",
       "    </tr>\n",
       "    <tr>\n",
       "      <th>2</th>\n",
       "      <td>37</td>\n",
       "      <td>0</td>\n",
       "      <td>4</td>\n",
       "      <td>1</td>\n",
       "      <td>13</td>\n",
       "      <td>1</td>\n",
       "      <td>3</td>\n",
       "      <td>?</td>\n",
       "      <td>?</td>\n",
       "      <td>0</td>\n",
       "      <td>...</td>\n",
       "      <td>1</td>\n",
       "      <td>5</td>\n",
       "      <td>3</td>\n",
       "      <td>5</td>\n",
       "      <td>5</td>\n",
       "      <td>2</td>\n",
       "      <td>2</td>\n",
       "      <td>2</td>\n",
       "      <td>1</td>\n",
       "      <td>3</td>\n",
       "    </tr>\n",
       "    <tr>\n",
       "      <th>3</th>\n",
       "      <td>40</td>\n",
       "      <td>0</td>\n",
       "      <td>4</td>\n",
       "      <td>0</td>\n",
       "      <td>13</td>\n",
       "      <td>1</td>\n",
       "      <td>3</td>\n",
       "      <td>?</td>\n",
       "      <td>?</td>\n",
       "      <td>0</td>\n",
       "      <td>...</td>\n",
       "      <td>3</td>\n",
       "      <td>3</td>\n",
       "      <td>4</td>\n",
       "      <td>4</td>\n",
       "      <td>3</td>\n",
       "      <td>4</td>\n",
       "      <td>4</td>\n",
       "      <td>3</td>\n",
       "      <td>3</td>\n",
       "      <td>4</td>\n",
       "    </tr>\n",
       "    <tr>\n",
       "      <th>4</th>\n",
       "      <td>51</td>\n",
       "      <td>0</td>\n",
       "      <td>6</td>\n",
       "      <td>0</td>\n",
       "      <td>8</td>\n",
       "      <td>1</td>\n",
       "      <td>3</td>\n",
       "      <td>?</td>\n",
       "      <td>?</td>\n",
       "      <td>1</td>\n",
       "      <td>...</td>\n",
       "      <td>5</td>\n",
       "      <td>5</td>\n",
       "      <td>5</td>\n",
       "      <td>4</td>\n",
       "      <td>4</td>\n",
       "      <td>5</td>\n",
       "      <td>5</td>\n",
       "      <td>5</td>\n",
       "      <td>4</td>\n",
       "      <td>4</td>\n",
       "    </tr>\n",
       "  </tbody>\n",
       "</table>\n",
       "<p>5 rows × 53 columns</p>\n",
       "</div>"
      ],
      "text/plain": [
       "   AGE  GENDER DOMAIN  PhD YEARSEXP  UNIVERSITY UOC_POSITION OTHER_POSITION  \\\n",
       "0   40       0      2    1       14           1            2              ?   \n",
       "1   42       0      5    1       18           1            2              ?   \n",
       "2   37       0      4    1       13           1            3              ?   \n",
       "3   40       0      4    0       13           1            3              ?   \n",
       "4   51       0      6    0        8           1            3              ?   \n",
       "\n",
       "  OTHERSTATUS USERWIKI  ... BI2 Inc1 Inc2 Inc3 Inc4 Exp1 Exp2 Exp3 Exp4 Exp5  \n",
       "0           ?        0  ...   3    5    5    5    5    4    4    4    1    2  \n",
       "1           ?        0  ...   2    4    4    3    4    2    2    4    2    4  \n",
       "2           ?        0  ...   1    5    3    5    5    2    2    2    1    3  \n",
       "3           ?        0  ...   3    3    4    4    3    4    4    3    3    4  \n",
       "4           ?        1  ...   5    5    5    4    4    5    5    5    4    4  \n",
       "\n",
       "[5 rows x 53 columns]"
      ]
     },
     "execution_count": 78,
     "metadata": {},
     "output_type": "execute_result"
    }
   ],
   "source": [
    "df = pd.read_csv('data/wiki4HE.csv',sep=';')\n",
    "df.head()"
   ]
  },
  {
   "cell_type": "code",
   "execution_count": 79,
   "metadata": {},
   "outputs": [
    {
     "data": {
      "text/plain": [
       "(913, 53)"
      ]
     },
     "execution_count": 79,
     "metadata": {},
     "output_type": "execute_result"
    }
   ],
   "source": [
    "df.shape"
   ]
  },
  {
   "cell_type": "code",
   "execution_count": 80,
   "metadata": {},
   "outputs": [
    {
     "data": {
      "text/plain": [
       "Index(['AGE', 'GENDER', 'DOMAIN', 'PhD', 'YEARSEXP', 'UNIVERSITY',\n",
       "       'UOC_POSITION', 'OTHER_POSITION', 'OTHERSTATUS', 'USERWIKI', 'PU1',\n",
       "       'PU2', 'PU3', 'PEU1', 'PEU2', 'PEU3', 'ENJ1', 'ENJ2', 'Qu1', 'Qu2',\n",
       "       'Qu3', 'Qu4', 'Qu5', 'Vis1', 'Vis2', 'Vis3', 'Im1', 'Im2', 'Im3', 'SA1',\n",
       "       'SA2', 'SA3', 'Use1', 'Use2', 'Use3', 'Use4', 'Use5', 'Pf1', 'Pf2',\n",
       "       'Pf3', 'JR1', 'JR2', 'BI1', 'BI2', 'Inc1', 'Inc2', 'Inc3', 'Inc4',\n",
       "       'Exp1', 'Exp2', 'Exp3', 'Exp4', 'Exp5'],\n",
       "      dtype='object')"
      ]
     },
     "execution_count": 80,
     "metadata": {},
     "output_type": "execute_result"
    }
   ],
   "source": [
    "df.columns"
   ]
  },
  {
   "cell_type": "code",
   "execution_count": 26,
   "metadata": {},
   "outputs": [
    {
     "data": {
      "text/html": [
       "<div>\n",
       "<style scoped>\n",
       "    .dataframe tbody tr th:only-of-type {\n",
       "        vertical-align: middle;\n",
       "    }\n",
       "\n",
       "    .dataframe tbody tr th {\n",
       "        vertical-align: top;\n",
       "    }\n",
       "\n",
       "    .dataframe thead th {\n",
       "        text-align: right;\n",
       "    }\n",
       "</style>\n",
       "<table border=\"1\" class=\"dataframe\">\n",
       "  <thead>\n",
       "    <tr style=\"text-align: right;\">\n",
       "      <th></th>\n",
       "      <th>AGE</th>\n",
       "      <th>GENDER</th>\n",
       "      <th>PhD</th>\n",
       "      <th>UNIVERSITY</th>\n",
       "    </tr>\n",
       "  </thead>\n",
       "  <tbody>\n",
       "    <tr>\n",
       "      <th>count</th>\n",
       "      <td>913.000000</td>\n",
       "      <td>913.000000</td>\n",
       "      <td>913.000000</td>\n",
       "      <td>913.000000</td>\n",
       "    </tr>\n",
       "    <tr>\n",
       "      <th>mean</th>\n",
       "      <td>42.246440</td>\n",
       "      <td>0.424973</td>\n",
       "      <td>0.464403</td>\n",
       "      <td>1.123768</td>\n",
       "    </tr>\n",
       "    <tr>\n",
       "      <th>std</th>\n",
       "      <td>8.058418</td>\n",
       "      <td>0.494610</td>\n",
       "      <td>0.499005</td>\n",
       "      <td>0.329497</td>\n",
       "    </tr>\n",
       "    <tr>\n",
       "      <th>min</th>\n",
       "      <td>23.000000</td>\n",
       "      <td>0.000000</td>\n",
       "      <td>0.000000</td>\n",
       "      <td>1.000000</td>\n",
       "    </tr>\n",
       "    <tr>\n",
       "      <th>25%</th>\n",
       "      <td>36.000000</td>\n",
       "      <td>0.000000</td>\n",
       "      <td>0.000000</td>\n",
       "      <td>1.000000</td>\n",
       "    </tr>\n",
       "    <tr>\n",
       "      <th>50%</th>\n",
       "      <td>42.000000</td>\n",
       "      <td>0.000000</td>\n",
       "      <td>0.000000</td>\n",
       "      <td>1.000000</td>\n",
       "    </tr>\n",
       "    <tr>\n",
       "      <th>75%</th>\n",
       "      <td>47.000000</td>\n",
       "      <td>1.000000</td>\n",
       "      <td>1.000000</td>\n",
       "      <td>1.000000</td>\n",
       "    </tr>\n",
       "    <tr>\n",
       "      <th>max</th>\n",
       "      <td>69.000000</td>\n",
       "      <td>1.000000</td>\n",
       "      <td>1.000000</td>\n",
       "      <td>2.000000</td>\n",
       "    </tr>\n",
       "  </tbody>\n",
       "</table>\n",
       "</div>"
      ],
      "text/plain": [
       "              AGE      GENDER         PhD  UNIVERSITY\n",
       "count  913.000000  913.000000  913.000000  913.000000\n",
       "mean    42.246440    0.424973    0.464403    1.123768\n",
       "std      8.058418    0.494610    0.499005    0.329497\n",
       "min     23.000000    0.000000    0.000000    1.000000\n",
       "25%     36.000000    0.000000    0.000000    1.000000\n",
       "50%     42.000000    0.000000    0.000000    1.000000\n",
       "75%     47.000000    1.000000    1.000000    1.000000\n",
       "max     69.000000    1.000000    1.000000    2.000000"
      ]
     },
     "execution_count": 26,
     "metadata": {},
     "output_type": "execute_result"
    }
   ],
   "source": [
    "df.describe()"
   ]
  },
  {
   "cell_type": "markdown",
   "metadata": {},
   "source": [
    "# Limpieza y preparación de los datos\n",
    "## Datos faltantes\n",
    "Primero revisamos como están codificados los datos faltantes, y encontramos que se uso el signo de pregunta (podrían estar codificados de distintas formas)."
   ]
  },
  {
   "cell_type": "code",
   "execution_count": 81,
   "metadata": {},
   "outputs": [
    {
     "data": {
      "text/plain": [
       "AGE                 0\n",
       "GENDER              0\n",
       "DOMAIN              2\n",
       "PhD                 0\n",
       "YEARSEXP           23\n",
       "UNIVERSITY          0\n",
       "UOC_POSITION      113\n",
       "OTHER_POSITION    261\n",
       "OTHERSTATUS       540\n",
       "USERWIKI            4\n",
       "PU1                 7\n",
       "PU2                11\n",
       "PU3                 5\n",
       "PEU1                4\n",
       "PEU2               14\n",
       "PEU3               97\n",
       "ENJ1                7\n",
       "ENJ2               17\n",
       "Qu1                 7\n",
       "Qu2                10\n",
       "Qu3                15\n",
       "Qu4                22\n",
       "Qu5                29\n",
       "Vis1               72\n",
       "Vis2              117\n",
       "Vis3                8\n",
       "Im1                22\n",
       "Im2                20\n",
       "Im3                57\n",
       "SA1                11\n",
       "SA2                12\n",
       "SA3                11\n",
       "Use1               14\n",
       "Use2               17\n",
       "Use3                9\n",
       "Use4               23\n",
       "Use5               15\n",
       "Pf1                11\n",
       "Pf2                 6\n",
       "Pf3                14\n",
       "JR1                27\n",
       "JR2                53\n",
       "BI1                32\n",
       "BI2                43\n",
       "Inc1               35\n",
       "Inc2               35\n",
       "Inc3               37\n",
       "Inc4               42\n",
       "Exp1               13\n",
       "Exp2               11\n",
       "Exp3               13\n",
       "Exp4               14\n",
       "Exp5               13\n",
       "dtype: int64"
      ]
     },
     "execution_count": 81,
     "metadata": {},
     "output_type": "execute_result"
    }
   ],
   "source": [
    "df.apply(lambda x: np.sum(x=='?'))"
   ]
  },
  {
   "cell_type": "code",
   "execution_count": 82,
   "metadata": {},
   "outputs": [
    {
     "data": {
      "text/plain": [
       "<matplotlib.axes._subplots.AxesSubplot at 0x7ff9e8eb1fd0>"
      ]
     },
     "execution_count": 82,
     "metadata": {},
     "output_type": "execute_result"
    },
    {
     "data": {
      "image/png": "[encoded data removed]",
      "text/plain": [
       "<Figure size 576x432 with 1 Axes>"
      ]
     },
     "metadata": {
      "needs_background": "light"
     },
     "output_type": "display_data"
    }
   ],
   "source": [
    "df.apply(lambda x: np.sum(x=='?'),axis=1).hist(bins=range(0,15))"
   ]
  },
  {
   "cell_type": "code",
   "execution_count": 83,
   "metadata": {},
   "outputs": [
    {
     "data": {
      "text/plain": [
       "176"
      ]
     },
     "execution_count": 83,
     "metadata": {},
     "output_type": "execute_result"
    }
   ],
   "source": [
    "sum(df.apply(lambda x: np.sum(x=='?'),axis=1)==0)"
   ]
  },
  {
   "cell_type": "markdown",
   "metadata": {},
   "source": [
    "Hay pocas variables que concentran muchos valores faltantes. Para simplificar el análisis no vamos a aplicar técnicas de imputación de datos faltantes, pero haremos algunos cambios en el dataset.\n",
    "\n",
    "La variable OTHER_POSITION sólo tiene sentido para los docentes que tienen otra posición además de la que tienen en UOC. \n",
    "Las preguntas Vis2 y Peu3 solo deberían ser respondidos por quienes editan artículos en Wikipedia, o conocen a alguien que lo haga. \n",
    "Podemos eliminar estas variables."
   ]
  },
  {
   "cell_type": "code",
   "execution_count": 84,
   "metadata": {},
   "outputs": [
    {
     "data": {
      "text/plain": [
       "188"
      ]
     },
     "execution_count": 84,
     "metadata": {},
     "output_type": "execute_result"
    }
   ],
   "source": [
    "df = df.drop(columns=['OTHER_POSITION','Vis2','PEU3'])\n",
    "sum(df.apply(lambda x: np.sum(x=='?'),axis=1)==0)"
   ]
  },
  {
   "cell_type": "markdown",
   "metadata": {},
   "source": [
    "En una situación de trabajo real, habría que continuar el análisis de los datos faltantes, y considerar aplicar alguna ténica de imputación de datos faltantes. Nosotros nos vamos a quedar con los registros completos. \n",
    "Vamos a separar los datos profesionales y demográficos de los encuestados."
   ]
  },
  {
   "cell_type": "code",
   "execution_count": 85,
   "metadata": {},
   "outputs": [
    {
     "data": {
      "text/plain": [
       "(188, 50)"
      ]
     },
     "execution_count": 85,
     "metadata": {},
     "output_type": "execute_result"
    }
   ],
   "source": [
    "df = df[df.apply(lambda x: np.sum(x=='?'),axis=1)==0]\n",
    "df.shape"
   ]
  },
  {
   "cell_type": "code",
   "execution_count": 86,
   "metadata": {},
   "outputs": [],
   "source": [
    "meta = df[['AGE', 'GENDER', 'DOMAIN', 'PhD', 'YEARSEXP', 'UNIVERSITY',\n",
    "       'UOC_POSITION', 'OTHERSTATUS', 'USERWIKI']]\n",
    "encu = df.drop(columns=['AGE', 'GENDER', 'DOMAIN', 'PhD', 'YEARSEXP', 'UNIVERSITY',\n",
    "       'UOC_POSITION', 'OTHERSTATUS', 'USERWIKI'])"
   ]
  },
  {
   "cell_type": "markdown",
   "metadata": {},
   "source": [
    "# Metadata\n",
    "Arrancamos con los datos de los encuestados"
   ]
  },
  {
   "cell_type": "code",
   "execution_count": 87,
   "metadata": {},
   "outputs": [
    {
     "data": {
      "text/plain": [
       "(188, 9)"
      ]
     },
     "execution_count": 87,
     "metadata": {},
     "output_type": "execute_result"
    }
   ],
   "source": [
    "meta.shape"
   ]
  },
  {
   "cell_type": "markdown",
   "metadata": {},
   "source": [
    "## Limpieza y preparación de los datos\n",
    "Vamos a corregir las categorias (en el caso que corresponda) y el tipo de datos (Numerico, Booleano o logico, y Categorico)"
   ]
  },
  {
   "cell_type": "code",
   "execution_count": 88,
   "metadata": {},
   "outputs": [
    {
     "data": {
      "text/plain": [
       "AGE             <class 'int'>\n",
       "GENDER          <class 'int'>\n",
       "DOMAIN          <class 'str'>\n",
       "PhD             <class 'int'>\n",
       "YEARSEXP        <class 'str'>\n",
       "UNIVERSITY      <class 'int'>\n",
       "UOC_POSITION    <class 'str'>\n",
       "OTHERSTATUS     <class 'str'>\n",
       "USERWIKI        <class 'str'>\n",
       "dtype: object"
      ]
     },
     "execution_count": 88,
     "metadata": {},
     "output_type": "execute_result"
    }
   ],
   "source": [
    "meta.apply(lambda x: type(x.values[1]),axis=0)"
   ]
  },
  {
   "cell_type": "markdown",
   "metadata": {},
   "source": [
    "Las edades son números enteros... ok"
   ]
  },
  {
   "cell_type": "markdown",
   "metadata": {},
   "source": [
    "Las siguientes variables deberían ser de tipo factor: GENDER, DOMAIN, UOC_POSITION, UNIVERSITY y OTHERSTATUS. Estas conversiones son importantes para evitar más adelante calcular, por ejemplo, distancias Euclídeas entre sexos o entre dominios de trabajo. En algunos casos, y para aumentar la claridad vamos a especificar los niveles de estas variables."
   ]
  },
  {
   "cell_type": "code",
   "execution_count": 89,
   "metadata": {},
   "outputs": [
    {
     "name": "stderr",
     "output_type": "stream",
     "text": [
      "/home/frasco/anaconda3/lib/python3.7/site-packages/ipykernel_launcher.py:3: SettingWithCopyWarning: \n",
      "A value is trying to be set on a copy of a slice from a DataFrame.\n",
      "Try using .loc[row_indexer,col_indexer] = value instead\n",
      "\n",
      "See the caveats in the documentation: http://pandas.pydata.org/pandas-docs/stable/indexing.html#indexing-view-versus-copy\n",
      "  This is separate from the ipykernel package so we can avoid doing imports until\n",
      "/home/frasco/anaconda3/lib/python3.7/site-packages/ipykernel_launcher.py:4: SettingWithCopyWarning: \n",
      "A value is trying to be set on a copy of a slice from a DataFrame.\n",
      "Try using .loc[row_indexer,col_indexer] = value instead\n",
      "\n",
      "See the caveats in the documentation: http://pandas.pydata.org/pandas-docs/stable/indexing.html#indexing-view-versus-copy\n",
      "  after removing the cwd from sys.path.\n"
     ]
    },
    {
     "data": {
      "text/plain": [
       "[M, F]\n",
       "Categories (2, object): [M, F]"
      ]
     },
     "execution_count": 89,
     "metadata": {},
     "output_type": "execute_result"
    }
   ],
   "source": [
    "conditions = [(meta['GENDER'] == 0), (meta['GENDER'] == 1)]\n",
    "choices = ['M', 'F']\n",
    "meta['GENDER'] = np.select(conditions, choices)\n",
    "meta['GENDER'] = meta['GENDER'].astype('category')\n",
    "meta['GENDER'].unique()"
   ]
  },
  {
   "cell_type": "markdown",
   "metadata": {},
   "source": [
    "Al resto de las variables tengo que acomodarles las categorias. Ya no tiene datos faltantes, si no se lo agrego como una categoria más."
   ]
  },
  {
   "cell_type": "code",
   "execution_count": 90,
   "metadata": {},
   "outputs": [
    {
     "name": "stderr",
     "output_type": "stream",
     "text": [
      "/home/frasco/anaconda3/lib/python3.7/site-packages/ipykernel_launcher.py:9: SettingWithCopyWarning: \n",
      "A value is trying to be set on a copy of a slice from a DataFrame.\n",
      "Try using .loc[row_indexer,col_indexer] = value instead\n",
      "\n",
      "See the caveats in the documentation: http://pandas.pydata.org/pandas-docs/stable/indexing.html#indexing-view-versus-copy\n",
      "  if __name__ == '__main__':\n",
      "/home/frasco/anaconda3/lib/python3.7/site-packages/ipykernel_launcher.py:10: SettingWithCopyWarning: \n",
      "A value is trying to be set on a copy of a slice from a DataFrame.\n",
      "Try using .loc[row_indexer,col_indexer] = value instead\n",
      "\n",
      "See the caveats in the documentation: http://pandas.pydata.org/pandas-docs/stable/indexing.html#indexing-view-versus-copy\n",
      "  # Remove the CWD from sys.path while we load stuff.\n"
     ]
    },
    {
     "data": {
      "text/plain": [
       "[Political_Sciences, Law, Arts_Humanities, Sciences, Engineering_Architecture, Health_Sciences]\n",
       "Categories (6, object): [Political_Sciences, Law, Arts_Humanities, Sciences, Engineering_Architecture, Health_Sciences]"
      ]
     },
     "execution_count": 90,
     "metadata": {},
     "output_type": "execute_result"
    }
   ],
   "source": [
    "#meta['DOMAIN'].astype('float').unique()\n",
    "conditions = [(meta['DOMAIN'] == '1'), \n",
    "              (meta['DOMAIN'] == '2'),              \n",
    "              (meta['DOMAIN'] == '3'),              \n",
    "              (meta['DOMAIN'] == '4'),              \n",
    "              (meta['DOMAIN'] == '5'),              \n",
    "              (meta['DOMAIN'] == '6')]\n",
    "choices = ['Arts_Humanities','Sciences','Health_Sciences','Engineering_Architecture','Law','Political_Sciences']\n",
    "meta['DOMAIN'] = np.select(conditions, choices)\n",
    "meta['DOMAIN'] = meta['DOMAIN'].astype('category')\n",
    "meta['DOMAIN'].unique()"
   ]
  },
  {
   "cell_type": "code",
   "execution_count": 37,
   "metadata": {},
   "outputs": [
    {
     "name": "stderr",
     "output_type": "stream",
     "text": [
      "/home/frasco/anaconda3/lib/python3.7/site-packages/ipykernel_launcher.py:8: SettingWithCopyWarning: \n",
      "A value is trying to be set on a copy of a slice from a DataFrame.\n",
      "Try using .loc[row_indexer,col_indexer] = value instead\n",
      "\n",
      "See the caveats in the documentation: http://pandas.pydata.org/pandas-docs/stable/indexing.html#indexing-view-versus-copy\n",
      "  \n",
      "/home/frasco/anaconda3/lib/python3.7/site-packages/ipykernel_launcher.py:9: SettingWithCopyWarning: \n",
      "A value is trying to be set on a copy of a slice from a DataFrame.\n",
      "Try using .loc[row_indexer,col_indexer] = value instead\n",
      "\n",
      "See the caveats in the documentation: http://pandas.pydata.org/pandas-docs/stable/indexing.html#indexing-view-versus-copy\n",
      "  if __name__ == '__main__':\n"
     ]
    },
    {
     "data": {
      "text/plain": [
       "[Adjunct]\n",
       "Categories (1, object): [Adjunct]"
      ]
     },
     "execution_count": 37,
     "metadata": {},
     "output_type": "execute_result"
    }
   ],
   "source": [
    "conditions = [(meta['UOC_POSITION'] == '1'), \n",
    "              (meta['UOC_POSITION'] == '2'),              \n",
    "              (meta['UOC_POSITION'] == '3'),              \n",
    "              (meta['UOC_POSITION'] == '4'),              \n",
    "              (meta['UOC_POSITION'] == '5'),              \n",
    "              (meta['UOC_POSITION'] == '6')]\n",
    "choices = ['Professor','Associate','Assistant','Lecturer','Instructor','Adjunct']\n",
    "meta['UOC_POSITION'] = np.select(conditions, choices)\n",
    "meta['UOC_POSITION'] = meta['UOC_POSITION'].astype('category')\n",
    "meta['UOC_POSITION'].unique()"
   ]
  },
  {
   "cell_type": "code",
   "execution_count": 91,
   "metadata": {},
   "outputs": [
    {
     "name": "stderr",
     "output_type": "stream",
     "text": [
      "/home/frasco/anaconda3/lib/python3.7/site-packages/ipykernel_launcher.py:2: SettingWithCopyWarning: \n",
      "A value is trying to be set on a copy of a slice from a DataFrame.\n",
      "Try using .loc[row_indexer,col_indexer] = value instead\n",
      "\n",
      "See the caveats in the documentation: http://pandas.pydata.org/pandas-docs/stable/indexing.html#indexing-view-versus-copy\n",
      "  \n"
     ]
    },
    {
     "data": {
      "text/plain": [
       "[7, 3, 2, 6, 4, 1, 5]\n",
       "Categories (7, object): [7, 3, 2, 6, 4, 1, 5]"
      ]
     },
     "execution_count": 91,
     "metadata": {},
     "output_type": "execute_result"
    }
   ],
   "source": [
    "# OTHERSTATUS: Queda codificado como númenro porque los nombres de categorías no coinciden con el número de categorías\n",
    "meta['OTHERSTATUS'] = meta['OTHERSTATUS'].astype('category')\n",
    "meta['OTHERSTATUS'].unique()"
   ]
  },
  {
   "cell_type": "code",
   "execution_count": 92,
   "metadata": {},
   "outputs": [
    {
     "name": "stderr",
     "output_type": "stream",
     "text": [
      "/home/frasco/anaconda3/lib/python3.7/site-packages/ipykernel_launcher.py:3: SettingWithCopyWarning: \n",
      "A value is trying to be set on a copy of a slice from a DataFrame.\n",
      "Try using .loc[row_indexer,col_indexer] = value instead\n",
      "\n",
      "See the caveats in the documentation: http://pandas.pydata.org/pandas-docs/stable/indexing.html#indexing-view-versus-copy\n",
      "  This is separate from the ipykernel package so we can avoid doing imports until\n",
      "/home/frasco/anaconda3/lib/python3.7/site-packages/ipykernel_launcher.py:4: SettingWithCopyWarning: \n",
      "A value is trying to be set on a copy of a slice from a DataFrame.\n",
      "Try using .loc[row_indexer,col_indexer] = value instead\n",
      "\n",
      "See the caveats in the documentation: http://pandas.pydata.org/pandas-docs/stable/indexing.html#indexing-view-versus-copy\n",
      "  after removing the cwd from sys.path.\n"
     ]
    },
    {
     "data": {
      "text/plain": [
       "[UOC]\n",
       "Categories (1, object): [UOC]"
      ]
     },
     "execution_count": 92,
     "metadata": {},
     "output_type": "execute_result"
    }
   ],
   "source": [
    "conditions = [(meta['UNIVERSITY'] == 1), (meta['UNIVERSITY'] == 2)]\n",
    "choices = ['UOC', 'UPF']\n",
    "meta['UNIVERSITY'] = np.select(conditions, choices)\n",
    "meta['UNIVERSITY'] = meta['UNIVERSITY'].astype('category')\n",
    "meta['UNIVERSITY'].unique()"
   ]
  },
  {
   "cell_type": "markdown",
   "metadata": {},
   "source": [
    "Hay tres variables que deberían estar codificadas como de tipo lógico, PhD, USERWIKI y OTHER_POSITION. La variable OTHER_POSITION tiene una particularidad, el valor 1 indica que la persona es docente en UOC y docente part-time en otra universidad, y el valor 2 que no tiene otra posición part-time. Esta variable tiene datos faltantes, por lo que no se puede usar la función ifelse de R base como hicimos con GENDER o PhD. En este caso usamos la versión más estricta if_else() del paquete dplyr (revisar la documentación)"
   ]
  },
  {
   "cell_type": "code",
   "execution_count": 93,
   "metadata": {},
   "outputs": [
    {
     "name": "stderr",
     "output_type": "stream",
     "text": [
      "/home/frasco/anaconda3/lib/python3.7/site-packages/ipykernel_launcher.py:2: SettingWithCopyWarning: \n",
      "A value is trying to be set on a copy of a slice from a DataFrame.\n",
      "Try using .loc[row_indexer,col_indexer] = value instead\n",
      "\n",
      "See the caveats in the documentation: http://pandas.pydata.org/pandas-docs/stable/indexing.html#indexing-view-versus-copy\n",
      "  \n"
     ]
    },
    {
     "data": {
      "text/plain": [
       "array([False,  True])"
      ]
     },
     "execution_count": 93,
     "metadata": {},
     "output_type": "execute_result"
    }
   ],
   "source": [
    "# PhD no tiene datos faltantes\n",
    "meta['PhD']=meta['PhD'].astype('bool')\n",
    "meta['PhD'].unique()"
   ]
  },
  {
   "cell_type": "code",
   "execution_count": 94,
   "metadata": {},
   "outputs": [
    {
     "name": "stderr",
     "output_type": "stream",
     "text": [
      "/home/frasco/anaconda3/lib/python3.7/site-packages/ipykernel_launcher.py:3: SettingWithCopyWarning: \n",
      "A value is trying to be set on a copy of a slice from a DataFrame.\n",
      "Try using .loc[row_indexer,col_indexer] = value instead\n",
      "\n",
      "See the caveats in the documentation: http://pandas.pydata.org/pandas-docs/stable/indexing.html#indexing-view-versus-copy\n",
      "  This is separate from the ipykernel package so we can avoid doing imports until\n"
     ]
    },
    {
     "data": {
      "text/plain": [
       "array([ True])"
      ]
     },
     "execution_count": 94,
     "metadata": {},
     "output_type": "execute_result"
    }
   ],
   "source": [
    "# La conversion de tipo saca los nans.\n",
    "# meta['USERWIKI']=pd.to_numeric(meta['USERWIKI'].replace('?',np.nan),errors='coerce').astype('bool')\n",
    "meta['USERWIKI']=meta['USERWIKI'].astype('bool')\n",
    "meta['USERWIKI'].unique()"
   ]
  },
  {
   "cell_type": "markdown",
   "metadata": {},
   "source": [
    "Remuevo las variables que no van a servir para discriminar grupos porque tienen un único valor sobre el conjunto de registros que están completos."
   ]
  },
  {
   "cell_type": "code",
   "execution_count": 95,
   "metadata": {},
   "outputs": [],
   "source": [
    "meta = meta.drop(columns=['UNIVERSITY','UOC_POSITION','USERWIKI'])"
   ]
  },
  {
   "cell_type": "code",
   "execution_count": 96,
   "metadata": {},
   "outputs": [
    {
     "data": {
      "text/plain": [
       "AGE            <class 'numpy.int64'>\n",
       "GENDER                 <class 'str'>\n",
       "DOMAIN                 <class 'str'>\n",
       "PhD            <class 'numpy.bool_'>\n",
       "YEARSEXP               <class 'str'>\n",
       "OTHERSTATUS            <class 'str'>\n",
       "dtype: object"
      ]
     },
     "execution_count": 96,
     "metadata": {},
     "output_type": "execute_result"
    }
   ],
   "source": [
    "meta.apply(lambda x: type(x.values[1]),axis=0)"
   ]
  },
  {
   "cell_type": "markdown",
   "metadata": {},
   "source": [
    "## Análisis\n",
    "Vamos a construir una matriz de distancias de Gower para los datos personales, y realizamos un cluster jerárquico para tener una primera impresión sobre cómo se agrupan los datos."
   ]
  },
  {
   "cell_type": "code",
   "execution_count": 97,
   "metadata": {},
   "outputs": [],
   "source": [
    "from funciones import gower_distances"
   ]
  },
  {
   "cell_type": "code",
   "execution_count": 98,
   "metadata": {},
   "outputs": [
    {
     "name": "stdout",
     "output_type": "stream",
     "text": [
      "[False  True  True  True  True  True]\n"
     ]
    },
    {
     "name": "stderr",
     "output_type": "stream",
     "text": [
      "/home/frasco/anaconda3/lib/python3.7/site-packages/sklearn/utils/validation.py:432: DeprecationWarning: 'warn_on_dtype' is deprecated in version 0.21 and will be removed in 0.23. Don't set `warn_on_dtype` to remove this warning.\n",
      "  DeprecationWarning)\n",
      "/media/frasco/HardDisk/MaestriaDM/04-2Q-2019/DMCyT/dmcyt_tp1/funciones.py:115: FutureWarning: Conversion of the second argument of issubdtype from `int` to `np.signedinteger` is deprecated. In future, it will be treated as `np.int64 == np.dtype(int).type`.\n",
      "  new_categorical_features[categorical_features] = True\n"
     ]
    },
    {
     "data": {
      "text/plain": [
       "array([[0.        , 0.35185185, 0.6666667 , ..., 0.7592593 , 0.6990741 ,\n",
       "        0.8611111 ],\n",
       "       [0.35185185, 0.        , 0.6851852 , ..., 0.7777778 , 0.7175926 ,\n",
       "        0.8796296 ],\n",
       "       [0.6666667 , 0.6851852 , 0.        , ..., 0.5925926 , 0.5324074 ,\n",
       "        0.5277778 ],\n",
       "       ...,\n",
       "       [0.7592593 , 0.7777778 , 0.5925926 , ..., 0.        , 0.22685185,\n",
       "        0.39814815],\n",
       "       [0.6990741 , 0.7175926 , 0.5324074 , ..., 0.22685185, 0.        ,\n",
       "        0.33796296],\n",
       "       [0.8611111 , 0.8796296 , 0.5277778 , ..., 0.39814815, 0.33796296,\n",
       "        0.        ]], dtype=float32)"
      ]
     },
     "execution_count": 98,
     "metadata": {},
     "output_type": "execute_result"
    }
   ],
   "source": [
    "d=gower_distances(meta)\n",
    "d"
   ]
  },
  {
   "cell_type": "code",
   "execution_count": 99,
   "metadata": {},
   "outputs": [
    {
     "name": "stderr",
     "output_type": "stream",
     "text": [
      "/home/frasco/anaconda3/lib/python3.7/site-packages/ipykernel_launcher.py:6: ClusterWarning: scipy.cluster: The symmetric non-negative hollow observation matrix looks suspiciously like an uncondensed distance matrix\n",
      "  \n"
     ]
    },
    {
     "data": {
      "text/plain": [
       "<matplotlib.colorbar.Colorbar at 0x7ff9e34fbac8>"
      ]
     },
     "execution_count": 99,
     "metadata": {},
     "output_type": "execute_result"
    },
    {
     "data": {
      "image/png": "[encoded data removed]",
      "text/plain": [
       "<Figure size 576x432 with 3 Axes>"
      ]
     },
     "metadata": {
      "needs_background": "light"
     },
     "output_type": "display_data"
    }
   ],
   "source": [
    "# Abrir figura nueva\n",
    "fig = pylab.figure()\n",
    "\n",
    "# Calcular dendrograma y graficar.\n",
    "axdendro = fig.add_axes([0.09,0.1,0.2,0.8])\n",
    "Y = linkage(d, method='average')\n",
    "Z = dendrogram(Y, orientation='right')\n",
    "axdendro.set_xticks([])\n",
    "axdendro.set_yticks([])\n",
    "axdendro.invert_xaxis()\n",
    "\n",
    "# Graficar la matriz de distancias.\n",
    "axmatrix = fig.add_axes([0.3,0.1,0.6,0.8])\n",
    "index = Z['leaves']\n",
    "d = d[index,:]\n",
    "d = d[:,index]\n",
    "im = axmatrix.matshow(d, aspect='auto', origin='lower')\n",
    "axmatrix.set_xticks([])\n",
    "axmatrix.set_yticks([])\n",
    "\n",
    "# Graficar la barra de color\n",
    "axcolor = fig.add_axes([0.91,0.1,0.02,0.8])\n",
    "pylab.colorbar(im, cax=axcolor)"
   ]
  },
  {
   "cell_type": "markdown",
   "metadata": {},
   "source": [
    "#### ¿Qué se puede decir de la presencia de grupos en el dataset?"
   ]
  },
  {
   "cell_type": "code",
   "execution_count": 100,
   "metadata": {},
   "outputs": [
    {
     "data": {
      "image/png": "[encoded data removed]",
      "text/plain": [
       "<Figure size 576x432 with 1 Axes>"
      ]
     },
     "metadata": {
      "needs_background": "light"
     },
     "output_type": "display_data"
    }
   ],
   "source": [
    "Z = dendrogram(Y)"
   ]
  },
  {
   "cell_type": "markdown",
   "metadata": {},
   "source": [
    "#### PAM\n",
    "Para agrupar los datos datos vamos a usar el método PAM, y como desconocemos el mejor valor de K a utilizar, vamos a probar varios y después usar los gráficos de SSE vs. k y Silhouette vs. k.\n",
    "En el loop de más abajo se recorren los valores de k desde 2 hasta el máximo número de k (cantidad de clusters) que se van a probar. En cada iteración se calcula un nuevo PAM y con sus medoides se calcula el SSE y Silhouette."
   ]
  },
  {
   "cell_type": "code",
   "execution_count": 101,
   "metadata": {},
   "outputs": [],
   "source": [
    "from funciones import cluster"
   ]
  },
  {
   "cell_type": "code",
   "execution_count": 102,
   "metadata": {
    "scrolled": true
   },
   "outputs": [],
   "source": [
    "out = cluster(d,4)\n",
    "etiquetas = out[0]\n",
    "medoides = out[1]"
   ]
  },
  {
   "cell_type": "code",
   "execution_count": 103,
   "metadata": {},
   "outputs": [
    {
     "data": {
      "text/plain": [
       "0.09821328"
      ]
     },
     "execution_count": 103,
     "metadata": {},
     "output_type": "execute_result"
    }
   ],
   "source": [
    "silhouette_score(d,etiquetas,metric='precomputed')"
   ]
  },
  {
   "cell_type": "code",
   "execution_count": 104,
   "metadata": {},
   "outputs": [
    {
     "data": {
      "text/plain": [
       "array([ 0.16271392,  0.11143679,  0.10907228, -0.15093695,  0.17922013,\n",
       "        0.11647649,  0.18811654,  0.22376503,  0.16343087, -0.10985636,\n",
       "       -0.0794474 , -0.08119944,  0.10024866,  0.1569285 ,  0.05928902,\n",
       "       -0.1167376 ,  0.14150916,  0.06451612, -0.07578757, -0.05455507,\n",
       "        0.07352246, -0.0452219 , -0.04039604, -0.03840467, -0.031044  ,\n",
       "        0.08308838, -0.03653724,  0.22604153,  0.22429323,  0.15769544,\n",
       "        0.17554556,  0.2074968 ,  0.1956684 ,  0.22758447,  0.16417387,\n",
       "        0.16823128,  0.21787843,  0.22451368,  0.21245094,  0.18900892,\n",
       "       -0.14159292,  0.21127298,  0.17979261, -0.00680595, -0.03276123,\n",
       "       -0.01964543, -0.12200414, -0.16924274, -0.15614277,  0.03456372,\n",
       "        0.116221  , -0.00049651,  0.01765463,  0.24685307,  0.10521909,\n",
       "        0.04359751,  0.17037104,  0.08602986,  0.11649229, -0.02995971,\n",
       "        0.03488693,  0.12503244,  0.05548057, -0.07182172, -0.085085  ,\n",
       "        0.12222258,  0.05051325,  0.02719095,  0.08498621,  0.09073396,\n",
       "        0.01220406,  0.00108422,  0.03408962,  0.0118809 ,  0.08801923,\n",
       "       -0.08585363,  0.23064877,  0.1371704 ,  0.19561933,  0.17699824,\n",
       "        0.05179638,  0.09491213,  0.09924381,  0.10270055, -0.07211158,\n",
       "        0.06717915,  0.06225536,  0.03798527, -0.05470343, -0.03960926,\n",
       "        0.02674584,  0.19614294,  0.20115091,  0.18073392,  0.19031689,\n",
       "        0.07711659,  0.16760266,  0.12117361,  0.2238108 ,  0.14436044,\n",
       "        0.23422484,  0.12037294,  0.15827751,  0.16914868,  0.18086073,\n",
       "        0.16304822,  0.05834612, -0.05591074,  0.12065982,  0.10826685,\n",
       "        0.09018169,  0.12704088,  0.1759014 ,  0.06530953, -0.02516804,\n",
       "       -0.10928331,  0.09254394,  0.08504881, -0.04236952,  0.11482593,\n",
       "       -0.03002479, -0.03922275, -0.00417382, -0.02762175,  0.0723745 ,\n",
       "       -0.04131564, -0.04131564,  0.04658774,  0.04658774,  0.04250941,\n",
       "        0.04250941,  0.17328165,  0.11249365,  0.33400816,  0.28160164,\n",
       "        0.274977  ,  0.2891092 ,  0.29267   ,  0.28152728,  0.2685009 ,\n",
       "       -0.12905414, -0.12905414,  0.25735942,  0.27512062,  0.16919404,\n",
       "        0.18010065,  0.21892455,  0.2497077 ,  0.27428827,  0.27428827,\n",
       "        0.26433474,  0.25965375, -0.23675604,  0.15889312,  0.21264853,\n",
       "        0.2331857 ,  0.2213856 ,  0.23724136,  0.25936213,  0.25110614,\n",
       "        0.25419357,  0.2733315 ,  0.19632256,  0.29955304,  0.30010545,\n",
       "       -0.01579072, -0.03910525, -0.10276912,  0.13895734,  0.24961323,\n",
       "        0.30729532, -0.07468004,  0.10742496,  0.0836199 ,  0.14626011,\n",
       "        0.05860578,  0.01890027,  0.09745061,  0.13860603,  0.13621536,\n",
       "        0.10491941,  0.09561928,  0.09967098,  0.13337047,  0.12111523,\n",
       "        0.11034168,  0.16002259, -0.07140777], dtype=float32)"
      ]
     },
     "execution_count": 104,
     "metadata": {},
     "output_type": "execute_result"
    }
   ],
   "source": [
    "silhouette_samples(d,etiquetas,metric='precomputed')"
   ]
  },
  {
   "cell_type": "code",
   "execution_count": 105,
   "metadata": {},
   "outputs": [],
   "source": [
    "def calculo_sse(d,etiquetas,medoides):\n",
    "    sse = 0.\n",
    "    for i in range(0,len(medoides)):\n",
    "        sse = sse + sum(np.power(d[etiquetas==medoides[i],medoides[i]],2))\n",
    "    return sse"
   ]
  },
  {
   "cell_type": "code",
   "execution_count": 106,
   "metadata": {},
   "outputs": [],
   "source": [
    "kmax = 14\n",
    "itmax = 1000\n",
    "sse = []\n",
    "sil = []\n",
    "ketiquetas = []\n",
    "kmedoides = []\n",
    "for k in range(2,kmax+1):\n",
    "    tmp1 = 0\n",
    "    for it in range(0,itmax):\n",
    "        out = cluster(d,k)\n",
    "        tmp2 = silhouette_score(d,out[0],metric='precomputed')\n",
    "        if tmp2>tmp1:\n",
    "            etiquetas = out[0]\n",
    "            medoides = out[1]\n",
    "    \n",
    "    sil.append(silhouette_score(d,etiquetas,metric='precomputed'))\n",
    "    sse.append(calculo_sse(d,etiquetas,medoides))\n",
    "    kmedoides.append(medoides)\n",
    "    ketiquetas.append(etiquetas)"
   ]
  },
  {
   "cell_type": "code",
   "execution_count": 107,
   "metadata": {},
   "outputs": [
    {
     "data": {
      "text/plain": [
       "[<matplotlib.lines.Line2D at 0x7ff9e8fa0f60>]"
      ]
     },
     "execution_count": 107,
     "metadata": {},
     "output_type": "execute_result"
    },
    {
     "data": {
      "image/png": "[encoded data removed]",
      "text/plain": [
       "<Figure size 576x432 with 2 Axes>"
      ]
     },
     "metadata": {
      "needs_background": "light"
     },
     "output_type": "display_data"
    }
   ],
   "source": [
    "x = np.arange(2, kmax+1)\n",
    "\n",
    "# Abrir figura nueva\n",
    "fig = pylab.figure()\n",
    "\n",
    "# Silhoutte.\n",
    "axsil = fig.add_axes([0.05,0.05,0.9,0.475])\n",
    "plt.plot(x,sil)\n",
    "\n",
    "# SSE\n",
    "axsse = fig.add_axes([0.05,0.525,0.9,0.475])\n",
    "plt.plot(x,sse)"
   ]
  },
  {
   "cell_type": "markdown",
   "metadata": {},
   "source": [
    "*. ¿Cómo se interpretan estos gráficos?\n",
    "*. ¿Por qué el valor de Silhouette sube, baja a partir de k > 4 y después vuelve a subir gradualmente? Ayuda: mirar el cluster jerárquico que hicimos antes.\n",
    "\n",
    "Probamos primero con k=14."
   ]
  },
  {
   "cell_type": "code",
   "execution_count": 108,
   "metadata": {},
   "outputs": [],
   "source": [
    "# Estimar el coeficiente de Silhouette para cada cluster\n",
    "n_clusters=14\n",
    "cluster_ids = kmedoides[n_clusters-2]\n",
    "cluster_labels = ketiquetas[n_clusters-2]\n",
    "sample_silhouette_values = silhouette_samples(d,cluster_labels,metric='precomputed')\n",
    "silhouette_avg = silhouette_score(d,cluster_labels,metric='precomputed')"
   ]
  },
  {
   "cell_type": "code",
   "execution_count": 116,
   "metadata": {},
   "outputs": [],
   "source": [
    "# from funciones import plot_silhouette"
   ]
  },
  {
   "cell_type": "code",
   "execution_count": 120,
   "metadata": {},
   "outputs": [
    {
     "data": {
      "image/png": "[encoded data removed]",
      "text/plain": [
       "<Figure size 1296x504 with 1 Axes>"
      ]
     },
     "metadata": {
      "needs_background": "light"
     },
     "output_type": "display_data"
    },
    {
     "data": {
      "text/plain": [
       "[-0.09828965,\n",
       " 0.085375905,\n",
       " 0.29923946,\n",
       " -0.00817751,\n",
       " 0.092660986,\n",
       " 0.06492489,\n",
       " 0.14758465,\n",
       " 0.21826945,\n",
       " 0.18522722,\n",
       " 0.104815654,\n",
       " 0.27346689,\n",
       " 0.12534273,\n",
       " 0.12655409,\n",
       " 0.09964191]"
      ]
     },
     "execution_count": 120,
     "metadata": {},
     "output_type": "execute_result"
    }
   ],
   "source": [
    "plot_silhouette(n_clusters,cluster_ids,cluster_labels,sample_silhouette_values,silhouette_avg)"
   ]
  },
  {
   "cell_type": "code",
   "execution_count": 118,
   "metadata": {},
   "outputs": [],
   "source": [
    "def plot_silhouette(n_clusters,cluster_ids,cluster_labels,sample_silhouette_values,silhouette_avg):\n",
    "    ith_cluster_silhouette_avg = []\n",
    "    for i in range(n_clusters):\n",
    "        ith_cluster_silhouette_values = sample_silhouette_values[cluster_labels == cluster_ids[i]]\n",
    "        ith_cluster_silhouette_avg.append(np.mean(ith_cluster_silhouette_values)) \n",
    "    #ith_cluster_silhouette_avg\n",
    "\n",
    "    fig, ax1 = plt.subplots(1, 1)\n",
    "    fig.set_size_inches(18, 7)\n",
    "\n",
    "    ax1.set_xlim([-0.1, 1])\n",
    "    ax1.set_ylim([0, len(df) + (n_clusters + 1) * 10])\n",
    "\n",
    "    y_lower = 10\n",
    "    for i in range(n_clusters):\n",
    "        ith_cluster_silhouette_values = sample_silhouette_values[cluster_labels == cluster_ids[i]]\n",
    "        ith_cluster_silhouette_values.sort()\n",
    "        size_cluster_i = ith_cluster_silhouette_values.shape[0]\n",
    "        y_upper = y_lower + size_cluster_i\n",
    "\n",
    "        color = cm.nipy_spectral(float(i) / n_clusters)\n",
    "        ax1.fill_betweenx(np.arange(y_lower, y_upper),\n",
    "                          0, ith_cluster_silhouette_values,\n",
    "                          facecolor=color, edgecolor=color, alpha=0.7)\n",
    "\n",
    "        # Marcar los graficos de Silhouette con el numero de cluster\n",
    "        ax1.text(-0.05, y_lower + 0.5 * size_cluster_i, str(i))\n",
    "\n",
    "        # Marcar los graficos de Silhouette con el Silhuette promedio del cluster\n",
    "        ax1.text(0.6, y_lower + 0.5 * size_cluster_i, str(round(ith_cluster_silhouette_avg[i],3)))\n",
    "\n",
    "        # Calcular donde comenzar el proximo grafixo\n",
    "        y_lower = y_upper + 10 # Marco una distancia de 10 entre graficos para que haya un espacio\n",
    "\n",
    "    ax1.set_xlabel(\"Coeficiente de silhouette\")\n",
    "    ax1.set_ylabel(\"Cluster label\")\n",
    "\n",
    "    # La linea vertical es el Silhouette promedio\n",
    "    ax1.axvline(x=silhouette_avg, color=\"red\", linestyle=\"--\")\n",
    "\n",
    "    ax1.set_yticks([])\n",
    "    ax1.set_xticks([-0.1, 0, 0.2, 0.4, 0.6, 0.8, 1])\n",
    "\n",
    "    plt.show()\n",
    "    return ith_cluster_silhouette_avg"
   ]
  },
  {
   "cell_type": "markdown",
   "metadata": {},
   "source": [
    "Veamos los valores que toman los prototipos"
   ]
  },
  {
   "cell_type": "code",
   "execution_count": 74,
   "metadata": {},
   "outputs": [
    {
     "data": {
      "text/html": [
       "<div>\n",
       "<style scoped>\n",
       "    .dataframe tbody tr th:only-of-type {\n",
       "        vertical-align: middle;\n",
       "    }\n",
       "\n",
       "    .dataframe tbody tr th {\n",
       "        vertical-align: top;\n",
       "    }\n",
       "\n",
       "    .dataframe thead th {\n",
       "        text-align: right;\n",
       "    }\n",
       "</style>\n",
       "<table border=\"1\" class=\"dataframe\">\n",
       "  <thead>\n",
       "    <tr style=\"text-align: right;\">\n",
       "      <th></th>\n",
       "      <th>AGE</th>\n",
       "      <th>GENDER</th>\n",
       "      <th>DOMAIN</th>\n",
       "      <th>PhD</th>\n",
       "      <th>YEARSEXP</th>\n",
       "      <th>OTHERSTATUS</th>\n",
       "    </tr>\n",
       "  </thead>\n",
       "  <tbody>\n",
       "    <tr>\n",
       "      <th>438</th>\n",
       "      <td>42</td>\n",
       "      <td>M</td>\n",
       "      <td>Political_Sciences</td>\n",
       "      <td>False</td>\n",
       "      <td>8</td>\n",
       "      <td>7</td>\n",
       "    </tr>\n",
       "    <tr>\n",
       "      <th>781</th>\n",
       "      <td>43</td>\n",
       "      <td>F</td>\n",
       "      <td>Law</td>\n",
       "      <td>False</td>\n",
       "      <td>10</td>\n",
       "      <td>7</td>\n",
       "    </tr>\n",
       "    <tr>\n",
       "      <th>585</th>\n",
       "      <td>52</td>\n",
       "      <td>F</td>\n",
       "      <td>Health_Sciences</td>\n",
       "      <td>True</td>\n",
       "      <td>26</td>\n",
       "      <td>2</td>\n",
       "    </tr>\n",
       "    <tr>\n",
       "      <th>389</th>\n",
       "      <td>44</td>\n",
       "      <td>M</td>\n",
       "      <td>Political_Sciences</td>\n",
       "      <td>True</td>\n",
       "      <td>10</td>\n",
       "      <td>7</td>\n",
       "    </tr>\n",
       "    <tr>\n",
       "      <th>454</th>\n",
       "      <td>50</td>\n",
       "      <td>M</td>\n",
       "      <td>Political_Sciences</td>\n",
       "      <td>True</td>\n",
       "      <td>10</td>\n",
       "      <td>4</td>\n",
       "    </tr>\n",
       "    <tr>\n",
       "      <th>381</th>\n",
       "      <td>48</td>\n",
       "      <td>M</td>\n",
       "      <td>Sciences</td>\n",
       "      <td>True</td>\n",
       "      <td>26</td>\n",
       "      <td>2</td>\n",
       "    </tr>\n",
       "    <tr>\n",
       "      <th>535</th>\n",
       "      <td>48</td>\n",
       "      <td>F</td>\n",
       "      <td>Political_Sciences</td>\n",
       "      <td>True</td>\n",
       "      <td>25</td>\n",
       "      <td>1</td>\n",
       "    </tr>\n",
       "    <tr>\n",
       "      <th>148</th>\n",
       "      <td>43</td>\n",
       "      <td>M</td>\n",
       "      <td>Political_Sciences</td>\n",
       "      <td>False</td>\n",
       "      <td>7</td>\n",
       "      <td>7</td>\n",
       "    </tr>\n",
       "    <tr>\n",
       "      <th>701</th>\n",
       "      <td>44</td>\n",
       "      <td>F</td>\n",
       "      <td>Law</td>\n",
       "      <td>True</td>\n",
       "      <td>20</td>\n",
       "      <td>3</td>\n",
       "    </tr>\n",
       "    <tr>\n",
       "      <th>722</th>\n",
       "      <td>41</td>\n",
       "      <td>F</td>\n",
       "      <td>Law</td>\n",
       "      <td>True</td>\n",
       "      <td>15</td>\n",
       "      <td>2</td>\n",
       "    </tr>\n",
       "    <tr>\n",
       "      <th>685</th>\n",
       "      <td>42</td>\n",
       "      <td>F</td>\n",
       "      <td>Engineering_Architecture</td>\n",
       "      <td>True</td>\n",
       "      <td>20</td>\n",
       "      <td>2</td>\n",
       "    </tr>\n",
       "    <tr>\n",
       "      <th>600</th>\n",
       "      <td>45</td>\n",
       "      <td>F</td>\n",
       "      <td>Political_Sciences</td>\n",
       "      <td>True</td>\n",
       "      <td>20</td>\n",
       "      <td>2</td>\n",
       "    </tr>\n",
       "    <tr>\n",
       "      <th>545</th>\n",
       "      <td>52</td>\n",
       "      <td>F</td>\n",
       "      <td>Political_Sciences</td>\n",
       "      <td>False</td>\n",
       "      <td>25</td>\n",
       "      <td>3</td>\n",
       "    </tr>\n",
       "    <tr>\n",
       "      <th>647</th>\n",
       "      <td>43</td>\n",
       "      <td>F</td>\n",
       "      <td>Arts_Humanities</td>\n",
       "      <td>True</td>\n",
       "      <td>20</td>\n",
       "      <td>2</td>\n",
       "    </tr>\n",
       "  </tbody>\n",
       "</table>\n",
       "</div>"
      ],
      "text/plain": [
       "     AGE GENDER                    DOMAIN    PhD YEARSEXP OTHERSTATUS\n",
       "438   42      M        Political_Sciences  False        8           7\n",
       "781   43      F                       Law  False       10           7\n",
       "585   52      F           Health_Sciences   True       26           2\n",
       "389   44      M        Political_Sciences   True       10           7\n",
       "454   50      M        Political_Sciences   True       10           4\n",
       "381   48      M                  Sciences   True       26           2\n",
       "535   48      F        Political_Sciences   True       25           1\n",
       "148   43      M        Political_Sciences  False        7           7\n",
       "701   44      F                       Law   True       20           3\n",
       "722   41      F                       Law   True       15           2\n",
       "685   42      F  Engineering_Architecture   True       20           2\n",
       "600   45      F        Political_Sciences   True       20           2\n",
       "545   52      F        Political_Sciences  False       25           3\n",
       "647   43      F           Arts_Humanities   True       20           2"
      ]
     },
     "execution_count": 74,
     "metadata": {},
     "output_type": "execute_result"
    }
   ],
   "source": [
    "meta.iloc[cluster_ids]"
   ]
  },
  {
   "cell_type": "markdown",
   "metadata": {},
   "source": [
    "También se puede evaluar si los clusters están o no aislados. Es decir, si un elemento de otro cluster entra en la elipse formada por un dado cluster."
   ]
  },
  {
   "cell_type": "markdown",
   "metadata": {},
   "source": [
    "Y un gráfico para ver la relación entre grupos e individuos (cluster plot)."
   ]
  },
  {
   "cell_type": "code",
   "execution_count": 75,
   "metadata": {},
   "outputs": [
    {
     "data": {
      "image/png": "[encoded data removed]",
      "text/plain": [
       "<Figure size 576x432 with 1 Axes>"
      ]
     },
     "metadata": {
      "needs_background": "light"
     },
     "output_type": "display_data"
    }
   ],
   "source": [
    "x = TSNE(n_components=2, init='random').fit_transform(d)\n",
    "for i in range(n_clusters):\n",
    "    colo = cm.nipy_spectral(float(i) / n_clusters)\n",
    "    plt.scatter(x[cluster_labels == cluster_ids[i],0],x[cluster_labels == cluster_ids[i],1],color=colo)"
   ]
  },
  {
   "cell_type": "markdown",
   "metadata": {},
   "source": [
    "Para este ejercicio nos quedamos con k=4, que no es necesariamente el mejor valor."
   ]
  },
  {
   "cell_type": "code",
   "execution_count": null,
   "metadata": {
    "collapsed": true
   },
   "outputs": [],
   "source": []
  },
  {
   "cell_type": "code",
   "execution_count": null,
   "metadata": {
    "collapsed": true
   },
   "outputs": [],
   "source": []
  },
  {
   "cell_type": "markdown",
   "metadata": {},
   "source": [
    "### Clustering por densidad\n",
    "Antes de realizar el paso de clustering tenemos que buscar el valor adecuado de eps. Para minPts usaremos el default de cinco. Como ya tenemos una matriz de distancia calculada, simplemente para cada registro recuperamos la quinta distancia a los otros."
   ]
  },
  {
   "cell_type": "code",
   "execution_count": null,
   "metadata": {
    "collapsed": true
   },
   "outputs": [],
   "source": []
  },
  {
   "cell_type": "code",
   "execution_count": null,
   "metadata": {
    "collapsed": true
   },
   "outputs": [],
   "source": []
  },
  {
   "cell_type": "markdown",
   "metadata": {},
   "source": [
    "### Clustering difuso\n",
    "Vamos a realizar un clustering difuso, con la misma matriz de distancia de Gower que venimos trabajando y cuatro grupos."
   ]
  },
  {
   "cell_type": "code",
   "execution_count": null,
   "metadata": {
    "collapsed": true
   },
   "outputs": [],
   "source": []
  },
  {
   "cell_type": "code",
   "execution_count": null,
   "metadata": {
    "collapsed": true
   },
   "outputs": [],
   "source": []
  },
  {
   "cell_type": "markdown",
   "metadata": {},
   "source": [
    "#### ¿Qué indica el coeficente de Dunnet?\n",
    "#### ¿Cuátos registros (docentes) se pueden asignar claramente a un grupo?\n",
    "Combinamos lo que acabamos de hacer con un ordenamiento hecho por escalamiento métrico no dimensional (NMDS). Primero con las asignaciones originales y la otra marcando en negro los “encuestados difusos”."
   ]
  },
  {
   "cell_type": "code",
   "execution_count": null,
   "metadata": {
    "collapsed": true
   },
   "outputs": [],
   "source": []
  },
  {
   "cell_type": "code",
   "execution_count": null,
   "metadata": {
    "collapsed": true
   },
   "outputs": [],
   "source": []
  },
  {
   "cell_type": "code",
   "execution_count": null,
   "metadata": {
    "collapsed": true
   },
   "outputs": [],
   "source": []
  },
  {
   "cell_type": "markdown",
   "metadata": {},
   "source": [
    "## Análisis de las respuestas a las encuestas\n",
    "Primero realicemos un cluster con el método PAM usando las distancias Euclideas entre respuestas. Veamos, además, algunas características adicionales de la salida de la función pam()."
   ]
  },
  {
   "cell_type": "code",
   "execution_count": null,
   "metadata": {
    "collapsed": true
   },
   "outputs": [],
   "source": []
  },
  {
   "cell_type": "code",
   "execution_count": null,
   "metadata": {
    "collapsed": true
   },
   "outputs": [],
   "source": []
  },
  {
   "cell_type": "markdown",
   "metadata": {},
   "source": [
    "### Extracción de datos\n",
    "Las dos líneas de código que siguen son para ver y almacenar en un objeto de R los valores que toman los medoides de cada objeto clusterizado."
   ]
  },
  {
   "cell_type": "code",
   "execution_count": null,
   "metadata": {
    "collapsed": true
   },
   "outputs": [],
   "source": []
  },
  {
   "cell_type": "markdown",
   "metadata": {},
   "source": [
    "A continuación buscaremos el mejor valor de K para agrupar. El loop en esencia es similar al que usamos antes para los datos personales, con algunas diferencias. Como argumento de la función pam() le estamos pasando una matriz de datos, no una matriz de distancia como hicimos antes, y especificamos que la distancia a calcular es euclidea y que mantenga la matriz de distancia resultante en la salida (keep.dis = T).\n",
    "\n",
    "Como en este caso pam() “ve” los datos, en medoids no solo guarda el ID del prototipo, sino sus datos completos. Por lo tanto, para recuperar la distancia entre un objeto y su medoide necesitamos especificar que necesitamos el ID del medoide, por eso vec.meds tiene una asignación diferente de la que habíamos hecho antes para pers.meds:\n",
    "\n",
    "vec_meds <- row.names(preguntas_pam[Math Processing Error]clustering] *\n",
    "Luego, la matriz de distancia es simplemente una propiedad del objeto que devuelve pam():\n",
    "\n",
    "preguntas_pam$diss *"
   ]
  },
  {
   "cell_type": "code",
   "execution_count": null,
   "metadata": {
    "collapsed": true
   },
   "outputs": [],
   "source": []
  },
  {
   "cell_type": "code",
   "execution_count": null,
   "metadata": {
    "collapsed": true
   },
   "outputs": [],
   "source": []
  },
  {
   "cell_type": "markdown",
   "metadata": {},
   "source": [
    "### Una función de distancia para variables categóricas ordenadas.\n",
    "Las respuestas están codificadas con cinco valores enteros ordenados. En consecuencia, en lugar de la distancia euclídea, podríamos usar alguna de distancia para variables categóricas ordenadas, como la que vimos en la térocia de medidas de (di)similitud. Para normalizar las distancias entre 0 y 1, vamos a tener en cuenta que el máximo valor de disimilitud es la máxima diferencia entre respuestas, 5-1 = 4. Por ejemplo, para la distancia entre dos encuestados cualquiera:"
   ]
  },
  {
   "cell_type": "code",
   "execution_count": null,
   "metadata": {
    "collapsed": true
   },
   "outputs": [],
   "source": []
  },
  {
   "cell_type": "markdown",
   "metadata": {},
   "source": [
    "Vamos a repetir esto para todos los encuestados para crear la matriz de distancias."
   ]
  },
  {
   "cell_type": "code",
   "execution_count": null,
   "metadata": {
    "collapsed": true
   },
   "outputs": [],
   "source": []
  },
  {
   "cell_type": "markdown",
   "metadata": {},
   "source": [
    "Y repetimos la misma actividad de antes, buscamos el k óptimo."
   ]
  },
  {
   "cell_type": "code",
   "execution_count": null,
   "metadata": {
    "collapsed": true
   },
   "outputs": [],
   "source": []
  },
  {
   "cell_type": "markdown",
   "metadata": {},
   "source": [
    "En este caso, el análisis con Silhouette indica más fuertemente usar un k=2, y con SSE, como pasó antes, no se ve un claro ganador. Probemos con k=3."
   ]
  },
  {
   "cell_type": "code",
   "execution_count": null,
   "metadata": {
    "collapsed": true
   },
   "outputs": [],
   "source": []
  },
  {
   "cell_type": "markdown",
   "metadata": {},
   "source": [
    "¿Cómo se agrupan los encuestados según sus respuestas?"
   ]
  },
  {
   "cell_type": "code",
   "execution_count": null,
   "metadata": {
    "collapsed": true
   },
   "outputs": [],
   "source": []
  },
  {
   "cell_type": "markdown",
   "metadata": {},
   "source": [
    "Y según sus características demográficas y profesionales ¿Cómo se distribuyen sobre la nube de respuestas?"
   ]
  },
  {
   "cell_type": "code",
   "execution_count": null,
   "metadata": {
    "collapsed": true
   },
   "outputs": [],
   "source": []
  },
  {
   "cell_type": "markdown",
   "metadata": {},
   "source": [
    "Como una visualización complementaria podemos ver cómo se distribuyen según sus respuestas en el clustering por características deomgráficas y personales."
   ]
  },
  {
   "cell_type": "code",
   "execution_count": null,
   "metadata": {
    "collapsed": true
   },
   "outputs": [],
   "source": []
  },
  {
   "cell_type": "markdown",
   "metadata": {},
   "source": [
    "Finalmente, podemos hacer una matriz de confusión entre ambos agrupamientos para determinar si hay alguna asociación entre grupos demograficos y perfil de respuestas a la encuesta."
   ]
  },
  {
   "cell_type": "code",
   "execution_count": null,
   "metadata": {
    "collapsed": true
   },
   "outputs": [],
   "source": []
  },
  {
   "cell_type": "markdown",
   "metadata": {},
   "source": [
    "Como mencionamos antes, para analizar este trabajo en un contexto real de investigación harían falta algunos pasos más y profundizar algunos de los realizados. Pero el objetivo principal de este laboratorio fue aprender cómo aplicar y evaluar técnicas de clustering."
   ]
  },
  {
   "cell_type": "code",
   "execution_count": null,
   "metadata": {
    "collapsed": true
   },
   "outputs": [],
   "source": []
  }
 ],
 "metadata": {
  "kernelspec": {
   "display_name": "Python 3",
   "language": "python",
   "name": "python3"
  },
  "language_info": {
   "codemirror_mode": {
    "name": "ipython",
    "version": 3
   },
   "file_extension": ".py",
   "mimetype": "text/x-python",
   "name": "python",
   "nbconvert_exporter": "python",
   "pygments_lexer": "ipython3",
   "version": "3.7.3"
  }
 },
 "nbformat": 4,
 "nbformat_minor": 2
}
